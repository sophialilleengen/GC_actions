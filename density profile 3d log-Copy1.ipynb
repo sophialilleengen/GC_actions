{
 "cells": [
  {
   "cell_type": "code",
   "execution_count": 4,
   "metadata": {
    "collapsed": false
   },
   "outputs": [
    {
     "ename": "ImportError",
     "evalue": "No module named mge",
     "output_type": "error",
     "traceback": [
      "\u001b[1;31m---------------------------------------------------------------------------\u001b[0m",
      "\u001b[1;31mImportError\u001b[0m                               Traceback (most recent call last)",
      "\u001b[1;32m<ipython-input-4-335c2709a060>\u001b[0m in \u001b[0;36m<module>\u001b[1;34m()\u001b[0m\n\u001b[0;32m      1\u001b[0m \u001b[1;32mimport\u001b[0m \u001b[0mnumpy\u001b[0m \u001b[1;32mas\u001b[0m \u001b[0mnp\u001b[0m\u001b[1;33m\u001b[0m\u001b[0m\n\u001b[0;32m      2\u001b[0m \u001b[1;32mimport\u001b[0m \u001b[0mmatplotlib\u001b[0m\u001b[1;33m.\u001b[0m\u001b[0mpyplot\u001b[0m \u001b[1;32mas\u001b[0m \u001b[0mplt\u001b[0m\u001b[1;33m\u001b[0m\u001b[0m\n\u001b[1;32m----> 3\u001b[1;33m \u001b[1;32mimport\u001b[0m \u001b[0mmge\u001b[0m\u001b[1;33m\u001b[0m\u001b[0m\n\u001b[0m\u001b[0;32m      4\u001b[0m \u001b[0mget_ipython\u001b[0m\u001b[1;33m(\u001b[0m\u001b[1;33m)\u001b[0m\u001b[1;33m.\u001b[0m\u001b[0mmagic\u001b[0m\u001b[1;33m(\u001b[0m\u001b[1;34mu'matplotlib inline'\u001b[0m\u001b[1;33m)\u001b[0m\u001b[1;33m\u001b[0m\u001b[0m\n",
      "\u001b[1;31mImportError\u001b[0m: No module named mge"
     ]
    }
   ],
   "source": [
    "import numpy as np\n",
    "import matplotlib.pyplot as plt\n",
    "import mge\n",
    "%matplotlib inline"
   ]
  },
  {
   "cell_type": "code",
   "execution_count": 2,
   "metadata": {
    "collapsed": false
   },
   "outputs": [],
   "source": [
    "if 0:\n",
    "    r_3d,m1,m2,x,y,z=np.loadtxt('C:\\\\Users\\Sophia Milanov\\Documents\\Bachelorarbeit\\data\\\\x-y-z.dat', usecols=(1,9,10,30,31,32), unpack=True)\n",
    "else:\n",
    "    r_3d,m1,m2,x,y,z=np.loadtxt('/home/milanov/Bachelorarbeit/x-y-z.dat', usecols=(1,9,10,30,31,32), unpack=True)"
   ]
  },
  {
   "cell_type": "code",
   "execution_count": 6,
   "metadata": {
    "collapsed": false
   },
   "outputs": [],
   "source": [
    "r0=0.01\n",
    "step=30\n",
    "end=100\n",
    "stepsize=((np.log10(end)-np.log10(r0))/step)\n",
    "R=np.zeros(step)"
   ]
  },
  {
   "cell_type": "code",
   "execution_count": 7,
   "metadata": {
    "collapsed": false
   },
   "outputs": [],
   "source": [
    "r=np.logspace(np.log10(r0),np.log10(end),step+1)\n",
    "r_i=r[:-1:]\n",
    "r_a=r[1::]"
   ]
  },
  {
   "cell_type": "code",
   "execution_count": 8,
   "metadata": {
    "collapsed": false
   },
   "outputs": [],
   "source": [
    "M = np.zeros(step)\n",
    "rho=np.zeros(step)\n",
    "\n",
    "for n in range(step):\n",
    "    inbin=(r_i[n]<r_3d) * (r_3d<=r_a[n]) #r_3d wird verwendet! creates boolean arrays woth true values if star is in bin distance\n",
    "    M[n]=np.sum(m1[inbin])+np.sum(m2[inbin]) #mass array with both masses of binary system\n",
    "    rho[n]=M[n]/((r_a[n]**2-r_i[n]**2)*np.pi) #calculates density of bin\n",
    "    R[n]=np.mean(r_3d[inbin]) #calculates mean distance of bin"
   ]
  },
  {
   "cell_type": "code",
   "execution_count": 9,
   "metadata": {
    "collapsed": false
   },
   "outputs": [
    {
     "data": {
      "text/plain": [
       "array([  4.93962200e+00,   2.03218585e+01,   2.59118241e+01,\n",
       "         4.55757870e+01,   6.14336453e+01,   8.35070353e+01,\n",
       "         1.24019874e+02,   1.92312603e+02,   3.29932342e+02,\n",
       "         5.72556037e+02,   9.79158267e+02,   1.63379801e+03,\n",
       "         2.82188835e+03,   4.93365677e+03,   8.66475496e+03,\n",
       "         1.40958650e+04,   2.12188449e+04,   2.87901221e+04,\n",
       "         3.55588026e+04,   3.89874140e+04,   3.85702849e+04,\n",
       "         3.39434232e+04,   2.66131505e+04,   1.86830289e+04,\n",
       "         1.21462343e+04,   7.18320443e+03,   2.04797568e+03,\n",
       "         6.07796900e+01,   1.21311871e+01,   5.64414930e+00])"
      ]
     },
     "execution_count": 9,
     "metadata": {},
     "output_type": "execute_result"
    }
   ],
   "source": [
    "M"
   ]
  },
  {
   "cell_type": "code",
   "execution_count": 10,
   "metadata": {
    "collapsed": false
   },
   "outputs": [],
   "source": [
    "#x_asec=np.arctan(x/5000)*360*30*60*np.pi #formula x/d=tan(alpha), d=5000pc, np.arctan(x) in [rad]\n",
    "#y_asec=np.arctan(y/5000)*360*30*60*np.pi\n",
    "#r_asec=np.sqrt(x_asec**2+y_asec**2)"
   ]
  },
  {
   "cell_type": "code",
   "execution_count": 11,
   "metadata": {
    "collapsed": true
   },
   "outputs": [],
   "source": [
    "#R=np.logspace(np.log10(r0),np.log10(end),step)"
   ]
  },
  {
   "cell_type": "code",
   "execution_count": 13,
   "metadata": {
    "collapsed": false
   },
   "outputs": [],
   "source": [
    "#extrabin am anfang\n",
    "M_extra=np.sum(m1[r_3d<r0])+np.sum(m2[r_3d<r0])\n",
    "rho_extra=M_extra/(r0**2*np.pi)\n",
    "R_extra=np.mean(r_3d[r_3d<r0])\n",
    "#einfuegen in bereits angefertigte arrays an erster Stelle\n",
    "M_final=np.insert(M,0,M_extra)\n",
    "rho_final=np.insert(rho,0,rho_extra)\n",
    "R_final=np.insert(R,0,R_extra)"
   ]
  },
  {
   "cell_type": "code",
   "execution_count": 14,
   "metadata": {
    "collapsed": false
   },
   "outputs": [
    {
     "data": {
      "image/png": "[encoded data removed]",
      "text/plain": [
       "<matplotlib.figure.Figure at 0x7ff535b6fd50>"
      ]
     },
     "metadata": {},
     "output_type": "display_data"
    }
   ],
   "source": [
    "plt.loglog(R_final,rho_final,'.')\n",
    "plt.xlabel('distance from center [pc]')\n",
    "plt.ylabel('mass density of globular cluster[$M_\\odot/pc^2$]')\n",
    "plt.title('log 3d density profile with ' +str(step)+' steps')\n",
    "plt.savefig('log 3d density profile with ' +str(step)+' steps')"
   ]
  },
  {
   "cell_type": "code",
   "execution_count": 15,
   "metadata": {
    "collapsed": false
   },
   "outputs": [
    {
     "data": {
      "image/png": "[encoded data removed]",
      "text/plain": [
       "<matplotlib.figure.Figure at 0x7ff518943b90>"
      ]
     },
     "metadata": {},
     "output_type": "display_data"
    }
   ],
   "source": [
    "fig = plt.figure(figsize=(12,12))\n",
    "ax1 = fig.add_subplot(111)\n",
    "ax2 = ax1.twiny()\n",
    "\n",
    "ax1.loglog(R_final,rho_final,'.')\n",
    "ax1.set_xlim(0.005,100)\n",
    "ax1.set_xlabel('mean distance from center [pc]')\n",
    "ax1.set_ylabel('mass density of globular cluster[$M_\\odot/pc^2$]')\n",
    "\n",
    "ax2.set_xlim((0.005/5000)*360*3600/(2*np.pi),(100./5000)*360*3600/(2*np.pi)) #calculates x limits from parsec to arcsec\n",
    "ax2.set_xscale('log')\n",
    "ax2.set_xlabel('mean distance from center [arcsec]')\n",
    "#ax2.set_title('log 3d density profile') #open question: how to have extra xlabel and title\n",
    "\n",
    "plt.show()\n",
    "fig.savefig('Plots/log 3d density profile with ' +str(step+1)+' steps')"
   ]
  },
  {
   "cell_type": "markdown",
   "metadata": {
    "collapsed": true
   },
   "source": [
    "Jetzt: mit gleicher Anzahl an Sternen pro Bin\n",
    "--"
   ]
  },
  {
   "cell_type": "code",
   "execution_count": 17,
   "metadata": {
    "collapsed": true
   },
   "outputs": [],
   "source": [
    "#definition and initialization\n",
    "stars=len(r_3d)\n",
    "bin_num=50\n",
    "spb=stars/bin_num+1\n",
    "\n",
    "#mass and density\n",
    "mass=np.zeros(bin_num)\n",
    "rho_bin=np.zeros(bin_num)\n",
    "\n",
    "#distance\n",
    "D=np.zeros(bin_num)"
   ]
  },
  {
   "cell_type": "code",
   "execution_count": 19,
   "metadata": {
    "collapsed": false
   },
   "outputs": [],
   "source": [
    "for n in range(bin_num):\n",
    "    D[n]=np.mean(r_3d[n*spb:(n+1)*spb])\n",
    "    mass[n]=np.sum(m1[n*spb:(n+1)*spb])+np.sum(m2[n*spb:(n+1)*spb])\n",
    "    rho_bin[n]=np.sum(mass[n]/((np.max(r_3d[n*spb:(n+1)*spb]))**2-(np.min(r_3d[n*spb:(n+1)*spb]))**2)*np.pi)"
   ]
  },
  {
   "cell_type": "code",
   "execution_count": 24,
   "metadata": {
    "collapsed": false
   },
   "outputs": [
    {
     "data": {
      "image/png": "[encoded data removed]",
      "text/plain": [
       "<matplotlib.figure.Figure at 0x7ff5189f7050>"
      ]
     },
     "metadata": {},
     "output_type": "display_data"
    }
   ],
   "source": [
    "fig = plt.figure(figsize=(6,6))\n",
    "ax1 = fig.add_subplot(111)\n",
    "ax2 = ax1.twiny()\n",
    "\n",
    "ax1.loglog(D,rho_bin,'.')\n",
    "ax1.set_xlim(0.1,100)\n",
    "ax1.set_xlabel('mean distance from center [pc]')\n",
    "ax1.set_ylabel('mass density of globular cluster[$M_\\odot/pc^2$]')\n",
    "\n",
    "ax2.set_xlim((0.1/5000)*360*3600/(2*np.pi),(100./5000)*360*3600/(2*np.pi))\n",
    "ax2.set_xscale('log')\n",
    "ax2.set_xlabel('mean distance from center [arcsec]')\n",
    "#ax2.set_title('log 3d density profile')\n",
    "\n",
    "plt.show()\n",
    "fig.savefig('Plots/log 3d density profile with same amount of stars in every bin and ' +str(bin_num)+' bins')"
   ]
  },
  {
   "cell_type": "code",
   "execution_count": null,
   "metadata": {
    "collapsed": true
   },
   "outputs": [],
   "source": []
  },
  {
   "cell_type": "code",
   "execution_count": null,
   "metadata": {
    "collapsed": true
   },
   "outputs": [],
   "source": []
  }
 ],
 "metadata": {
  "kernelspec": {
   "display_name": "Python 2",
   "language": "python",
   "name": "python2"
  },
  "language_info": {
   "codemirror_mode": {
    "name": "ipython",
    "version": 2
   },
   "file_extension": ".py",
   "mimetype": "text/x-python",
   "name": "python",
   "nbconvert_exporter": "python",
   "pygments_lexer": "ipython2",
   "version": "2.7.10"
  }
 },
 "nbformat": 4,
 "nbformat_minor": 0
}
