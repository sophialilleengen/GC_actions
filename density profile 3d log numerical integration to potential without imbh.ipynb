{
 "cells": [
  {
   "cell_type": "code",
   "execution_count": 1,
   "metadata": {
    "collapsed": true
   },
   "outputs": [],
   "source": [
    "import numpy as np\n",
    "import matplotlib.pyplot as plt\n",
    "from scipy import interpolate\n",
    "from scipy import constants as cs\n",
    "from astropy import units as un\n",
    "import sys\n",
    "%matplotlib inline"
   ]
  },
  {
   "cell_type": "code",
   "execution_count": 2,
   "metadata": {
    "collapsed": false
   },
   "outputs": [],
   "source": [
    "if 0:\n",
    "    r_3d,m1,m2,x,y,z=np.loadtxt('C:\\\\Users\\Sophia Milanov\\Documents\\Bachelorarbeit\\data\\\\x-y-z.dat', usecols=(1,9,10,30,31,32), unpack=True)\n",
    "elif 1:\n",
    "    r_3d,m1,m2,x,y,z=np.loadtxt('/home/sophia/Dokumente/Bachelorarbeit-2/x-y-z.dat', usecols=(1,9,10,30,31,32), unpack=True)\n",
    "else:\n",
    "    r_3d,m1,m2,x,y,z=np.loadtxt('/home/milanov/Bachelorarbeit/x-y-z.dat', usecols=(1,9,10,30,31,32), unpack=True)"
   ]
  },
  {
   "cell_type": "code",
   "execution_count": 3,
   "metadata": {
    "collapsed": false
   },
   "outputs": [],
   "source": [
    "mges=np.sum(m1+m2)\n",
    "r3d0=r_3d[0]\n",
    "m10=m1[0]\n",
    "m20=m2[0]\n",
    "x0=x[0]\n",
    "y0=y[0]\n",
    "z0=z[0]\n",
    "\n",
    "r_3d=r_3d[1:]\n",
    "m1=m1[1:]\n",
    "m2=m2[1:]\n",
    "x=x[1:]\n",
    "y=y[1:]\n",
    "z=z[1:]"
   ]
  },
  {
   "cell_type": "code",
   "execution_count": 4,
   "metadata": {
    "collapsed": false
   },
   "outputs": [],
   "source": [
    "r0=0.01\n",
    "step=15\n",
    "end=100\n",
    "stepsize=((np.log10(end)-np.log10(r0))/step)\n",
    "R=np.zeros(step)\n",
    "r=np.logspace(np.log10(r0),np.log10(end),step+1)\n",
    "r_i=r[:-1:]\n",
    "r_a=r[1::]\n",
    "binwidth=r_a-r_i\n",
    "r_error=binwidth/2\n"
   ]
  },
  {
   "cell_type": "code",
   "execution_count": 7,
   "metadata": {
    "collapsed": false
   },
   "outputs": [],
   "source": [
    "M = np.zeros(step)\n",
    "rho=np.zeros(step)\n",
    "\n",
    "for n in range(step):\n",
    "    inbin=(r_i[n]<r_3d) * (r_3d<=r_a[n]) #r_3d wird verwendet! creates boolean arrays woth true values if star is in bin distance\n",
    "    M[n]=np.sum(m1[inbin])+np.sum(m2[inbin]) #mass array with both masses of binary system\n",
    "    rho[n]=M[n]/((r_a[n]**2-r_i[n]**2)*np.pi) #calculates density of bin\n",
    "    R[n]=np.mean(r_3d[inbin]) #calculates mean distance of bin\n",
    "    \n",
    "#extrabin am anfang\n",
    "M_extra=np.sum(m1[r_3d<r0])+np.sum(m2[r_3d<r0])\n",
    "rho_extra=M_extra/(r0**2*np.pi)\n",
    "R_extra=np.mean(r_3d[r_3d<r0])\n",
    "#einfuegen in bereits angefertigte arrays an erster Stelle\n",
    "M_final=np.insert(M,0,M_extra)\n",
    "rho_final=np.insert(rho,0,rho_extra)\n",
    "R_final=np.insert(R,0,R_extra)\n",
    "\n",
    "rho_relerror=-2*r_error/R_final[1:]\n",
    "rho_error=rho_relerror*rho_final[1:]\n",
    "\n",
    "s = interpolate.InterpolatedUnivariateSpline(np.log(R_final[:]), np.log(rho_final[:]))\n",
    "R_new=np.logspace(-3,2,1000)\n",
    "rho_int=np.exp(s(np.log(R_new)))\n",
    "\n",
    "\n",
    "np.savetxt('densityfile.txt',(R_final,rho_final))\n"
   ]
  },
  {
   "cell_type": "code",
   "execution_count": null,
   "metadata": {
    "collapsed": false
   },
   "outputs": [],
   "source": [
    "fig = plt.figure(figsize=(12,12))\n",
    "ax1 = fig.add_subplot(111)\n",
    "ax2 = ax1.twiny()\n",
    "\n",
    "ax1.loglog(R_final,rho_final,'.')\n",
    "ax1.loglog(R_new,rho_int)\n",
    "ax1.set_xlim(0.005,100)\n",
    "ax1.set_xlabel('mean distance from center [pc]')\n",
    "ax1.set_ylabel('mass density of globular cluster[$M_\\odot/pc^2$]')\n",
    "\n",
    "\n",
    "\n",
    "ax2.set_xlim((0.005/5000)*360*3600/(2*np.pi),(100./5000)*360*3600/(2*np.pi)) #calculates x limits from parsec to arcsec\n",
    "ax2.set_xscale('log')\n",
    "ax2.set_xlabel('mean distance from center [arcsec]')\n",
    "\n",
    "#fig.savefig('3d density profile numerical fit without imbh')\n",
    "\n",
    "plt.show()\n"
   ]
  },
  {
   "cell_type": "markdown",
   "metadata": {
    "collapsed": true
   },
   "source": [
    "$\\Phi(r)=4\\pi G \\int_{r}^{\\infty}r''^2dr''\\int_{0}^{r}\\rho(r)r'^2dr'$\n",
    "\n",
    "vereinfacht wegen Kugelsymmetrie: $\\Phi(r)=-\\frac{G}{r}\\int_0^r{\\mathrm{d}M(r')}-G\\int_r^{\\infty}{\\frac{\\mathrm{d}M(r')}{r'}}=-4\\pi G\\left[\\frac{1}{r}\\int_0^r\\mathrm{d}r'r'^2\\rho(r')+\\int_r^{\\infty}\\mathrm{d}r'r'\\rho(r')\\right]$\n",
    "rechne mit $f(r')=\\rho(r')r'^2$ bzw. $f(r')=\\rho(r')r'$\n",
    "\n",
    "\n",
    "Gauss-Legendre quadrature\n",
    "\n",
    "$\\int_a^b f(x)dx = \\frac{b-a}{2}\\sum_{i=1}^n w_i f\\left(\\frac{b-a}{2}x_i+\\frac{a+b}{2}\\right)$\n",
    "\n",
    "damit $\\Phi(r)=-4\\pi G\\left[\\frac{1}{2}\\sum_{i=1}^n w_i\\left(\\frac{r}{2}x_i+\\frac{r}{2}\\right)^2\\rho\\left(\\frac{r}{2} x_i+\\frac{r}{2}\\right)+\\frac{\\infty-r}{2}\\sum_{i=1}^n w_i \\left(\\frac{\\infty-r}{2} x_i + \\frac{\\infty+r}{2}\\right)\\rho\\left(\\frac{\\infty-r}{2} x_i + \\frac{\\infty+r}{2}\\right)\\right]$"
   ]
  },
  {
   "cell_type": "code",
   "execution_count": null,
   "metadata": {
    "collapsed": true
   },
   "outputs": [],
   "source": []
  },
  {
   "cell_type": "code",
   "execution_count": null,
   "metadata": {
    "collapsed": false
   },
   "outputs": [],
   "source": [
    "#G in pc^3/(M_sol*s^2)\n",
    "m_3=un.m*un.m*un.m/(un.kg*un.s*un.s)\n",
    "pc_3=un.pc**3/(un.solMass*un.s**2)\n",
    "G=m_3.to(pc_3,cs.G)"
   ]
  },
  {
   "cell_type": "code",
   "execution_count": null,
   "metadata": {
    "collapsed": false
   },
   "outputs": [],
   "source": [
    "#einfach s(x) benutzen\n",
    "\n",
    "def potential(r,density,low=0.003,high=104.64,x_i=None,w_i=None):\n",
    "    sum1=np.zeros(n)\n",
    "    sum2=np.zeros(n)\n",
    "    if isinstance(r,np.ndarray):\n",
    "        return np.array([potential(rr,density,low=low,high=high,x_i=x_i,w_i=w_i) for rr in r])\n",
    "    else:\n",
    "        if r<low or r>high:\n",
    "            sys.exit(\"r is smaller or bigger than star boundaries\")\n",
    "        x1=((r-low)/2)*x_i+(r+low)/2\n",
    "        x2=((high-r)/2)*x_i+(high+r)/2\n",
    "        for i in range(n):\n",
    "            s1=density(x1[i])\n",
    "            s2=density(x2[i])\n",
    "            sum1[i]=(w_i[i]*x1[i]**2*s1)\n",
    "            sum2[i]=(w_i[i]*x2[i]*s2)\n",
    "        sum_1=np.sum(sum1)\n",
    "        sum_2=np.sum(sum2)\n",
    "        return -4*np.pi*G*((r-low)/(2*r)*sum_1+(high-r)/2*sum_2)\n",
    "    "
   ]
  },
  {
   "cell_type": "code",
   "execution_count": null,
   "metadata": {
    "collapsed": false
   },
   "outputs": [],
   "source": [
    "def potential_bh(r):\n",
    "    return -G*(m10+m20)/r"
   ]
  },
  {
   "cell_type": "code",
   "execution_count": null,
   "metadata": {
    "collapsed": false
   },
   "outputs": [],
   "source": [
    "#fuer w_i und x_i\n",
    "n=80 #ab n=100 wurde diese Methode nicht getestet\n",
    "x_i,w_i=np.polynomial.legendre.leggauss(n)\n",
    "r=np.linspace(0.004,100,1000)\n",
    "pot=potential_bh(r)+potential(r,s,x_i=x_i,w_i=w_i)"
   ]
  },
  {
   "cell_type": "code",
   "execution_count": null,
   "metadata": {
    "collapsed": false
   },
   "outputs": [],
   "source": [
    "s1 = interpolate.InterpolatedUnivariateSpline(r, pot)\n"
   ]
  },
  {
   "cell_type": "code",
   "execution_count": null,
   "metadata": {
    "collapsed": false
   },
   "outputs": [],
   "source": [
    "plt.plot(r,pot,'r.',r,s1(r),'b-')\n",
    "#plt.xlim(0,120)\n",
    "#plt.ylim(-4.7e-19,-4.0e-19)\n",
    "plt.xlabel('r [pc]')\n",
    "plt.ylabel('$\\Phi\\ [pc^3/s^2]$')"
   ]
  },
  {
   "cell_type": "code",
   "execution_count": null,
   "metadata": {
    "collapsed": false,
    "scrolled": true
   },
   "outputs": [],
   "source": [
    "print(s1(r))"
   ]
  },
  {
   "cell_type": "code",
   "execution_count": null,
   "metadata": {
    "collapsed": false
   },
   "outputs": [],
   "source": [
    "der=s1.derivative()\n"
   ]
  },
  {
   "cell_type": "code",
   "execution_count": null,
   "metadata": {
    "collapsed": false,
    "scrolled": true
   },
   "outputs": [],
   "source": [
    "plt.plot(r,der(r))"
   ]
  },
  {
   "cell_type": "code",
   "execution_count": null,
   "metadata": {
    "collapsed": true
   },
   "outputs": [],
   "source": []
  }
 ],
 "metadata": {
  "kernelspec": {
   "display_name": "Python 3",
   "language": "python",
   "name": "python3"
  },
  "language_info": {
   "codemirror_mode": {
    "name": "ipython",
    "version": 3
   },
   "file_extension": ".py",
   "mimetype": "text/x-python",
   "name": "python",
   "nbconvert_exporter": "python",
   "pygments_lexer": "ipython3",
   "version": "3.4.3"
  }
 },
 "nbformat": 4,
 "nbformat_minor": 0
}
