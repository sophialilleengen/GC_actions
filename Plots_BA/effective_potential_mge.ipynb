{
 "cells": [
  {
   "cell_type": "code",
   "execution_count": 3,
   "metadata": {
    "collapsed": true
   },
   "outputs": [],
   "source": [
    "PC = \"MPIA\""
   ]
  },
  {
   "cell_type": "code",
   "execution_count": 1,
   "metadata": {
    "collapsed": true
   },
   "outputs": [],
   "source": [
    "import numpy as np\n",
    "import matplotlib.pyplot as plt\n",
    "import sys\n",
    "sys.path.insert(0, '/home/milanov/Documents/Project/GC_actions/')\n",
    "\n",
    "from Paolo_class import GCphasespace\n",
    "from GC_Orbit_class import GCorbit\n",
    "from MGE_potential import MGE_orbit\n",
    "%matplotlib inline"
   ]
  },
  {
   "cell_type": "code",
   "execution_count": 4,
   "metadata": {
    "collapsed": false
   },
   "outputs": [],
   "source": [
    "### import data of simulation 1 with IMBH ###\n",
    "\n",
    "if PC == \"MPIA\":\n",
    "    r_3d_1,m1_1,m2_1,x_1,y_1,z_1,vx_1,vy_1,vz_1=np.loadtxt('/home/milanov/Documents/Project/data_newpc/x-y-z_IMBH1.dat', usecols=(1,9,10,30,31,32,33,34,35), unpack=True)\n",
    "else:\n",
    "    r_3d_1,m1_1,m2_1,x_1,y_1,z_1,vx_1,vy_1,vz_1=np.loadtxt('/home/sophia/Dokumente/Bachelorarbeit-2/x-y-z_IMBH1.dat', usecols=(1,9,10,30,31,32,33,34,35), unpack=True)\n"
   ]
  },
  {
   "cell_type": "markdown",
   "metadata": {
    "collapsed": true
   },
   "source": [
    "### import data of simulation 2 with IMBH ###\n",
    "\n",
    "if PC == \"MPIA\":\n",
    "    r_3d_2,m1_2,m2_2,x_2,y_2,z_2,vx_2,vy_2,vz_2=np.loadtxt('/home/milanov/Documents/Project/data_newpc/x-y-z_IMBH2.dat', usecols=(1,9,10,30,31,32,33,34,35), unpack=True)\n",
    "else:\n",
    "    r_3d_2,m1_2,m2_2,x_2,y_2,z_2,vx_2,vy_2,vz_2=np.loadtxt('/home/sophia/Dokumente/Bachelorarbeit-2/x-y-z_IMBH2.dat', usecols=(1,9,10,30,31,32,33,34,35), unpack=True)\n"
   ]
  },
  {
   "cell_type": "markdown",
   "metadata": {
    "collapsed": true
   },
   "source": [
    "### import data of simulation 1 without IMBH ###\n",
    "if 0:\n",
    "    r_3d_wo,m1_wo,m2_wo,x_wo,y_wo,z_wo,vx_wo,vy_wo,vz_wo=np.loadtxt('C:\\\\Users\\Sophia Milanov\\Documents\\Bachelorarbeit\\data\\\\x-y-z.dat', usecols=(1,9,10,30,31,32,33,34,35), unpack=True)\n",
    "elif 1:\n",
    "    r_3d_wo_1,m1_wo_1,m2_wo_1,x_wo_1,y_wo_1,z_wo_1,vx_wo_1,vy_wo_1,vz_wo_1=np.loadtxt('/home/sophia/Dokumente/Bachelorarbeit-2/x-y-z_noIMBH1.dat', usecols=(1,9,10,29,30,31,32,33,34), unpack=True)\n",
    "else:\n",
    "    r_3d,m1,m2,x,y,z#,vx,vy,vz=np.loadtxt('/home/milanov/Bachelorarbeit/x-y-z.dat', usecols=(1,9,10,30,31,32,33,34,35), unpack=True)"
   ]
  },
  {
   "cell_type": "markdown",
   "metadata": {
    "collapsed": true
   },
   "source": [
    "### import data of simulation 2 without IMBH ###\n",
    "if 0:\n",
    "    r_3d_wo,m1_wo,m2_wo,x_wo,y_wo,z_wo,vx_wo,vy_wo,vz_wo=np.loadtxt('C:\\\\Users\\Sophia Milanov\\Documents\\Bachelorarbeit\\data\\\\x-y-z.dat', usecols=(1,9,10,30,31,32,33,34,35), unpack=True)\n",
    "elif 1:\n",
    "    r_3d_wo_2,m1_wo_2,m2_wo_2,x_wo_2,y_wo_2,z_wo_2,vx_wo_2,vy_wo_2,vz_wo_2,=np.loadtxt('/home/sophia/Dokumente/Bachelorarbeit-2/x-y-z_noIMBH2.dat', usecols=(1,9,10,30,31,32,33,34,35), unpack=True)\n",
    "else:\n",
    "    r_3d,m1,m2,x,y,z#,vx,vy,vz=np.loadtxt('/home/milanov/Bachelorarbeit/x-y-z.dat', usecols=(1,9,10,30,31,32,33,34,35), unpack=True)"
   ]
  },
  {
   "cell_type": "markdown",
   "metadata": {
    "collapsed": true
   },
   "source": [
    "### load radii, actions, half light and half mass radii for simulations ###\n",
    "r3d_1,J_phi_1,J_theta_1,J_r_1=np.loadtxt('../../sophia/Dokumente/Bachelorarbeit-2/actions_IMBH1.txt')\n",
    "r3d_2,J_phi_2,J_theta_2,J_r_2=np.loadtxt('../../sophia/Dokumente/Bachelorarbeit-2/actions_IMBH2.txt')\n",
    "r3d_wo_1,J_phi_wo_1,J_theta_wo_1,J_r_wo_1=np.loadtxt('../../sophia/Dokumente/Bachelorarbeit-2/actions_noIMBH1.txt')\n",
    "r3d_wo_2,J_phi_wo_2,J_theta_wo_2,J_r_wo_2=np.loadtxt('../../sophia/Dokumente/Bachelorarbeit-2/actions_noIMBH2.txt')\n",
    "hmr_bh_1,hmr_bh_2,hlr_bh_1,hlr_bh_2,hmr_wo_bh_1,hmr_wo_bh_2,hlr_wo_bh_1,hlr_wo_bh_2=np.loadtxt('half_mass_and_half_light_radius')"
   ]
  },
  {
   "cell_type": "code",
   "execution_count": 7,
   "metadata": {
    "collapsed": false
   },
   "outputs": [
    {
     "name": "stderr",
     "output_type": "stream",
     "text": [
      "/home/sophia/bachelor_thesis_ipython_notebooks/GC_Orbit_class.py:68: RuntimeWarning: overflow encountered in exp\n",
      "  density= np.exp(self.s(np.log(r)))\n"
     ]
    }
   ],
   "source": [
    "### initialize orbit class ###\n",
    "\n",
    "bh_orbit_1=MGE_orbit(inputfilename='MGE_results_IMBH1.txt',bhmass_M_sun=m1_1[0]+m2_1[0])\n",
    "#bh_orbit_2=GCorbit(inputfilename='densityfile_IMBH2.txt',bhmass_M_sun=m1_2[0]+m2_2[0])\n",
    "#wobh_orbit_1=GCorbit(inputfilename='densityfile_noIMBH1.txt')\n",
    "#wobh_orbit_2=GCorbit(inputfilename='densityfile_noIMBH2.txt')"
   ]
  },
  {
   "cell_type": "code",
   "execution_count": 8,
   "metadata": {
    "collapsed": false
   },
   "outputs": [],
   "source": [
    "### loads guiding star radii for every star of both simulations ###\n",
    "r_guide_bh_1=np.loadtxt('../../sophia/Dokumente/Bachelorarbeit-2/r_guide_IMBH1.txt',unpack='True')\n",
    "r_guide_bh_2=np.loadtxt('../../sophia/Dokumente/Bachelorarbeit-2/r_guide_IMBH2.txt',unpack='True')\n",
    "r_guide_wobh_1=np.loadtxt('../../sophia/Dokumente/Bachelorarbeit-2/r_guide_noIMBH1.txt',unpack='True')\n",
    "r_guide_wobh_2=np.loadtxt('../../sophia/Dokumente/Bachelorarbeit-2/r_guide_noIMBH2.txt',unpack='True')\n"
   ]
  },
  {
   "cell_type": "code",
   "execution_count": 9,
   "metadata": {
    "collapsed": true
   },
   "outputs": [],
   "source": [
    "per_1=np.zeros(len(r_3d_1[1:]))\n",
    "per_2=np.zeros(len(r_3d_2[1:]))\n",
    "per_wo_1=np.zeros(len(r_3d_wo_1[1:]))\n",
    "per_wo_2=np.zeros(len(r_3d_wo_2[1:]))\n",
    "\n",
    "r_3d_1=r_3d_1[1:]\n",
    "r_3d_2=r_3d_2[1:]\n",
    "x_1=x_1[1:]\n",
    "x_2=x_2[1:]\n",
    "y_1=y_1[1:]\n",
    "y_2=y_2[1:]\n",
    "z_1=z_1[1:]\n",
    "z_2=z_2[1:]\n",
    "vx_1=vx_1[1:]\n",
    "vx_2=vx_2[1:]\n",
    "vy_1=vy_1[1:]\n",
    "vy_2=vy_2[1:]\n",
    "vz_1=vz_1[1:]\n",
    "vz_2=vz_2[1:]"
   ]
  },
  {
   "cell_type": "markdown",
   "metadata": {
    "collapsed": false
   },
   "source": [
    "for i in range(len(r_3d_1[1:])):\n",
    "    per_1[i]=bh_orbit_1.periapocenter(r_3d_1[i],x_1[i],y_1[i],z_1[i],vx_1[i],vy_1[i],vz_1[i])[0]\n",
    "for i in range(len(r_3d_2[1:])):\n",
    "    per_2[i]=bh_orbit_2.periapocenter(r_3d_2[i],x_2[i],y_2[i],z_2[i],vx_2[i],vy_2[i],vz_2[i])[0]\n",
    "for i in range(len(r_3d_wo_1[1:])):\n",
    "    per_wo_1[i]=wobh_orbit_1.periapocenter(r_3d_wo_1[i],x_wo_1[i],y_wo_1[i],z_wo_1[i],vx_wo_1[i],vy_wo_1[i],vz_wo_1[i])[0]\n",
    "for i in range(len(r_3d_wo_2[1:])):\n",
    "    per_wo_2[i]=wobh_orbit_2.periapocenter(r_3d_wo_2[i],x_wo_2[i],y_wo_2[i],z_wo_2[i],vx_wo_2[i],vy_wo_2[i],vz_wo_2[i])[0]"
   ]
  },
  {
   "cell_type": "markdown",
   "metadata": {
    "collapsed": false
   },
   "source": [
    "np.savetxt('../Dokumente/Bachelorarbeit-2/per_IMBH1.txt',(per_1))\n",
    "np.savetxt('../Dokumente/Bachelorarbeit-2/per_IMBH2.txt',(per_2))\n",
    "np.savetxt('../Dokumente/Bachelorarbeit-2/per_noIMBH1.txt',(per_wo_1))\n",
    "np.savetxt('../Dokumente/Bachelorarbeit-2/per_noIMBH2.txt',(per_wo_2))\n"
   ]
  },
  {
   "cell_type": "code",
   "execution_count": 9,
   "metadata": {
    "collapsed": false
   },
   "outputs": [],
   "source": [
    "### sorts action arrays as guiding star radius array is sorted ###\n",
    "\n",
    "#with IMBH 1\n",
    "r_guide_bh_argsort_1=np.argsort(r_guide_bh_1)\n",
    "r_guide_bh_sort_1=r_guide_bh_1[r_guide_bh_argsort_1]\n",
    "J_r_bh_sort_1=J_r_1[r_guide_bh_argsort_1]\n",
    "J_theta_bh_sort_1=J_theta_1[r_guide_bh_argsort_1]\n",
    "J_phi_bh_sort_1=J_phi_1[r_guide_bh_argsort_1]"
   ]
  },
  {
   "cell_type": "code",
   "execution_count": null,
   "metadata": {
    "collapsed": true
   },
   "outputs": [],
   "source": []
  },
  {
   "cell_type": "markdown",
   "metadata": {
    "collapsed": true
   },
   "source": [
    "#with IMBH 2\n",
    "r_guide_bh_argsort_2=np.argsort(r_guide_bh_2)\n",
    "r_guide_bh_sort_2=r_guide_bh_2[r_guide_bh_argsort_2]\n",
    "J_r_bh_sort_2=J_r_2[r_guide_bh_argsort_2]\n",
    "J_theta_bh_sort_2=J_theta_2[r_guide_bh_argsort_2]\n",
    "J_phi_bh_sort_2=J_phi_2[r_guide_bh_argsort_2]\n",
    "\n",
    "#without IMBH 1\n",
    "r_guide_wobh_argsort_1=np.argsort(r_guide_wobh_1)\n",
    "r_guide_wobh_sort_1=r_guide_wobh_1[r_guide_wobh_argsort_1]\n",
    "J_r_wobh_sort_1=J_r_wo_1[r_guide_wobh_argsort_1]\n",
    "J_theta_wobh_sort_1=J_theta_wo_1[r_guide_wobh_argsort_1]\n",
    "J_phi_wobh_sort_1=J_phi_wo_1[r_guide_wobh_argsort_1]\n",
    "\n",
    "#without IMBH 2\n",
    "r_guide_wobh_argsort_2=np.argsort(r_guide_wobh_2)\n",
    "r_guide_wobh_sort_2=r_guide_wobh_2[r_guide_wobh_argsort_2]\n",
    "J_r_wobh_sort_2=J_r_wo_2[r_guide_wobh_argsort_2]\n",
    "J_theta_wobh_sort_2=J_theta_wo_2[r_guide_wobh_argsort_2]\n",
    "J_phi_wobh_sort_2=J_phi_wo_2[r_guide_wobh_argsort_2]"
   ]
  },
  {
   "cell_type": "code",
   "execution_count": 10,
   "metadata": {
    "collapsed": false
   },
   "outputs": [
    {
     "name": "stderr",
     "output_type": "stream",
     "text": [
      "/home/sophia/anaconda3/lib/python3.4/site-packages/IPython/kernel/__main__.py:3: RuntimeWarning: invalid value encountered in greater\n",
      "  app.launch_new_instance()\n"
     ]
    }
   ],
   "source": [
    "E_1 = bh_orbit_1.energy(x_1[1:],y_1[1:],z_1[1:],vx_1[1:],vy_1[1:],vz_1[1:])\n",
    "k_1_test=E_1<-0.4e-23\n",
    "l_1_test=J_r_1>500\n",
    "l=np.flatnonzero(k_1_test+l_1_test)\n",
    "l=l+1"
   ]
  },
  {
   "cell_type": "code",
   "execution_count": 11,
   "metadata": {
    "collapsed": false
   },
   "outputs": [
    {
     "name": "stderr",
     "output_type": "stream",
     "text": [
      "/home/sophia/anaconda3/lib/python3.4/site-packages/IPython/kernel/__main__.py:6: RuntimeWarning: invalid value encountered in greater\n"
     ]
    }
   ],
   "source": [
    "### find unnormal behaving stars ###\n",
    "\n",
    "#E_1 = bh_orbit_1.energy(x_1[1:],y_1[1:],z_1[1:],vx_1[1:],vy_1[1:],vz_1[1:])\n",
    "#L_1=bh_orbit_1.angularmom(x_1[1:],y_1[1:],z_1[1:],vx_1[1:],vy_1[1:],vz_1[1:])[0]\n",
    "group1_1_test=E_1<-0.9e-24\n",
    "group2_1_test=J_r_1>150\n",
    "\n",
    "group1=np.flatnonzero(group1_1_test)\n",
    "group2=np.flatnonzero(group2_1_test)\n",
    "\n",
    "group3_test=(r_guide_bh_1>10.)*(r_guide_bh_1<20.)\n",
    "group3=np.flatnonzero(group3_test)\n",
    "#E_2 = bh_orbit_2.energy(x_2[1:],y_2[1:],z_2[1:],vx_2[1:],vy_2[1:],vz_2[1:])\n",
    "#L_2=bh_orbit_2.angularmom(x_2[1:],y_2[1:],z_2[1:],vx_2[1:],vy_2[1:],vz_2[1:])[0]\n",
    "#group1_2=E_2<-0.9e-24\n",
    "#group2_2=J_r_2>150\n",
    "#l_2=np.flatnonzero(k_2_test+l_2_test)\n",
    "#print(l_1,l_2)"
   ]
  },
  {
   "cell_type": "code",
   "execution_count": 12,
   "metadata": {
    "collapsed": false
   },
   "outputs": [
    {
     "name": "stdout",
     "output_type": "stream",
     "text": [
      "[557091 563229 569702 573058 573522 574147 574545 578800 584292 585624\n",
      " 586369 586696 591950 592170 598018 601233 601408 602155 602264 602476\n",
      " 604732 604937 606303 606400 606414 608017 608676 610003 612937 614390\n",
      " 614559 616594 617217 617406 617509 618073 618112 621433 621679 624573\n",
      " 625798 625993 627513 630979 632217 632993 633590 633859 635533 637660\n",
      " 639295 639654 639877 641848 642068 642401 642494 642936 643339 643647\n",
      " 644334 644747 645515 645871 646602 647061 647540 647675 648876 649282\n",
      " 650009 650128 651917 652222 653256 653487 654645 654864 656023 656327\n",
      " 656395 656626 656631 657954 659620 659637 660919 661118 661500 661635\n",
      " 663146 664785 665684 665956 666123 667331 667438 668680 668736 669508\n",
      " 670204 670319 670468 670618 670907 671707 671888 672790 674333 674680\n",
      " 674942 675473 675518 675849 676427 676824 677411 677697 677961 678058\n",
      " 678193 678233 678986 679714 680009 680049 680732 680897 681123 682339\n",
      " 682960 683078 683132 684648 686125 686166 686409 686414 686523 687596\n",
      " 688973 688978 689565 689712 690013 690033 690410 690765 690959 691237\n",
      " 691491 691794 692117 692136 692232 692657 693131 693516 693624 694045\n",
      " 694560 694885 695103 695111 695341 696772 698238 698412 698992 699019\n",
      " 699331 699849 700120 701295 701667 701720 701746 702487 702491 703149\n",
      " 703249 703344 703910 703995 704578 704933 705156 705232 705421 705963\n",
      " 706117 706211 706522 707217 707839 708151 708169 708280 708446 709308]\n",
      "8392\n",
      "[1024912 1024924 1024947 1024962 1024963 1024964 1024971 1024976 1024982\n",
      " 1024993 1025010 1025020 1025021 1025026 1025028 1025029 1025045 1025046\n",
      " 1025065 1025068 1025087 1025105 1025125 1025142 1025152 1025165 1025166\n",
      " 1025182 1025187 1025190 1025192 1025200 1025209 1025217 1025223 1025227\n",
      " 1025236 1025240 1025249 1025251 1025260 1025263 1025265 1025309 1025316\n",
      " 1025327 1025334 1025338 1025339 1025344 1025345 1025349 1025350 1025361\n",
      " 1025364 1025382 1025389 1025390 1025397 1025398 1025418 1025419 1025428\n",
      " 1025437 1025440 1025442 1025458 1025467 1025468 1025471 1025475 1025477\n",
      " 1025495 1025516 1025527 1025531 1025532 1025537 1025539 1025541 1025543\n",
      " 1025546 1025554 1025561 1025572 1025579 1025606 1025648 1025652 1025656\n",
      " 1025662 1025686 1025687 1025696 1025699 1025719 1025727 1025733 1025734\n",
      " 1025738 1025742 1025749 1025765 1025770 1025771 1025775 1025780 1025792\n",
      " 1025795 1025814 1025827 1025832 1025834 1025838 1025846 1025863 1025878\n",
      " 1025882 1025888 1025909 1025913 1025919 1025945 1025946 1025947 1025964\n",
      " 1025966 1025972 1025982 1025985 1025992 1026000 1026021 1026023 1026030\n",
      " 1026039 1026040 1026041 1026057 1026067 1026077 1026081 1026114 1026125\n",
      " 1026133 1026178 1026179 1026229 1026236 1026239 1026243 1026262 1026275\n",
      " 1026287 1026300 1026308 1026313 1026322 1026334 1026336 1026340 1026342\n",
      " 1026344 1026347 1026353 1026373 1026381 1026382 1026402 1026404 1026406\n",
      " 1026413 1026428 1026436 1026442 1026449 1026458 1026459 1026460 1026483\n",
      " 1026485 1026486 1026492 1026495 1026520 1026529 1026530 1026543 1026584\n",
      " 1026592 1026596 1026597 1026600 1026612 1026621 1026635 1026637 1026646\n",
      " 1026717]\n"
     ]
    }
   ],
   "source": [
    "print((group3[0:200]))\n",
    "print(len(group3))\n",
    "print((group3[-200:-1]))\n",
    "#print(group1_2,group2_2)\n",
    "#print(l)"
   ]
  },
  {
   "cell_type": "code",
   "execution_count": 31,
   "metadata": {
    "collapsed": false
   },
   "outputs": [
    {
     "data": {
      "image/png": "[encoded data removed]",
      "text/plain": [
       "<matplotlib.figure.Figure at 0x7fa508341c88>"
      ]
     },
     "metadata": {},
     "output_type": "display_data"
    }
   ],
   "source": [
    "l=86343\n",
    "L=bh_orbit_1.angularmom(x_1[l],y_1[l],z_1[l],vx_1[l],vy_1[l],vz_1[l])[0]\n",
    "r=10.**(np.linspace(np.log10(0.00002),3.,10000))\n",
    "                              \n",
    "plt.semilogx(r,bh_orbit_1.effective_potential(r,L))\n"
   ]
  },
  {
   "cell_type": "code",
   "execution_count": 16,
   "metadata": {
    "collapsed": false,
    "scrolled": false
   },
   "outputs": [
    {
     "name": "stdout",
     "output_type": "stream",
     "text": [
      "17 0.00928405 0.009596177592151752\n",
      "-1.50940882969e-24 0.290651723289\n",
      "1025909 36.691 37.990707124711754\n",
      "-5.15852244111e-27 159.992669339\n"
     ]
    },
    {
     "name": "stderr",
     "output_type": "stream",
     "text": [
      "/home/sophia/anaconda3/lib/python3.4/site-packages/matplotlib/figure.py:387: UserWarning: matplotlib is currently using a non-GUI backend, so cannot show the figure\n",
      "  \"matplotlib is currently using a non-GUI backend, \"\n"
     ]
    },
    {
     "data": {
      "image/png": "[encoded data removed]",
      "text/plain": [
       "<matplotlib.figure.Figure at 0x7fb8a61760f0>"
      ]
     },
     "metadata": {},
     "output_type": "display_data"
    },
    {
     "data": {
      "image/png": "[encoded data removed]",
      "text/plain": [
       "<matplotlib.figure.Figure at 0x7fb8a62313c8>"
      ]
     },
     "metadata": {},
     "output_type": "display_data"
    }
   ],
   "source": [
    "#l=np.array((67,886,1565,7892,30986,79073,107836))\n",
    "#l=np.array((group3[-200:-1]))\n",
    "l=np.array((17,1025909))\n",
    "text=np.array(('group1','group2'))\n",
    "for k in range(len(l)):\n",
    "    L=bh_orbit_1.angularmom(x_1[l[k]],y_1[l[k]],z_1[l[k]],vx_1[l[k]],vy_1[l[k]],vz_1[l[k]])[0]\n",
    "    E=bh_orbit_1.energy(x_1[l[k]],y_1[l[k]],z_1[l[k]],vx_1[l[k]],vy_1[l[k]],vz_1[l[k]])\n",
    "    r=10.**(np.linspace(np.log10(0.00002),3.,10000))\n",
    "    #print(bh_orbit_1._periapocenter_aux(1e-7,E,L),bh_orbit_1._periapocenter_aux(r_3d_1[l[k]],E,L),bh_orbit_1._periapocenter_aux(np.sqrt(x_1[l[k]]**2+y_1[l[k]]**2+z_1[l[k]]**2),E,L),bh_orbit_1._periapocenter_aux(np.max(bh_orbit_1._r_bin)*1.03,E,L))\n",
    "    fig=plt.figure()\n",
    "    ax=fig.add_subplot(111)\n",
    "    ax.loglog(r,np.abs(bh_orbit_1._periapocenter_aux(r=r,E=E,L=L)),linewidth=1.5)\n",
    "    ax.set_xlabel('r [pc]',fontsize=12)\n",
    "    ax.set_ylabel('$|\\Phi_\\mathrm{L}-\\mathrm{E}| \\ [1/\\mathrm{pc}^2]$',fontsize=14)\n",
    "    print(l[k],r_3d_1[l[k]],bh_orbit_1.periapocenter(r_3d_1[l[k]],x_1[l[k]],y_1[l[k]],z_1[l[k]],vx_1[l[k]],vy_1[l[k]],vz_1[l[k]])[1])\n",
    "    print(E_1[l[k]],J_r_1[l[k]])\n",
    "    ax.axvline(bh_orbit_1.periapocenter(r_3d_1[l[k]],x_1[l[k]],y_1[l[k]],z_1[l[k]],vx_1[l[k]],vy_1[l[k]],vz_1[l[k]])[0], color='m',label='pericentre',linewidth=1.5)\n",
    "    ax.axvline(bh_orbit_1.periapocenter(r_3d_1[l[k]],x_1[l[k]],y_1[l[k]],z_1[l[k]],vx_1[l[k]],vy_1[l[k]],vz_1[l[k]])[1], color='black',label='apocentre',linewidth=1.5)\n",
    "    ax.axvline(bh_orbit_1.r_guide_min(r_3d_1[l[k]],x_1[l[k]],y_1[l[k]],z_1[l[k]],vx_1[l[k]],vy_1[l[k]],vz_1[l[k]]),color='g',label='guiding star radius',linewidth=1.5)\n",
    "    ax.axvline(r_3d_1[l[k]],color='r',label='actual distance',linewidth=1.5)    \n",
    "    ax.legend(loc=0)\n",
    "    ax.spines['top'].set_linewidth(1.5)\n",
    "    ax.spines['right'].set_linewidth(1.5)\n",
    "    ax.spines['bottom'].set_linewidth(1.5)\n",
    "    ax.spines['left'].set_linewidth(1.5)\n",
    "\n",
    "    ax.tick_params(length=8,width=1.5,labelsize=12)\n",
    "    ax.tick_params(which='minor',length=4,width=1.5)\n",
    "    fig.savefig('../Bachelorarbeit-Entwurf/Plots/pot_eff_'+text[k]+'.pdf',format='pdf',bbbox_inches='tight')\n",
    "    fig.show()"
   ]
  },
  {
   "cell_type": "markdown",
   "metadata": {
    "collapsed": false,
    "scrolled": false
   },
   "source": [
    "l=np.array((67,886,1565,7892,30986,79073,107836))\n",
    "for k in range(len(l)):\n",
    "    L=bh_orbit_2.angularmom(x_2[l[k]],y_2[l[k]],z_2[l[k]],vx_2[l[k]],vy_2[l[k]],vz_2[l[k]])[0]\n",
    "    E=bh_orbit_2.energy(x_2[l[k]],y_2[l[k]],z_2[l[k]],vx_2[l[k]],vy_2[l[k]],vz_2[l[k]])\n",
    "    r=10.**(np.linspace(np.log10(0.00002),3.,10000))\n",
    "    print(bh_orbit_2._periapocenter_aux(1e-7,E,L),bh_orbit_2._periapocenter_aux(r_3d_2[l[k]],E,L),bh_orbit_2._periapocenter_aux(np.sqrt(x_2[l[k]]**2+y_2[l[k]]**2+z_2[l[k]]**2),E,L),bh_orbit_2._periapocenter_aux(np.max(bh_orbit_2._r_bin)*1.03,E,L))\n",
    "    plt.loglog(r,np.abs(bh_orbit_2._periapocenter_aux(r=r,E=E,L=L)))\n",
    "    plt.xlabel('r[pc]',fontsize=12)\n",
    "    plt.ylabel('$\\Phi_\\mathrm{eff}$',fontsize=14)\n",
    "    print(r_3d_2[l[k]],np.sqrt(x_2[l[k]]**2+y_2[l[k]]**2+z_2[l[k]]**2))\n",
    "    plt.axvline(r_3d_2[l[k]],color='r',label='actual distance')\n",
    "    plt.axvline(bh_orbit_2.periapocenter(r_3d_2[l[k]],x_2[l[k]],y_2[l[k]],z_2[l[k]],vx_2[l[k]],vy_2[l[k]],vz_2[l[k]])[0], color='m',label='pericentre')\n",
    "    plt.axvline(bh_orbit_2.periapocenter(r_3d_2[l[k]],x_2[l[k]],y_2[l[k]],z_2[l[k]],vx_2[l[k]],vy_2[l[k]],vz_2[l[k]])[1], color='black',label='apocentre')\n",
    "    plt.axvline(bh_orbit_2.r_guide(r_3d_2[l[k]],x_2[l[k]],y_2[l[k]],z_2[l[k]],vx_2[l[k]],vy_2[l[k]],vz_2[l[k]]),color='g',label='guiding star radius')\n",
    "    plt.legend(loc=0)\n",
    "    plt.show()"
   ]
  },
  {
   "cell_type": "markdown",
   "metadata": {
    "collapsed": false,
    "scrolled": false
   },
   "source": [
    "l=np.array((67,886,1565,7892,30986,79073,107836))\n",
    "for k in range(len(l)):\n",
    "    L=wobh_orbit_1.angularmom(x_wo_1[l[k]],y_wo_1[l[k]],z_wo_1[l[k]],vx_wo_1[l[k]],vy_wo_1[l[k]],vz_wo_1[l[k]])[0]\n",
    "    E=wobh_orbit_1.energy(x_wo_1[l[k]],y_wo_1[l[k]],z_wo_1[l[k]],vx_wo_1[l[k]],vy_wo_1[l[k]],vz_wo_1[l[k]])\n",
    "    r=10.**(np.linspace(np.log10(0.00002),3.,10000))\n",
    "    print(wobh_orbit_1._periapocenter_aux(1e-7,E,L),wobh_orbit_1._periapocenter_aux(r_3d_wo_1[l[k]],E,L),wobh_orbit_1._periapocenter_aux(np.sqrt(x_wo_1[l[k]]**2+y_wo_1[l[k]]**2+z_wo_1[l[k]]**2),E,L),wobh_orbit_1._periapocenter_aux(np.max(wobh_orbit_1._r_bin)*1.03,E,L))\n",
    "    plt.loglog(r,np.abs(wobh_orbit_1._periapocenter_aux(r=r,E=E,L=L)))\n",
    "    plt.xlabel('r[pc]',fontsize=12)\n",
    "    plt.ylabel('$\\Phi_\\mathrm{eff}$',fontsize=14)\n",
    "    print(r_3d_wo_1[l[k]],np.sqrt(x_wo_1[l[k]]**2+y_wo_1[l[k]]**2+z_wo_1[l[k]]**2))\n",
    "    plt.axvline(r_3d_wo_1[l[k]],color='r',label='actual distance')\n",
    "    plt.axvline(wobh_orbit_1.periapocenter(r_3d_wo_1[l[k]],x_wo_1[l[k]],y_wo_1[l[k]],z_wo_1[l[k]],vx_wo_1[l[k]],vy_wo_1[l[k]],vz_wo_1[l[k]])[0], color='m',label='pericentre')\n",
    "    plt.axvline(wobh_orbit_1.periapocenter(r_3d_wo_1[l[k]],x_wo_1[l[k]],y_wo_1[l[k]],z_wo_1[l[k]],vx_wo_1[l[k]],vy_wo_1[l[k]],vz_wo_1[l[k]])[1], color='black',label='apocentre')\n",
    "    plt.axvline(wobh_orbit_1.r_guide(r_3d_wo_1[l[k]],x_wo_1[l[k]],y_wo_1[l[k]],z_wo_1[l[k]],vx_wo_1[l[k]],vy_wo_1[l[k]],vz_wo_1[l[k]]),color='g',label='guiding star radius')\n",
    "    plt.legend(loc=0)\n",
    "    plt.show()"
   ]
  },
  {
   "cell_type": "code",
   "execution_count": 51,
   "metadata": {
    "collapsed": false
   },
   "outputs": [],
   "source": [
    "blob_sort_wo_2=(0.2<r_guide_wobh_2)*(r_guide_wobh_2<0.3) \n",
    "r3d_blobsort_wo_2=r3d_wo_2[blob_sort_wo_2]\n",
    "J_r_blobsort_wo_2=J_r_wo_2[blob_sort_wo_2]#\n",
    "test_x=np.flatnonzero(blob_sort_wo_2)\n"
   ]
  },
  {
   "cell_type": "code",
   "execution_count": null,
   "metadata": {
    "collapsed": false
   },
   "outputs": [],
   "source": []
  },
  {
   "cell_type": "markdown",
   "metadata": {
    "collapsed": false,
    "scrolled": false
   },
   "source": [
    "l=test\n",
    "for k in range(len(test_x)):\n",
    "    L=wobh_orbit_2.angularmom(x_wo_2[test_x[k]],y_wo_2[test_x[k]],z_wo_2[test_x[k]],vx_wo_2[test_x[k]],vy_wo_2[test_x[k]],vz_wo_2[test_x[k]])[0]\n",
    "    E=wobh_orbit_2.energy(x_wo_2[test_x[k]],y_wo_2[test_x[k]],z_wo_2[test_x[k]],vx_wo_2[test_x[k]],vy_wo_2[test_x[k]],vz_wo_2[test_x[k]])\n",
    "    r=10.**(np.linspace(np.log10(0.00002),3.,10000))\n",
    "    print(E,L,r)\n",
    "    #print(wobh_orbit_2._periapocenter_aux(1e-7,E,L),wobh_orbit_2._periapocenter_aux(r_3d_wo_2[l[k]],E,L),wobh_orbit_2._periapocenter_aux(np.sqrt(x_wo_2[l[k]]**2+y_wo_2[l[k]]**2+z_wo_2[l[k]]**2),E,L),wobh_orbit_2._periapocenter_aux(np.max(wobh_orbit_2._r_bin)*1.03,E,L))\n",
    "    plt.loglog(r,np.abs(wobh_orbit_2._periapocenter_aux(r=r,E=E,L=L)))\n",
    "    plt.xlabel('r[pc]',fontsize=12)\n",
    "    plt.ylabel('$\\Phi_\\mathrm{eff}$',fontsize=14)\n",
    "    #print(r_3d_wo_2[l[k]],np.sqrt(x_wo_2[l[k]]**2+y_wo_2[l[k]]**2+z_wo_2[l[k]]**2))\n",
    "    plt.axvline(r_3d_wo_2[test_x[k]],color='r',label='actual distance')\n",
    "    plt.axvline(wobh_orbit_2.periapocenter(r_3d_wo_2[test_x[k]],x_wo_2[test_x[k]],y_wo_2[test_x[k]],z_wo_2[test_x[k]],vx_wo_2[test_x[k]],vy_wo_2[test_x[k]],vz_wo_2[test_x[k]])[0], color='m',label='pericentre')\n",
    "    plt.axvline(wobh_orbit_2.periapocenter(r_3d_wo_2[test_x[k]],x_wo_2[test_x[k]],y_wo_2[l[k]],z_wo_2[l[k]],vx_wo_2[l[k]],vy_wo_2[l[k]],vz_wo_2[l[k]])[1], color='black',label='apocentre')\n",
    "    plt.axvline(wobh_orbit_2.r_guide(r_3d_wo_2[l[k]],x_wo_2[l[k]],y_wo_2[l[k]],z_wo_2[l[k]],vx_wo_2[l[k]],vy_wo_2[l[k]],vz_wo_2[l[k]]),color='g',label='guiding star radius')\n",
    "    plt.legend(loc=0)\n",
    "    print(k)\n",
    "    plt.show()"
   ]
  },
  {
   "cell_type": "code",
   "execution_count": null,
   "metadata": {
    "collapsed": false
   },
   "outputs": [],
   "source": [
    "len(np.abs(wobh_orbit_2._periapocenter_aux(r=r,E=E,L=L)))"
   ]
  },
  {
   "cell_type": "code",
   "execution_count": 42,
   "metadata": {
    "collapsed": false
   },
   "outputs": [
    {
     "data": {
      "text/plain": [
       "10000"
      ]
     },
     "execution_count": 42,
     "metadata": {},
     "output_type": "execute_result"
    }
   ],
   "source": [
    "len(r)"
   ]
  },
  {
   "cell_type": "code",
   "execution_count": 43,
   "metadata": {
    "collapsed": false
   },
   "outputs": [
    {
     "data": {
      "text/plain": [
       "1"
      ]
     },
     "execution_count": 43,
     "metadata": {},
     "output_type": "execute_result"
    }
   ],
   "source": [
    "len(np.abs(bh_orbit_1._periapocenter_aux(r=r,E=E,L=L)))"
   ]
  },
  {
   "cell_type": "code",
   "execution_count": 26,
   "metadata": {
    "collapsed": false
   },
   "outputs": [
    {
     "name": "stdout",
     "output_type": "stream",
     "text": [
      "[  2.49989157e+09   9.75713499e+06   2.59748444e+06 ...,   1.27849164e+01\n",
      "   1.27875550e+01   1.27901935e+01]\n",
      "-5.02574415137\n"
     ]
    }
   ],
   "source": [
    "print(bh_orbit_1._periapocenter_aux(r=r,E=E,L=L))\n",
    "print(np.min(bh_orbit_1._periapocenter_aux(r=r,E=E,L=L)))"
   ]
  },
  {
   "cell_type": "code",
   "execution_count": 15,
   "metadata": {
    "collapsed": false
   },
   "outputs": [
    {
     "name": "stdout",
     "output_type": "stream",
     "text": [
      "-2.71580999202e-25 5.64544460028e-13\n"
     ]
    },
    {
     "data": {
      "image/png": "[encoded data removed]",
      "text/plain": [
       "<matplotlib.figure.Figure at 0x7fb8a624de80>"
      ]
     },
     "metadata": {},
     "output_type": "display_data"
    }
   ],
   "source": [
    "k=46893\n",
    "L=bh_orbit_1.angularmom(x_1[k],y_1[k],z_1[k],vx_1[k],vy_1[k],vz_1[k])[0]\n",
    "E=bh_orbit_1.energy(x_1[k],y_1[k],z_1[k],vx_1[k],vy_1[k],vz_1[k])\n",
    "r=np.logspace(-4,3.,10000)\n",
    "fig=plt.figure()\n",
    "ax=fig.add_subplot(111)\n",
    "ax.plot(r,bh_orbit_1._periapocenter_aux(r=r,E=E,L=L),label='effective potential',linewidth=1.5)\n",
    "ax.set_xlim(0.01,6)\n",
    "ax.set_ylim(-1e0,1e1)\n",
    "ax.set_xlabel('r [pc]',fontsize=15)\n",
    "ax.set_ylabel('$\\Phi_\\mathrm{L}-\\mathrm{E} \\ [1/\\mathrm{pc}^2]$',fontsize=15)\n",
    "ax.set_yscale('symlog')\n",
    "#print(l[k],r_3d_1[l[k]],bh_orbit_1.periapocenter(r_3d_1[l[k]],x_1[l[k]],y_1[l[k]],z_1[l[k]],vx_1[l[k]],vy_1[l[k]],vz_1[l[k]])[1])\n",
    "#print(E_1[l[k]],J_r_1[l[k]])\n",
    "ax.axvline(bh_orbit_1.periapocenter(r_3d_1[k],x_1[k],y_1[k],z_1[k],vx_1[k],vy_1[k],vz_1[k])[0], color='m',label='pericentre',linewidth=1.5)\n",
    "ax.axvline(bh_orbit_1.periapocenter(r_3d_1[k],x_1[k],y_1[k],z_1[k],vx_1[k],vy_1[k],vz_1[k])[1], color='black',label='apocentre',linewidth=1.5)\n",
    "ax.axvline(bh_orbit_1.r_guide_root(r_3d_1[k],x_1[k],y_1[k],z_1[k],vx_1[k],vy_1[k],vz_1[k]),color='g',label='guiding star radius',linewidth=1.5)\n",
    "#ax.axvline(r_3d_1[l[k]],color='r',label='actual distance',linewidth=1.5)    \n",
    "print(E,L)\n",
    "ax.axhline(0,label='root of the function',c='r',linewidth=1.5,linestyle='dashed')\n",
    "ax.legend(loc=0,fontsize=13)\n",
    "ax.spines['top'].set_linewidth(1.5)\n",
    "ax.spines['right'].set_linewidth(1.5)\n",
    "ax.spines['bottom'].set_linewidth(1.5)\n",
    "ax.spines['left'].set_linewidth(1.5)\n",
    "\n",
    "ax.tick_params(length=8,width=1.5,labelsize=12)\n",
    "ax.tick_params(which='minor',length=4,width=1.5)\n",
    "fig.savefig('../Bachelorarbeit-Entwurf/Plots/pot_eff_theory_part.pdf',format='pdf',bbox_inches='tight')\n",
    "#fig.show()"
   ]
  },
  {
   "cell_type": "code",
   "execution_count": null,
   "metadata": {
    "collapsed": true
   },
   "outputs": [],
   "source": []
  }
 ],
 "metadata": {
  "kernelspec": {
   "display_name": "Python 2",
   "language": "python",
   "name": "python2"
  },
  "language_info": {
   "codemirror_mode": {
    "name": "ipython",
    "version": 2
   },
   "file_extension": ".py",
   "mimetype": "text/x-python",
   "name": "python",
   "nbconvert_exporter": "python",
   "pygments_lexer": "ipython2",
   "version": "2.7.6"
  }
 },
 "nbformat": 4,
 "nbformat_minor": 0
}
