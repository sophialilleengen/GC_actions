{
 "cells": [
  {
   "cell_type": "markdown",
   "metadata": {},
   "source": [
    "1.September 2015"
   ]
  },
  {
   "cell_type": "markdown",
   "metadata": {},
   "source": [
    "Orbits\n",
    "===="
   ]
  },
  {
   "cell_type": "markdown",
   "metadata": {},
   "source": [
    "Orbits sind wichtig! . \n",
    "\n",
    "1. Form des (theoretisch existenten) Orbits $(x(t),v(t))$ gibt Masseverteilung im dynamischen System (alles, was gravitativ an das System gebunden ist). Koppelung zwischen Position und Geschwindigkeit, 6 Koordinaten beschreiben den Orbit und enthalten Informationen ueber das Potential. [Poissongleichung ->  Masseverteilung und Potential aequivalent] [Potential und Orbit haengen ueber die Gravitationskraft zusammen, d.h. die Ableitung des Potentials (Kraft) mit der Beschleunigung an einem gegebenen Ort des Orbits (Newton 2.? Gesetz)]\n",
    "2. Anzahl der Sterne auf den Orbits (Orbitverteilungsfunktion) gibt Rueckschluesse auf Geschichte des Systems, da Sterne auf jedem Orbits sein koennten, aber es eben nur auf den speziellen sind. Also wie kommen sie auf die Orbits, auf denen sie sind? Bzw. was sagen die Orbits, auf denen sie sind, ueber die Entwicklung aus?\n",
    "\n",
    "Beispiele, bei denen durch Orbits Entdeckungen moeglich waren bzw. die Entdeckungen bestaetigt haben:\n",
    "\n",
    "1. Mars: Seine Position ist von der Erde aus als Schleife zu sehen. Das muss bedeuten, dass er sich nicht um die Erde bewegt. -> Erde ist nicht Mittelpunkt des Universums!\n",
    "\n",
    "2. 1. Neptun/Uranus: Herschel? hat die Bahn des Uranus (entdeckt von den Herschels) berechnet, allerdings wich Uranus ab. Aus der Abweichung konnte neue Bahn berechnet werden (unabhaengig voneinander von Urbain Jean Joseph Le Verrier und John Couch Adams), auf der dann Neptun gefunden wurde.  (Quelle: http://www.astronews.com/news/artikel/2003/05/0305-017.shtml)\n",
    "  2. Zufaellige Entdeckung von Uranus bei Himmelsdurchmusterung durch Herschel, Berechnung von Umlaufbahn und Ephemeriden von Uranus, erhebliche Abweichung der tatsaechlichen Bahn; entweder Gravitationsgesetze falsch oder weiterer Planet, der Uranus stoert. Berechnung vom Planet durch Bahnstoerungen unnd Gravitationsgesetze -> Voraussage Position Neptun, sofort dort gefunden (Quelle: http://lexikon.astronomie.info/neptun/erforschung.html)\n",
    "\n",
    "3. Rotationskurven von Galaxien: Sterne bewegen sich schneller, als sie aufgrund der sichtbaren Materie sollten. Es muss weitere Materie geben, die ueber Gravitation wechselwirkt. -> Dunkle Materie\n",
    "\n",
    "4. Merkur: weicht auch ab vom Kepler Orbit, da der Perihel wandert. Dies liegt am falschen Gravitationsgesetz, durch die Naehe zur Sonne ist Gravitation so stark, dass ART angewendet werden muss.\n",
    "\n",
    "5. Sagittarius A\\*: Schwarzes Loch im Zentrum der Milchstrasse entdeckt durch Beobachtung von Orbits um das schwarze Loch und daraus resultierende Masseberechnung des schwarzen Lochs.\n",
    "\n",
    "Bsp fuer Orbitverteilungsfunktion:\n",
    "1. Asteroidenguertel \n",
    "2. Verteilungsfunktion der Monde um Planeten gibt Rueckschluesse auf Art der Bildung und Bindung von verschieden Planetentypen\n",
    "3. Spiralgalaxie thin, thick disc, Bulge, Halo Sterne unterschiedlichhe Orbits (dynamisch distinkt) und unterschiedliche Metallizitaet (chemisch distinkt) \n",
    "\n",
    "Quelle: Wilma"
   ]
  },
  {
   "cell_type": "markdown",
   "metadata": {},
   "source": [
    "<span style=\"color:red;\">Meine Aufgabe: Durch Berechnung der Orbits herausfinden, wie Masseverteilung von (simulierten) Kugelsternhaufen ist.</span>"
   ]
  },
  {
   "cell_type": "markdown",
   "metadata": {},
   "source": [
    "Poisson-Gleichung \n",
    "--"
   ]
  },
  {
   "cell_type": "markdown",
   "metadata": {},
   "source": [
    "$\\Delta\\phi=4\\pi G\\rho(\\vec{r})$"
   ]
  },
  {
   "cell_type": "markdown",
   "metadata": {},
   "source": [
    "Die Poisson Gleichung ist eine elliptisch partielle Differentialgleichuung zweiter Ordnung. Als Teil von Randwertproblemen ist sie eine grundlegende Gleichung in weiten Teilen der Physik. In der Elektrodynamik und in der Astronomie weist sie einer rauemlich beschraenkten Quellendichte ein Potential zu.\n",
    "\n",
    "Das Gravitationspotential laesst sich aus der Gravitationsbeschleunigung $\\vec{g}=-\\frac{GM}{r^2}\\frac{\\vec{r}}{r}=-\\nabla\\Phi(\\vec{r})$ herleiten mit $\\vec{n}=\\vec{r}/r$:\n",
    "$$\\oint_A{\\vec{g}d\\vec{A}}=-\\oint_A{\\frac{GM}{r^2}\\frac{\\vec{r}}{r}\\vec{n}dA}=-\\oint_A{\\frac{GM}{r^2}dA}$$\n",
    "Mit dem Flaechenelement $dA=r^2sin\\theta d\\theta d\\phi$ ergibt sich dann\n",
    "$$\\oint{\\frac{GM}{r^2}dA}=\\oint{\\frac{GM}{r^2}r^2sin\\theta d\\theta d\\phi}=-4\\pi GM$$\n",
    "Die Masse wird ueber die Massendichte integriert $M=\\int_V{\\rho(\\vec{r})dV}$, sodass sich mit dem Gauss'schen Satz ergibt\n",
    "$$\\oint_A{\\vec{g}d\\vec{A}}=\\int_V{\\vec{\\nabla}\\cdot\\vec{g}dV}=-4\\pi G \\int_V{\\rho(\\vec{r})dV}$$\n",
    "Es folgt $$\\vec{\\nabla}\\cdot\\vec{g}=\\vec{\\nabla}\\cdot(-\\vec{\\nabla}\\Phi(\\vec{r}))=-4\\pi G\\rho\\vec{r}$$ $$\\Rightarrow \\Delta\\Phi=4\\pi G\\rho(\\vec{r})$$\n",
    "Aus der hier hergeleiteten Poisson-Gleichung laesst sich schliessen, dass Masseverteilung des Systems und Potential aequivalent verwenden werden koennen."
   ]
  },
  {
   "cell_type": "markdown",
   "metadata": {},
   "source": [
    "Quellen: https://de.wikipedia.org/wiki/Poisson-Gleichung"
   ]
  },
  {
   "cell_type": "markdown",
   "metadata": {},
   "source": [
    "Gravitationsgesetz\n",
    "--"
   ]
  },
  {
   "cell_type": "markdown",
   "metadata": {},
   "source": [
    "Eines der vier Grundgesetze der Physik ist das newtonsche Gravitationsgesetz. Es beschreibt die Anziehung von Massen. Die wirkende Gravitationskraft zwischen zwei Massen $m_1, m_2$ ist $$F_G=G\\frac{m_1m_2}{r^2}$$ bzw. die von einer Masse M ausgeuebte Kraft ist $$F_G=\\frac{GM}{r^2}$$\n",
    "Die Gravitationskraft nimmt quadratisch mit dem Abstand r ab, verliert ihre Wirkung aber nie. Im Vergleich zu den anderen Grundkraeften ist sie sehr schwach. Die Wirkung nimmt man bei sehr grossen Massen oder sehr geringem Abstand wahr.\n",
    "Da durch das Poisson-Gesetz das Potential durch die Masse ausgedrueckt werden kann, kann mit dem Gravitationsgesetz der Zusammenhang zwischen Potential und Orbits dargestellt werden. Das Potential wirkt auf den Orbit, indem es die Beschleunigung des Orbits bestimmt und somit Ort und Geschwindigkeit an diesem Ort."
   ]
  },
  {
   "cell_type": "markdown",
   "metadata": {},
   "source": [
    "2ter September 2015"
   ]
  },
  {
   "cell_type": "markdown",
   "metadata": {
    "collapsed": true
   },
   "source": [
    "Kepler Orbits\n",
    "----"
   ]
  },
  {
   "cell_type": "markdown",
   "metadata": {},
   "source": [
    "- effektives Potential $U_L(r)=V(r)+\\frac{L_3^2}{2mr^2}$\n",
    "- Zentrifugalpotential $\\frac{L_3^2}{2mr^2}$ abstossend (Abl negativ)\n",
    "- allgemeine Bahnform $\\varphi-\\varphi_0=L_3\\int_{r_0}^r{\\frac{dr'}{r'^2\\sqrt{2m[E-U_L(r')]}}}$\n",
    "- Gravitationskraft $\\vec{F}_G=-\\frac{\\alpha}{r^2}\\frac{\\vec{x}}{r}, \\alpha:=GMm$\n",
    "- $\\Rightarrow$ Gravitationspotential $V(r)=\\int{\\frac{\\alpha}{r^2}dr}=-\\frac{\\alpha}{r}+const$\n",
    "- $\\Rightarrow$ eff. Potential dann $U_L(r)=\\frac{L_3^2}{2mr^2}-\\frac{\\alpha}{r}$\n",
    "- Umkehrpunkte $r_{min,max}=\\frac{1}{2E}\\left[-\\alpha\\pm\\sqrt{\\alpha^2+4E\\frac{L_3^2}{2m}}\\right]$"
   ]
  },
  {
   "cell_type": "markdown",
   "metadata": {},
   "source": [
    "Umkehrpunkt $r_{min}$ (also geringste potentielle Energie) wird im Perihel erreicht, dort muss Geschwindigkeit des Orbits am schnellsten sein wegen Koppelung von kinetischer und potentieller Energie."
   ]
  },
  {
   "cell_type": "markdown",
   "metadata": {},
   "source": [
    "- Exzentrizitaet $\\varepsilon :=\\left[1+\\frac{2L_3^2E}{\\alpha^2m}\\right]^{1/2}$\n",
    "- Bahnparameter $p:=\\frac{L_3^2}{\\alpha m}$\n",
    "- Bahnkurve $r(\\varphi)=\\frac{p}{1+\\varepsilon\\cos(\\varphi)}$\n",
    "- Kreisbahn ($\\varepsilon=0$): $E=-\\frac{\\alpha^2m}{2L_3^2}=-\\frac{\\alpha}{2p}$\n"
   ]
  },
  {
   "cell_type": "markdown",
   "metadata": {},
   "source": [
    "Ellipse\n",
    "- $\\varepsilon <1 \\rightarrow E<0$\n",
    "- Bahnverlauf vollstaendig im Endlichen da $1+\\varepsilon\\cos{\\varphi}>0 \\ \\forall \\ \\varphi$\n",
    "- grosse Halbachse a: $2a=r+r'$; kleine Halbachse b: $b=\\sqrt{a^2-f^2}$ mit f als Abstand zwischen Brenn- und Mittelpunkt der Ellipse\n",
    "- numerische Exzentritaet der Ellipse $\\varepsilon:=\\frac{f}{a}=\\frac{\\sqrt{a^2-b^2}}{a}$\n",
    "- Bahnkurve $r=\\frac{a(1-\\varepsilon^2)}{1+\\varepsilon\\cos{\\varphi}}$ [identisch mit allg Bahnkurve fuer $p=a(1-\\varepsilon^2)$]\n",
    "- Energie $E=-\\frac{\\alpha^2m}{2L_3^2}(1-\\varepsilon^2)=-\\frac{\\alpha}{2a}$\n",
    "- Flaeche $A=\\pi L_3 \\sqrt{\\frac{a^3}{\\alpha m}}=\\frac{L_3}{2m}\\tau$ mit Umlaufzeit $\\tau$: $\\tau^2=\\frac{4\\pi^2ma^3}{\\alpha}$"
   ]
  },
  {
   "cell_type": "markdown",
   "metadata": {},
   "source": [
    "Keplerschen Gesetze\n",
    "1. Die Planeten bewegen sich auf Ellipsen, in deren einem Brennpunkt die Sonne steht.\n",
    "2. Die Flaechengeschwindigkeit ist konstant, d.h. der Fahrstrahl ueberstreicht in gleichen Zeiten gleiche Flaechen.\n",
    "3. Die Quadrate der Umlaufzeiten der Planeten verhalten sich wie die Kuben ihrer grossen Bahnhalbachsen."
   ]
  },
  {
   "cell_type": "markdown",
   "metadata": {},
   "source": [
    "Parabel\n",
    "$\\varepsilon=1, E=0, r=\\frac{p}{1+\\cos{\\varphi}}\\rightarrow\\infty$ fuer $\\varphi\\rightarrow\\pm\\pi$\n",
    "\n",
    "Hyperbel\n",
    "$\\varepsilon>1, E>0, r\\rightarrow\\infty$ fuer $1+\\cos{\\varphi}\\rightarrow0$ fuer $\\bar{\\varphi}=\\arccos({-\\frac{1}{\\varepsilon})}>\\frac{\\pi}{2}$, $|\\varphi|<\\bar{\\varphi}$"
   ]
  },
  {
   "cell_type": "markdown",
   "metadata": {},
   "source": [
    "Quelle: Bartelmann, Theo 1 Skript"
   ]
  },
  {
   "cell_type": "code",
   "execution_count": null,
   "metadata": {
    "collapsed": true
   },
   "outputs": [],
   "source": []
  }
 ],
 "metadata": {
  "kernelspec": {
   "display_name": "Python 2",
   "language": "python",
   "name": "python2"
  },
  "language_info": {
   "codemirror_mode": {
    "name": "ipython",
    "version": 2
   },
   "file_extension": ".py",
   "mimetype": "text/x-python",
   "name": "python",
   "nbconvert_exporter": "python",
   "pygments_lexer": "ipython2",
   "version": "2.7.8"
  }
 },
 "nbformat": 4,
 "nbformat_minor": 0
}
