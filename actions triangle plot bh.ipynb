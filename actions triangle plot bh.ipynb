{
 "cells": [
  {
   "cell_type": "code",
   "execution_count": 1,
   "metadata": {
    "collapsed": false
   },
   "outputs": [],
   "source": [
    "import numpy as  np\n",
    "import matplotlib.pyplot as plt\n",
    "from mpl_toolkits.mplot3d import Axes3D\n",
    "from matplotlib.colors import LogNorm\n",
    "import sys\n",
    "\n",
    "from scipy import interpolate\n",
    "\n",
    "sys.path.insert(0, '/home/sophia/bachelor_thesis_ipython_notebooks')\n",
    "\n",
    "from GC_Orbit_class import GCorbit\n",
    "\n",
    "%matplotlib inline"
   ]
  },
  {
   "cell_type": "code",
   "execution_count": 2,
   "metadata": {
    "collapsed": false
   },
   "outputs": [],
   "source": [
    "#data: need actions J_r, J_phi, J_theta\n",
    "if 0:\n",
    "    r_3d,x,y,z,vx,vy,vz=np.loadtxt('C:\\\\Users\\Sophia Milanov\\Documents\\Bachelorarbeit\\data\\\\x-y-z.dat', usecols=(1,30,31,32,33,34,35), unpack=True)\n",
    "elif 1:\n",
    "    r_3d,x,y,z,vx,vy,vz=np.loadtxt('/home/sophia/Dokumente/Bachelorarbeit-2/x-y-z.dat', usecols=(1,30,31,32,33,34,35), unpack=True)\n",
    "else:\n",
    "    r_3d,x,y,z,vx,vy,vz=np.loadtxt('/home/milanov/Bachelorarbeit/x-y-z.dat', usecols=(1,30,31,32,33,34,35), unpack=True)\n",
    "\n",
    "x=x[1:]\n",
    "y=y[1:]\n",
    "z=z[1:]\n",
    "vx=vx[1:]\n",
    "vy=vy[1:]\n",
    "vz=vz[1:]    "
   ]
  },
  {
   "cell_type": "code",
   "execution_count": 3,
   "metadata": {
    "collapsed": false,
    "scrolled": false
   },
   "outputs": [],
   "source": [
    "r,rho=np.loadtxt('densityfile.txt', usecols=(1,2), unpack=True)\n",
    "#r=np.logspace(0,100,10)\n",
    "#b=100.\n",
    "#b2=b**2.\n",
    "#z0=0.\n",
    "#r2= r**2.+z0**2.\n",
    "#rb= np.sqrt(r2+b2)\n",
    "#rho1=(3.*(b+rb)*rb**2.-r2*(b+3.*rb))/rb**3./(b+rb)**3./4./np.pi #Einheit Msun/pc**3\n",
    "\n",
    "test=GCorbit(inputfilename='densityfile.txt')"
   ]
  },
  {
   "cell_type": "code",
   "execution_count": 4,
   "metadata": {
    "collapsed": false
   },
   "outputs": [],
   "source": [
    "#s=interpolate.InterpolatedUnivariateSpline(np.log(r[:]),np.log(rho[:]))"
   ]
  },
  {
   "cell_type": "code",
   "execution_count": null,
   "metadata": {
    "collapsed": false
   },
   "outputs": [],
   "source": []
  },
  {
   "cell_type": "code",
   "execution_count": 5,
   "metadata": {
    "collapsed": false,
    "scrolled": true
   },
   "outputs": [
    {
     "name": "stdout",
     "output_type": "stream",
     "text": [
      "0.000218602\n",
      "0.000218602\n",
      "0.000218602\n",
      "0.000218602\n",
      "[ 0.00318235]\n",
      "[ 0.0015751]\n",
      "[ 0.00158205]\n",
      "[ 0.00174964]\n",
      "[ 0.00177801]\n",
      "[ 0.00178348]\n",
      "[ 0.00178364]\n",
      "[ 0.00178364]\n",
      "[ 0.00178364]\n",
      "[ 0.00610753]\n",
      "[ 0.00610753]\n",
      "[ 0.00610753]\n",
      "[ 0.00610753]\n",
      "[ 0.02664523]\n",
      "[ 0.02248391]\n",
      "[ 0.00610753]\n",
      "[ 0.02664523]\n",
      "[ 0.02248391]\n",
      "[ 0.00208066]\n",
      "[ 0.00542263]\n",
      "[ 0.0006668]\n",
      "[ 0.00208066]\n",
      "[ 0.0019188]\n",
      "[ 0.00174854]\n",
      "[ 0.00178767]\n",
      "[ 0.00178376]\n",
      "[ 0.00178364]\n",
      "[ 0.00178364]\n",
      "[ 0.00178364]\n",
      "0.000218602\n",
      "0.000218602\n",
      "0.000218602\n",
      "0.000218602\n",
      "[ 0.00318235]\n",
      "[ 0.0015751]\n",
      "[ 0.00158205]\n",
      "[ 0.00174964]\n",
      "[ 0.00177801]\n",
      "[ 0.00178348]\n",
      "[ 0.00178364]\n",
      "[ 0.00178364]\n",
      "[ 0.00178364]\n",
      "[ 0.00610753]\n",
      "[ 0.00610753]\n",
      "[ 0.00610753]\n",
      "[ 0.00610753]\n",
      "[ 0.02664523]\n",
      "[ 0.02248391]\n",
      "[ 0.00610753]\n",
      "[ 0.02664523]\n",
      "[ 0.02248391]\n",
      "[ 0.00208066]\n",
      "[ 0.00542263]\n",
      "[ 0.0006668]\n",
      "[ 0.00208066]\n",
      "[ 0.0019188]\n",
      "[ 0.00174854]\n",
      "[ 0.00178767]\n",
      "[ 0.00178376]\n",
      "[ 0.00178364]\n",
      "[ 0.00178364]\n",
      "[ 0.00178364]\n",
      "0.000218602\n",
      "0.000218602\n",
      "0.000218602\n",
      "0.000218602\n",
      "[ 0.00318235]\n",
      "[ 0.0015751]\n",
      "[ 0.00158205]\n",
      "[ 0.00174964]\n",
      "[ 0.00177801]\n",
      "[ 0.00178348]\n",
      "[ 0.00178364]\n",
      "[ 0.00178364]\n",
      "[ 0.00178364]\n",
      "[ 0.00610753]\n",
      "[ 0.00610753]\n",
      "[ 0.00610753]\n",
      "[ 0.00610753]\n",
      "[ 0.02664523]\n",
      "[ 0.02248391]\n",
      "[ 0.00610753]\n",
      "[ 0.02664523]\n",
      "[ 0.02248391]\n",
      "[ 0.00208066]\n",
      "[ 0.00542263]\n",
      "[ 0.0006668]\n",
      "[ 0.00208066]\n",
      "[ 0.0019188]\n",
      "[ 0.00174854]\n",
      "[ 0.00178767]\n",
      "[ 0.00178376]\n",
      "[ 0.00178364]\n",
      "[ 0.00178364]\n",
      "[ 0.00178364]\n",
      "0.000218602\n",
      "0.000218602\n",
      "0.000218602\n",
      "0.000218602\n",
      "[ 0.00332748]\n",
      "[ 0.00164693]\n",
      "[ 0.00166887]\n",
      "[ 0.00225815]\n",
      "[ 0.00260428]\n",
      "[ 0.00293889]\n",
      "[ 0.00310145]\n",
      "[ 0.00315046]\n",
      "[ 0.00315586]\n",
      "[ 0.003156]\n",
      "[ 0.00315601]\n",
      "[ 0.00315601]\n",
      "[ 0.00638607]\n",
      "[ 0.00638607]\n",
      "[ 0.00638607]\n",
      "[ 0.00638607]\n",
      "[ 0.00349458]\n",
      "[ 0.0066831]\n",
      "[ 0.00250249]\n",
      "[ 0.00349458]\n",
      "[ 0.00309957]\n",
      "[ 0.00316521]\n",
      "[ 0.00315625]\n",
      "[ 0.003156]\n",
      "[ 0.00315601]\n",
      "[ 0.00315601]\n",
      "[ 0.00315601] [ 0.00315601] 0.00336108951041\n"
     ]
    },
    {
     "ename": "SystemExit",
     "evalue": "Error in GCorbit.periapocenter(): rmin=rmax; to do: implement con",
     "output_type": "error",
     "traceback": [
      "An exception has occurred, use %tb to see the full traceback.\n",
      "\u001b[1;31mSystemExit\u001b[0m\u001b[1;31m:\u001b[0m Error in GCorbit.periapocenter(): rmin=rmax; to do: implement con\n"
     ]
    },
    {
     "name": "stderr",
     "output_type": "stream",
     "text": [
      "To exit: use 'exit', 'quit', or Ctrl-D.\n"
     ]
    }
   ],
   "source": [
    "n=5000\n",
    "J_phi=np.zeros(n)\n",
    "J_theta=np.zeros(n)\n",
    "J_r=np.zeros(n)\n",
    "for i in range(n):\n",
    "    J_phi[i]=test.actions(x=x[i],y=y[i],z=z[i],vx=vx[i],vy=vy[i],vz=vz[i])[0]\n",
    "    J_theta[i]=test.actions(x=x[i],y=y[i],z=z[i],vx=vx[i],vy=vy[i],vz=vz[i])[1]\n",
    "    J_r[i]=test.actions(x=x[i],y=y[i],z=z[i],vx=vx[i],vy=vy[i],vz=vz[i])[2]\n",
    "#J_phi,J_theta,J_r=test.actions(x=x[n],y=y[n],z=z[n],vx=vx[n],vy=vy[n],vz=vz[n],density=test.density(r_3d[n]))\n",
    "#print(J_phi,J_r,J_theta)\n",
    "J_r_new=np.nan_to_num(J_r)\n",
    "\n",
    "#np.savetxt('actions.txt',(J_phi,J_theta,J_r_new))"
   ]
  },
  {
   "cell_type": "code",
   "execution_count": null,
   "metadata": {
    "collapsed": false
   },
   "outputs": [],
   "source": [
    "%tb\n"
   ]
  },
  {
   "cell_type": "code",
   "execution_count": null,
   "metadata": {
    "collapsed": false
   },
   "outputs": [],
   "source": [
    "#fig = plt.figure(figsize=(8,8))\n",
    "#ax = fig.add_subplot(111, projection='3d')\n",
    "#ax.scatter(x,y,z) #zu testzwecken mit x,y,z; eigentlich J_phi,J_theta,J_r\n",
    "#ax.set_xlabel(\"J_phi\") #einheit\n",
    "#ax.set_ylabel('J_theta') #einheit\n",
    "#ax.set_zlabel(\"J_r\") #einheit\n",
    "#ax.set_title('actions')\n",
    "#fig.savefig('./Plots/action_scatter_3d')"
   ]
  },
  {
   "cell_type": "code",
   "execution_count": null,
   "metadata": {
    "collapsed": false
   },
   "outputs": [],
   "source": [
    "##### Versuch vom Triangle Plot\n",
    "\n",
    "fig,axes=plt.subplots(nrows=3,ncols=3,figsize=(15,15))\n",
    "n0, bins0, patches0=axes[0,0].hist(J_phi,10) \n",
    "n1, bins1, patches1=axes[1,1].hist(J_theta,10) \n",
    "n2, bins2, patches2=axes[2,2].hist(J_r_new,10) \n",
    "H0, xedges0, yedges0, img0 = axes[1,0].hist2d(J_phi, J_theta, bins=200,norm=LogNorm()) \n",
    "H1, xedges1, yedges1, img0 = axes[2,1].hist2d(J_theta, J_r_new, bins=200, norm=LogNorm()) \n",
    "H2, xedges2, yedges2, img0 = axes[2,0].hist2d(J_phi, J_r_new, bins=200, norm=LogNorm()) \n",
    "\n",
    "axes[0,1].axis('off')\n",
    "axes[0,2].axis('off')\n",
    "axes[1,2].axis('off')\n",
    "\n",
    "axes[2,0].set_xlabel('J$_\\phi$', fontsize=20)\n",
    "axes[2,1].set_xlabel('J$_\\\\theta$', fontsize=20)\n",
    "axes[2,2].set_xlabel('J$_r$', fontsize=20)\n",
    "axes[1,0].set_ylabel('J$_\\\\theta$', fontsize=20)\n",
    "axes[2,0].set_ylabel('J$_r$', fontsize=20)\n",
    "axes[0,0].set_ylabel('J$_\\phi$', fontsize=20)\n",
    "\n",
    "fig.subplots_adjust(hspace=0.1,wspace=0.1)\n",
    "#tightlayout\n",
    "#achsen genau übereinander\n"
   ]
  },
  {
   "cell_type": "markdown",
   "metadata": {},
   "source": [
    "anpassen:\n",
    "---\n",
    "\n",
    "-abstand der subplots\n",
    "\n",
    "-histogram grenzen\n",
    "\n",
    "-ticks\n",
    "\n",
    "-beschriftung der ticks\n"
   ]
  },
  {
   "cell_type": "code",
   "execution_count": null,
   "metadata": {
    "collapsed": false
   },
   "outputs": [],
   "source": [
    "r_3d"
   ]
  },
  {
   "cell_type": "code",
   "execution_count": null,
   "metadata": {
    "collapsed": false
   },
   "outputs": [],
   "source": [
    "print(J_r)\n",
    "\n",
    "np.sum(np.isnan(J_r))"
   ]
  },
  {
   "cell_type": "code",
   "execution_count": null,
   "metadata": {
    "collapsed": true
   },
   "outputs": [],
   "source": []
  }
 ],
 "metadata": {
  "kernelspec": {
   "display_name": "Python 3",
   "language": "python",
   "name": "python3"
  },
  "language_info": {
   "codemirror_mode": {
    "name": "ipython",
    "version": 3
   },
   "file_extension": ".py",
   "mimetype": "text/x-python",
   "name": "python",
   "nbconvert_exporter": "python",
   "pygments_lexer": "ipython3",
   "version": "3.4.3"
  }
 },
 "nbformat": 4,
 "nbformat_minor": 0
}
