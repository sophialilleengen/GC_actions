{
 "cells": [
  {
   "cell_type": "markdown",
   "metadata": {},
   "source": [
    "velocity dispersion\n",
    "----\n",
    "\n",
    "$\\sigma_i^2=\\left\\langle(v_i-\\langle v_i\\rangle)^2\\right\\rangle=\\left\\langle v_i^2-\\langle v_i\\rangle^2\\right\\rangle$\n",
    "2ter Term entspricht np.std()^2\n",
    "\n",
    "velocities in polar coordinates\n",
    "---\n",
    "\n",
    "$\\vec{v}=\\dot{\\vec{r}}=\\dot{r}\\vec{e}_r+r\\dot{\\phi}\\vec{e}_\\phi$\n",
    "\n",
    "radial component: $\\vec{v}_R=\\dot{r}\\vec{e}_r$\n",
    "\n",
    "tangential component: $\\vec{v}_T=r\\dot{\\phi}\\vec{e}_\\phi$\n",
    "\n",
    "$\\vec{e}_r=\\left(\\begin{array}{c}\\cos{\\phi}\\\\\\sin{\\phi}\\end{array}\\right)$  ;  $\\vec{e}_\\phi=\\left(\\begin{array}{c}-\\sin{\\phi}\\\\\\cos{\\phi}\\end{array}\\right)$\n",
    "\n",
    "with: $r=\\sqrt{x^2+y^2}$,  $\\cos{\\phi}=\\frac{x}{r}$  and  $\\sin{\\phi}=\\frac{y}{r}$\n",
    "\n",
    "and: $\\dot{r}=\\frac{xv_x+yv_y}{\\sqrt{x^2+y^2}}$ and $\\dot{\\phi}=\\dot{\\arctan{\\frac{y}{x}}}=\\frac{xv_y-yv_x}{x^2+y^2}$\n",
    "\n",
    "$\\rightarrow  \\vec{v}_R=\\frac{xv_x+yv_y}{x^2+y^2}\\left(\\begin{array}{c}x\\\\y\\end{array}\\right)$\n",
    "$\\Rightarrow  |v_R|=\\frac{xv_x+yv_y}{\\sqrt{x^2+y^2}}$\n",
    "\n",
    "$\\rightarrow  \\vec{v}_T=\\frac{xv_y-yv_x}{x^2+y^2}\\left(\\begin{array}{c}-y\\\\x\\end{array}\\right)$\n",
    "$\\Rightarrow  |v_T|=\\frac{xv_y-yv_x}{\\sqrt{x^2+y^2}}$"
   ]
  },
  {
   "cell_type": "code",
   "execution_count": 1,
   "metadata": {
    "collapsed": true
   },
   "outputs": [],
   "source": [
    "import numpy as np\n",
    "import matplotlib.pyplot as plt\n",
    "from scipy import stats\n",
    "%matplotlib inline"
   ]
  },
  {
   "cell_type": "code",
   "execution_count": 2,
   "metadata": {
    "collapsed": false
   },
   "outputs": [],
   "source": [
    "# Daten einlesen\n",
    "r_3d,v_r,v_t,x,y,z,vx,vy,vz,vr,vtheta,vphi=np.loadtxt('/home/milanov/Bachelorarbeit/x-y-z.dat', usecols=(1,2,3,30,31,32,33,34,35,36,37,38), unpack=True)\n",
    "# 'C:\\\\Users\\Sophia Milanov\\Documents\\Bachelorarbeit\\data\\\\x-y-z.dat'"
   ]
  },
  {
   "cell_type": "code",
   "execution_count": 3,
   "metadata": {
    "collapsed": false
   },
   "outputs": [
    {
     "name": "stdout",
     "output_type": "stream",
     "text": [
      "(-9.276845958083868e-11, 'r_2d is not sorted; has to be sorted')\n"
     ]
    }
   ],
   "source": [
    "r_2d=np.sqrt(x**2+y**2)\n",
    "rsort2d=np.sort(r_2d)\n",
    "rest2d=r_2d-rsort2d\n",
    "print(np.sum(rest2d), \"r_2d is not sorted; has to be sorted\")\n",
    "#r_2d is not sorted; has to be sorted "
   ]
  },
  {
   "cell_type": "code",
   "execution_count": 4,
   "metadata": {
    "collapsed": false
   },
   "outputs": [],
   "source": [
    "#bin parameter\n",
    "stars=len(r_2d)\n",
    "bin_num=50\n",
    "spb=stars/bin_num+1\n",
    "\n",
    "#sort r_2d by distance \n",
    "r2dsort=np.sort(r_2d)\n",
    "\n",
    "#sort distances and velocities by index of sorted r_2d\n",
    "r_2dsortindex=np.argsort(r_2d) #array shows the original indices \n",
    "xsort=x[r_2dsortindex] #elements sorted like r_2d was sorted\n",
    "ysort=y[r_2dsortindex]\n",
    "vxsort=vx[r_2dsortindex] \n",
    "vysort=vy[r_2dsortindex]\n",
    "\n",
    "#define and initialize radial and tangential velocity\n",
    "vR=np.zeros(stars)\n",
    "vT=np.zeros(stars)\n",
    "\n",
    "#distance\n",
    "R=np.zeros(bin_num)\n",
    "\n",
    "#velocity dispersions\n",
    "sigrad2d=np.zeros(bin_num)\n",
    "sigtan2d=np.zeros(bin_num)\n",
    "\n",
    "#mean velocities\n",
    "meanrad2d=np.zeros(bin_num)\n",
    "meantan2d=np.zeros(bin_num)"
   ]
  },
  {
   "cell_type": "code",
   "execution_count": 5,
   "metadata": {
    "collapsed": false
   },
   "outputs": [],
   "source": [
    "vR=(xsort*vxsort+ysort*vysort)/r2dsort\n",
    "vT=(xsort*vysort-ysort*vxsort)/r2dsort"
   ]
  },
  {
   "cell_type": "code",
   "execution_count": 6,
   "metadata": {
    "collapsed": false
   },
   "outputs": [],
   "source": [
    "for n in range(bin_num):\n",
    "    R[n]=np.mean(r2dsort[n*spb:(n+1)*spb])\n",
    "    sigrad2d[n]=np.std(vR[n*spb:(n+1)*spb])\n",
    "    sigtan2d[n]=np.std(vT[n*spb:(n+1)*spb])\n",
    "    meanrad2d[n]=np.mean(vR[n*spb:(n+1)*spb])\n",
    "    meantan2d[n]=np.mean(vT[n*spb:(n+1)*spb])"
   ]
  },
  {
   "cell_type": "code",
   "execution_count": 7,
   "metadata": {
    "collapsed": false
   },
   "outputs": [
    {
     "data": {
      "image/png": "[encoded data removed]",
      "text/plain": [
       "<matplotlib.figure.Figure at 0x7f7b00f3da10>"
      ]
     },
     "metadata": {},
     "output_type": "display_data"
    }
   ],
   "source": [
    "fig = plt.figure()\n",
    "ax1 = fig.add_subplot(111)\n",
    "ax2 = ax1.twiny()\n",
    "\n",
    "ax1.semilogx(R,sigrad2d,'.')\n",
    "#ax1.errorbar(R,sigtheta_r3d,sigthetaerr,fmt='.')\n",
    "ax1.set_xlim(0.1,100)\n",
    "ax1.set_xlabel('mean distance from center [pc]')\n",
    "ax1.set_ylabel('radial velocity dispersion [km/s]')\n",
    "\n",
    "ax2.set_xlim((0.1/5000)*360*3600/(2*np.pi),(100./5000)*360*3600/(2*np.pi))\n",
    "ax2.set_xscale('log')\n",
    "ax2.set_xlabel('mean distance from center [arcsec]')\n",
    "\n",
    "plt.show()\n",
    "fig.savefig('Plots/2d radial velocity dispersion with '+str(bin_num)+' steps')"
   ]
  },
  {
   "cell_type": "code",
   "execution_count": 8,
   "metadata": {
    "collapsed": false
   },
   "outputs": [
    {
     "data": {
      "image/png": "[encoded data removed]",
      "text/plain": [
       "<matplotlib.figure.Figure at 0x7f7ad9ff1d10>"
      ]
     },
     "metadata": {},
     "output_type": "display_data"
    }
   ],
   "source": [
    "#plt.title('projected tangential velocity dispersion with '+str(bin_num)+' steps')\n",
    "\n",
    "fig = plt.figure()\n",
    "ax1 = fig.add_subplot(111)\n",
    "ax2 = ax1.twiny()\n",
    "\n",
    "ax1.semilogx(R,sigtan2d,'.')\n",
    "#ax1.errorbar(R,sigtheta_r3d,sigthetaerr,fmt='.')\n",
    "ax1.set_xlim(0.1,100)\n",
    "ax1.set_xlabel('mean distance from center [pc]')\n",
    "ax1.set_ylabel('tangential velocity dispersion [km/s]')\n",
    "\n",
    "ax2.set_xlim((0.1/5000)*360*3600/(2*np.pi),(100./5000)*360*3600/(2*np.pi))\n",
    "ax2.set_xscale('log')\n",
    "ax2.set_xlabel('mean distance from center [arcsec]')\n",
    "\n",
    "plt.show()\n",
    "fig.savefig('Plots/2d tangential velocity dispersion with '+str(bin_num)+' steps')"
   ]
  },
  {
   "cell_type": "code",
   "execution_count": 9,
   "metadata": {
    "collapsed": false
   },
   "outputs": [
    {
     "data": {
      "image/png": "[encoded data removed]",
      "text/plain": [
       "<matplotlib.figure.Figure at 0x7f7ada0e12d0>"
      ]
     },
     "metadata": {},
     "output_type": "display_data"
    }
   ],
   "source": [
    "fig = plt.figure()\n",
    "ax1 = fig.add_subplot(111)\n",
    "ax2 = ax1.twiny()\n",
    "\n",
    "ax1.semilogx(R,meanrad2d,'.')\n",
    "#ax1.errorbar(R,sigtheta_r3d,sigthetaerr,fmt='.')\n",
    "ax1.set_xlim(0.1,100)\n",
    "ax1.set_xlabel('mean distance from center [pc]')\n",
    "ax1.set_ylabel('mean radial velocities [km/s]')\n",
    "\n",
    "ax2.set_xlim((0.1/5000)*360*3600/(2*np.pi),(100./5000)*360*3600/(2*np.pi))\n",
    "ax2.set_xscale('log')\n",
    "ax2.set_xlabel('mean distance from center [arcsec]')\n",
    "\n",
    "plt.show()\n",
    "fig.savefig('Plots/2d mean radial velocities')"
   ]
  },
  {
   "cell_type": "code",
   "execution_count": 10,
   "metadata": {
    "collapsed": false
   },
   "outputs": [
    {
     "data": {
      "image/png": "[encoded data removed]",
      "text/plain": [
       "<matplotlib.figure.Figure at 0x7f7acbc97c10>"
      ]
     },
     "metadata": {},
     "output_type": "display_data"
    }
   ],
   "source": [
    "fig = plt.figure()\n",
    "ax1 = fig.add_subplot(111)\n",
    "ax2 = ax1.twiny()\n",
    "\n",
    "ax1.semilogx(R,meantan2d,'.')\n",
    "#ax1.errorbar(R,sigtheta_r3d,sigthetaerr,fmt='.')\n",
    "ax1.set_xlim(0.1,100)\n",
    "ax1.set_xlabel('mean distance from center [pc]')\n",
    "ax1.set_ylabel('mean tangential velocities [km/s]')\n",
    "\n",
    "ax2.set_xlim((0.1/5000)*360*3600/(2*np.pi),(100./5000)*360*3600/(2*np.pi))\n",
    "ax2.set_xscale('log')\n",
    "ax2.set_xlabel('mean distance from center [arcsec]')\n",
    "\n",
    "plt.show()\n",
    "fig.savefig('Plots/2d mean tangential velocities')"
   ]
  },
  {
   "cell_type": "markdown",
   "metadata": {
    "collapsed": true
   },
   "source": [
    "still to do\n",
    "--\n",
    "\n",
    "- anisotropy parameter too?\n",
    "- "
   ]
  },
  {
   "cell_type": "code",
   "execution_count": null,
   "metadata": {
    "collapsed": true
   },
   "outputs": [],
   "source": []
  }
 ],
 "metadata": {
  "kernelspec": {
   "display_name": "Python 2",
   "language": "python",
   "name": "python2"
  },
  "language_info": {
   "codemirror_mode": {
    "name": "ipython",
    "version": 2
   },
   "file_extension": ".py",
   "mimetype": "text/x-python",
   "name": "python",
   "nbconvert_exporter": "python",
   "pygments_lexer": "ipython2",
   "version": "2.7.8"
  }
 },
 "nbformat": 4,
 "nbformat_minor": 0
}
