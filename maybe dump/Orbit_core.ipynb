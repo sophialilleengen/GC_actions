{
 "cells": [
  {
   "cell_type": "code",
   "execution_count": 1,
   "metadata": {
    "collapsed": false
   },
   "outputs": [
    {
     "name": "stdout",
     "output_type": "stream",
     "text": [
      "galpyWarning: interppotential_c extension module not loaded, because galpy_actionAngle_c.cpython-34m.so image was not found\n",
      "galpyWarning: integratePlanarOrbit_c extension module not loaded, because galpy_integrate_c.cpython-34m.so image was not found\n",
      "galpyWarning: integrateFullOrbit_c extension module not loaded, because galpy_integrate_c.cpython-34m.so image was not found\n",
      "galpyWarning: actionAngleAdiabatic_c extension module not loaded, because galpy_actionAngle_c.cpython-34m.so image was not found\n",
      "galpyWarning: actionAngleStaeckel_c extension module not loaded, because galpy_actionAngle_c.cpython-34m.so image was not found\n"
     ]
    }
   ],
   "source": [
    "import numpy as np\n",
    "import matplotlib.pyplot as plt\n",
    "from mpl_toolkits.mplot3d import Axes3D\n",
    "from astropy import units as un\n",
    "from scipy import constants as cs\n",
    "from scipy import optimize as opt\n",
    "from scipy import integrate as intg\n",
    "import galpy.potential as pot\n",
    "from galpy.orbit import Orbit\n",
    "from galpy.util import bovy_coords\n",
    "from galpy.actionAngle import actionAngleIsochrone\n",
    "import matplotlib.colors as cmaps\n",
    "import math\n",
    "import sys\n",
    "sys.path.insert(0, './')\n",
    "\n",
    "from GC_Orbit_class import GCorbit\n",
    "%matplotlib inline"
   ]
  },
  {
   "cell_type": "code",
   "execution_count": 31,
   "metadata": {
    "collapsed": true
   },
   "outputs": [],
   "source": [
    "r_3d,m1,m2,x,y,z,vx,vy,vz=np.loadtxt('/home/sophia/Dokumente/Bachelorarbeit-2/x-y-z_IMBH1.dat', usecols=(1,9,10,30,31,32,33,34,35), unpack=True)\n"
   ]
  },
  {
   "cell_type": "code",
   "execution_count": 24,
   "metadata": {
    "collapsed": true
   },
   "outputs": [],
   "source": [
    "### initalize class object and open actions ###\n",
    "bh_orbit=GCorbit(inputfilename='densityfile_IMBH1.txt',bhmass_M_sun=m1[0]+m2[0])\n",
    "r3d_1,J_phi_1,J_theta_1,J_r_1=np.loadtxt('../../sophia/Dokumente/Bachelorarbeit-2/actions_IMBH1.txt')"
   ]
  },
  {
   "cell_type": "code",
   "execution_count": 25,
   "metadata": {
    "collapsed": true
   },
   "outputs": [],
   "source": [
    "### calculate circular period ###\n",
    "\n",
    "v_circ=bh_orbit.v_circ(r_3d[1:]) #[pc/s]\n",
    "T_circ=(2*np.pi*r_3d[1:])/v_circ #[s]\n",
    "T_circ_yr=un.s.to(un.yr,T_circ) #[yr]\n",
    "\n",
    "step=1e-12\n"
   ]
  },
  {
   "cell_type": "code",
   "execution_count": 26,
   "metadata": {
    "collapsed": true
   },
   "outputs": [],
   "source": [
    "r_guide_bh=np.loadtxt('/home/sophia/Dokumente/Bachelorarbeit-2/r_guide_IMBH1.txt')"
   ]
  },
  {
   "cell_type": "code",
   "execution_count": 27,
   "metadata": {
    "collapsed": false
   },
   "outputs": [
    {
     "name": "stdout",
     "output_type": "stream",
     "text": [
      "[  1.02326856e-03   3.14401319e-03   7.36949846e-03 ...,   8.36689116e+00\n",
      "   6.33945117e+00   6.54307829e+00] 1026734\n"
     ]
    }
   ],
   "source": [
    "print(r_guide_bh, len(r_guide_bh))"
   ]
  },
  {
   "cell_type": "code",
   "execution_count": 32,
   "metadata": {
    "collapsed": false
   },
   "outputs": [
    {
     "name": "stdout",
     "output_type": "stream",
     "text": [
      "0.697474 0.0713675 -0.693553 0.018999 11.4204 0.960093 -0.20017 0.719371499151\n",
      "2.4577 -2.45746 -0.00220495 -0.0342695 0.197363 -8.39903 -13.6125 2.45769992311\n",
      "5.10056 -0.682279 -0.885987 4.97647 -1.17878 0.455574 -7.70834 0.982587495545\n"
     ]
    }
   ],
   "source": [
    "n=19421\n",
    "m=193779\n",
    "k=486385\n",
    "print(r_3d[n],x[n],y[n],z[n],vx[n],vy[n],vz[n],r_guide_bh[n-1])\n",
    "print(r_3d[m],x[m],y[m],z[m],vx[m],vy[m],vz[m],r_guide_bh[m-1])\n",
    "print(r_3d[k],x[k],y[k],z[k],vx[k],vy[k],vz[k],r_guide_bh[k-1])\n",
    "\n",
    "np.savetxt('x-y-z_orbit.dat',((r_3d[n],x[n],y[n],z[n],vx[n],vy[n],vz[n],r_guide_bh[n-1]),(r_3d[m],x[m],y[m],z[m],vx[m],vy[m],vz[m],r_guide_bh[m-1]),(r_3d[k],x[k],y[k],z[k],vx[k],vy[k],vz[k],r_guide_bh[k-1])))"
   ]
  },
  {
   "cell_type": "code",
   "execution_count": 33,
   "metadata": {
    "collapsed": false
   },
   "outputs": [],
   "source": [
    "r,x,y,z,vx,vy,vz,r_guide=np.loadtxt('x-y-z_orbit.dat',unpack=True)"
   ]
  },
  {
   "cell_type": "code",
   "execution_count": 34,
   "metadata": {
    "collapsed": false
   },
   "outputs": [
    {
     "name": "stdout",
     "output_type": "stream",
     "text": [
      "[ 0.7193715   2.45769992  0.9825875 ]\n"
     ]
    }
   ],
   "source": [
    "print(r_guide)"
   ]
  },
  {
   "cell_type": "code",
   "execution_count": null,
   "metadata": {
    "collapsed": true
   },
   "outputs": [],
   "source": [
    "### calculate orbits ###\n",
    "\n",
    "n=19421 #J_r = 0 and J_theta = 0\n",
    "xn,yn,zn,vxn_kms,vyn_kms,vzn_kms,tn_yr=bh_orbit.orbit_integration(x[n],y[n],z[n],vx[n],vy[n],vz[n],dt=step*8*T_circ_yr[n-1],t_end=8*T_circ_yr[n-1])\n",
    "np.savetxt('home/milanov/Bachelorarbeit/output/orbit_J_phi_n='+str(n)+'.dat',(xn,yn,zn,vxn_kms,vyn_kms,vzn_kms,tn_yr))"
   ]
  },
  {
   "cell_type": "code",
   "execution_count": null,
   "metadata": {
    "collapsed": true
   },
   "outputs": [],
   "source": [
    "m=193779 #J_r=0 rest random\n",
    "xm,ym,zm,vxm_kms,vym_kms,vzm_kms,tm_yr=bh_orbit.orbit_integration(x[m],y[m],z[m],vx[m],vy[m],vz[m],dt=step*8*T_circ_yr[m-1],t_end=8*T_circ_yr[m-1])\n",
    "np.savetxt('home/milanov/Bachelorarbeit/output/orbit_J_phi_J_theta_m='+str(m)+'.dat',(xm,ym,zm,vxm_kms,vym_kms,vzm_kms,tm_yr))"
   ]
  },
  {
   "cell_type": "code",
   "execution_count": null,
   "metadata": {
    "collapsed": true
   },
   "outputs": [],
   "source": [
    "k=486385 #random orbit\n",
    "xk,yk,zk,vxk_kms,vyk_kms,vzk_kms,tk_yr=bh_orbit.orbit_integration(x[k],y[k],z[k],vx[k],vy[k],vz[k],dt=step*8*T_circ_yr[k-1],t_end=8*T_circ_yr[k-1])\n",
    "np.savetxt('home/milanov/Bachelorarbeit/output/orbit_random_k='+str(k)+'.dat',(xk,yk,zk,vxk_kms,vyk_kms,vzk_kms,tk_yr))"
   ]
  },
  {
   "cell_type": "code",
   "execution_count": null,
   "metadata": {
    "collapsed": true
   },
   "outputs": [],
   "source": [
    "### calculate energy for every timestep of the orbits ###\n",
    "\n",
    "En = np.zeros(len(xn))\n",
    "for i in range(len(xn)):\n",
    "    En[i]=bh_orbit.energy(xn[i],yn[i],zn[i],vx[i],vy[i],vz[i])\n",
    "\n",
    "np.savetxt('home/milanov/Bachelorarbeit/output/E_n_'+str(n)+'.dat', (En))"
   ]
  },
  {
   "cell_type": "code",
   "execution_count": null,
   "metadata": {
    "collapsed": true
   },
   "outputs": [],
   "source": [
    "Em = np.zeros(len(xm))\n",
    "for i in range(len(xm)):\n",
    "    Em[i]=bh_orbit.energy(xm[i],ym[i],zm[i],vm[i],vm[i],vm[i])\n",
    "\n",
    "np.savetxt('home/milanov/Bachelorarbeit/output/E_m_'+str(m)+'.dat', (Em))"
   ]
  },
  {
   "cell_type": "code",
   "execution_count": null,
   "metadata": {
    "collapsed": true
   },
   "outputs": [],
   "source": [
    "Ek = np.zeros(len(xk))\n",
    "for i in range(len(xk)):\n",
    "    Ek[i]=bh_orbit.energy(xk[i],yk[i],zk[i],vk[i],vk[i],vk[i])\n",
    "\n",
    "np.savetxt('home/milanov/Bachelorarbeit/output/E_k_'+str(k)+'.dat', (Ek))"
   ]
  },
  {
   "cell_type": "code",
   "execution_count": null,
   "metadata": {
    "collapsed": true
   },
   "outputs": [],
   "source": [
    "### calculate angular momentum for every timestep of the orbits ###\n",
    "\n",
    "Ln=np.zeros(len(xn))\n",
    "for i in range(len(xn)):\n",
    "    Ln[i]=bh_orbit.angularmom(xn[i],yn[i],zn[i],vx[i],vy[i],vz[i])[0]\n",
    "\n",
    "np.savetxt('home/milanov/Bachelorarbeit/output/L_n_'+str(n)+'.dat', (Ln))"
   ]
  },
  {
   "cell_type": "code",
   "execution_count": null,
   "metadata": {
    "collapsed": true
   },
   "outputs": [],
   "source": [
    "Lm=np.zeros(len(xm))\n",
    "for i in range(len(xm)):\n",
    "    Lm[i]=bh_orbit.angularmom(xm[i],ym[i],zm[i],vm[i],vm[i],vm[i])[0]\n",
    "\n",
    "np.savetxt('home/milanov/Bachelorarbeit/output/L_m_'+str(m)+'.dat', (Lm))"
   ]
  },
  {
   "cell_type": "code",
   "execution_count": null,
   "metadata": {
    "collapsed": true
   },
   "outputs": [],
   "source": [
    "Lk=np.zeros(len(xk))\n",
    "for i in range(len(xk)):\n",
    "    Lk[i]=bh_orbit.angularmom(xk[i],yk[i],zk[i],vk[i],vk[i],vk[i])[0]\n",
    "\n",
    "np.savetxt('home/milanov/Bachelorarbeit/output/L_k_'+str(k)+'.dat', (Lk))"
   ]
  },
  {
   "cell_type": "code",
   "execution_count": null,
   "metadata": {
    "collapsed": true
   },
   "outputs": [],
   "source": [
    "### calculate radial actions for every timestep of the orbits ###\n",
    "\n",
    "Jrn=np.zeros(len(xn))\n",
    "rn=np.sqrt(xn**2+yn**2+zn**2)\n",
    "for i in range(len(xn)):\n",
    "    Jrn[i]=bh_orbit._J_r(rn[i],xn[i],yn[i],zn[i],vx[i],vy[i],vz[i])\n",
    "\n",
    "np.savetxt('home/milanov/Bachelorarbeit/output/Jr_n_'+str(n)+'.dat', (Jrn))"
   ]
  },
  {
   "cell_type": "code",
   "execution_count": null,
   "metadata": {
    "collapsed": true
   },
   "outputs": [],
   "source": [
    "Jrm=np.zeros(len(xm))\n",
    "rm=np.sqrt(xm**2+ym**2+zm**2)\n",
    "for i in range(len(xm)):\n",
    "    Jrm[i]=bh_orbit._J_r(rm[i],xm[i],ym[i],zm[i],vm[i],vm[i],vm[i])\n",
    "\n",
    "np.savetxt('home/milanov/Bachelorarbeit/output/Jr_m_'+str(m)+'.dat', (Jrm))"
   ]
  },
  {
   "cell_type": "code",
   "execution_count": null,
   "metadata": {
    "collapsed": true
   },
   "outputs": [],
   "source": [
    "Jrk=np.zeros(len(xk))\n",
    "rk=np.sqrt(xk**2+yk**2+zk**2)\n",
    "for i in range(len(xk)):\n",
    "    Jrk[i]=bh_orbit._J_r(rk[i],xk[i],yk[i],zk[i],vk[i],vk[i],vk[i])\n",
    "\n",
    "np.savetxt('home/milanov/Bachelorarbeit/output/Jr_k_'+str(k))+'.dat', (Jrk))"
   ]
  },
  {
   "cell_type": "code",
   "execution_count": null,
   "metadata": {
    "collapsed": true
   },
   "outputs": [],
   "source": [
    "### calculate peri- and apocentre ###\n",
    "\n",
    "#würde für jeden einzelnen schritt peri und apocenter bestimmen, kann ich das nicht einfach machen indem ich np.min(rn) und np.max(rn) mache?"
   ]
  },
  {
   "cell_type": "code",
   "execution_count": null,
   "metadata": {
    "collapsed": true
   },
   "outputs": [],
   "source": [
    "### calculate guiding star radius ###\n",
    "\n"
   ]
  }
 ],
 "metadata": {
  "kernelspec": {
   "display_name": "Python 3",
   "language": "python",
   "name": "python3"
  },
  "language_info": {
   "codemirror_mode": {
    "name": "ipython",
    "version": 3
   },
   "file_extension": ".py",
   "mimetype": "text/x-python",
   "name": "python",
   "nbconvert_exporter": "python",
   "pygments_lexer": "ipython3",
   "version": "3.4.3"
  }
 },
 "nbformat": 4,
 "nbformat_minor": 0
}
