{
 "cells": [
  {
   "cell_type": "code",
   "execution_count": 1,
   "metadata": {
    "collapsed": true
   },
   "outputs": [],
   "source": [
    "import numpy as np"
   ]
  },
  {
   "cell_type": "code",
   "execution_count": 3,
   "metadata": {
    "collapsed": true
   },
   "outputs": [],
   "source": [
    "if 0:\n",
    "    r_3d,m1,m2,x,y,z=np.loadtxt('C:\\\\Users\\Sophia Milanov\\Documents\\Bachelorarbeit\\data\\\\x-y-z.dat', usecols=(1,9,10,30,31,32), unpack=True)\n",
    "elif 1:\n",
    "    r_3d,m1,m2,l1,l2,x,y,z=np.loadtxt('/home/sophia/Dokumente/Bachelorarbeit-2/x-y-z.dat', usecols=(1,9,10,11,12,30,31,32), unpack=True)\n",
    "else:\n",
    "    r_3d,m1,m2,x,y,z=np.loadtxt('/home/milanov/Bachelorarbeit/x-y-z.dat', usecols=(1,9,10,30,31,32), unpack=True)"
   ]
  },
  {
   "cell_type": "code",
   "execution_count": 4,
   "metadata": {
    "collapsed": true
   },
   "outputs": [],
   "source": [
    "if 0:\n",
    "    r_3d,m1,m2,x,y,z=np.loadtxt('C:\\\\Users\\Sophia Milanov\\Documents\\Bachelorarbeit\\data\\\\x-y-z_sophia.dat', usecols=(1,9,10,30,31,32), unpack=True)\n",
    "elif 1:\n",
    "    r_wo_3d,m1_wo,m2_wo,l1_wo,l2_wo,x_wo,y_wo,z_wo=np.loadtxt('/home/sophia/Dokumente/Bachelorarbeit-2/x-y-z_sophia_neu.dat', usecols=(1,9,10,11,12,29,30,31), unpack=True)\n",
    "else:\n",
    "    r_3d,m1,m2,x,y,z=np.loadtxt('/home/milanov/Bachelorarbeit/x-y-z_sophia.dat', usecols=(1,9,10,30,31,32), unpack=True)"
   ]
  },
  {
   "cell_type": "code",
   "execution_count": 9,
   "metadata": {
    "collapsed": false
   },
   "outputs": [
    {
     "name": "stdout",
     "output_type": "stream",
     "text": [
      "388825 4.13329\n",
      "150154 2.08948\n"
     ]
    }
   ],
   "source": [
    "#simulation with bh\n",
    "m=m1+m2\n",
    "ind=(np.where(np.cumsum(m)<=0.5*np.sum(m)))\n",
    "hmr_bh=r_3d[np.max(ind)]\n",
    "print(np.max(ind),hmr_bh)\n",
    "\n",
    "l=l1+l2\n",
    "indl=np.where(np.cumsum(l)<=0.5*np.sum(l))\n",
    "hlr_bh=r_3d[np.max(indl)]\n",
    "print(np.max(indl),hlr_bh)"
   ]
  },
  {
   "cell_type": "code",
   "execution_count": 10,
   "metadata": {
    "collapsed": false
   },
   "outputs": [
    {
     "name": "stdout",
     "output_type": "stream",
     "text": [
      "200613 7.8937\n",
      "166324 6.7517\n"
     ]
    }
   ],
   "source": [
    "#simulation without bh\n",
    "m_wo=m1_wo+m2_wo\n",
    "ind_wo=(np.where(np.cumsum(m_wo)<=0.5*np.sum(m_wo)))\n",
    "hmr_wo_bh=r_wo_3d[np.max(ind_wo)]\n",
    "print(np.max(ind_wo),hmr_wo_bh)\n",
    "\n",
    "l_wo=l1_wo+l2_wo\n",
    "indl_wo=np.where(np.cumsum(l_wo)<=0.5*np.sum(l_wo))\n",
    "hlr_wo_bh=r_wo_3d[np.max(indl_wo)]\n",
    "print(np.max(indl_wo),hlr_wo_bh)"
   ]
  },
  {
   "cell_type": "code",
   "execution_count": 12,
   "metadata": {
    "collapsed": false
   },
   "outputs": [],
   "source": [
    "np.savetxt('half_mass_and_half_light_radius',(hmr_bh,hlr_bh,hmr_wo_bh,hlr_wo_bh))"
   ]
  },
  {
   "cell_type": "code",
   "execution_count": null,
   "metadata": {
    "collapsed": true
   },
   "outputs": [],
   "source": []
  }
 ],
 "metadata": {
  "kernelspec": {
   "display_name": "Python 3",
   "language": "python",
   "name": "python3"
  },
  "language_info": {
   "codemirror_mode": {
    "name": "ipython",
    "version": 3
   },
   "file_extension": ".py",
   "mimetype": "text/x-python",
   "name": "python",
   "nbconvert_exporter": "python",
   "pygments_lexer": "ipython3",
   "version": "3.4.3"
  }
 },
 "nbformat": 4,
 "nbformat_minor": 0
}
