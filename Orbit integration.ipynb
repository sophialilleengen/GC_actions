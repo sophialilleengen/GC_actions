{
 "cells": [
  {
   "cell_type": "code",
   "execution_count": 1,
   "metadata": {
    "collapsed": false
   },
   "outputs": [],
   "source": [
    "import numpy as np\n",
    "import matplotlib.pyplot as plt\n",
    "from scipy import constants as cs\n",
    "from scipy.integrate import quad\n",
    "from astropy import units as un\n",
    "%matplotlib inline"
   ]
  },
  {
   "cell_type": "code",
   "execution_count": 2,
   "metadata": {
    "collapsed": false
   },
   "outputs": [],
   "source": [
    "if 0:\n",
    "    rad,m1,m2,x,y,z,vx,vy,vz=np.loadtxt('C:\\\\Users\\Sophia Milanov\\Documents\\Bachelorarbeit\\data\\\\x-y-z.dat', usecols=(1,9,10,30,31,32,33,34,35), unpack=True)\n",
    "else:\n",
    "    rad,m1,m2,x,y,z,vx,vy,vz=np.loadtxt('/home/milanov/Bachelorarbeit/x-y-z.dat', usecols=(1,9,10,30,31,32,33,34,35), unpack=True)"
   ]
  },
  {
   "cell_type": "code",
   "execution_count": 62,
   "metadata": {
    "collapsed": false
   },
   "outputs": [],
   "source": [
    "mges=un.solMass.to(un.kg,(np.sum(m1)+np.sum(m2)))\n",
    "\n",
    "ni=5754\n",
    "xi=x[ni]\n",
    "yi=y[ni]\n",
    "zi=z[ni]\n",
    "\n",
    "vxi=vx[ni]\n",
    "vyi=vy[ni]\n",
    "vzi=vz[ni]\n",
    "\n",
    "xim=un.pc.to(un.m, xi)\n",
    "yim=un.pc.to(un.m, yi)\n",
    "zim=un.pc.to(un.m, zi)\n",
    "\n",
    "kms=un.km/un.s\n",
    "ms=un.m/un.s\n",
    "\n",
    "vxim=kms.to(ms,vxi)\n",
    "vyim=kms.to(ms,vyi)\n",
    "vzim=kms.to(ms,vzi)\n",
    "\n",
    "h=1e+10\n",
    "u=np.array([xim,yim,zim,vxim,vyim,vzim])\n",
    "b=5\n",
    "k_shape=(4,6)\n",
    "k=np.zeros(k_shape)\n",
    "t_end=1e+17\n",
    "\n",
    "rm=np.sqrt(xim**2+yim**2+zim**2)\n",
    "bm=un.pc.to(un.m, b)\n",
    "\n",
    "r=np.sqrt(x**2+y**2+z**2)\n",
    "ri=r[ni]\n",
    "rim=un.pc.to(un.m,ri)\n",
    "phi=-cs.G*mges/(b+np.sqrt(b**2+rim**2))\n",
    "phi_dyn=-cs.G/(b+np.sqrt(b**2+rim**2))"
   ]
  },
  {
   "cell_type": "code",
   "execution_count": 63,
   "metadata": {
    "collapsed": false
   },
   "outputs": [],
   "source": [
    "def force_isochrone(x,y,z):\n",
    "    r=np.sqrt(x**2+y**2+z**2)\n",
    "    phi=-cs.G*mges/(b+np.sqrt(b**2+r**2))\n",
    "    fce=np.zeros(3)\n",
    "    fce[0]=-cs.G*mges*x/(np.sqrt(b**2+r**2)*(np.sqrt(b**2+r**2)+b)**2)\n",
    "    fce[1]=-cs.G*mges*y/(np.sqrt(b**2+r**2)*(np.sqrt(b**2+r**2)+b)**2)\n",
    "    fce[2]=-cs.G*mges*z/(np.sqrt(b**2+r**2)*(np.sqrt(b**2+r**2)+b)**2)\n",
    "    return fce\n"
   ]
  },
  {
   "cell_type": "code",
   "execution_count": 64,
   "metadata": {
    "collapsed": true
   },
   "outputs": [],
   "source": [
    "def f_func(u_p,force):\n",
    "    fce=force(u_p[0],u_p[1],u_p[2])\n",
    "    f=np.zeros(6)\n",
    "    f[0]=u_p[3]\n",
    "    f[1]=u_p[4]\n",
    "    f[2]=u_p[5]\n",
    "    f[3]=fce[0]\n",
    "    f[4]=fce[1]\n",
    "    f[5]=fce[2]\n",
    "    return f"
   ]
  },
  {
   "cell_type": "code",
   "execution_count": null,
   "metadata": {
    "collapsed": true
   },
   "outputs": [],
   "source": [
    "def V_func(u,f_func,force,h):\n",
    "    f_0=f_func(u,force)\n",
    "    k[0]=f_0\n",
    "    f_1=f_func(u+h/2.*k[0],force)\n",
    "    k[1]=f_1\n",
    "    f_2=f_func(u+h/2.*k[1],force)\n",
    "    k[2]=f_2\n",
    "    f_3=f_func(u+h/2.*k[2],force)\n",
    "    k[3]=f_3\n",
    "    return (1./6.)*k[0]+1./3.*k[1]+1./3.*k[2]+1./6.*k[3]"
   ]
  },
  {
   "cell_type": "code",
   "execution_count": null,
   "metadata": {
    "collapsed": false
   },
   "outputs": [],
   "source": [
    "u_ges=np.zeros((int(t_end/h)+1,6))\n",
    "u_ges[0]=u\n",
    "for n in range(int(t_end/h)):\n",
    "    u_ges[n+1]=u_ges[n]+h*V_func(u_ges[n],f_func,force_isochrone,h)\n",
    "#    print force_isochrone(u_ges[n+1,0],u_ges[n+1,1],u_ges[n+1,2])\n"
   ]
  },
  {
   "cell_type": "code",
   "execution_count": null,
   "metadata": {
    "collapsed": false
   },
   "outputs": [],
   "source": [
    "h*V_func(u_ges[0],f_func,force_isochrone,h)"
   ]
  },
  {
   "cell_type": "code",
   "execution_count": null,
   "metadata": {
    "collapsed": false
   },
   "outputs": [],
   "source": [
    "u_ges[0]"
   ]
  },
  {
   "cell_type": "code",
   "execution_count": null,
   "metadata": {
    "collapsed": false
   },
   "outputs": [],
   "source": [
    "#u_ges[:,0:3]=un.m.to(un.pc,u_ges[:,0:3])"
   ]
  },
  {
   "cell_type": "code",
   "execution_count": null,
   "metadata": {
    "collapsed": false
   },
   "outputs": [],
   "source": [
    "plt.plot(u_ges[:,0],u_ges[:,1],'.')\n",
    "plt.xlabel('x')\n",
    "plt.ylabel('y')\n",
    "plt.title('Isochrone orbit with correct formula for potential')\n",
    "plt.savefig('Isochrone orbit with correct formula for potential')\n",
    "#plt.ylim(-180,180)"
   ]
  },
  {
   "cell_type": "code",
   "execution_count": null,
   "metadata": {
    "collapsed": true
   },
   "outputs": [],
   "source": []
  },
  {
   "cell_type": "markdown",
   "metadata": {
    "collapsed": true
   },
   "source": [
    "actions\n",
    "---\n",
    "\n",
    "Binney&Tremaine page 221\n",
    "\n",
    "$J_{\\phi}=L_z$\n",
    "\n",
    "$J_{\\theta}=L-|L_z|$\n",
    "\n",
    "$J_r=\\frac{1}{\\pi} \\int_{r_{min}}^{r_{max}}{\\mathrm{d}r\\sqrt{2E-2\\Phi(r)-\\frac{L^2}{r^2}}}$"
   ]
  },
  {
   "cell_type": "code",
   "execution_count": null,
   "metadata": {
    "collapsed": false
   },
   "outputs": [],
   "source": [
    "rum=np.sqrt(u_ges[:,0]**2+u_ges[:,1]**2+u_ges[:,2]**2)\n",
    "phi_u=-cs.G/(b+np.sqrt(b**2+rum**2))\n",
    "E=1/2*u_ges[:,3]**2+1/2*u_ges[:,4]**2+1/2*u_ges[:,5]**2+phi_u\n",
    "E_alt=1/2*(np.sqrt(u_ges[:,3]**2+u_ges[:,4]**2+u_ges[:,5]**2)**2)+phi_u\n",
    "Lx=y*vz-z*vy\n",
    "Ly=z*vx-x*vz\n",
    "Lz=x*vy-y*vx\n",
    "\n",
    "Lxim=yim*vzim-zim*vyim\n",
    "Lyim=zim*vxim-xim*vzim\n",
    "Lzim=xim*vyim-yim*vxim\n",
    "\n",
    "L=np.sqrt(Lx**2+Ly**2+Lz**2)\n",
    "Lim=np.sqrt(Lxim**2+Lyim**2+Lzim**2)\n",
    "Lz_abs=np.sqrt(Lzim**2)\n",
    "\n",
    "#fuer jeden Integrationsschritt\n",
    "Lxum=u_ges[:,1]*u_ges[:,5]-u_ges[:,2]*u_ges[:,4]\n",
    "Lyum=u_ges[:,2]*u_ges[:,3]-u_ges[:,0]*u_ges[:,5]\n",
    "Lzum=u_ges[:,0]*u_ges[:,4]-u_ges[:,1]*u_ges[:,3]\n",
    "\n",
    "Lzum_abs=np.sqrt(Lzum**2)\n",
    "Lum=np.sqrt(Lxum**2+Lyum**2+Lzum**2)"
   ]
  },
  {
   "cell_type": "code",
   "execution_count": null,
   "metadata": {
    "collapsed": false
   },
   "outputs": [],
   "source": [
    "pckms=un.pc*un.km/un.s\n",
    "m2s=un.m*un.m/un.s\n",
    "print(Lzim,pckms.to(m2s,Lz[ni]),Lz_abs)\n",
    "print(Lim,pckms.to(m2s,L[ni]))"
   ]
  },
  {
   "cell_type": "code",
   "execution_count": null,
   "metadata": {
    "collapsed": false
   },
   "outputs": [],
   "source": [
    "#r_min=Lum/(np.sqrt(2*phi_u-2*E))\n",
    "\n",
    "Jim_phi=Lzim\n",
    "Jim_theta=Lim-Lz_abs\n",
    "\n",
    "\n",
    "Jum_phi=Lzum\n",
    "Jum_theta=Lum-Lzum_abs\n",
    "\n",
    "#Einheit J: m^2/s\n",
    "\n",
    "Jupc_phi=m2s.to(pckms,Jum_phi)\n",
    "Jupc_theta=m2s.to(pckms,Jum_theta)\n",
    "#Jum_r=1/pi*integrate.quad()"
   ]
  },
  {
   "cell_type": "code",
   "execution_count": null,
   "metadata": {
    "collapsed": false
   },
   "outputs": [],
   "source": [
    "plt.plot(range(int(t_end/h)+1),E,'.')\n",
    "plt.xlabel('time')\n",
    "plt.ylabel('energy')\n",
    "plt.title('time course of energy of isochrone orbit with correct formula',y=1.06)\n",
    "plt.savefig('time course of energy of isochrone orbit with correct formula')"
   ]
  },
  {
   "cell_type": "code",
   "execution_count": null,
   "metadata": {
    "collapsed": false
   },
   "outputs": [],
   "source": [
    "plt.plot(range(int(t_end/h)+1),E_alt,'.')"
   ]
  },
  {
   "cell_type": "code",
   "execution_count": null,
   "metadata": {
    "collapsed": false
   },
   "outputs": [],
   "source": [
    "plt.plot(range(int(t_end/h)+1),Jum_theta,'.')\n"
   ]
  },
  {
   "cell_type": "code",
   "execution_count": null,
   "metadata": {
    "collapsed": false
   },
   "outputs": [],
   "source": [
    "plt.plot(range(int(t_end/h)+1),Jupc_theta,'.')\n",
    "plt.xlabel('time')\n",
    "plt.ylabel('$J_{theta}$')\n",
    "plt.title('time course of $J_{theta}$ of isochrone orbit with correct formula',y=1.05)\n",
    "plt.savefig('time course of J_theta of isochrone orbit with correct formula')"
   ]
  },
  {
   "cell_type": "code",
   "execution_count": null,
   "metadata": {
    "collapsed": false
   },
   "outputs": [],
   "source": [
    "plt.plot(range(int(t_end/h)+1),Jupc_phi,'.')\n",
    "plt.xlabel('time')\n",
    "plt.ylabel('$J_{\\phi}$')\n",
    "plt.title('time course of $J_{\\phi}$ of isochrone orbit with correct formula',y=1.05)\n",
    "plt.savefig('time course of J_phi of isochrone orbit with correct formula')"
   ]
  },
  {
   "cell_type": "code",
   "execution_count": null,
   "metadata": {
    "collapsed": false
   },
   "outputs": [],
   "source": [
    "len(range(int(t_end/h)))\n"
   ]
  },
  {
   "cell_type": "code",
   "execution_count": null,
   "metadata": {
    "collapsed": true
   },
   "outputs": [],
   "source": []
  },
  {
   "cell_type": "code",
   "execution_count": null,
   "metadata": {
    "collapsed": true
   },
   "outputs": [],
   "source": []
  },
  {
   "cell_type": "code",
   "execution_count": null,
   "metadata": {
    "collapsed": true
   },
   "outputs": [],
   "source": []
  }
 ],
 "metadata": {
  "kernelspec": {
   "display_name": "Python 2",
   "language": "python",
   "name": "python2"
  },
  "language_info": {
   "codemirror_mode": {
    "name": "ipython",
    "version": 2
   },
   "file_extension": ".py",
   "mimetype": "text/x-python",
   "name": "python",
   "nbconvert_exporter": "python",
   "pygments_lexer": "ipython2",
   "version": "2.7.8"
  }
 },
 "nbformat": 4,
 "nbformat_minor": 0
}
