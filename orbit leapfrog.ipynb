{
 "cells": [
  {
   "cell_type": "code",
   "execution_count": 46,
   "metadata": {
    "collapsed": true
   },
   "outputs": [],
   "source": [
    "import numpy as np\n",
    "import matplotlib.pyplot as plt\n",
    "from astropy import units as un\n",
    "from scipy import constants as cs\n",
    "from mpl_toolkits.mplot3d import Axes3D\n",
    "%matplotlib inline"
   ]
  },
  {
   "cell_type": "code",
   "execution_count": 2,
   "metadata": {
    "collapsed": true
   },
   "outputs": [],
   "source": [
    "# Daten einlesen\n",
    "r_3d,m1,m2,x,y,z,vx,vy,vz,vr,vtheta,vphi=np.loadtxt('/home/milanov/Bachelorarbeit/x-y-z.dat', usecols=(1,9,10,30,31,32,33,34,35,36,37,38), unpack=True)\n",
    "# 'C:\\\\Users\\Sophia Milanov\\Documents\\Bachelorarbeit\\data\\\\x-y-z.dat'"
   ]
  },
  {
   "cell_type": "code",
   "execution_count": 112,
   "metadata": {
    "collapsed": false
   },
   "outputs": [],
   "source": [
    "mges=m1+m2\n",
    "\n",
    "ni=5754\n",
    "\n",
    "xi=x[ni]\n",
    "yi=y[ni]\n",
    "zi=z[ni]\n",
    "\n",
    "vxi=vx[ni]\n",
    "vyi=vy[ni]\n",
    "vzi=vz[ni]\n",
    "\n",
    "xim=un.pc.to(un.m, xi)\n",
    "yim=un.pc.to(un.m, yi)\n",
    "zim=un.pc.to(un.m, zi)\n",
    "\n",
    "x0=xim\n",
    "y0=yim\n",
    "z0=zim\n",
    "\n",
    "kms=un.km/un.s\n",
    "ms=un.m/un.s\n",
    "\n",
    "r=np.sqrt(x**2+y**2+z**2)\n",
    "ri=r[ni]\n",
    "rim=un.pc.to(un.m,ri)\n",
    "\n",
    "vxim=kms.to(ms,vxi)\n",
    "vyim=kms.to(ms,vyi)\n",
    "vzim=kms.to(ms,vzi)\n",
    "\n",
    "vx0=vxim\n",
    "vy0=vyim\n",
    "vz0=vzim\n",
    "\n",
    "\n",
    "N=1000000\n",
    "start=0\n",
    "end=1e14\n",
    "t=np.linspace(start,end,N)\n",
    "dt=t[1]-t[0]"
   ]
  },
  {
   "cell_type": "code",
   "execution_count": 113,
   "metadata": {
    "collapsed": false
   },
   "outputs": [],
   "source": [
    "# some potential\n",
    "b=10\n",
    "phi=-cs.G*mges/(b+np.sqrt(b**2+rim**2))\n",
    "phi_dyn=-cs.G/(b+np.sqrt(b**2+rim**2))\n",
    "\n",
    "def force_isochrone(x,y,z):\n",
    "\n",
    "    r=np.sqrt(x**2+y**2+z**2)\n",
    "#    phi=-cs.G*mges/(b+np.sqrt(b**2+r**2))\n",
    "    a=np.zeros(3)\n",
    "    a[0]=-cs.G*x/(np.sqrt(b**2+r**2)*(np.sqrt(b**2+r**2)+b)**2)\n",
    "    a[1]=-cs.G*y/(np.sqrt(b**2+r**2)*(np.sqrt(b**2+r**2)+b)**2)\n",
    "    a[2]=-cs.G*z/(np.sqrt(b**2+r**2)*(np.sqrt(b**2+r**2)+b)**2)\n",
    "    return a\n"
   ]
  },
  {
   "cell_type": "markdown",
   "metadata": {},
   "source": [
    "leapfrog:\n",
    "\n",
    "$x_{i+1}=x_i+v_i\\Delta t+\\frac{a_i(x_i)}{2}\\Delta t^2$\n",
    "\n",
    "$v_{i+1}=v_i+\\frac{a(x_{i+1})+a(x_i)}{2}\\Delta t$"
   ]
  },
  {
   "cell_type": "code",
   "execution_count": 114,
   "metadata": {
    "collapsed": false
   },
   "outputs": [],
   "source": [
    "#leapfrog\n",
    "xl=np.zeros(N+1)\n",
    "yl=np.zeros(N+1)\n",
    "zl=np.zeros(N+1)\n",
    "\n",
    "x_l=np.sqrt(xl**2+yl**2+zl**2)\n",
    "\n",
    "vxl=np.zeros(N+1)\n",
    "vyl=np.zeros(N+1)\n",
    "vzl=np.zeros(N+1)\n",
    "\n",
    "xl[0]=x0\n",
    "yl[0]=y0\n",
    "zl[0]=z0\n",
    "\n",
    "vxl[0]=vx0\n",
    "vyl[0]=vy0\n",
    "vzl[0]=vz0\n",
    "\n",
    "for i in range(N):\n",
    "    xl[0]=x0\n",
    "    yl[0]=y0\n",
    "    zl[0]=z0\n",
    "    \n",
    "    a=force_isochrone(xl[i],yl[i],zl[i])\n",
    "    \n",
    "    xl[i+1]=xl[i]+vxl[i]*dt+1./2.*a[0]*dt**2\n",
    "    yl[i+1]=yl[i]+vyl[i]*dt+1./2.*a[1]*dt**2\n",
    "    zl[i+1]=zl[i]+vzl[i]*dt+1./2.*a[2]*dt**2\n",
    "    \n",
    "    a_1=force_isochrone(xl[i+1],yl[i+1],zl[i+1])\n",
    "    \n",
    "    vxl[i+1]=vxl[i]+1./2.*(a[0]+a_1[0])*dt\n",
    "    vyl[i+1]=vyl[i]+1./2.*(a[1]+a_1[1])*dt\n",
    "    vzl[i+1]=vzl[i]+1./2.*(a[2]+a_1[2])*dt\n"
   ]
  },
  {
   "cell_type": "code",
   "execution_count": 115,
   "metadata": {
    "collapsed": false,
    "scrolled": true
   },
   "outputs": [
    {
     "data": {
      "text/plain": [
       "<matplotlib.text.Text at 0x7f1bc074f490>"
      ]
     },
     "execution_count": 115,
     "metadata": {},
     "output_type": "execute_result"
    },
    {
     "data": {
      "image/png": "[encoded data removed]",
      "text/plain": [
       "<matplotlib.figure.Figure at 0x7f1bc07e9cd0>"
      ]
     },
     "metadata": {},
     "output_type": "display_data"
    }
   ],
   "source": [
    "xlpc=un.m.to(un.pc,xl)\n",
    "ylpc=un.m.to(un.pc,yl)\n",
    "zlpc=un.m.to(un.pc,zl)\n",
    "plt.plot(xlpc,ylpc,'.')\n",
    "plt.xlabel('x [pc]')\n",
    "plt.ylabel('y [pc]')"
   ]
  },
  {
   "cell_type": "code",
   "execution_count": 116,
   "metadata": {
    "collapsed": false
   },
   "outputs": [
    {
     "data": {
      "text/plain": [
       "<matplotlib.text.Text at 0x7f1bc06f6590>"
      ]
     },
     "execution_count": 116,
     "metadata": {},
     "output_type": "execute_result"
    },
    {
     "data": {
      "image/png": "[encoded data removed]",
      "text/plain": [
       "<matplotlib.figure.Figure at 0x7f1bc0729d10>"
      ]
     },
     "metadata": {},
     "output_type": "display_data"
    }
   ],
   "source": [
    "plt.plot(xlpc,zlpc,'.')\n",
    "plt.xlabel('x [pc]')\n",
    "plt.ylabel('z [pc]')"
   ]
  },
  {
   "cell_type": "code",
   "execution_count": 117,
   "metadata": {
    "collapsed": false
   },
   "outputs": [
    {
     "data": {
      "text/plain": [
       "<matplotlib.text.Text at 0x7f1bc05e68d0>"
      ]
     },
     "execution_count": 117,
     "metadata": {},
     "output_type": "execute_result"
    },
    {
     "data": {
      "image/png": "[encoded data removed]",
      "text/plain": [
       "<matplotlib.figure.Figure at 0x7f1bc0621ad0>"
      ]
     },
     "metadata": {},
     "output_type": "display_data"
    }
   ],
   "source": [
    "fig = plt.figure()\n",
    "ax = fig.add_subplot(111, projection='3d')\n",
    "ax.plot(xlpc,ylpc,zlpc)\n",
    "ax.set_xlabel('x [pc]')\n",
    "ax.set_ylabel('y [pc]')\n",
    "ax.set_zlabel('z [pc]')"
   ]
  },
  {
   "cell_type": "code",
   "execution_count": 118,
   "metadata": {
    "collapsed": false
   },
   "outputs": [
    {
     "data": {
      "text/plain": [
       "1.9062128736071139e-47"
      ]
     },
     "execution_count": 118,
     "metadata": {},
     "output_type": "execute_result"
    }
   ],
   "source": [
    "a[0]"
   ]
  },
  {
   "cell_type": "code",
   "execution_count": 93,
   "metadata": {
    "collapsed": false
   },
   "outputs": [
    {
     "data": {
      "text/plain": [
       "array([  0.19045   ,   0.19042087,   0.19039175, ..., -28.93466361,\n",
       "       -28.93469274, -28.93472186])"
      ]
     },
     "execution_count": 93,
     "metadata": {},
     "output_type": "execute_result"
    }
   ],
   "source": [
    "xlpc"
   ]
  },
  {
   "cell_type": "code",
   "execution_count": 94,
   "metadata": {
    "collapsed": false
   },
   "outputs": [
    {
     "data": {
      "text/plain": [
       "array([ -5.40725000e-03,  -5.37087319e-03,  -5.33449638e-03, ...,\n",
       "         3.63713317e+01,   3.63713680e+01,   3.63714044e+01])"
      ]
     },
     "execution_count": 94,
     "metadata": {},
     "output_type": "execute_result"
    }
   ],
   "source": [
    "ylpc"
   ]
  },
  {
   "cell_type": "code",
   "execution_count": 95,
   "metadata": {
    "collapsed": false
   },
   "outputs": [
    {
     "data": {
      "text/plain": [
       "array([  1.90621287e-47,  -2.39613984e-47,  -6.08252246e-48])"
      ]
     },
     "execution_count": 95,
     "metadata": {},
     "output_type": "execute_result"
    }
   ],
   "source": [
    "a"
   ]
  },
  {
   "cell_type": "code",
   "execution_count": 96,
   "metadata": {
    "collapsed": false
   },
   "outputs": [
    {
     "data": {
      "text/plain": [
       "array([  1.90620905e-47,  -2.39613502e-47,  -6.08251043e-48])"
      ]
     },
     "execution_count": 96,
     "metadata": {},
     "output_type": "execute_result"
    }
   ],
   "source": [
    "a_1"
   ]
  },
  {
   "cell_type": "code",
   "execution_count": 97,
   "metadata": {
    "collapsed": false
   },
   "outputs": [
    {
     "data": {
      "text/plain": [
       "-653902374731.75574"
      ]
     },
     "execution_count": 97,
     "metadata": {},
     "output_type": "execute_result"
    }
   ],
   "source": [
    "x0/vx0\n"
   ]
  },
  {
   "cell_type": "code",
   "execution_count": null,
   "metadata": {
    "collapsed": true
   },
   "outputs": [],
   "source": []
  },
  {
   "cell_type": "code",
   "execution_count": null,
   "metadata": {
    "collapsed": true
   },
   "outputs": [],
   "source": []
  }
 ],
 "metadata": {
  "kernelspec": {
   "display_name": "Python 2",
   "language": "python",
   "name": "python2"
  },
  "language_info": {
   "codemirror_mode": {
    "name": "ipython",
    "version": 2
   },
   "file_extension": ".py",
   "mimetype": "text/x-python",
   "name": "python",
   "nbconvert_exporter": "python",
   "pygments_lexer": "ipython2",
   "version": "2.7.8"
  }
 },
 "nbformat": 4,
 "nbformat_minor": 0
}
