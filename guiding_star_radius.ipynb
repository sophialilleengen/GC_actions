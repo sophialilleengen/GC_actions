{
 "cells": [
  {
   "cell_type": "code",
   "execution_count": 1,
   "metadata": {
    "collapsed": false
   },
   "outputs": [],
   "source": [
    "import numpy as np\n",
    "import matplotlib.pyplot as plt\n",
    "import sys\n",
    "sys.path.insert(0, '/home/sophia/bachelor_thesis_ipython_notebooks')\n",
    "\n",
    "from Paolo_class import GCphasespace\n",
    "from GC_Orbit_class import GCorbit\n",
    "%matplotlib inline"
   ]
  },
  {
   "cell_type": "code",
   "execution_count": null,
   "metadata": {
    "collapsed": true
   },
   "outputs": [],
   "source": [
    "if 0:\n",
    "    r_3d,v_r,v_t,x,y,z,vx,vy,vz,vr,vtheta,vphi=np.loadtxt('C:\\\\Users\\Sophia Milanov\\Documents\\Bachelorarbeit\\data\\\\x-y-z.dat', usecols=(1,2,3,30,31,32,33,34,35,36,37,38), unpack=True)\n",
    "elif 1:\n",
    "    r_3d,m1,m2,x,y,z,vx,vy,vz,vr,vtheta,vphi=np.loadtxt('/home/sophia/Dokumente/Bachelorarbeit-2/x-y-z_IMBH1.dat', usecols=(1,9,10,30,31,32,33,34,35,36,37,38), unpack=True)\n",
    "else:\n",
    "    r_3d,v_r,v_t,x,y,z,vx,vy,vz,vr,vtheta,vphi=np.loadtxt('/home/milanov/Bachelorarbeit/x-y-z.dat', usecols=(1,2,3,30,31,32,33,34,35,36,37,38), unpack=True)\n",
    "    \n",
    "r_3d0=r_3d[0]\n",
    "m10=m1[0]\n",
    "m20=m2[0]\n",
    "x0=x[0]\n",
    "y0=y[0]\n",
    "z0=z[0]\n",
    "vx0=vx[0]\n",
    "vy0=vy[0]\n",
    "vz0=vz[0]\n",
    "vr0=vr[0]\n",
    "vtheta0=vtheta[0]\n",
    "vphi0=vphi[0]\n",
    "\n",
    "r_3d=r_3d[1:]\n",
    "m1=m1[1:]\n",
    "m2=m2[1:]\n",
    "x=x[1:]\n",
    "y=y[1:]\n",
    "z=z[1:]\n",
    "vx=vx[1:]\n",
    "vy=vy[1:]\n",
    "vz=vz[1:]\n",
    "vr=vr[1:]\n",
    "vtheta=vtheta[1:]\n",
    "vphi=vphi[1:]"
   ]
  },
  {
   "cell_type": "code",
   "execution_count": 3,
   "metadata": {
    "collapsed": true
   },
   "outputs": [],
   "source": [
    "#data for simulation without bh\n",
    "if 0:\n",
    "    r_3d_wo,m1_wo,m2_wo,x_wo,y_wo,z_wo,vx_wo,vy_wo,vz_wo=np.loadtxt('C:\\\\Users\\Sophia Milanov\\Documents\\Bachelorarbeit\\data\\\\x-y-z.dat', usecols=(1,9,10,30,31,32,33,34,35), unpack=True)\n",
    "elif 1:\n",
    "    r_3d_wo,m1_wo,m2_wo,x_wo,y_wo,z_wo,vx_wo,vy_wo,vz_wo,vr_wo,vtheta_wo,vphi_wo=np.loadtxt('/home/sophia/Dokumente/Bachelorarbeit-2/x-y-z_noIMBH2.dat', usecols=(1,9,10,30,31,32,33,34,35,36,37,38), unpack=True)\n",
    "else:\n",
    "    r_3d,m1,m2,x,y,z,vx,vy,vz=np.loadtxt('/home/milanov/Bachelorarbeit/x-y-z.dat', usecols=(1,9,10,30,31,32,33,34,35), unpack=True)"
   ]
  },
  {
   "cell_type": "code",
   "execution_count": 4,
   "metadata": {
    "collapsed": false
   },
   "outputs": [],
   "source": [
    "bh_orbit=GCorbit(inputfilename='densityfile_IMBH1.txt',bhmass_M_sun=m10+m20)\n",
    "wobh_orbit=GCorbit(inputfilename='densityfile_noIMBH2.txt')"
   ]
  },
  {
   "cell_type": "code",
   "execution_count": 5,
   "metadata": {
    "collapsed": true
   },
   "outputs": [],
   "source": [
    "n=len(x)\n",
    "r_guide_bh=np.zeros(n)\n",
    "\n",
    "n_wo=len(x_wo)\n",
    "r_guide_wobh=np.zeros(n_wo)\n"
   ]
  },
  {
   "cell_type": "code",
   "execution_count": 6,
   "metadata": {
    "collapsed": false
   },
   "outputs": [],
   "source": [
    "#orbit=bh_orbit.orbit_integration(x=x[35940],y=y[35940],z=z[35940],vx=vx[35940],vy=vy[35940],vz=vz[35940],dt=10000,t_end=1e11)"
   ]
  },
  {
   "cell_type": "code",
   "execution_count": null,
   "metadata": {
    "collapsed": false,
    "scrolled": false
   },
   "outputs": [
    {
     "name": "stdout",
     "output_type": "stream",
     "text": [
      "9.99996199747e+13 -130.497696885 -130.497744077 2000.33853352\n",
      "0.425175 0.425174803279\n",
      "-1.51460754361e-14\n",
      "5.35929649877e-13\n"
     ]
    },
    {
     "data": {
      "text/plain": [
       "<matplotlib.lines.Line2D at 0x7f4785003ef0>"
      ]
     },
     "execution_count": 7,
     "metadata": {},
     "output_type": "execute_result"
    },
    {
     "data": {
      "image/png": "[encoded data removed]",
      "text/plain": [
       "<matplotlib.figure.Figure at 0x7f47c2f0b1d0>"
      ]
     },
     "metadata": {},
     "output_type": "display_data"
    }
   ],
   "source": [
    "k=7592\n",
    "L=bh_orbit.angularmom(x[k],y[k],z[k],vx[k],vy[k],vz[k])[0]\n",
    "E=bh_orbit.energy(x[k],y[k],z[k],vx[k],vy[k],vz[k])\n",
    "r=10.**(np.linspace(np.log10(0.00002),3.,10000))\n",
    "print(bh_orbit._periapocenter_aux(1e-7,E,L),bh_orbit._periapocenter_aux(r_3d[k],E,L),bh_orbit._periapocenter_aux(np.sqrt(x[k]**2+y[k]**2+z[k]**2),E,L),bh_orbit._periapocenter_aux(np.max(bh_orbit._r_bin)*1.03,E,L))\n",
    "plt.loglog(r,np.abs(bh_orbit._periapocenter_aux(r=r,E=E,L=L)))\n",
    "\n",
    "print(r_3d[k],np.sqrt(x[k]**2+y[k]**2+z[k]**2))\n",
    "plt.axvline(r_3d[k],color='r')\n",
    "plt.axvline(bh_orbit.periapocenter(r_3d[k],x[k],y[k],z[k],vx[k],vy[k],vz[k])[0], color='m')\n",
    "plt.axvline(bh_orbit.periapocenter(r_3d[k],x[k],y[k],z[k],vx[k],vy[k],vz[k])[1], color='black')\n",
    "print(bh_orbit._r_guide_aux(bh_orbit.periapocenter(r_3d[k],x[k],y[k],z[k],vx[k],vy[k],vz[k])[0],L=L))\n",
    "print(bh_orbit._r_guide_aux(bh_orbit.periapocenter(r_3d[k],x[k],y[k],z[k],vx[k],vy[k],vz[k])[1],L=L))\n",
    "plt.axvline(bh_orbit.r_guide(r_3d[k],x[k],y[k],z[k],vx[k],vy[k],vz[k]),color='g')"
   ]
  },
  {
   "cell_type": "code",
   "execution_count": 10,
   "metadata": {
    "collapsed": false
   },
   "outputs": [],
   "source": [
    "for i in range(n_wo):\n",
    "    r_guide_wobh[i]=wobh_orbit.r_guide(r_3d_wo[i],x_wo[i],y_wo[i],z_wo[i],vx_wo[i],vy_wo[i],vz_wo[i])"
   ]
  },
  {
   "cell_type": "code",
   "execution_count": 11,
   "metadata": {
    "collapsed": false
   },
   "outputs": [],
   "source": [
    "for i in range(n):\n",
    "    #print(i)\n",
    "    r_guide_bh[i]=bh_orbit.r_guide(r_3d[i],x[i],y[i],z[i],vx[i],vy[i],vz[i])"
   ]
  },
  {
   "cell_type": "code",
   "execution_count": 12,
   "metadata": {
    "collapsed": true
   },
   "outputs": [],
   "source": [
    "np.savetxt('../../sophia/Dokumente/Bachelorarbeit-2/r_guide_noIMBH2.txt',r_guide_wobh)\n",
    "np.savetxt('../../sophia/Dokumente/Bachelorarbeit-2/r_guide_IMBH1.txt',r_guide_bh)"
   ]
  },
  {
   "cell_type": "code",
   "execution_count": null,
   "metadata": {
    "collapsed": false
   },
   "outputs": [],
   "source": [
    "#bh_orbit.r_guide(r_3d[k],x[k],y[k],z[k],vx[k],vy[k],vz[k])"
   ]
  },
  {
   "cell_type": "code",
   "execution_count": null,
   "metadata": {
    "collapsed": true
   },
   "outputs": [],
   "source": []
  },
  {
   "cell_type": "code",
   "execution_count": null,
   "metadata": {
    "collapsed": false
   },
   "outputs": [],
   "source": [
    "#range(n)"
   ]
  },
  {
   "cell_type": "code",
   "execution_count": null,
   "metadata": {
    "collapsed": true
   },
   "outputs": [],
   "source": []
  }
 ],
 "metadata": {
  "kernelspec": {
   "display_name": "Python 3",
   "language": "python",
   "name": "python3"
  },
  "language_info": {
   "codemirror_mode": {
    "name": "ipython",
    "version": 3
   },
   "file_extension": ".py",
   "mimetype": "text/x-python",
   "name": "python",
   "nbconvert_exporter": "python",
   "pygments_lexer": "ipython3",
   "version": "3.4.3"
  }
 },
 "nbformat": 4,
 "nbformat_minor": 0
}
