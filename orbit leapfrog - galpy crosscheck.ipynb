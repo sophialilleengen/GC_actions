{
 "cells": [
  {
   "cell_type": "code",
   "execution_count": 1,
   "metadata": {
    "collapsed": false
   },
   "outputs": [
    {
     "name": "stdout",
     "output_type": "stream",
     "text": [
      "galpyWarning: interppotential_c extension module not loaded, because galpy_actionAngle_c.so image was not found\n",
      "galpyWarning: integratePlanarOrbit_c extension module not loaded, because galpy_integrate_c.so image was not found\n",
      "galpyWarning: integrateFullOrbit_c extension module not loaded, because galpy_integrate_c.so image was not found\n",
      "galpyWarning: actionAngleAdiabatic_c extension module not loaded, because galpy_actionAngle_c.so image was not found\n",
      "galpyWarning: actionAngleStaeckel_c extension module not loaded, because galpy_actionAngle_c.so image was not found\n"
     ]
    }
   ],
   "source": [
    "import numpy as np\n",
    "import matplotlib.pyplot as plt\n",
    "from mpl_toolkits.mplot3d import Axes3D\n",
    "from astropy import units as un\n",
    "from scipy import constants as cs\n",
    "from scipy import optimize as opt\n",
    "from scipy import integrate as intg\n",
    "import galpy.potential as pot\n",
    "from galpy.orbit import Orbit\n",
    "from galpy.util import bovy_coords\n",
    "from galpy.actionAngle import actionAngleIsochrone\n",
    "import matplotlib.colors as cmaps\n",
    "import math\n",
    "%matplotlib inline"
   ]
  },
  {
   "cell_type": "code",
   "execution_count": 2,
   "metadata": {
    "collapsed": false
   },
   "outputs": [],
   "source": [
    "# Daten einlesen\n",
    "if 1:\n",
    "    r_3d,m1,m2,x,y,z,vx,vy,vz,vr,vtheta,vphi=np.loadtxt('C:\\\\Users\\Sophia Milanov\\Documents\\Bachelorarbeit\\data\\\\x-y-z.dat', usecols=(1,9,10,30,31,32,33,34,35,36,37,38), unpack=True)\n",
    "else:\n",
    "    r_3d,m1,m2,x,y,z,vx,vy,vz,vr,vtheta,vphi=np.loadtxt('/home/milanov/Bachelorarbeit/x-y-z.dat', usecols=(1,9,10,30,31,32,33,34,35,36,37,38), unpack=True)"
   ]
  },
  {
   "cell_type": "code",
   "execution_count": 3,
   "metadata": {
    "collapsed": false
   },
   "outputs": [],
   "source": [
    "mges=un.solMass.to(un.kg,np.sum(m1+m2))\n",
    "\n",
    "ni=75946\n",
    "\n",
    "xi=x[ni]\n",
    "yi=y[ni]\n",
    "zi=z[ni]\n",
    "\n",
    "vxi=vx[ni]\n",
    "vyi=vy[ni]\n",
    "vzi=vz[ni]\n",
    "\n",
    "xim=un.pc.to(un.m, xi)\n",
    "yim=un.pc.to(un.m, yi)\n",
    "zim=un.pc.to(un.m, zi)\n",
    "\n",
    "x0=xim\n",
    "y0=yim\n",
    "z0=zim\n",
    "\n",
    "kms=un.km/un.s\n",
    "ms=un.m/un.s\n",
    "\n",
    "r=np.sqrt(x**2+y**2+z**2)\n",
    "ri=r[ni]\n",
    "rim=un.pc.to(un.m,ri)\n",
    "\n",
    "vxim=kms.to(ms,vxi)\n",
    "vyim=kms.to(ms,vyi)\n",
    "vzim=kms.to(ms,vzi)\n",
    "\n",
    "vx0=vxim\n",
    "vy0=vyim\n",
    "vz0=vzim\n",
    "\n",
    "\n",
    "N=20000\n",
    "start=0\n",
    "end=1e14\n",
    "t=np.linspace(start,end,N)\n",
    "dt=t[1]-t[0]\n",
    "\n",
    "vri=vr[ni]\n",
    "vrim=kms.to(ms,vri)"
   ]
  },
  {
   "cell_type": "code",
   "execution_count": 4,
   "metadata": {
    "collapsed": false
   },
   "outputs": [],
   "source": [
    "# some potential\n",
    "b=10.\n",
    "phi=-cs.G*mges/(b+np.sqrt(b**2+rim**2))\n",
    "phi_dyn=-cs.G/(b+np.sqrt(b**2+rim**2))\n",
    "\n",
    "def force_isochrone(x,y,z):\n",
    "\n",
    "    r=np.sqrt(x**2+y**2+z**2)\n",
    "#    phi=-cs.G*mges/(b+np.sqrt(b**2+r**2))\n",
    "    a=np.zeros(3)\n",
    "    a[0]=-cs.G*mges*x/(np.sqrt(b**2+r**2)*(np.sqrt(b**2+r**2)+b)**2)\n",
    "    a[1]=-cs.G*mges*y/(np.sqrt(b**2+r**2)*(np.sqrt(b**2+r**2)+b)**2)\n",
    "    a[2]=-cs.G*mges*z/(np.sqrt(b**2+r**2)*(np.sqrt(b**2+r**2)+b)**2)\n",
    "    return a\n"
   ]
  },
  {
   "cell_type": "markdown",
   "metadata": {},
   "source": [
    "leapfrog:\n",
    "\n",
    "$x_{i+1}=x_i+v_i\\Delta t+\\frac{a_i(x_i)}{2}\\Delta t^2$\n",
    "\n",
    "$v_{i+1}=v_i+\\frac{a(x_{i+1})+a(x_i)}{2}\\Delta t$"
   ]
  },
  {
   "cell_type": "code",
   "execution_count": 5,
   "metadata": {
    "collapsed": false
   },
   "outputs": [],
   "source": [
    "#leapfrog\n",
    "xl=np.zeros(N+1)\n",
    "yl=np.zeros(N+1)\n",
    "zl=np.zeros(N+1)\n",
    "\n",
    "x_l=np.sqrt(xl**2+yl**2+zl**2)\n",
    "\n",
    "vxl=np.zeros(N+1)\n",
    "vyl=np.zeros(N+1)\n",
    "vzl=np.zeros(N+1)\n",
    "\n",
    "xl[0]=x0\n",
    "yl[0]=y0\n",
    "zl[0]=z0\n",
    "\n",
    "vxl[0]=vx0\n",
    "vyl[0]=vy0\n",
    "vzl[0]=vz0\n",
    "\n",
    "for i in range(N):\n",
    "    xl[0]=x0\n",
    "    yl[0]=y0\n",
    "    zl[0]=z0\n",
    "    \n",
    "    a=force_isochrone(xl[i],yl[i],zl[i])\n",
    "    \n",
    "    xl[i+1]=xl[i]+vxl[i]*dt+1./2.*a[0]*dt**2\n",
    "    yl[i+1]=yl[i]+vyl[i]*dt+1./2.*a[1]*dt**2\n",
    "    zl[i+1]=zl[i]+vzl[i]*dt+1./2.*a[2]*dt**2\n",
    "    \n",
    "    a_1=force_isochrone(xl[i+1],yl[i+1],zl[i+1])\n",
    "    \n",
    "    vxl[i+1]=vxl[i]+1./2.*(a[0]+a_1[0])*dt\n",
    "    vyl[i+1]=vyl[i]+1./2.*(a[1]+a_1[1])*dt\n",
    "    vzl[i+1]=vzl[i]+1./2.*(a[2]+a_1[2])*dt\n"
   ]
  },
  {
   "cell_type": "code",
   "execution_count": 6,
   "metadata": {
    "collapsed": false
   },
   "outputs": [],
   "source": [
    "#galpy crosscheck\n",
    "isopot=pot.IsochronePotential(amp=cs.G*mges,b=b,normalize=False)\n",
    "\n",
    "#in Galactocentric cylindrical coordinates vxvv=[R,vR,vT(,z,vz,phi)]\n",
    "R,phi,z_new=bovy_coords.rect_to_cyl(xim,yim,zim) #ort\n",
    "vR,vT,vz_new=bovy_coords.rect_to_cyl_vec(vxim,vyim,vzim,xim,yim,zim) #geschw\n",
    "o=Orbit(vxvv=[R,vR,vT,z_new,vz_new,phi])\n",
    "o.integrate(t,isopot)\n"
   ]
  },
  {
   "cell_type": "code",
   "execution_count": 7,
   "metadata": {
    "collapsed": false
   },
   "outputs": [
    {
     "data": {
      "image/png": "[encoded data removed]",
      "text/plain": [
       "<matplotlib.figure.Figure at 0xbac7cf8>"
      ]
     },
     "metadata": {},
     "output_type": "display_data"
    },
    {
     "data": {
      "image/png": "[encoded data removed]",
      "text/plain": [
       "<matplotlib.figure.Figure at 0xbac7e10>"
      ]
     },
     "metadata": {},
     "output_type": "display_data"
    }
   ],
   "source": [
    "xlpc=un.m.to(un.pc,xl)\n",
    "ylpc=un.m.to(un.pc,yl)\n",
    "zlpc=un.m.to(un.pc,zl)\n",
    "plt.plot(xl,yl)\n",
    "plt.xlabel('x [m]')\n",
    "plt.ylabel('y [m]')\n",
    "o.plot(d1='x',d2='y')"
   ]
  },
  {
   "cell_type": "code",
   "execution_count": 8,
   "metadata": {
    "collapsed": false
   },
   "outputs": [
    {
     "data": {
      "image/png": "[encoded data removed]",
      "text/plain": [
       "<matplotlib.figure.Figure at 0x18dd4908>"
      ]
     },
     "metadata": {},
     "output_type": "display_data"
    },
    {
     "data": {
      "image/png": "[encoded data removed]",
      "text/plain": [
       "<matplotlib.figure.Figure at 0x394624e0>"
      ]
     },
     "metadata": {},
     "output_type": "display_data"
    }
   ],
   "source": [
    "plt.plot(xl,zl)\n",
    "plt.xlabel('x [m]')\n",
    "plt.ylabel('z [m]')\n",
    "o.plot(d1='x',d2='z')"
   ]
  },
  {
   "cell_type": "code",
   "execution_count": 9,
   "metadata": {
    "collapsed": false
   },
   "outputs": [
    {
     "data": {
      "text/plain": [
       "<matplotlib.text.Text at 0x393c1da0>"
      ]
     },
     "execution_count": 9,
     "metadata": {},
     "output_type": "execute_result"
    },
    {
     "data": {
      "image/png": "[encoded data removed]",
      "text/plain": [
       "<matplotlib.figure.Figure at 0x188a1fd0>"
      ]
     },
     "metadata": {},
     "output_type": "display_data"
    }
   ],
   "source": [
    "fig = plt.figure()\n",
    "ax = fig.add_subplot(111, projection='3d')\n",
    "ax.plot(xlpc,ylpc,zlpc)\n",
    "ax.set_xlabel('x [pc]')\n",
    "ax.set_ylabel('y [pc]')\n",
    "ax.set_zlabel('z [pc]')"
   ]
  },
  {
   "cell_type": "markdown",
   "metadata": {
    "collapsed": true
   },
   "source": [
    "actions\n",
    "---"
   ]
  },
  {
   "cell_type": "code",
   "execution_count": 49,
   "metadata": {
    "collapsed": false
   },
   "outputs": [],
   "source": [
    "#angular moments without mass\n",
    "\n",
    "def angularmom(xl,yl,zl,vxl,vyl,vzl):\n",
    "    Lx=yl*vzl-zl*vyl\n",
    "    Ly=zl*vxl-xl*vzl\n",
    "    Lz=xl*vyl-yl*vxl\n",
    "    L=np.sqrt(Lx**2+Ly**2+Lz**2)\n",
    "    return L,Lx,Ly,Lz\n",
    "\n",
    "def potential(xl,yl,zl,M=mges,b=2):\n",
    "    pot=-cs.G*M/(b+np.sqrt(b**2+(np.sqrt(xl**2+yl**2+zl**2))**2))\n",
    "    return pot \n",
    "\n",
    "def energy(xl,yl,zl,vxl,vyl,vzl):\n",
    "    pot=potential(xl,yl,zl,M=mges,b=b)\n",
    "    E=vxl**2./2.+vyl**2./2.+vzl**2./2.+pot\n",
    "    return E\n",
    "\n",
    "def periapocenter(rl):\n",
    "#    r=np.sqrt(xl**2+yl**2+zl**2)\n",
    "    pot=potential(xl,yl,zl,M=mges,b=b)\n",
    "    \n",
    "    return (1/rl)**2.+2.*(pot-E[0])/L[0]**2.\n",
    "\n",
    "rl=np.sqrt(xl**2+yl**2+zl**2)\n",
    "\n",
    "rmin=opt.fsolve(periapocenter,np.min(rl)) #nicht min(rl) sondern einfach kleiner wert weil ich es erst durch orbit integration weiss\n",
    "rmax=opt.fsolve(periapocenter,np.max(rl))\n",
    "\n",
    "def j_rint(xl,yl,zl,vxl,vyl,vzl,E,L,pot):\n",
    "    r=np.sqrt(xl**2+yl**2+zl**2)\n",
    "    pot=potential(xl,yl,tl,M=M,b=b)\n",
    "    E=energy(vxl,vyl,vzl,pot)\n",
    "    L=angularmom(xl,yl,zl,vxl,vyl,vzl)\n",
    "    return np.sqrt(2.*E-2.*pot-L**2./r**2.)\n",
    "\n",
    "def J_phi(xl,yl,vxl,vyl):\n",
    "    Lz=xl*vyl-yl*vxl\n",
    "    J_phi=Lz\n",
    "    return J_phi\n",
    "    \n",
    "def J_theta(L,Lz):\n",
    "    L=angularmom(xl,yl,zl,vxl,vyl,vzl)[0]\n",
    "    Lz=angularmom(xl,yl,zl,vxl,vyl,vzl)[1]\n",
    "    J_theta=L-np.abs(Lz)\n",
    "    return J_theta\n",
    "#j_rint=lambda r_var: np.sqrt(2.*E-2.*Phi(r_var)-L**2./r_var**2.)\n",
    "\n",
    "def J_r():\n",
    "#    J_r=np.zeros(len(J_phi))\n",
    "#for i in range(len(J_r)):\n",
    "    J_r=1/np.pi*intg.quad(j_rint,rmin,rmax)[0] #rmin,rmax,args=(E,L)\n",
    "#J_ri=cs.G*mges/np.sqrt(-2.*E)-1./2.*(L+np.sqrt(L**2.-4.*cs.G*mges*b))\n",
    "    return J_r\n",
    "#print(rmin,rmax)\n"
   ]
  },
  {
   "cell_type": "code",
   "execution_count": 50,
   "metadata": {
    "collapsed": false
   },
   "outputs": [
    {
     "data": {
      "text/plain": [
       "(1.0236697906576179e+21,\n",
       " 7.9058073889382361e+20,\n",
       " -9.3573641374885757e+19,\n",
       " 6.4352615272026931e+20)"
      ]
     },
     "execution_count": 50,
     "metadata": {},
     "output_type": "execute_result"
    }
   ],
   "source": [
    "angularmom(xl[0],yl[0],zl[0],vxl[0],vyl[0],vzl[0])"
   ]
  },
  {
   "cell_type": "code",
   "execution_count": 51,
   "metadata": {
    "collapsed": false
   },
   "outputs": [
    {
     "data": {
      "text/plain": [
       "-663031010.68223512"
      ]
     },
     "execution_count": 51,
     "metadata": {},
     "output_type": "execute_result"
    }
   ],
   "source": [
    "energy(xl[0],yl[0],zl[0],vxl[0],vyl[0],vzl[0])"
   ]
  },
  {
   "cell_type": "code",
   "execution_count": 46,
   "metadata": {
    "collapsed": true
   },
   "outputs": [],
   "source": [
    "aAI= actionAngleIsochrone(ip=isopot)"
   ]
  },
  {
   "cell_type": "code",
   "execution_count": 47,
   "metadata": {
    "collapsed": false
   },
   "outputs": [
    {
     "ename": "NameError",
     "evalue": "name 'aAi' is not defined",
     "output_type": "error",
     "traceback": [
      "\u001b[1;31m---------------------------------------------------------------------------\u001b[0m",
      "\u001b[1;31mNameError\u001b[0m                                 Traceback (most recent call last)",
      "\u001b[1;32m<ipython-input-47-3bb635fdb7f1>\u001b[0m in \u001b[0;36m<module>\u001b[1;34m()\u001b[0m\n\u001b[0;32m      3\u001b[0m \u001b[0mtg\u001b[0m\u001b[1;33m=\u001b[0m\u001b[0mnp\u001b[0m\u001b[1;33m.\u001b[0m\u001b[0mlinspace\u001b[0m\u001b[1;33m(\u001b[0m\u001b[0mstart\u001b[0m\u001b[1;33m,\u001b[0m\u001b[0mend\u001b[0m\u001b[1;33m,\u001b[0m\u001b[0mN\u001b[0m\u001b[1;33m/\u001b[0m\u001b[1;36m100\u001b[0m\u001b[1;33m)\u001b[0m\u001b[1;33m\u001b[0m\u001b[0m\n\u001b[0;32m      4\u001b[0m \u001b[0mjfa\u001b[0m\u001b[1;33m=\u001b[0m \u001b[0maAI\u001b[0m\u001b[1;33m.\u001b[0m\u001b[0mactionsFreqs\u001b[0m\u001b[1;33m(\u001b[0m\u001b[0mo\u001b[0m\u001b[1;33m.\u001b[0m\u001b[0mR\u001b[0m\u001b[1;33m(\u001b[0m\u001b[0mtg\u001b[0m\u001b[1;33m)\u001b[0m\u001b[1;33m,\u001b[0m\u001b[0mo\u001b[0m\u001b[1;33m.\u001b[0m\u001b[0mvR\u001b[0m\u001b[1;33m(\u001b[0m\u001b[0mtg\u001b[0m\u001b[1;33m)\u001b[0m\u001b[1;33m,\u001b[0m\u001b[0mo\u001b[0m\u001b[1;33m.\u001b[0m\u001b[0mvT\u001b[0m\u001b[1;33m(\u001b[0m\u001b[0mtg\u001b[0m\u001b[1;33m)\u001b[0m\u001b[1;33m,\u001b[0m\u001b[0mo\u001b[0m\u001b[1;33m.\u001b[0m\u001b[0mz\u001b[0m\u001b[1;33m(\u001b[0m\u001b[0mtg\u001b[0m\u001b[1;33m)\u001b[0m\u001b[1;33m,\u001b[0m\u001b[0mo\u001b[0m\u001b[1;33m.\u001b[0m\u001b[0mvz\u001b[0m\u001b[1;33m(\u001b[0m\u001b[0mtg\u001b[0m\u001b[1;33m)\u001b[0m\u001b[1;33m,\u001b[0m\u001b[0mo\u001b[0m\u001b[1;33m.\u001b[0m\u001b[0mphi\u001b[0m\u001b[1;33m(\u001b[0m\u001b[0mtg\u001b[0m\u001b[1;33m)\u001b[0m\u001b[1;33m)\u001b[0m\u001b[1;33m\u001b[0m\u001b[0m\n\u001b[1;32m----> 5\u001b[1;33m \u001b[0mJr\u001b[0m\u001b[1;33m,\u001b[0m\u001b[0mJphi\u001b[0m\u001b[1;33m,\u001b[0m\u001b[0mJz\u001b[0m\u001b[1;33m=\u001b[0m\u001b[0maAi\u001b[0m\u001b[1;33m(\u001b[0m\u001b[0mR\u001b[0m\u001b[1;33m,\u001b[0m\u001b[0mvR\u001b[0m\u001b[1;33m,\u001b[0m\u001b[0mvT\u001b[0m\u001b[1;33m,\u001b[0m\u001b[0mz\u001b[0m\u001b[1;33m,\u001b[0m\u001b[0mvz\u001b[0m\u001b[1;33m)\u001b[0m\u001b[1;33m\u001b[0m\u001b[0m\n\u001b[0m",
      "\u001b[1;31mNameError\u001b[0m: name 'aAi' is not defined"
     ]
    }
   ],
   "source": [
    "#galpy\n",
    "tJ=np.linspace(start,end,N+1)\n",
    "tg=np.linspace(start,end,N/100)\n",
    "jfa= aAI.actionsFreqs(o.R(tg),o.vR(tg),o.vT(tg),o.z(tg),o.vz(tg),o.phi(tg))\n",
    "Jr,Jphi,Jz=aAi(R,vR,vT,z,vz)"
   ]
  },
  {
   "cell_type": "code",
   "execution_count": null,
   "metadata": {
    "collapsed": false
   },
   "outputs": [],
   "source": [
    "plt.plot(tJ,J_phi,'b',tg,jfa[1],'r')"
   ]
  },
  {
   "cell_type": "code",
   "execution_count": null,
   "metadata": {
    "collapsed": false
   },
   "outputs": [],
   "source": [
    "plt.plot(tJ,J_theta,'b',tg,jfa[2],'r')"
   ]
  },
  {
   "cell_type": "code",
   "execution_count": null,
   "metadata": {
    "collapsed": false,
    "scrolled": true
   },
   "outputs": [],
   "source": [
    "plt.plot(tJ,J_r,'b',tg,jfa[0],'r')\n"
   ]
  },
  {
   "cell_type": "code",
   "execution_count": null,
   "metadata": {
    "collapsed": false
   },
   "outputs": [],
   "source": [
    "plt.plot(tJ,E)"
   ]
  },
  {
   "cell_type": "code",
   "execution_count": null,
   "metadata": {
    "collapsed": false
   },
   "outputs": [],
   "source": [
    "print len(E)\n",
    "\n"
   ]
  },
  {
   "cell_type": "code",
   "execution_count": null,
   "metadata": {
    "collapsed": false
   },
   "outputs": [],
   "source": [
    "print len(rl)"
   ]
  },
  {
   "cell_type": "code",
   "execution_count": null,
   "metadata": {
    "collapsed": false
   },
   "outputs": [],
   "source": [
    "np.sqrt(2.*E(r_var)-2.*Phi(r_var)-L(r_var)**2./r_var**2.)"
   ]
  },
  {
   "cell_type": "code",
   "execution_count": null,
   "metadata": {
    "collapsed": false
   },
   "outputs": [],
   "source": [
    "len(E)"
   ]
  },
  {
   "cell_type": "code",
   "execution_count": null,
   "metadata": {
    "collapsed": false
   },
   "outputs": [],
   "source": [
    "len(L)"
   ]
  },
  {
   "cell_type": "code",
   "execution_count": null,
   "metadata": {
    "collapsed": false
   },
   "outputs": [],
   "source": [
    "print rl\n"
   ]
  },
  {
   "cell_type": "code",
   "execution_count": null,
   "metadata": {
    "collapsed": true
   },
   "outputs": [],
   "source": []
  }
 ],
 "metadata": {
  "kernelspec": {
   "display_name": "Python 2",
   "language": "python",
   "name": "python2"
  },
  "language_info": {
   "codemirror_mode": {
    "name": "ipython",
    "version": 2
   },
   "file_extension": ".py",
   "mimetype": "text/x-python",
   "name": "python",
   "nbconvert_exporter": "python",
   "pygments_lexer": "ipython2",
   "version": "2.7.10"
  }
 },
 "nbformat": 4,
 "nbformat_minor": 0
}
