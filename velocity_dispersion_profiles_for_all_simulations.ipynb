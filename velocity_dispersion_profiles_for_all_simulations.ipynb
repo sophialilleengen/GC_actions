{
 "cells": [
  {
   "cell_type": "markdown",
   "metadata": {},
   "source": [
    "$\\sigma_i^2=\\left\\langle(v_i-\\langle v_i\\rangle)^2\\right\\rangle=\\left\\langle v_i^2-\\langle v_i\\rangle^2\\right\\rangle$\n",
    "2ter Term entspricht np.std()^2"
   ]
  },
  {
   "cell_type": "code",
   "execution_count": 1,
   "metadata": {
    "collapsed": false
   },
   "outputs": [],
   "source": [
    "import numpy as np\n",
    "import matplotlib.pyplot as plt\n",
    "from scipy import stats\n",
    "import sys\n",
    "sys.path.insert(0, '/home/sophia/bachelor_thesis_ipython_notebooks')\n",
    "\n",
    "from Paolo_class import GCphasespace\n",
    "\n",
    "%matplotlib inline"
   ]
  },
  {
   "cell_type": "code",
   "execution_count": 2,
   "metadata": {
    "collapsed": false
   },
   "outputs": [],
   "source": [
    "### import data of simulation w/ IMBH1 ###\n",
    "if 0:\n",
    "    r_3d,v_r,v_t,x,y,z,vx,vy,vz,vr,vtheta,vphi=np.loadtxt('C:\\\\Users\\Sophia Milanov\\Documents\\Bachelorarbeit\\data\\\\x-y-z.dat', usecols=(1,2,3,30,31,32,33,34,35,36,37,38), unpack=True)\n",
    "elif 1:\n",
    "    r_3d_1,x_1,y_1,z_1,vx_1,vy_1,vz_1,vr_1,vtheta_1,vphi_1=np.loadtxt('/home/sophia/Dokumente/Bachelorarbeit-2/x-y-z_IMBH1.dat', usecols=(1,30,31,32,33,34,35,36,37,38), unpack=True)\n",
    "else:\n",
    "    r_3d,v_r,v_t,x,y,z,vx,vy,vz,vr,vtheta,vphi=np.loadtxt('/home/milanov/Bachelorarbeit/x-y-z.dat', usecols=(1,2,3,30,31,32,33,34,35,36,37,38), unpack=True)"
   ]
  },
  {
   "cell_type": "code",
   "execution_count": 3,
   "metadata": {
    "collapsed": false
   },
   "outputs": [],
   "source": [
    "### import data of simulation w/ IMBH2 ###\n",
    "if 0:\n",
    "    r_3d,v_r,v_t,x,y,z,vx,vy,vz,vr,vtheta,vphi=np.loadtxt('C:\\\\Users\\Sophia Milanov\\Documents\\Bachelorarbeit\\data\\\\x-y-z.dat', usecols=(1,2,3,30,31,32,33,34,35,36,37,38), unpack=True)\n",
    "elif 1:\n",
    "    r_3d_2,x_2,y_2,z_2,vx_2,vy_2,vz_2,vr_2,vtheta_2,vphi_2=np.loadtxt('/home/sophia/Dokumente/Bachelorarbeit-2/x-y-z_IMBH2.dat', usecols=(1,30,31,32,33,34,35,36,37,38), unpack=True)\n",
    "else:\n",
    "    r_3d,v_r,v_t,x,y,z,vx,vy,vz,vr,vtheta,vphi=np.loadtxt('/home/milanov/Bachelorarbeit/x-y-z.dat', usecols=(1,2,3,30,31,32,33,34,35,36,37,38), unpack=True)"
   ]
  },
  {
   "cell_type": "code",
   "execution_count": 4,
   "metadata": {
    "collapsed": false
   },
   "outputs": [],
   "source": [
    "### import data of simulation w/o IMBH 1 ###\n",
    "if 0:\n",
    "    r_3d_wo,m1_wo,m2_wo,x_wo,y_wo,z_wo,vx_wo,vy_wo,vz_wo=np.loadtxt('C:\\\\Users\\Sophia Milanov\\Documents\\Bachelorarbeit\\data\\\\x-y-z.dat', usecols=(1,9,10,30,31,32,33,34,35), unpack=True)\n",
    "elif 1:\n",
    "    r_3d_wo_1,x_wo_1,y_wo_1,z_wo_1,vx_wo_1,vy_wo_1,vz_wo_1,vr_wo_1,vtheta_wo_1,vphi_wo_1=np.loadtxt('/home/sophia/Dokumente/Bachelorarbeit-2/x-y-z_noIMBH1.dat', usecols=(1,29,30,31,32,33,34,35,36,37), unpack=True)\n",
    "else:\n",
    "    r_3d,m1,m2,x,y,z,vx,vy,vz=np.loadtxt('/home/milanov/Bachelorarbeit/x-y-z.dat', usecols=(1,9,10,30,31,32,33,34,35), unpack=True)"
   ]
  },
  {
   "cell_type": "code",
   "execution_count": 5,
   "metadata": {
    "collapsed": false
   },
   "outputs": [],
   "source": [
    "### import data of simulation w/o IMBH 2 ###\n",
    "if 0:\n",
    "    r_3d_wo,m1_wo,m2_wo,x_wo,y_wo,z_wo,vx_wo,vy_wo,vz_wo=np.loadtxt('C:\\\\Users\\Sophia Milanov\\Documents\\Bachelorarbeit\\data\\\\x-y-z.dat', usecols=(1,9,10,30,31,32,33,34,35), unpack=True)\n",
    "elif 1:\n",
    "    r_3d_wo_2,x_wo_2,y_wo_2,z_wo_2,vx_wo_2,vy_wo_2,vz_wo_2,vr_wo_2,vtheta_wo_2,vphi_wo_2=np.loadtxt('/home/sophia/Dokumente/Bachelorarbeit-2/x-y-z_noIMBH2.dat', usecols=(1,30,31,32,33,34,35,36,37,38), unpack=True)\n",
    "else:\n",
    "    r_3d,m1,m2,x,y,z,vx,vy,vz=np.loadtxt('/home/milanov/Bachelorarbeit/x-y-z.dat', usecols=(1,9,10,30,31,32,33,34,35), unpack=True)"
   ]
  },
  {
   "cell_type": "code",
   "execution_count": 6,
   "metadata": {
    "collapsed": false
   },
   "outputs": [],
   "source": [
    "### initialize phasespcae objects ###\n",
    "bh_1=GCphasespace(r_3d_1,bin_num=50)\n",
    "bh_2=GCphasespace(r_3d_2,bin_num=50)\n",
    "wobh_1=GCphasespace(r_3d_wo_1,bin_num=50)\n",
    "wobh_2=GCphasespace(r_3d_wo_2,bin_num=50)"
   ]
  },
  {
   "cell_type": "code",
   "execution_count": 7,
   "metadata": {
    "collapsed": false
   },
   "outputs": [
    {
     "name": "stdout",
     "output_type": "stream",
     "text": [
      "4.13329 7.8937\n"
     ]
    }
   ],
   "source": [
    "### load half light and half mass radii for both simulations ###\n",
    "hmr_bh_1,hmr_bh_2,hlr_bh_1,hlr_bh_2,hmr_wo_bh_1,hmr_wo_bh_2,hlr_wo_bh_1,hlr_wo_bh_2=np.loadtxt('half_mass_and_half_light_radius')\n",
    "print(hmr_bh_1,hmr_wo_bh_1)"
   ]
  },
  {
   "cell_type": "code",
   "execution_count": 8,
   "metadata": {
    "collapsed": false
   },
   "outputs": [],
   "source": [
    "### calculates mean distance, velocity dispersion and anisotropy parameter ###\n",
    "R_bh_1=bh_1.mean_distance(r_3d_1)\n",
    "vel_disp_bh_1=bh_1.velocity_dispersion(vr_1,vtheta_1,vphi_1)\n",
    "beta_bh_1=bh_1.anisotropy_param(vr_1,vtheta_1,vphi_1)\n",
    "\n",
    "R_bh_2=bh_2.mean_distance(r_3d_2)\n",
    "vel_disp_bh_2=bh_2.velocity_dispersion(vr_2,vtheta_2,vphi_2)\n",
    "beta_bh_2=bh_2.anisotropy_param(vr_2,vtheta_2,vphi_2)\n",
    "\n",
    "R_wobh_1=wobh_1.mean_distance(r_3d_wo_1)\n",
    "vel_disp_wobh_1=wobh_1.velocity_dispersion(vr_wo_1,vtheta_wo_1,vphi_wo_1)\n",
    "beta_wobh_1=wobh_1.anisotropy_param(vr_wo_1,vtheta_wo_1,vphi_wo_1)\n",
    "\n",
    "R_wobh_2=wobh_2.mean_distance(r_3d_wo_2)\n",
    "vel_disp_wobh_2=wobh_2.velocity_dispersion(vr_wo_2,vtheta_wo_2,vphi_wo_2)\n",
    "beta_wobh_2=wobh_2.anisotropy_param(vr_wo_2,vtheta_wo_2,vphi_wo_2)"
   ]
  },
  {
   "cell_type": "code",
   "execution_count": 9,
   "metadata": {
    "collapsed": true
   },
   "outputs": [],
   "source": [
    "### calculate distance over effective radius ###\n",
    "r_plot_bh_1=R_bh_1/hmr_bh_1\n",
    "r_plot_bh_2=R_bh_2/hmr_bh_2\n",
    "r_plot_wobh_1= R_wobh_1/hmr_wo_bh_1\n",
    "r_plot_wobh_2= R_wobh_2/hmr_wo_bh_2"
   ]
  },
  {
   "cell_type": "code",
   "execution_count": 10,
   "metadata": {
    "collapsed": false
   },
   "outputs": [
    {
     "data": {
      "image/png": "[encoded data removed]",
      "text/plain": [
       "<matplotlib.figure.Figure at 0x7fc3beef2a90>"
      ]
     },
     "metadata": {},
     "output_type": "display_data"
    }
   ],
   "source": [
    "### plots radial velocity dispersion ###\n",
    "\n",
    "fig = plt.figure(figsize=(5,4))\n",
    "ax1 = fig.add_subplot(111)\n",
    "#ax2 = ax1.twiny()\n",
    "\n",
    "#ax1.grid(True)\n",
    "ax1.semilogx(r_plot_bh_1,vel_disp_bh_1[0],'b.',label='w/ IMBH 1')\n",
    "ax1.semilogx(r_plot_bh_2,vel_disp_bh_2[0],'g.',label='w/ IMBH 2')\n",
    "ax1.semilogx(r_plot_wobh_1,vel_disp_wobh_1[0],'r.',label='w/o IMBH 1')\n",
    "ax1.semilogx(r_plot_wobh_2,vel_disp_wobh_2[0],'.',color='orange',label='w/o IMBH 2')\n",
    "#ax1.errorbar(R,sigrad_r3d_neu,sigraderr,fmt='.')\n",
    "ax1.legend(loc=0,numpoints=1)\n",
    "#ax1.set_xlim(0.4,100)\n",
    "ax1.set_xlabel('r/r$_\\mathrm{m}$',fontsize=14)\n",
    "ax1.set_ylabel('radial velocity dispersion [km/s]',fontsize=14)\n",
    "\n",
    "#ax2.set_xlim((0.4/5000)*360*3600/(2*np.pi),(100./5000)*360*3600/(2*np.pi))\n",
    "#ax2.set_xscale('log')\n",
    "#ax2.set_xlabel('mean distance from center [arcsec]',fontsize=14)\n",
    "\n",
    "ax1.spines['top'].set_linewidth(1.5)\n",
    "ax1.spines['right'].set_linewidth(1.5)\n",
    "ax1.spines['bottom'].set_linewidth(1.5)\n",
    "ax1.spines['left'].set_linewidth(1.5)\n",
    "\n",
    "ax1.tick_params(length=8,width=1.5,labelsize=12)\n",
    "#ax2.tick_params(length=8,width=1.5,labelsize=12)\n",
    "ax1.tick_params(which='minor',length=4,width=1.5)\n",
    "#ax2.tick_params(which='minor',length=4,width=1.5)\n",
    "\n",
    "fig.tight_layout()\n",
    "#plt.show()\n",
    "fig.savefig('../../sophia/Bachelorarbeit-Entwurf/Plots/radial_velocity_dispersion.pdf',format='pdf',bbox_inches='tight')"
   ]
  },
  {
   "cell_type": "code",
   "execution_count": 11,
   "metadata": {
    "collapsed": false
   },
   "outputs": [
    {
     "data": {
      "image/png": "[encoded data removed]",
      "text/plain": [
       "<matplotlib.figure.Figure at 0x7fc3a3646e10>"
      ]
     },
     "metadata": {},
     "output_type": "display_data"
    }
   ],
   "source": [
    "### plots azimuthal velocity dispersion ###\n",
    "\n",
    "fig = plt.figure(figsize=(5,4))\n",
    "ax1 = fig.add_subplot(111)\n",
    "#ax2 = ax1.twiny()\n",
    "#ax1.grid(True)\n",
    "\n",
    "ax1.semilogx(r_plot_bh_1,vel_disp_bh_1[1],'b.',label='w/ IMBH 1')\n",
    "ax1.semilogx(r_plot_bh_2,vel_disp_bh_2[1],'g.',label='w/ IMBH 2')\n",
    "\n",
    "ax1.semilogx(r_plot_wobh_1,vel_disp_wobh_1[1],'r.',label='w/o IMBH 1')\n",
    "ax1.semilogx(r_plot_wobh_2,vel_disp_wobh_2[1],'.',color='orange',label='w/o IMBH 2')\n",
    "\n",
    "ax1.legend(loc=0,numpoints=1)\n",
    "\n",
    "#ax1.errorbar(R,sigtheta_r3d,sigthetaerr,fmt='.')\n",
    "#ax1.set_xlim(0.1,100)\n",
    "ax1.set_xlabel('r/r$_\\mathrm{m}$',fontsize=14)\n",
    "ax1.set_ylabel('azimuthal velocity dispersion [km/s]',fontsize=14)\n",
    "\n",
    "#ax2.set_xlim((0.1/5000)*360*3600/(2*np.pi),(100./5000)*360*3600/(2*np.pi))\n",
    "#ax2.set_xscale('log')\n",
    "#ax2.set_xlabel('mean distance from center [arcsec]',fontsize=14)\n",
    "\n",
    "ax1.spines['top'].set_linewidth(1.5)\n",
    "ax1.spines['right'].set_linewidth(1.5)\n",
    "ax1.spines['bottom'].set_linewidth(1.5)\n",
    "ax1.spines['left'].set_linewidth(1.5)\n",
    "\n",
    "ax1.tick_params(length=8,width=1.5,labelsize=12)\n",
    "#ax2.tick_params(length=8,width=1.5,labelsize=12)\n",
    "ax1.tick_params(which='minor',length=4,width=1.5)\n",
    "#ax2.tick_params(which='minor',length=4,width=1.5)\n",
    "fig.tight_layout()\n",
    "\n",
    "\n",
    "#plt.show()\n",
    "fig.savefig('../../sophia/Bachelorarbeit-Entwurf/Plots/azimuthal_velocity_dispersion.pdf',format='pdf',bbox_inches='tight')"
   ]
  },
  {
   "cell_type": "code",
   "execution_count": 12,
   "metadata": {
    "collapsed": false
   },
   "outputs": [
    {
     "data": {
      "image/png": "[encoded data removed]",
      "text/plain": [
       "<matplotlib.figure.Figure at 0x7fc3be2eae48>"
      ]
     },
     "metadata": {},
     "output_type": "display_data"
    }
   ],
   "source": [
    "### plots polar velocity dispersion ###\n",
    "\n",
    "fig = plt.figure(figsize=(5,4))\n",
    "ax1 = fig.add_subplot(111)\n",
    "#ax2 = ax1.twiny()\n",
    "#ax1.grid(True)\n",
    "\n",
    "#ax1.semilogx(R,sigphi_r3d,'.')\n",
    "ax1.semilogx(r_plot_bh_1,vel_disp_bh_1[2],'b.',label='w/ IMBH 1')\n",
    "ax1.semilogx(r_plot_bh_2,vel_disp_bh_2[2],'g.',label='w/ IMBH 2')\n",
    "ax1.semilogx(r_plot_wobh_1,vel_disp_wobh_1[2],'r.',label='w/o IMBH 1')\n",
    "ax1.semilogx(r_plot_wobh_2,vel_disp_wobh_2[2],'.',color='orange',label='w/o IMBH 2')\n",
    "#ax1.errorbar(R,sigphi_r3d,sigphierr,fmt='.')\n",
    "ax1.legend(loc=0,numpoints=1)\n",
    "\n",
    "#ax1.set_xlim(0.1,100)\n",
    "ax1.set_xlabel('r/r$_\\mathrm{m}$',fontsize=14)\n",
    "ax1.set_ylabel('polar velocity dispersion [km/s]',fontsize=14)\n",
    "\n",
    "#ax2.set_xlim((0.1/5000)*360*3600/(2*np.pi),(100./5000)*360*3600/(2*np.pi))\n",
    "#ax2.set_xscale('log')\n",
    "#ax2.set_xlabel('mean distance from center [arcsec]',fontsize=14)\n",
    "\n",
    "ax1.spines['top'].set_linewidth(1.5)\n",
    "ax1.spines['right'].set_linewidth(1.5)\n",
    "ax1.spines['bottom'].set_linewidth(1.5)\n",
    "ax1.spines['left'].set_linewidth(1.5)\n",
    "\n",
    "ax1.tick_params(length=8,width=1.5,labelsize=12)\n",
    "#ax2.tick_params(length=8,width=1.5,labelsize=12)\n",
    "ax1.tick_params(which='minor',length=4,width=1.5)\n",
    "#ax2.tick_params(which='minor',length=4,width=1.5)\n",
    "fig.tight_layout()\n",
    "\n",
    "\n",
    "fig.savefig('../../sophia/Bachelorarbeit-Entwurf/Plots/polar_velocity_dispersion.pdf',format='pdf',bbox_inches='tight')"
   ]
  },
  {
   "cell_type": "markdown",
   "metadata": {},
   "source": [
    "Anisotropy parameter beta \n",
    "---\n",
    "$$\\beta\\equiv1-\\frac{\\sigma_\\theta^2+\\sigma_\\phi^2}{2\\sigma_r^2}$$\n",
    "\n",
    "Quelle: Binney&Tremaine 2008 eq. (4.61)"
   ]
  },
  {
   "cell_type": "code",
   "execution_count": 13,
   "metadata": {
    "collapsed": false
   },
   "outputs": [
    {
     "data": {
      "image/png": "[encoded data removed]",
      "text/plain": [
       "<matplotlib.figure.Figure at 0x7fc3be132048>"
      ]
     },
     "metadata": {},
     "output_type": "display_data"
    }
   ],
   "source": [
    "### plots anisotropy parameter beta ###\n",
    "\n",
    "fig = plt.figure(figsize=(5,4))\n",
    "ax1 = fig.add_subplot(111)\n",
    "#ax2 = ax1.twiny()\n",
    "\n",
    "#ax1.grid(True)\n",
    "\n",
    "ax1.plot(r_plot_bh_1,beta_bh_1,'b.',label='w/ IMBH 1')\n",
    "ax1.plot(r_plot_bh_2,beta_bh_2,'g.',label='w/ IMBH 2')\n",
    "ax1.plot(r_plot_wobh_1,beta_wobh_1,'r.',label='w/o IMBH 1')\n",
    "ax1.plot(r_plot_wobh_2,beta_wobh_2,'.',color='orange',label='w/o IMBH 2')\n",
    "ax1.set_xlabel('r/r$_\\mathrm{m}$',fontsize=14)\n",
    "ax1.set_ylabel('anisotropy parameter $\\\\beta$',fontsize=14)\n",
    "\n",
    "ax1.legend(loc=0,numpoints=1)\n",
    "\n",
    "#ax2.set_xlim((0./5000)*360*3600/(2*np.pi),(35./5000)*360*3600/(2*np.pi))\n",
    "#ax2.set_xlabel('mean distance from center [arcsec]',fontsize=14)\n",
    "\n",
    "ax1.spines['top'].set_linewidth(1.5)\n",
    "ax1.spines['right'].set_linewidth(1.5)\n",
    "ax1.spines['bottom'].set_linewidth(1.5)\n",
    "ax1.spines['left'].set_linewidth(1.5)\n",
    "\n",
    "ax1.tick_params(length=8,width=1.5,labelsize=12)\n",
    "#ax2.tick_params(length=8,width=1.5,labelsize=12)\n",
    "ax1.tick_params(which='minor',length=4,width=1.5)\n",
    "#ax2.tick_params(which='minor',length=4,width=1.5)\n",
    "fig.tight_layout()\n",
    "\n",
    "fig.savefig('../../sophia/Bachelorarbeit-Entwurf/Plots/anisotropy_parameter_beta.pdf', format='pdf',bbox_inches='tight')"
   ]
  },
  {
   "cell_type": "code",
   "execution_count": 14,
   "metadata": {
    "collapsed": false,
    "scrolled": true
   },
   "outputs": [
    {
     "name": "stdout",
     "output_type": "stream",
     "text": [
      "4.13329 7.8937\n"
     ]
    }
   ],
   "source": [
    "print(hmr_bh_1,hmr_wo_bh_1)"
   ]
  },
  {
   "cell_type": "code",
   "execution_count": null,
   "metadata": {
    "collapsed": true
   },
   "outputs": [],
   "source": []
  },
  {
   "cell_type": "code",
   "execution_count": null,
   "metadata": {
    "collapsed": true
   },
   "outputs": [],
   "source": []
  }
 ],
 "metadata": {
  "kernelspec": {
   "display_name": "Python 3",
   "language": "python",
   "name": "python3"
  },
  "language_info": {
   "codemirror_mode": {
    "name": "ipython",
    "version": 3
   },
   "file_extension": ".py",
   "mimetype": "text/x-python",
   "name": "python",
   "nbconvert_exporter": "python",
   "pygments_lexer": "ipython3",
   "version": "3.4.3"
  }
 },
 "nbformat": 4,
 "nbformat_minor": 0
}
