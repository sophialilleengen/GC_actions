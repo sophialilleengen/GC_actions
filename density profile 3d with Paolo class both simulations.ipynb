{
 "cells": [
  {
   "cell_type": "code",
   "execution_count": 1,
   "metadata": {
    "collapsed": true
   },
   "outputs": [],
   "source": [
    "import numpy as np\n",
    "import matplotlib.pyplot as plt\n",
    "from scipy import interpolate\n",
    "from scipy import constants as cs\n",
    "from astropy import units as un\n",
    "import sys\n",
    "sys.path.insert(0, '/home/sophia/bachelor_thesis_ipython_notebooks')\n",
    "\n",
    "from Paolo_class import GCphasespace\n",
    "from GC_Orbit_class import GCorbit\n",
    "\n",
    "%matplotlib inline"
   ]
  },
  {
   "cell_type": "code",
   "execution_count": 2,
   "metadata": {
    "collapsed": false
   },
   "outputs": [],
   "source": [
    "### import data of simulation 1 with IMBH ###\n",
    "if 0:\n",
    "    r_3d,m1,m2,x,y,z=np.loadtxt('C:\\\\Users\\Sophia Milanov\\Documents\\Bachelorarbeit\\data\\\\x-y-z.dat', usecols=(1,9,10,30,31,32), unpack=True)\n",
    "elif 1:\n",
    "    r_3d_1,m1_1,m2_1,x_1,y_1,z_1=np.loadtxt('/home/sophia/Dokumente/Bachelorarbeit-2/x-y-z_IMBH1.dat', usecols=(1,9,10,30,31,32), unpack=True)\n",
    "else:\n",
    "    r_3d,m1,m2,x,y,z=np.loadtxt('/home/milanov/Bachelorarbeit/x-y-z.dat', usecols=(1,9,10,30,31,32), unpack=True)"
   ]
  },
  {
   "cell_type": "code",
   "execution_count": 3,
   "metadata": {
    "collapsed": false
   },
   "outputs": [],
   "source": [
    "### import data of simulation 2 with IMBH ###\n",
    "if 0:\n",
    "    r_3d,m1,m2,x,y,z=np.loadtxt('C:\\\\Users\\Sophia Milanov\\Documents\\Bachelorarbeit\\data\\\\x-y-z.dat', usecols=(1,9,10,30,31,32), unpack=True)\n",
    "elif 1:\n",
    "    r_3d_2,m1_2,m2_2,x_2,y_2,z_2=np.loadtxt('/home/sophia/Dokumente/Bachelorarbeit-2/x-y-z_IMBH2.dat', usecols=(1,9,10,30,31,32), unpack=True)\n",
    "else:\n",
    "    r_3d,m1,m2,x,y,z=np.loadtxt('/home/milanov/Bachelorarbeit/x-y-z.dat', usecols=(1,9,10,30,31,32), unpack=True)"
   ]
  },
  {
   "cell_type": "code",
   "execution_count": 4,
   "metadata": {
    "collapsed": true
   },
   "outputs": [],
   "source": [
    "### import data for simulation 1 w/o IMBH ###\n",
    "if 0:\n",
    "    r_3d_wo,m1_wo,m2_wo,x_wo,y_wo,z_wo,vx_wo,vy_wo,vz_wo=np.loadtxt('C:\\\\Users\\Sophia Milanov\\Documents\\Bachelorarbeit\\data\\\\x-y-z.dat', usecols=(1,9,10,30,31,32,33,34,35), unpack=True)\n",
    "elif 1:\n",
    "    r_3d_wo_1,m1_wo_1,m2_wo_1,x_wo_1,y_wo_1,z_wo_1=np.loadtxt('/home/sophia/Dokumente/Bachelorarbeit-2/x-y-z_noIMBH1.dat', usecols=(1,9,10,29,30,31), unpack=True)\n",
    "else:\n",
    "    r_3d,m1,m2,x,y,z,vx,vy,vz=np.loadtxt('/home/milanov/Bachelorarbeit/x-y-z.dat', usecols=(1,9,10,30,31,32,33,34,35), unpack=True)"
   ]
  },
  {
   "cell_type": "code",
   "execution_count": 5,
   "metadata": {
    "collapsed": true
   },
   "outputs": [],
   "source": [
    "### import data for simulation 2 w/o IMBH ###\n",
    "if 0:\n",
    "    r_3d_wo,m1_wo,m2_wo,x_wo,y_wo,z_wo,vx_wo,vy_wo,vz_wo=np.loadtxt('C:\\\\Users\\Sophia Milanov\\Documents\\Bachelorarbeit\\data\\\\x-y-z.dat', usecols=(1,9,10,30,31,32,33,34,35), unpack=True)\n",
    "elif 1:\n",
    "    r_3d_wo_2,m1_wo_2,m2_wo_2,x_wo_2,y_wo_2,z_wo_2=np.loadtxt('/home/sophia/Dokumente/Bachelorarbeit-2/x-y-z_noIMBH2.dat', usecols=(1,9,10,30,31,32), unpack=True)\n",
    "else:\n",
    "    r_3d,m1,m2,x,y,z,vx,vy,vz=np.loadtxt('/home/milanov/Bachelorarbeit/x-y-z.dat', usecols=(1,9,10,30,31,32,33,34,35), unpack=True)"
   ]
  },
  {
   "cell_type": "code",
   "execution_count": 6,
   "metadata": {
    "collapsed": true
   },
   "outputs": [],
   "source": [
    "### initialize phasespace objects ###\n",
    "wobh_1=GCphasespace(r_3d_wo_1,bin_num=20)\n",
    "bh_1=GCphasespace(r_3d_1,bin_num=20)\n",
    "wobh_2=GCphasespace(r_3d_wo_2,bin_num=20)\n",
    "bh_2=GCphasespace(r_3d_2,bin_num=20)\n"
   ]
  },
  {
   "cell_type": "code",
   "execution_count": 7,
   "metadata": {
    "collapsed": true
   },
   "outputs": [],
   "source": [
    "### load half light and half mass radii for both simulations ###\n",
    "hmr_bh_1,hmr_bh_2,hlr_bh_1,hlr_bh_2,hmr_wo_bh_1,hmr_wo_bh_2,hlr_wo_1,hlr_wo_2=np.loadtxt('half_mass_and_half_light_radius')"
   ]
  },
  {
   "cell_type": "code",
   "execution_count": 8,
   "metadata": {
    "collapsed": false
   },
   "outputs": [],
   "source": [
    "### take IMBH out of data 1###\n",
    "mges_1=np.sum(m1_1+m2_1)\n",
    "r3d0_1=r_3d_1[0]\n",
    "m10_1=m1_1[0]\n",
    "m20_1=m2_1[0]\n",
    "x0_1=x_1[0]\n",
    "y0_1=y_1[0]\n",
    "z0_1=z_1[0]\n",
    "\n",
    "r_3d_crop_1=r_3d_1[1:]\n",
    "m1_crop_1=m1_1[1:]\n",
    "m2_crop_1=m2_1[1:]\n",
    "x_crop_1=x_1[1:]\n",
    "y_crop_1=y_1[1:]\n",
    "z_crop_1=z_1[1:]"
   ]
  },
  {
   "cell_type": "code",
   "execution_count": 9,
   "metadata": {
    "collapsed": false
   },
   "outputs": [],
   "source": [
    "### take IMBH out of data 2###\n",
    "mges_2=np.sum(m1_2+m2_2)\n",
    "r3d0_2=r_3d_2[0]\n",
    "m10_2=m1_2[0]\n",
    "m20_2=m2_2[0]\n",
    "x0_2=x_2[0]\n",
    "y0_2=y_2[0]\n",
    "z0_2=z_2[0]\n",
    "\n",
    "r_3d_crop_2=r_3d_2[1:]\n",
    "m1_crop_2=m1_2[1:]\n",
    "m2_crop_2=m2_2[1:]\n",
    "x_crop_2=x_2[1:]\n",
    "y_crop_2=y_2[1:]\n",
    "z_crop_2=z_2[1:]"
   ]
  },
  {
   "cell_type": "code",
   "execution_count": 10,
   "metadata": {
    "collapsed": false
   },
   "outputs": [
    {
     "name": "stdout",
     "output_type": "stream",
     "text": [
      "0 219\n",
      "1 378\n",
      "2 742\n",
      "3 1567\n",
      "4 3092\n",
      "5 6360\n",
      "6 13488\n",
      "7 28127\n",
      "8 53384\n",
      "9 90536\n",
      "10 134289\n",
      "11 169023\n",
      "12 175311\n",
      "13 149928\n",
      "14 104902\n",
      "15 63180\n",
      "16 29994\n",
      "17 1783\n",
      "18 87\n",
      "19 43\n",
      "0 83\n",
      "1 147\n",
      "2 179\n",
      "3 224\n",
      "4 390\n",
      "5 476\n",
      "6 742\n",
      "7 964\n",
      "8 1544\n",
      "9 2172\n",
      "10 3424\n",
      "11 5057\n",
      "12 7427\n",
      "13 10941\n",
      "14 16090\n",
      "15 23098\n",
      "16 31788\n",
      "17 43330\n",
      "18 55608\n",
      "19 67961\n",
      "0 325\n",
      "1 721\n",
      "2 1407\n",
      "3 2877\n",
      "4 5524\n",
      "5 9918\n",
      "6 16996\n",
      "7 26721\n",
      "8 38244\n",
      "9 49545\n",
      "10 57693\n",
      "11 60089\n",
      "12 56271\n",
      "13 47111\n",
      "14 35392\n",
      "15 24956\n",
      "16 16488\n",
      "17 10428\n",
      "18 5720\n",
      "19 1900\n",
      "0 459\n",
      "1 1021\n",
      "2 2329\n",
      "3 5029\n",
      "4 10457\n",
      "5 20949\n",
      "6 39182\n",
      "7 68204\n",
      "8 107184\n",
      "9 154893\n",
      "10 202552\n",
      "11 237092\n",
      "12 247441\n",
      "13 230772\n",
      "14 188889\n",
      "15 139741\n",
      "16 94296\n",
      "17 58686\n",
      "18 31810\n",
      "19 10269\n"
     ]
    }
   ],
   "source": [
    "### calculate mean density and its mean radius and save them ###\n",
    "r_dens_bh_1,dens_bh_1=bh_1.density(r_3d_crop_1,m1_crop_1,m2_crop_1,r_3d_crop_1[300],np.max(r_3d_crop_1),step=20) \n",
    "r_dens_bh_2,dens_bh_2=bh_2.density(r_3d_crop_2,m1_crop_2,m2_crop_2,r_3d_crop_2[300],np.max(r_3d_crop_2),step=20) \n",
    "r_dens_wobh_1,dens_wobh_1=wobh_1.density(r_3d_wo_1,m1_wo_1,m2_wo_1,r_3d_wo_1[300],np.max(r_3d_wo_1),step=20) \n",
    "r_dens_wobh_2,dens_wobh_2=wobh_2.density(r_3d_wo_2,m1_wo_2,m2_wo_2,r_3d_wo_2[300],np.max(r_3d_wo_2),step=20) \n",
    "\n",
    "np.savetxt('densityfile_IMBH1.txt',(r_dens_bh_1,dens_bh_1))\n",
    "np.savetxt('densityfile_IMBH2.txt',(r_dens_bh_2,dens_bh_2))\n",
    "np.savetxt('densityfile_noIMBH1.txt',(r_dens_wobh_1,dens_wobh_1))\n",
    "np.savetxt('densityfile_noIMBH2.txt',(r_dens_wobh_2,dens_wobh_2))\n"
   ]
  },
  {
   "cell_type": "code",
   "execution_count": 11,
   "metadata": {
    "collapsed": false
   },
   "outputs": [],
   "source": [
    "### calculate distance over effective radius ###\n",
    "r_plot_bh_1=r_dens_bh_1/hmr_bh_1\n",
    "r_plot_bh_2=r_dens_bh_2/hmr_bh_2\n",
    "r_plot_wobh_1= r_dens_wobh_1/hmr_wo_bh_1\n",
    "r_plot_wobh_2= r_dens_wobh_2/hmr_wo_bh_2"
   ]
  },
  {
   "cell_type": "code",
   "execution_count": 12,
   "metadata": {
    "collapsed": false
   },
   "outputs": [
    {
     "name": "stderr",
     "output_type": "stream",
     "text": [
      "/home/sophia/bachelor_thesis_ipython_notebooks/GC_Orbit_class.py:68: RuntimeWarning: overflow encountered in exp\n",
      "  density= np.exp(self.s(np.log(r)))\n"
     ]
    }
   ],
   "source": [
    "### initialize orbit objects ###\n",
    "orb_bh_1=GCorbit(inputfilename='densityfile_IMBH1.txt',bhmass_M_sun=m10_1+m20_1)\n",
    "orb_bh_2=GCorbit(inputfilename='densityfile_IMBH2.txt',bhmass_M_sun=m10_2+m20_2)\n",
    "orb_wobh_1=GCorbit(inputfilename='densityfile_noIMBH1.txt')\n",
    "orb_wobh_2=GCorbit(inputfilename='densityfile_noIMBH2.txt')"
   ]
  },
  {
   "cell_type": "code",
   "execution_count": 13,
   "metadata": {
    "collapsed": true
   },
   "outputs": [],
   "source": [
    "### interpolate density ###\n",
    "intpol_dens_bh_1=orb_bh_1.density(r_3d_crop_1)\n",
    "intpol_dens_bh_2=orb_bh_2.density(r_3d_crop_2)\n",
    "intpol_dens_wobh_1=orb_wobh_1.density(r_3d_wo_1)\n",
    "intpol_dens_wobh_2=orb_wobh_2.density(r_3d_wo_2)"
   ]
  },
  {
   "cell_type": "code",
   "execution_count": 14,
   "metadata": {
    "collapsed": false
   },
   "outputs": [
    {
     "data": {
      "image/png": "[encoded data removed]",
      "text/plain": [
       "<matplotlib.figure.Figure at 0x7f77eb4ee320>"
      ]
     },
     "metadata": {},
     "output_type": "display_data"
    }
   ],
   "source": [
    "### plot both densities over r over effective radius ###\n",
    "fig = plt.figure(figsize=(5,4))\n",
    "ax1 = fig.add_subplot(111)\n",
    "#ax2 = ax1.twiny()\n",
    "\n",
    "ax1.loglog(r_plot_bh_1,dens_bh_1,'b.',label='w/ IMBH 1')\n",
    "#ax1.loglog(r_plot_bh_2,dens_bh_2,'g.',label='w/ IMBH 2')\n",
    "ax1.loglog(r_plot_wobh_1,dens_wobh_1,'r.', label='w/o IMBH 1')\n",
    "#ax1.loglog(r_plot_wobh_2,dens_wobh_2,'.',color='orange', label='w/o IMBH 2')\n",
    "ax1.legend(loc=0,numpoints=1)\n",
    "\n",
    "#ax1.set_xlim(0.01,100)\n",
    "#ax1.set_ylim(0.00001,1000000)\n",
    "ax1.set_xlabel('r/r$_\\mathrm{e}$',fontsize=14)\n",
    "ax1.set_ylabel('mass density [$\\mathrm{M}_\\odot/\\mathrm{pc}^2$]',fontsize=14)\n",
    "\n",
    "#ax2.set_xlim((0.01/5000)*360*3600/(2*np.pi),(100./5000)*360*3600/(2*np.pi)) #calculates x limits from parsec to arcsec\n",
    "#ax2.set_xscale('log')\n",
    "#ax2.set_xlabel('mean distance from center [arcsec]',fontsize=14)\n",
    "\n",
    "#fig.savefig('3d density profile numerical fit without imbh')\n",
    "ax1.spines['top'].set_linewidth(1.5)\n",
    "ax1.spines['right'].set_linewidth(1.5)\n",
    "ax1.spines['bottom'].set_linewidth(1.5)\n",
    "ax1.spines['left'].set_linewidth(1.5)\n",
    "\n",
    "ax1.tick_params(length=8,width=1.5,labelsize=12)\n",
    "#ax2.tick_params(length=8,width=1.5,labelsize=12)\n",
    "ax1.tick_params(which='minor',length=4,width=1.5)\n",
    "#ax2.tick_params(which='minor',length=4,width=1.5)\n",
    "fig.tight_layout()"
   ]
  },
  {
   "cell_type": "code",
   "execution_count": 15,
   "metadata": {
    "collapsed": false
   },
   "outputs": [
    {
     "ename": "NameError",
     "evalue": "name 'r_dens_bh' is not defined",
     "output_type": "error",
     "traceback": [
      "\u001b[1;31m---------------------------------------------------------------------------\u001b[0m",
      "\u001b[1;31mNameError\u001b[0m                                 Traceback (most recent call last)",
      "\u001b[1;32m<ipython-input-15-7d0fe63e8e2f>\u001b[0m in \u001b[0;36m<module>\u001b[1;34m()\u001b[0m\n\u001b[0;32m      4\u001b[0m \u001b[1;31m#ax2 = ax1.twiny()\u001b[0m\u001b[1;33m\u001b[0m\u001b[1;33m\u001b[0m\u001b[0m\n\u001b[0;32m      5\u001b[0m \u001b[1;33m\u001b[0m\u001b[0m\n\u001b[1;32m----> 6\u001b[1;33m \u001b[0max1\u001b[0m\u001b[1;33m.\u001b[0m\u001b[0mloglog\u001b[0m\u001b[1;33m(\u001b[0m\u001b[0mr_dens_bh\u001b[0m\u001b[1;33m,\u001b[0m\u001b[0mdens_bh\u001b[0m\u001b[1;33m,\u001b[0m\u001b[1;34m'b.'\u001b[0m\u001b[1;33m,\u001b[0m\u001b[0mr_3d\u001b[0m\u001b[1;33m,\u001b[0m\u001b[0mintpol_dens_bh\u001b[0m\u001b[1;33m,\u001b[0m\u001b[0mlabel\u001b[0m\u001b[1;33m=\u001b[0m\u001b[1;34m'w/ IMBH'\u001b[0m\u001b[1;33m)\u001b[0m\u001b[1;33m\u001b[0m\u001b[0m\n\u001b[0m\u001b[0;32m      7\u001b[0m \u001b[0max1\u001b[0m\u001b[1;33m.\u001b[0m\u001b[0mloglog\u001b[0m\u001b[1;33m(\u001b[0m\u001b[0mr_dens_wobh\u001b[0m\u001b[1;33m,\u001b[0m\u001b[0mdens_wobh\u001b[0m\u001b[1;33m,\u001b[0m\u001b[1;34m'r.'\u001b[0m\u001b[1;33m,\u001b[0m\u001b[0mr_3d_wo\u001b[0m\u001b[1;33m,\u001b[0m\u001b[0mintpol_dens_wobh\u001b[0m\u001b[1;33m,\u001b[0m \u001b[0mlabel\u001b[0m\u001b[1;33m=\u001b[0m\u001b[1;34m'w/o IMBH'\u001b[0m\u001b[1;33m)\u001b[0m\u001b[1;33m\u001b[0m\u001b[0m\n\u001b[0;32m      8\u001b[0m \u001b[0max1\u001b[0m\u001b[1;33m.\u001b[0m\u001b[0mlegend\u001b[0m\u001b[1;33m(\u001b[0m\u001b[0mloc\u001b[0m\u001b[1;33m=\u001b[0m\u001b[1;36m0\u001b[0m\u001b[1;33m,\u001b[0m\u001b[0mnumpoints\u001b[0m\u001b[1;33m=\u001b[0m\u001b[1;36m1\u001b[0m\u001b[1;33m)\u001b[0m\u001b[1;33m\u001b[0m\u001b[0m\n",
      "\u001b[1;31mNameError\u001b[0m: name 'r_dens_bh' is not defined"
     ]
    },
    {
     "data": {
      "image/png": "[encoded data removed]",
      "text/plain": [
       "<matplotlib.figure.Figure at 0x7f77f451b668>"
      ]
     },
     "metadata": {},
     "output_type": "display_data"
    }
   ],
   "source": [
    "### plot both densities and interpolations over r ###\n",
    "fig = plt.figure(figsize=(5,4))\n",
    "ax1 = fig.add_subplot(111)\n",
    "#ax2 = ax1.twiny()\n",
    "\n",
    "ax1.loglog(r_dens_bh,dens_bh,'b.',r_3d,intpol_dens_bh,label='w/ IMBH')\n",
    "ax1.loglog(r_dens_wobh,dens_wobh,'r.',r_3d_wo,intpol_dens_wobh, label='w/o IMBH')\n",
    "ax1.legend(loc=0,numpoints=1)\n",
    "\n",
    "#ax1.set_xlim(0.01,100)\n",
    "#ax1.set_ylim(0.00001,1000000)\n",
    "ax1.set_xlabel('mean distance to center[pc]',fontsize=14)\n",
    "ax1.set_ylabel('mass density [$\\mathrm{M}_\\odot/\\mathrm{pc}^2$]',fontsize=14)\n",
    "\n",
    "#ax2.set_xlim((0.01/5000)*360*3600/(2*np.pi),(100./5000)*360*3600/(2*np.pi)) #calculates x limits from parsec to arcsec\n",
    "#ax2.set_xscale('log')\n",
    "#ax2.set_xlabel('mean distance from center [arcsec]',fontsize=14)\n",
    "\n",
    "#fig.savefig('3d density profile numerical fit without imbh')\n",
    "ax1.spines['top'].set_linewidth(1.5)\n",
    "ax1.spines['right'].set_linewidth(1.5)\n",
    "ax1.spines['bottom'].set_linewidth(1.5)\n",
    "ax1.spines['left'].set_linewidth(1.5)\n",
    "\n",
    "ax1.tick_params(length=8,width=1.5,labelsize=12)\n",
    "#ax2.tick_params(length=8,width=1.5,labelsize=12)\n",
    "ax1.tick_params(which='minor',length=4,width=1.5)\n",
    "#ax2.tick_params(which='minor',length=4,width=1.5)\n",
    "fig.tight_layout()"
   ]
  },
  {
   "cell_type": "code",
   "execution_count": null,
   "metadata": {
    "collapsed": true
   },
   "outputs": [],
   "source": []
  }
 ],
 "metadata": {
  "kernelspec": {
   "display_name": "Python 3",
   "language": "python",
   "name": "python3"
  },
  "language_info": {
   "codemirror_mode": {
    "name": "ipython",
    "version": 3
   },
   "file_extension": ".py",
   "mimetype": "text/x-python",
   "name": "python",
   "nbconvert_exporter": "python",
   "pygments_lexer": "ipython3",
   "version": "3.4.3"
  }
 },
 "nbformat": 4,
 "nbformat_minor": 0
}
