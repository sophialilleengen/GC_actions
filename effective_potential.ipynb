{
 "cells": [
  {
   "cell_type": "code",
   "execution_count": 1,
   "metadata": {
    "collapsed": true
   },
   "outputs": [],
   "source": [
    "import numpy as np\n",
    "import matplotlib.pyplot as plt\n",
    "import sys\n",
    "sys.path.insert(0, '/home/sophia/bachelor_thesis_ipython_notebooks')\n",
    "\n",
    "from Paolo_class import GCphasespace\n",
    "from GC_Orbit_class import GCorbit\n",
    "%matplotlib inline"
   ]
  },
  {
   "cell_type": "code",
   "execution_count": 2,
   "metadata": {
    "collapsed": false
   },
   "outputs": [],
   "source": [
    "### import data of simulation 1 with IMBH ###\n",
    "\n",
    "if 0:\n",
    "    r_3d,v_r,v_t,x,y,z,vx,vy,vz,vr,vtheta,vphi=np.loadtxt('C:\\\\Users\\Sophia Milanov\\Documents\\Bachelorarbeit\\data\\\\x-y-z.dat', usecols=(1,2,3,30,31,32,33,34,35,36,37,38), unpack=True)\n",
    "elif 1:\n",
    "    r_3d_1,m1_1,m2_1,x_1,y_1,z_1,vx_1,vy_1,vz_1=np.loadtxt('/home/sophia/Dokumente/Bachelorarbeit-2/x-y-z_IMBH1.dat', usecols=(1,9,10,30,31,32,33,34,35), unpack=True)\n",
    "else:\n",
    "    r_3d,v_r,v_t,x,y,z,vx,vy,vz,vr,vtheta,vphi=np.loadtxt('/home/milanov/Bachelorarbeit/x-y-z.dat', usecols=(1,2,3,30,31,32,33,34,35,36,37,38), unpack=True)"
   ]
  },
  {
   "cell_type": "code",
   "execution_count": 3,
   "metadata": {
    "collapsed": true
   },
   "outputs": [],
   "source": [
    "### import data of simulation 2 with IMBH ###\n",
    "\n",
    "if 0:\n",
    "    r_3d,v_r,v_t,x,y,z,vx,vy,vz,vr,vtheta,vphi=np.loadtxt('C:\\\\Users\\Sophia Milanov\\Documents\\Bachelorarbeit\\data\\\\x-y-z.dat', usecols=(1,2,3,30,31,32,33,34,35,36,37,38), unpack=True)\n",
    "elif 1:\n",
    "    r_3d_2,m1_2,m2_2,x_2,y_2,z_2,vx_2,vy_2,vz_2=np.loadtxt('/home/sophia/Dokumente/Bachelorarbeit-2/x-y-z_IMBH2.dat', usecols=(1,9,10,30,31,32,33,34,35), unpack=True)\n",
    "else:\n",
    "    r_3d,v_r,v_t,x,y,z,vx,vy,vz,vr,vtheta,vphi=np.loadtxt('/home/milanov/Bachelorarbeit/x-y-z.dat', usecols=(1,2,3,30,31,32,33,34,35,36,37,38), unpack=True)"
   ]
  },
  {
   "cell_type": "code",
   "execution_count": 4,
   "metadata": {
    "collapsed": true
   },
   "outputs": [],
   "source": [
    "### import data of simulation 1 without IMBH ###\n",
    "if 0:\n",
    "    r_3d_wo,m1_wo,m2_wo,x_wo,y_wo,z_wo,vx_wo,vy_wo,vz_wo=np.loadtxt('C:\\\\Users\\Sophia Milanov\\Documents\\Bachelorarbeit\\data\\\\x-y-z.dat', usecols=(1,9,10,30,31,32,33,34,35), unpack=True)\n",
    "elif 1:\n",
    "    r_3d_wo_1,m1_wo_1,m2_wo_1,x_wo_1,y_wo_1,z_wo_1,vx_wo_1,vy_wo_1,vz_wo_1=np.loadtxt('/home/sophia/Dokumente/Bachelorarbeit-2/x-y-z_noIMBH1.dat', usecols=(1,9,10,29,30,31,32,33,34), unpack=True)\n",
    "else:\n",
    "    r_3d,m1,m2,x,y,z#,vx,vy,vz=np.loadtxt('/home/milanov/Bachelorarbeit/x-y-z.dat', usecols=(1,9,10,30,31,32,33,34,35), unpack=True)"
   ]
  },
  {
   "cell_type": "code",
   "execution_count": 5,
   "metadata": {
    "collapsed": true
   },
   "outputs": [],
   "source": [
    "### import data of simulation 2 without IMBH ###\n",
    "if 0:\n",
    "    r_3d_wo,m1_wo,m2_wo,x_wo,y_wo,z_wo,vx_wo,vy_wo,vz_wo=np.loadtxt('C:\\\\Users\\Sophia Milanov\\Documents\\Bachelorarbeit\\data\\\\x-y-z.dat', usecols=(1,9,10,30,31,32,33,34,35), unpack=True)\n",
    "elif 1:\n",
    "    r_3d_wo_2,m1_wo_2,m2_wo_2,x_wo_2,y_wo_2,z_wo_2,vx_wo_2,vy_wo_2,vz_wo_2,=np.loadtxt('/home/sophia/Dokumente/Bachelorarbeit-2/x-y-z_noIMBH2.dat', usecols=(1,9,10,30,31,32,33,34,35), unpack=True)\n",
    "else:\n",
    "    r_3d,m1,m2,x,y,z#,vx,vy,vz=np.loadtxt('/home/milanov/Bachelorarbeit/x-y-z.dat', usecols=(1,9,10,30,31,32,33,34,35), unpack=True)"
   ]
  },
  {
   "cell_type": "code",
   "execution_count": 6,
   "metadata": {
    "collapsed": true
   },
   "outputs": [],
   "source": [
    "### load radii, actions, half light and half mass radii for simulations ###\n",
    "r3d_1,J_phi_1,J_theta_1,J_r_1=np.loadtxt('../../sophia/Dokumente/Bachelorarbeit-2/actions_IMBH1.txt')\n",
    "r3d_2,J_phi_2,J_theta_2,J_r_2=np.loadtxt('../../sophia/Dokumente/Bachelorarbeit-2/actions_IMBH2.txt')\n",
    "r3d_wo_1,J_phi_wo_1,J_theta_wo_1,J_r_wo_1=np.loadtxt('../../sophia/Dokumente/Bachelorarbeit-2/actions_noIMBH1.txt')\n",
    "r3d_wo_2,J_phi_wo_2,J_theta_wo_2,J_r_wo_2=np.loadtxt('../../sophia/Dokumente/Bachelorarbeit-2/actions_noIMBH2.txt')\n",
    "hmr_bh_1,hmr_bh_2,hlr_bh_1,hlr_bh_2,hmr_wo_bh_1,hmr_wo_bh_2,hlr_wo_bh_1,hlr_wo_bh_2=np.loadtxt('half_mass_and_half_light_radius')"
   ]
  },
  {
   "cell_type": "code",
   "execution_count": 7,
   "metadata": {
    "collapsed": false
   },
   "outputs": [
    {
     "name": "stderr",
     "output_type": "stream",
     "text": [
      "/home/sophia/bachelor_thesis_ipython_notebooks/GC_Orbit_class.py:68: RuntimeWarning: overflow encountered in exp\n",
      "  density= np.exp(self.s(np.log(r)))\n"
     ]
    }
   ],
   "source": [
    "### initialize orbit class ###\n",
    "\n",
    "bh_orbit_1=GCorbit(inputfilename='densityfile_IMBH1.txt',bhmass_M_sun=m1_1[0]+m2_1[0])\n",
    "bh_orbit_2=GCorbit(inputfilename='densityfile_IMBH2.txt',bhmass_M_sun=m1_2[0]+m2_2[0])\n",
    "wobh_orbit_1=GCorbit(inputfilename='densityfile_noIMBH1.txt')\n",
    "wobh_orbit_2=GCorbit(inputfilename='densityfile_noIMBH2.txt')"
   ]
  },
  {
   "cell_type": "code",
   "execution_count": 8,
   "metadata": {
    "collapsed": false
   },
   "outputs": [],
   "source": [
    "### loads guiding star radii for every star of both simulations ###\n",
    "r_guide_bh_1=np.loadtxt('../../sophia/Dokumente/Bachelorarbeit-2/r_guide_IMBH1.txt',unpack='True')\n",
    "r_guide_bh_2=np.loadtxt('../../sophia/Dokumente/Bachelorarbeit-2/r_guide_IMBH2.txt',unpack='True')\n",
    "r_guide_wobh_1=np.loadtxt('../../sophia/Dokumente/Bachelorarbeit-2/r_guide_noIMBH1.txt',unpack='True')\n",
    "r_guide_wobh_2=np.loadtxt('../../sophia/Dokumente/Bachelorarbeit-2/r_guide_noIMBH2.txt',unpack='True')\n"
   ]
  },
  {
   "cell_type": "code",
   "execution_count": null,
   "metadata": {
    "collapsed": true
   },
   "outputs": [],
   "source": [
    "per_1=np.zeros(len(r_3d_1[1:]))\n",
    "per_2=np.zeros(len(r_3d_2[1:]))\n",
    "per_wo_1=np.zeros(len(r_3d_wo_1[1:]))\n",
    "per_wo_2=np.zeros(len(r_3d_wo_2[1:]))\n",
    "\n",
    "r_3d_1=r_3d_1[1:]\n",
    "r_3d_2=r_3d_2[1:]\n",
    "x_1=x_1[1:]\n",
    "x_2=x_2[1:]\n",
    "y_1=y_1[1:]\n",
    "y_2=y_2[1:]\n",
    "z_1=z_1[1:]\n",
    "z_2=z_2[1:]\n",
    "vx_1=vx_1[1:]\n",
    "vx_2=vx_2[1:]\n",
    "vy_1=vy_1[1:]\n",
    "vy_2=vy_2[1:]\n",
    "vz_1=vz_1[1:]\n",
    "vz_2=vz_2[1:]"
   ]
  },
  {
   "cell_type": "code",
   "execution_count": null,
   "metadata": {
    "collapsed": false
   },
   "outputs": [],
   "source": [
    "for i in range(len(r_3d_1[1:])):\n",
    "    per_1[i]=bh_orbit_1.periapocenter(r_3d_1[i],x_1[i],y_1[i],z_1[i],vx_1[i],vy_1[i],vz_1[i])[0]\n",
    "for i in range(len(r_3d_2[1:])):\n",
    "    per_2[i]=bh_orbit_2.periapocenter(r_3d_2[i],x_2[i],y_2[i],z_2[i],vx_2[i],vy_2[i],vz_2[i])[0]\n",
    "for i in range(len(r_3d_wo_1[1:])):\n",
    "    per_wo_1[i]=wobh_orbit_1.periapocenter(r_3d_wo_1[i],x_wo_1[i],y_wo_1[i],z_wo_1[i],vx_wo_1[i],vy_wo_1[i],vz_wo_1[i])[0]\n",
    "for i in range(len(r_3d_wo_2[1:])):\n",
    "    per_wo_2[i]=wobh_orbit_2.periapocenter(r_3d_wo_2[i],x_wo_2[i],y_wo_2[i],z_wo_2[i],vx_wo_2[i],vy_wo_2[i],vz_wo_2[i])[0]"
   ]
  },
  {
   "cell_type": "code",
   "execution_count": null,
   "metadata": {
    "collapsed": false
   },
   "outputs": [],
   "source": [
    "np.savetxt('../Dokumente/Bachelorarbeit-2/per_IMBH1.txt',(per_1))\n",
    "np.savetxt('../Dokumente/Bachelorarbeit-2/per_IMBH2.txt',(per_2))\n",
    "np.savetxt('../Dokumente/Bachelorarbeit-2/per_noIMBH1.txt',(per_wo_1))\n",
    "np.savetxt('../Dokumente/Bachelorarbeit-2/per_noIMBH2.txt',(per_wo_2))\n"
   ]
  },
  {
   "cell_type": "code",
   "execution_count": 8,
   "metadata": {
    "collapsed": false
   },
   "outputs": [
    {
     "ename": "NameError",
     "evalue": "name 'r_guide_bh_1' is not defined",
     "output_type": "error",
     "traceback": [
      "\u001b[1;31m---------------------------------------------------------------------------\u001b[0m",
      "\u001b[1;31mNameError\u001b[0m                                 Traceback (most recent call last)",
      "\u001b[1;32m<ipython-input-8-08fecfc7dbb6>\u001b[0m in \u001b[0;36m<module>\u001b[1;34m()\u001b[0m\n\u001b[0;32m      2\u001b[0m \u001b[1;33m\u001b[0m\u001b[0m\n\u001b[0;32m      3\u001b[0m \u001b[1;31m#with IMBH 1\u001b[0m\u001b[1;33m\u001b[0m\u001b[1;33m\u001b[0m\u001b[0m\n\u001b[1;32m----> 4\u001b[1;33m \u001b[0mr_guide_bh_argsort_1\u001b[0m\u001b[1;33m=\u001b[0m\u001b[0mnp\u001b[0m\u001b[1;33m.\u001b[0m\u001b[0margsort\u001b[0m\u001b[1;33m(\u001b[0m\u001b[0mr_guide_bh_1\u001b[0m\u001b[1;33m)\u001b[0m\u001b[1;33m\u001b[0m\u001b[0m\n\u001b[0m\u001b[0;32m      5\u001b[0m \u001b[0mr_guide_bh_sort_1\u001b[0m\u001b[1;33m=\u001b[0m\u001b[0mr_guide_bh_1\u001b[0m\u001b[1;33m[\u001b[0m\u001b[0mr_guide_bh_argsort_1\u001b[0m\u001b[1;33m]\u001b[0m\u001b[1;33m\u001b[0m\u001b[0m\n\u001b[0;32m      6\u001b[0m \u001b[0mJ_r_bh_sort_1\u001b[0m\u001b[1;33m=\u001b[0m\u001b[0mJ_r_1\u001b[0m\u001b[1;33m[\u001b[0m\u001b[0mr_guide_bh_argsort_1\u001b[0m\u001b[1;33m]\u001b[0m\u001b[1;33m\u001b[0m\u001b[0m\n",
      "\u001b[1;31mNameError\u001b[0m: name 'r_guide_bh_1' is not defined"
     ]
    }
   ],
   "source": [
    "### sorts action arrays as guiding star radius array is sorted ###\n",
    "\n",
    "#with IMBH 1\n",
    "r_guide_bh_argsort_1=np.argsort(r_guide_bh_1)\n",
    "r_guide_bh_sort_1=r_guide_bh_1[r_guide_bh_argsort_1]\n",
    "J_r_bh_sort_1=J_r_1[r_guide_bh_argsort_1]\n",
    "J_theta_bh_sort_1=J_theta_1[r_guide_bh_argsort_1]\n",
    "J_phi_bh_sort_1=J_phi_1[r_guide_bh_argsort_1]"
   ]
  },
  {
   "cell_type": "code",
   "execution_count": null,
   "metadata": {
    "collapsed": true
   },
   "outputs": [],
   "source": []
  },
  {
   "cell_type": "markdown",
   "metadata": {
    "collapsed": true
   },
   "source": [
    "#with IMBH 2\n",
    "r_guide_bh_argsort_2=np.argsort(r_guide_bh_2)\n",
    "r_guide_bh_sort_2=r_guide_bh_2[r_guide_bh_argsort_2]\n",
    "J_r_bh_sort_2=J_r_2[r_guide_bh_argsort_2]\n",
    "J_theta_bh_sort_2=J_theta_2[r_guide_bh_argsort_2]\n",
    "J_phi_bh_sort_2=J_phi_2[r_guide_bh_argsort_2]\n",
    "\n",
    "#without IMBH 1\n",
    "r_guide_wobh_argsort_1=np.argsort(r_guide_wobh_1)\n",
    "r_guide_wobh_sort_1=r_guide_wobh_1[r_guide_wobh_argsort_1]\n",
    "J_r_wobh_sort_1=J_r_wo_1[r_guide_wobh_argsort_1]\n",
    "J_theta_wobh_sort_1=J_theta_wo_1[r_guide_wobh_argsort_1]\n",
    "J_phi_wobh_sort_1=J_phi_wo_1[r_guide_wobh_argsort_1]\n",
    "\n",
    "#without IMBH 2\n",
    "r_guide_wobh_argsort_2=np.argsort(r_guide_wobh_2)\n",
    "r_guide_wobh_sort_2=r_guide_wobh_2[r_guide_wobh_argsort_2]\n",
    "J_r_wobh_sort_2=J_r_wo_2[r_guide_wobh_argsort_2]\n",
    "J_theta_wobh_sort_2=J_theta_wo_2[r_guide_wobh_argsort_2]\n",
    "J_phi_wobh_sort_2=J_phi_wo_2[r_guide_wobh_argsort_2]"
   ]
  },
  {
   "cell_type": "code",
   "execution_count": 9,
   "metadata": {
    "collapsed": false
   },
   "outputs": [],
   "source": [
    "E_1 = bh_orbit_1.energy(x_1[1:],y_1[1:],z_1[1:],vx_1[1:],vy_1[1:],vz_1[1:])\n",
    "k_1_test=E_1<-0.4e-23\n",
    "l_1_test=J_r_1>500\n",
    "l=np.flatnonzero(k_1_test+l_1_test)\n",
    "l=l+1"
   ]
  },
  {
   "cell_type": "code",
   "execution_count": 10,
   "metadata": {
    "collapsed": false
   },
   "outputs": [
    {
     "name": "stdout",
     "output_type": "stream",
     "text": [
      "[ True  True  True ..., False False False]\n",
      "[False False False ...,  True  True  True]\n",
      "[      1       2       3       5       7       8       9      11      12\n",
      "      13      14      15      17      21      22      23      24      25\n",
      "      27      30      33      37      39      40      42      45      46\n",
      "      48      56      57      60      64      67      70      74      77\n",
      "     107     110 1026681 1026688 1026689 1026690 1026691 1026692 1026693\n",
      " 1026694 1026695 1026697 1026698 1026699 1026700 1026701 1026702 1026703\n",
      " 1026704 1026705 1026706 1026707 1026708 1026709 1026710 1026711 1026712\n",
      " 1026713 1026714 1026715 1026716 1026717 1026718 1026719 1026720 1026721\n",
      " 1026722 1026723 1026724 1026725 1026726 1026727 1026728 1026729 1026730\n",
      " 1026731 1026732 1026733 1026734]\n"
     ]
    }
   ],
   "source": [
    "print(k_1_test)\n",
    "print(l_1_test)\n",
    "print(l)"
   ]
  },
  {
   "cell_type": "code",
   "execution_count": 12,
   "metadata": {
    "collapsed": false,
    "scrolled": false
   },
   "outputs": [
    {
     "name": "stdout",
     "output_type": "stream",
     "text": [
      "17 0.00928405 0.009596408775989397\n",
      "-3.60707407895e-24 0.289519541857\n",
      "1026692 72.1396 72.42549968338338\n",
      "-2.25607650167e-25 527.380113355\n"
     ]
    },
    {
     "name": "stderr",
     "output_type": "stream",
     "text": [
      "/home/sophia/anaconda3/lib/python3.4/site-packages/matplotlib/figure.py:387: UserWarning: matplotlib is currently using a non-GUI backend, so cannot show the figure\n",
      "  \"matplotlib is currently using a non-GUI backend, \"\n"
     ]
    },
    {
     "data": {
      "image/png": "[encoded data removed]",
      "text/plain": [
       "<matplotlib.figure.Figure at 0x7feeba05d908>"
      ]
     },
     "metadata": {},
     "output_type": "display_data"
    },
    {
     "data": {
      "image/png": "[encoded data removed]",
      "text/plain": [
       "<matplotlib.figure.Figure at 0x7feef1fe6208>"
      ]
     },
     "metadata": {},
     "output_type": "display_data"
    }
   ],
   "source": [
    "#l=np.array((67,886,1565,7892,30986,79073,107836))\n",
    "l=np.array((17,1026692))\n",
    "text=np.array(('group1','group2'))\n",
    "for k in range(len(l)):\n",
    "    L=bh_orbit_1.angularmom(x_1[l[k]],y_1[l[k]],z_1[l[k]],vx_1[l[k]],vy_1[l[k]],vz_1[l[k]])[0]\n",
    "    E=bh_orbit_1.energy(x_1[l[k]],y_1[l[k]],z_1[l[k]],vx_1[l[k]],vy_1[l[k]],vz_1[l[k]])\n",
    "    r=10.**(np.linspace(np.log10(0.00002),3.,10000))\n",
    "    #print(bh_orbit_1._periapocenter_aux(1e-7,E,L),bh_orbit_1._periapocenter_aux(r_3d_1[l[k]],E,L),bh_orbit_1._periapocenter_aux(np.sqrt(x_1[l[k]]**2+y_1[l[k]]**2+z_1[l[k]]**2),E,L),bh_orbit_1._periapocenter_aux(np.max(bh_orbit_1._r_bin)*1.03,E,L))\n",
    "    fig=plt.figure()\n",
    "    ax=fig.add_subplot(111)\n",
    "    ax.loglog(r,np.abs(bh_orbit_1._periapocenter_aux(r=r,E=E,L=L)),linewidth=1.5)\n",
    "    ax.set_xlabel('r [pc]',fontsize=12)\n",
    "    ax.set_ylabel('$\\Phi_\\mathrm{eff}\\ [1/\\mathrm{pc}^2]$',fontsize=14)\n",
    "    print(l[k],r_3d_1[l[k]],bh_orbit_1.periapocenter(r_3d_1[l[k]],x_1[l[k]],y_1[l[k]],z_1[l[k]],vx_1[l[k]],vy_1[l[k]],vz_1[l[k]])[1])\n",
    "    print(E_1[l[k]],J_r_1[l[k]])\n",
    "    ax.axvline(bh_orbit_1.periapocenter(r_3d_1[l[k]],x_1[l[k]],y_1[l[k]],z_1[l[k]],vx_1[l[k]],vy_1[l[k]],vz_1[l[k]])[0], color='m',label='pericentre',linewidth=1.5)\n",
    "    ax.axvline(bh_orbit_1.periapocenter(r_3d_1[l[k]],x_1[l[k]],y_1[l[k]],z_1[l[k]],vx_1[l[k]],vy_1[l[k]],vz_1[l[k]])[1], color='black',label='apocentre',linewidth=1.5)\n",
    "    ax.axvline(bh_orbit_1.r_guide_min(r_3d_1[l[k]],x_1[l[k]],y_1[l[k]],z_1[l[k]],vx_1[l[k]],vy_1[l[k]],vz_1[l[k]]),color='g',label='guiding star radius',linewidth=1.5)\n",
    "    ax.axvline(r_3d_1[l[k]],color='r',label='actual distance',linewidth=1.5)    \n",
    "    ax.legend(loc=0)\n",
    "    ax.spines['top'].set_linewidth(1.5)\n",
    "    ax.spines['right'].set_linewidth(1.5)\n",
    "    ax.spines['bottom'].set_linewidth(1.5)\n",
    "    ax.spines['left'].set_linewidth(1.5)\n",
    "\n",
    "    ax.tick_params(length=8,width=1.5,labelsize=12)\n",
    "    ax.tick_params(which='minor',length=4,width=1.5)\n",
    "    fig.savefig('../Bachelorarbeit-Entwurf/Plots/pot_eff_'+text[k]+'.pdf',format='pdf',bbbox_inches='tight')\n",
    "    fig.show()"
   ]
  },
  {
   "cell_type": "markdown",
   "metadata": {
    "collapsed": false,
    "scrolled": false
   },
   "source": [
    "l=np.array((67,886,1565,7892,30986,79073,107836))\n",
    "for k in range(len(l)):\n",
    "    L=bh_orbit_2.angularmom(x_2[l[k]],y_2[l[k]],z_2[l[k]],vx_2[l[k]],vy_2[l[k]],vz_2[l[k]])[0]\n",
    "    E=bh_orbit_2.energy(x_2[l[k]],y_2[l[k]],z_2[l[k]],vx_2[l[k]],vy_2[l[k]],vz_2[l[k]])\n",
    "    r=10.**(np.linspace(np.log10(0.00002),3.,10000))\n",
    "    print(bh_orbit_2._periapocenter_aux(1e-7,E,L),bh_orbit_2._periapocenter_aux(r_3d_2[l[k]],E,L),bh_orbit_2._periapocenter_aux(np.sqrt(x_2[l[k]]**2+y_2[l[k]]**2+z_2[l[k]]**2),E,L),bh_orbit_2._periapocenter_aux(np.max(bh_orbit_2._r_bin)*1.03,E,L))\n",
    "    plt.loglog(r,np.abs(bh_orbit_2._periapocenter_aux(r=r,E=E,L=L)))\n",
    "    plt.xlabel('r[pc]',fontsize=12)\n",
    "    plt.ylabel('$\\Phi_\\mathrm{eff}$',fontsize=14)\n",
    "    print(r_3d_2[l[k]],np.sqrt(x_2[l[k]]**2+y_2[l[k]]**2+z_2[l[k]]**2))\n",
    "    plt.axvline(r_3d_2[l[k]],color='r',label='actual distance')\n",
    "    plt.axvline(bh_orbit_2.periapocenter(r_3d_2[l[k]],x_2[l[k]],y_2[l[k]],z_2[l[k]],vx_2[l[k]],vy_2[l[k]],vz_2[l[k]])[0], color='m',label='pericentre')\n",
    "    plt.axvline(bh_orbit_2.periapocenter(r_3d_2[l[k]],x_2[l[k]],y_2[l[k]],z_2[l[k]],vx_2[l[k]],vy_2[l[k]],vz_2[l[k]])[1], color='black',label='apocentre')\n",
    "    plt.axvline(bh_orbit_2.r_guide(r_3d_2[l[k]],x_2[l[k]],y_2[l[k]],z_2[l[k]],vx_2[l[k]],vy_2[l[k]],vz_2[l[k]]),color='g',label='guiding star radius')\n",
    "    plt.legend(loc=0)\n",
    "    plt.show()"
   ]
  },
  {
   "cell_type": "markdown",
   "metadata": {
    "collapsed": false,
    "scrolled": false
   },
   "source": [
    "l=np.array((67,886,1565,7892,30986,79073,107836))\n",
    "for k in range(len(l)):\n",
    "    L=wobh_orbit_1.angularmom(x_wo_1[l[k]],y_wo_1[l[k]],z_wo_1[l[k]],vx_wo_1[l[k]],vy_wo_1[l[k]],vz_wo_1[l[k]])[0]\n",
    "    E=wobh_orbit_1.energy(x_wo_1[l[k]],y_wo_1[l[k]],z_wo_1[l[k]],vx_wo_1[l[k]],vy_wo_1[l[k]],vz_wo_1[l[k]])\n",
    "    r=10.**(np.linspace(np.log10(0.00002),3.,10000))\n",
    "    print(wobh_orbit_1._periapocenter_aux(1e-7,E,L),wobh_orbit_1._periapocenter_aux(r_3d_wo_1[l[k]],E,L),wobh_orbit_1._periapocenter_aux(np.sqrt(x_wo_1[l[k]]**2+y_wo_1[l[k]]**2+z_wo_1[l[k]]**2),E,L),wobh_orbit_1._periapocenter_aux(np.max(wobh_orbit_1._r_bin)*1.03,E,L))\n",
    "    plt.loglog(r,np.abs(wobh_orbit_1._periapocenter_aux(r=r,E=E,L=L)))\n",
    "    plt.xlabel('r[pc]',fontsize=12)\n",
    "    plt.ylabel('$\\Phi_\\mathrm{eff}$',fontsize=14)\n",
    "    print(r_3d_wo_1[l[k]],np.sqrt(x_wo_1[l[k]]**2+y_wo_1[l[k]]**2+z_wo_1[l[k]]**2))\n",
    "    plt.axvline(r_3d_wo_1[l[k]],color='r',label='actual distance')\n",
    "    plt.axvline(wobh_orbit_1.periapocenter(r_3d_wo_1[l[k]],x_wo_1[l[k]],y_wo_1[l[k]],z_wo_1[l[k]],vx_wo_1[l[k]],vy_wo_1[l[k]],vz_wo_1[l[k]])[0], color='m',label='pericentre')\n",
    "    plt.axvline(wobh_orbit_1.periapocenter(r_3d_wo_1[l[k]],x_wo_1[l[k]],y_wo_1[l[k]],z_wo_1[l[k]],vx_wo_1[l[k]],vy_wo_1[l[k]],vz_wo_1[l[k]])[1], color='black',label='apocentre')\n",
    "    plt.axvline(wobh_orbit_1.r_guide(r_3d_wo_1[l[k]],x_wo_1[l[k]],y_wo_1[l[k]],z_wo_1[l[k]],vx_wo_1[l[k]],vy_wo_1[l[k]],vz_wo_1[l[k]]),color='g',label='guiding star radius')\n",
    "    plt.legend(loc=0)\n",
    "    plt.show()"
   ]
  },
  {
   "cell_type": "code",
   "execution_count": 51,
   "metadata": {
    "collapsed": false
   },
   "outputs": [],
   "source": [
    "blob_sort_wo_2=(0.2<r_guide_wobh_2)*(r_guide_wobh_2<0.3) \n",
    "r3d_blobsort_wo_2=r3d_wo_2[blob_sort_wo_2]\n",
    "J_r_blobsort_wo_2=J_r_wo_2[blob_sort_wo_2]#\n",
    "test_x=np.flatnonzero(blob_sort_wo_2)\n"
   ]
  },
  {
   "cell_type": "code",
   "execution_count": null,
   "metadata": {
    "collapsed": false
   },
   "outputs": [],
   "source": []
  },
  {
   "cell_type": "markdown",
   "metadata": {
    "collapsed": false,
    "scrolled": false
   },
   "source": [
    "l=test\n",
    "for k in range(len(test_x)):\n",
    "    L=wobh_orbit_2.angularmom(x_wo_2[test_x[k]],y_wo_2[test_x[k]],z_wo_2[test_x[k]],vx_wo_2[test_x[k]],vy_wo_2[test_x[k]],vz_wo_2[test_x[k]])[0]\n",
    "    E=wobh_orbit_2.energy(x_wo_2[test_x[k]],y_wo_2[test_x[k]],z_wo_2[test_x[k]],vx_wo_2[test_x[k]],vy_wo_2[test_x[k]],vz_wo_2[test_x[k]])\n",
    "    r=10.**(np.linspace(np.log10(0.00002),3.,10000))\n",
    "    print(E,L,r)\n",
    "    #print(wobh_orbit_2._periapocenter_aux(1e-7,E,L),wobh_orbit_2._periapocenter_aux(r_3d_wo_2[l[k]],E,L),wobh_orbit_2._periapocenter_aux(np.sqrt(x_wo_2[l[k]]**2+y_wo_2[l[k]]**2+z_wo_2[l[k]]**2),E,L),wobh_orbit_2._periapocenter_aux(np.max(wobh_orbit_2._r_bin)*1.03,E,L))\n",
    "    plt.loglog(r,np.abs(wobh_orbit_2._periapocenter_aux(r=r,E=E,L=L)))\n",
    "    plt.xlabel('r[pc]',fontsize=12)\n",
    "    plt.ylabel('$\\Phi_\\mathrm{eff}$',fontsize=14)\n",
    "    #print(r_3d_wo_2[l[k]],np.sqrt(x_wo_2[l[k]]**2+y_wo_2[l[k]]**2+z_wo_2[l[k]]**2))\n",
    "    plt.axvline(r_3d_wo_2[test_x[k]],color='r',label='actual distance')\n",
    "    plt.axvline(wobh_orbit_2.periapocenter(r_3d_wo_2[test_x[k]],x_wo_2[test_x[k]],y_wo_2[test_x[k]],z_wo_2[test_x[k]],vx_wo_2[test_x[k]],vy_wo_2[test_x[k]],vz_wo_2[test_x[k]])[0], color='m',label='pericentre')\n",
    "    plt.axvline(wobh_orbit_2.periapocenter(r_3d_wo_2[test_x[k]],x_wo_2[test_x[k]],y_wo_2[l[k]],z_wo_2[l[k]],vx_wo_2[l[k]],vy_wo_2[l[k]],vz_wo_2[l[k]])[1], color='black',label='apocentre')\n",
    "    plt.axvline(wobh_orbit_2.r_guide(r_3d_wo_2[l[k]],x_wo_2[l[k]],y_wo_2[l[k]],z_wo_2[l[k]],vx_wo_2[l[k]],vy_wo_2[l[k]],vz_wo_2[l[k]]),color='g',label='guiding star radius')\n",
    "    plt.legend(loc=0)\n",
    "    print(k)\n",
    "    plt.show()"
   ]
  },
  {
   "cell_type": "code",
   "execution_count": null,
   "metadata": {
    "collapsed": false
   },
   "outputs": [],
   "source": [
    "len(np.abs(wobh_orbit_2._periapocenter_aux(r=r,E=E,L=L)))"
   ]
  },
  {
   "cell_type": "code",
   "execution_count": 42,
   "metadata": {
    "collapsed": false
   },
   "outputs": [
    {
     "data": {
      "text/plain": [
       "10000"
      ]
     },
     "execution_count": 42,
     "metadata": {},
     "output_type": "execute_result"
    }
   ],
   "source": [
    "len(r)"
   ]
  },
  {
   "cell_type": "code",
   "execution_count": 43,
   "metadata": {
    "collapsed": false
   },
   "outputs": [
    {
     "data": {
      "text/plain": [
       "1"
      ]
     },
     "execution_count": 43,
     "metadata": {},
     "output_type": "execute_result"
    }
   ],
   "source": [
    "len(np.abs(bh_orbit_1._periapocenter_aux(r=r,E=E,L=L)))"
   ]
  },
  {
   "cell_type": "code",
   "execution_count": 26,
   "metadata": {
    "collapsed": false
   },
   "outputs": [
    {
     "name": "stdout",
     "output_type": "stream",
     "text": [
      "[  2.49989157e+09   9.75713499e+06   2.59748444e+06 ...,   1.27849164e+01\n",
      "   1.27875550e+01   1.27901935e+01]\n",
      "-5.02574415137\n"
     ]
    }
   ],
   "source": [
    "print(bh_orbit_1._periapocenter_aux(r=r,E=E,L=L))\n",
    "print(np.min(bh_orbit_1._periapocenter_aux(r=r,E=E,L=L)))"
   ]
  },
  {
   "cell_type": "code",
   "execution_count": 25,
   "metadata": {
    "collapsed": false
   },
   "outputs": [
    {
     "name": "stdout",
     "output_type": "stream",
     "text": [
      "-1.88081742822e-24\n"
     ]
    },
    {
     "data": {
      "image/png": "[encoded data removed]",
      "text/plain": [
       "<matplotlib.figure.Figure at 0x7feef1fb2438>"
      ]
     },
     "metadata": {},
     "output_type": "display_data"
    }
   ],
   "source": [
    "k=462893\n",
    "L=bh_orbit_1.angularmom(x_1[k],y_1[k],z_1[k],vx_1[k],vy_1[k],vz_1[k])[0]\n",
    "E=bh_orbit_1.energy(x_1[k],y_1[k],z_1[k],vx_1[k],vy_1[k],vz_1[k])\n",
    "r=np.logspace(-4,3.,10000)\n",
    "fig=plt.figure()\n",
    "ax=fig.add_subplot(111)\n",
    "ax.plot(r,bh_orbit_1._periapocenter_aux(r=r,E=E,L=L),label='effective potential',linewidth=1.5)\n",
    "ax.set_xlim(0.01,6)\n",
    "ax.set_ylim(-1e0,1e1)\n",
    "ax.set_xlabel('r [pc]',fontsize=15)\n",
    "ax.set_ylabel('$\\Phi_\\mathrm{eff}\\ [1/\\mathrm{pc}^2]$',fontsize=15)\n",
    "ax.set_yscale('symlog')\n",
    "#print(l[k],r_3d_1[l[k]],bh_orbit_1.periapocenter(r_3d_1[l[k]],x_1[l[k]],y_1[l[k]],z_1[l[k]],vx_1[l[k]],vy_1[l[k]],vz_1[l[k]])[1])\n",
    "#print(E_1[l[k]],J_r_1[l[k]])\n",
    "ax.axvline(bh_orbit_1.periapocenter(r_3d_1[k],x_1[k],y_1[k],z_1[k],vx_1[k],vy_1[k],vz_1[k])[0], color='m',label='pericentre',linewidth=1.5)\n",
    "ax.axvline(bh_orbit_1.periapocenter(r_3d_1[k],x_1[k],y_1[k],z_1[k],vx_1[k],vy_1[k],vz_1[k])[1], color='black',label='apocentre',linewidth=1.5)\n",
    "ax.axvline(bh_orbit_1.r_guide_root(r_3d_1[k],x_1[k],y_1[k],z_1[k],vx_1[k],vy_1[k],vz_1[k]),color='g',label='guiding star radius',linewidth=1.5)\n",
    "#ax.axvline(r_3d_1[l[k]],color='r',label='actual distance',linewidth=1.5)    \n",
    "print(E)\n",
    "ax.axhline(E,label='energy E = $-1.88 \\cdot 10^{-24}$ pc$^2/$ s$^2$',c='r',linewidth=1.5)\n",
    "ax.legend(loc=0,fontsize=13)\n",
    "ax.spines['top'].set_linewidth(1.5)\n",
    "ax.spines['right'].set_linewidth(1.5)\n",
    "ax.spines['bottom'].set_linewidth(1.5)\n",
    "ax.spines['left'].set_linewidth(1.5)\n",
    "\n",
    "ax.tick_params(length=8,width=1.5,labelsize=12)\n",
    "ax.tick_params(which='minor',length=4,width=1.5)\n",
    "#fig.savefig('../Bachelorarbeit-Entwurf/Plots/pot_eff_theory_part.pdf',format='pdf',bbox_inches='tight')\n",
    "#fig.show()"
   ]
  },
  {
   "cell_type": "code",
   "execution_count": null,
   "metadata": {
    "collapsed": true
   },
   "outputs": [],
   "source": []
  }
 ],
 "metadata": {
  "kernelspec": {
   "display_name": "Python 3",
   "language": "python",
   "name": "python3"
  },
  "language_info": {
   "codemirror_mode": {
    "name": "ipython",
    "version": 3
   },
   "file_extension": ".py",
   "mimetype": "text/x-python",
   "name": "python",
   "nbconvert_exporter": "python",
   "pygments_lexer": "ipython3",
   "version": "3.4.3"
  }
 },
 "nbformat": 4,
 "nbformat_minor": 0
}
