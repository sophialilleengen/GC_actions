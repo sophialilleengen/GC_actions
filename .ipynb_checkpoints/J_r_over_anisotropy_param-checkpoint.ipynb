{
 "cells": [
  {
   "cell_type": "code",
   "execution_count": 1,
   "metadata": {
    "collapsed": false
   },
   "outputs": [],
   "source": [
    "import numpy as np\n",
    "import matplotlib.pyplot as plt\n",
    "import sys\n",
    "sys.path.insert(0, '/home/sophia/bachelor_thesis_ipython_notebooks')\n",
    "\n",
    "from Paolo_class import GCphasespace\n",
    "from GC_Orbit_class import GCorbit\n",
    "%matplotlib inline"
   ]
  },
  {
   "cell_type": "code",
   "execution_count": 2,
   "metadata": {
    "collapsed": true
   },
   "outputs": [],
   "source": [
    "### import data of simulation with bh ###\n",
    "\n",
    "if 0:\n",
    "    r_3d,v_r,v_t,x,y,z,vx,vy,vz,vr,vtheta,vphi=np.loadtxt('C:\\\\Users\\Sophia Milanov\\Documents\\Bachelorarbeit\\data\\\\x-y-z.dat', usecols=(1,2,3,30,31,32,33,34,35,36,37,38), unpack=True)\n",
    "elif 1:\n",
    "    r_3d,m1,m2,x,y,z,vx,vy,vz,vr,vtheta,vphi=np.loadtxt('/home/sophia/Dokumente/Bachelorarbeit-2/x-y-z.dat', usecols=(1,9,10,30,31,32,33,34,35,36,37,38), unpack=True)\n",
    "else:\n",
    "    r_3d,v_r,v_t,x,y,z,vx,vy,vz,vr,vtheta,vphi=np.loadtxt('/home/milanov/Bachelorarbeit/x-y-z.dat', usecols=(1,2,3,30,31,32,33,34,35,36,37,38), unpack=True)"
   ]
  },
  {
   "cell_type": "code",
   "execution_count": 3,
   "metadata": {
    "collapsed": true
   },
   "outputs": [],
   "source": [
    "### import data of simulation without bh ###\n",
    "if 0:\n",
    "    r_3d_wo,m1_wo,m2_wo,x_wo,y_wo,z_wo,vx_wo,vy_wo,vz_wo=np.loadtxt('C:\\\\Users\\Sophia Milanov\\Documents\\Bachelorarbeit\\data\\\\x-y-z.dat', usecols=(1,9,10,30,31,32,33,34,35), unpack=True)\n",
    "elif 1:\n",
    "    r_3d_wo,m1_wo,m2_wo,x_wo,y_wo,z_wo,vx_wo,vy_wo,vz_wo,vr_wo,vtheta_wo,vphi_wo=np.loadtxt('/home/sophia/Dokumente/Bachelorarbeit-2/x-y-z_sophia_neu.dat', usecols=(1,9,10,29,30,31,32,33,34,35,36,37), unpack=True)\n",
    "else:\n",
    "    r_3d,m1,m2,x,y,z#,vx,vy,vz=np.loadtxt('/home/milanov/Bachelorarbeit/x-y-z.dat', usecols=(1,9,10,30,31,32,33,34,35), unpack=True)"
   ]
  },
  {
   "cell_type": "code",
   "execution_count": 4,
   "metadata": {
    "collapsed": true
   },
   "outputs": [],
   "source": [
    "### load radii, actions, half light and half mass radii for both simulations ###\n",
    "r3d,J_phi,J_theta,J_r=np.loadtxt('actions_bh.txt')\n",
    "r3d_wo,J_phi_wo,J_theta_wo,J_r_wo=np.loadtxt('actions_wo_bh.txt')\n",
    "hmr_bh,hlr_bh,hmr_wo_bh,hlr_wo_bh=np.loadtxt('half_mass_and_half_light_radius')"
   ]
  },
  {
   "cell_type": "code",
   "execution_count": 5,
   "metadata": {
    "collapsed": false
   },
   "outputs": [
    {
     "name": "stdout",
     "output_type": "stream",
     "text": [
      "4.13329 2.08948 7.8937 6.7517\n"
     ]
    }
   ],
   "source": [
    "print(hmr_bh,hlr_bh,hmr_wo_bh,hlr_wo_bh)"
   ]
  },
  {
   "cell_type": "code",
   "execution_count": 6,
   "metadata": {
    "collapsed": false
   },
   "outputs": [
    {
     "name": "stderr",
     "output_type": "stream",
     "text": [
      "/home/sophia/bachelor_thesis_ipython_notebooks/GC_Orbit_class.py:68: RuntimeWarning: overflow encountered in exp\n",
      "  density= np.exp(self.s(np.log(r)))\n"
     ]
    }
   ],
   "source": [
    "### initialize orbit class ###\n",
    "\n",
    "bh_orbit=GCorbit(inputfilename='densityfile.txt',bhmass_M_sun=m1[0]+m2[0])\n",
    "wobh_orbit=GCorbit(inputfilename='densityfile_wo_bh.txt')"
   ]
  },
  {
   "cell_type": "code",
   "execution_count": 7,
   "metadata": {
    "collapsed": false
   },
   "outputs": [],
   "source": [
    "### loads guiding star radii for every star of both simulations ###\n",
    "r_guide_bh=np.loadtxt('r_guide_bh.txt',unpack='True')\n",
    "r_guide_wobh=np.loadtxt('r_guide_wobh.txt',unpack='True')\n"
   ]
  },
  {
   "cell_type": "code",
   "execution_count": 8,
   "metadata": {
    "collapsed": false
   },
   "outputs": [],
   "source": [
    "### sorts action arrays as guiding star radius array is sorted ###\n",
    "\n",
    "#with bh\n",
    "r_guide_bh_argsort=np.argsort(r_guide_bh)\n",
    "r_guide_bh_sort=r_guide_bh[r_guide_bh_argsort]\n",
    "J_r_bh_sort=J_r[r_guide_bh_argsort]\n",
    "J_theta_bh_sort=J_theta[r_guide_bh_argsort]\n",
    "J_phi_bh_sort=J_phi[r_guide_bh_argsort]\n",
    "\n",
    "#without\n",
    "r_guide_wobh_argsort=np.argsort(r_guide_wobh)\n",
    "r_guide_wobh_sort=r_guide_wobh[r_guide_wobh_argsort]\n",
    "J_r_wobh_sort=J_r_wo[r_guide_wobh_argsort]\n",
    "J_theta_wobh_sort=J_theta_wo[r_guide_wobh_argsort]\n",
    "J_phi_wobh_sort=J_phi_wo[r_guide_wobh_argsort]\n"
   ]
  },
  {
   "cell_type": "code",
   "execution_count": 9,
   "metadata": {
    "collapsed": true
   },
   "outputs": [],
   "source": [
    "### calculate mean values of actions and radii ###\n",
    "\n",
    "#with bh\n",
    "binning=1000\n",
    "r_mean=np.zeros((len(J_r_bh_sort)/binning))\n",
    "Jr_mean=np.zeros(int(len(J_r_bh_sort)/binning))\n",
    "Jtheta_mean=np.zeros(int(len(J_r_bh_sort)/binning))\n",
    "Jphi_mean=np.zeros(int(len(J_r_bh_sort)/binning))\n",
    "for i in range(int(len(J_r_bh_sort)/binning)):\n",
    "    Jr_mean[i]=np.mean(J_r_bh_sort[i*binning:(i+1)*binning])\n",
    "    Jtheta_mean[i]=np.mean(J_theta_bh_sort[i*binning:(i+1)*binning])\n",
    "    Jphi_mean[i]=np.mean(J_phi_bh_sort[i*binning:(i+1)*binning])\n",
    "    r_mean[i]=np.mean(r_guide_bh_sort[i*binning:(i+1)*binning])\n",
    "\n",
    "#without bh\n",
    "r_mean_wo=np.zeros((len(J_r_wobh_sort)/binning))\n",
    "Jr_mean_wo=np.zeros(int(len(J_r_wobh_sort)/binning))\n",
    "Jtheta_mean_wo=np.zeros(int(len(J_theta_wobh_sort)/binning))\n",
    "Jphi_mean_wo=np.zeros(int(len(J_phi_wobh_sort)/binning))\n",
    "for i in range(int(len(J_r_wobh_sort)/binning)):\n",
    "    Jr_mean_wo[i]=np.mean(J_r_wobh_sort[i*binning:(i+1)*binning])\n",
    "    Jtheta_mean_wo[i]=np.mean(J_theta_wobh_sort[i*binning:(i+1)*binning])\n",
    "    Jphi_mean_wo[i]=np.mean(J_phi_wobh_sort[i*binning:(i+1)*binning])\n",
    "    r_mean_wo[i]=np.mean(r_guide_wobh_sort[i*binning:(i+1)*binning])\n",
    "\n",
    "### calculate guiding star radii over effective radii ###\n",
    "\n",
    "r_bh=r_mean/hlr_bh\n",
    "r_wo_bh=r_mean_wo/hlr_wo_bh"
   ]
  },
  {
   "cell_type": "code",
   "execution_count": 10,
   "metadata": {
    "collapsed": false
   },
   "outputs": [],
   "source": [
    "### calculate anisitropy parameter and according distance ###\n",
    "\n",
    "#with bh\n",
    "bh=GCphasespace(r=r3d,bin_num=30)\n",
    "r_beta=bh.mean_distance(r_guide_bh_sort) #use guiding star radius\n",
    "beta=bh.anisotropy_param(vr,vtheta,vphi)\n",
    "\n",
    "#w/o bh\n",
    "wo_bh=GCphasespace(r=r3d_wo,bin_num=30)\n",
    "r_beta_wo=wo_bh.mean_distance(r_guide_wobh_sort) #use guiding star radius\n",
    "beta_wo=wo_bh.anisotropy_param(vr_wo,vtheta_wo,vphi_wo)\n",
    "\n",
    "### calculate giuding star radii over effective radii ###\n",
    "\n",
    "r_beta_bh=r_beta/hlr_bh\n",
    "r_beta_wo_bh=r_beta_wo/hlr_wo_bh"
   ]
  },
  {
   "cell_type": "code",
   "execution_count": 17,
   "metadata": {
    "collapsed": false
   },
   "outputs": [
    {
     "data": {
      "image/png": "[encoded data removed]",
      "text/plain": [
       "<matplotlib.figure.Figure at 0x7f34da21edd8>"
      ]
     },
     "metadata": {},
     "output_type": "display_data"
    }
   ],
   "source": [
    "### plot J_theta over r without guiding star radius ###\n",
    "\n",
    "fig = plt.figure()\n",
    "ax = fig.add_subplot(111)\n",
    "ax.loglog(r_mean,Jtheta_mean,'b.',label='w/ IMHB')\n",
    "ax.loglog(r_mean_wo,Jtheta_mean_wo,'r.',label='w/o IMBH')\n",
    "ax.legend(loc=0,numpoints=1)\n",
    "ax.set_xlabel('r/r$_\\mathrm{e}$',fontsize=14)\n",
    "ax.set_ylabel('J$_\\\\theta$',fontsize=14)\n",
    "ax.spines['top'].set_linewidth(1.5)\n",
    "ax.spines['right'].set_linewidth(1.5)\n",
    "ax.spines['bottom'].set_linewidth(1.5)\n",
    "ax.spines['left'].set_linewidth(1.5)\n",
    "\n",
    "ax.tick_params(length=8,width=1.5,labelsize=12)\n",
    "ax.tick_params(which='minor',length=4,width=1.5)\n",
    "fig.tight_layout()"
   ]
  },
  {
   "cell_type": "code",
   "execution_count": 18,
   "metadata": {
    "collapsed": false
   },
   "outputs": [
    {
     "data": {
      "image/png": "[encoded data removed]",
      "text/plain": [
       "<matplotlib.figure.Figure at 0x7f34cbff8898>"
      ]
     },
     "metadata": {},
     "output_type": "display_data"
    }
   ],
   "source": [
    "### plot J_theta over r with guiding star radius ###\n",
    "\n",
    "fig = plt.figure()\n",
    "ax = fig.add_subplot(111)\n",
    "ax.loglog(r_bh,Jtheta_mean,'b.',label='w/ IMBH')\n",
    "ax.loglog(r_wo_bh,Jtheta_mean_wo,'r.',label='w/o IMBH')\n",
    "ax.legend(loc=0,numpoints=1)\n",
    "ax.set_xlabel('r$_\\mathrm{g}$/r$_\\mathrm{e}$',fontsize=14)\n",
    "ax.set_ylabel('J$_\\\\theta$',fontsize=14)\n",
    "ax.spines['top'].set_linewidth(1.5)\n",
    "ax.spines['right'].set_linewidth(1.5)\n",
    "ax.spines['bottom'].set_linewidth(1.5)\n",
    "ax.spines['left'].set_linewidth(1.5)\n",
    "\n",
    "ax.tick_params(length=8,width=1.5,labelsize=12)\n",
    "ax.tick_params(which='minor',length=4,width=1.5)\n",
    "fig.tight_layout()"
   ]
  },
  {
   "cell_type": "code",
   "execution_count": 19,
   "metadata": {
    "collapsed": false
   },
   "outputs": [
    {
     "data": {
      "image/png": "[encoded data removed]",
      "text/plain": [
       "<matplotlib.figure.Figure at 0x7f34cbf48390>"
      ]
     },
     "metadata": {},
     "output_type": "display_data"
    }
   ],
   "source": [
    "### plot J_phi over r with guiding star radius ###\n",
    "\n",
    "fig = plt.figure()\n",
    "ax = fig.add_subplot(111)\n",
    "ax.loglog(r_bh,Jphi_mean,'b.',label='w/ IMBH')\n",
    "ax.loglog(r_wo_bh,Jphi_mean_wo,'r.',label='w/o IMBH')\n",
    "ax.legend(loc=0,numpoints=1)\n",
    "ax.set_xlabel('r$_\\mathrm{g}$/r$_\\mathrm{e}$',fontsize=14)\n",
    "ax.set_ylabel('J$_\\phi$',fontsize=14)\n",
    "ax.spines['top'].set_linewidth(1.5)\n",
    "ax.spines['right'].set_linewidth(1.5)\n",
    "ax.spines['bottom'].set_linewidth(1.5)\n",
    "ax.spines['left'].set_linewidth(1.5)\n",
    "\n",
    "ax.tick_params(length=8,width=1.5,labelsize=12)\n",
    "ax.tick_params(which='minor',length=4,width=1.5)\n",
    "fig.tight_layout()"
   ]
  },
  {
   "cell_type": "code",
   "execution_count": 20,
   "metadata": {
    "collapsed": false
   },
   "outputs": [
    {
     "data": {
      "image/png": "[encoded data removed]",
      "text/plain": [
       "<matplotlib.figure.Figure at 0x7f34cbf8d7f0>"
      ]
     },
     "metadata": {},
     "output_type": "display_data"
    }
   ],
   "source": [
    "### plot J_r over r with guiding star radius ###\n",
    "\n",
    "fig = plt.figure()\n",
    "ax = fig.add_subplot(111)\n",
    "ax.loglog(r_bh,Jr_mean,'b.',label='w/ IMBH')\n",
    "ax.loglog(r_wo_bh,Jr_mean_wo,'r.',label='w/o IMBH')\n",
    "ax.legend(loc=0,numpoints=1)\n",
    "ax.set_xlabel('r$_\\mathrm{g}$/r$_\\mathrm{e}$',fontsize=14)\n",
    "ax.set_ylabel('J$_\\mathrm{r}$',fontsize=14)\n",
    "ax.spines['top'].set_linewidth(1.5)\n",
    "ax.spines['right'].set_linewidth(1.5)\n",
    "ax.spines['bottom'].set_linewidth(1.5)\n",
    "ax.spines['left'].set_linewidth(1.5)\n",
    "\n",
    "ax.tick_params(length=8,width=1.5,labelsize=12)\n",
    "ax.tick_params(which='minor',length=4,width=1.5)\n",
    "fig.tight_layout()"
   ]
  },
  {
   "cell_type": "code",
   "execution_count": 23,
   "metadata": {
    "collapsed": false
   },
   "outputs": [
    {
     "data": {
      "image/png": "[encoded data removed]",
      "text/plain": [
       "<matplotlib.figure.Figure at 0x7f34d99ab390>"
      ]
     },
     "metadata": {},
     "output_type": "display_data"
    }
   ],
   "source": [
    "### plot beta over r with guiding star radius ###\n",
    "\n",
    "fig = plt.figure()\n",
    "ax = fig.add_subplot(111)\n",
    "ax.loglog(r_beta_bh,beta,'b.',label='w/ IMBH')\n",
    "ax.loglog(r_beta_wo_bh,beta_wo,'r.',label='w/o IMBH')\n",
    "ax.legend(loc=0,numpoints=1)\n",
    "ax.set_xlabel('r/r$_\\mathrm{e}$',fontsize=14)\n",
    "ax.set_ylabel('anisotropy parameter $\\\\beta$',fontsize=14)\n",
    "ax.spines['top'].set_linewidth(1.5)\n",
    "ax.spines['right'].set_linewidth(1.5)\n",
    "ax.spines['bottom'].set_linewidth(1.5)\n",
    "ax.spines['left'].set_linewidth(1.5)\n",
    "\n",
    "ax.tick_params(length=8,width=1.5,labelsize=12)\n",
    "ax.tick_params(which='minor',length=4,width=1.5)\n",
    "fig.tight_layout()"
   ]
  },
  {
   "cell_type": "code",
   "execution_count": null,
   "metadata": {
    "collapsed": true
   },
   "outputs": [],
   "source": []
  }
 ],
 "metadata": {
  "kernelspec": {
   "display_name": "Python 3",
   "language": "python",
   "name": "python3"
  },
  "language_info": {
   "codemirror_mode": {
    "name": "ipython",
    "version": 3
   },
   "file_extension": ".py",
   "mimetype": "text/x-python",
   "name": "python",
   "nbconvert_exporter": "python",
   "pygments_lexer": "ipython3",
   "version": "3.4.3"
  }
 },
 "nbformat": 4,
 "nbformat_minor": 0
}
