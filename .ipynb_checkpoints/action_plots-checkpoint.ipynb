{
 "cells": [
  {
   "cell_type": "code",
   "execution_count": 1,
   "metadata": {
    "collapsed": false
   },
   "outputs": [],
   "source": [
    "import numpy as np\n",
    "import matplotlib.pyplot as plt\n",
    "import sys\n",
    "sys.path.insert(0, '/home/sophia/bachelor_thesis_ipython_notebooks')\n",
    "\n",
    "from Paolo_class import GCphasespace\n",
    "from GC_Orbit_class import GCorbit\n",
    "%matplotlib inline"
   ]
  },
  {
   "cell_type": "code",
   "execution_count": 2,
   "metadata": {
    "collapsed": true
   },
   "outputs": [],
   "source": [
    "### import data of simulation 1 with IMBH ###\n",
    "\n",
    "if 0:\n",
    "    r_3d,v_r,v_t,x,y,z,vx,vy,vz,vr,vtheta,vphi=np.loadtxt('C:\\\\Users\\Sophia Milanov\\Documents\\Bachelorarbeit\\data\\\\x-y-z.dat', usecols=(1,2,3,30,31,32,33,34,35,36,37,38), unpack=True)\n",
    "elif 1:\n",
    "    r_3d_1,m1_1,m2_1,x_1,y_1,z_1,vx_1,vy_1,vz_1,vr_1,vtheta_1,vphi_1=np.loadtxt('/home/sophia/Dokumente/Bachelorarbeit-2/x-y-z_IMBH1.dat', usecols=(1,9,10,30,31,32,33,34,35,36,37,38), unpack=True)\n",
    "else:\n",
    "    r_3d,v_r,v_t,x,y,z,vx,vy,vz,vr,vtheta,vphi=np.loadtxt('/home/milanov/Bachelorarbeit/x-y-z.dat', usecols=(1,2,3,30,31,32,33,34,35,36,37,38), unpack=True)"
   ]
  },
  {
   "cell_type": "code",
   "execution_count": 3,
   "metadata": {
    "collapsed": true
   },
   "outputs": [],
   "source": [
    "### import data of simulation 2 with IMBH ###\n",
    "\n",
    "if 0:\n",
    "    r_3d,v_r,v_t,x,y,z,vx,vy,vz,vr,vtheta,vphi=np.loadtxt('C:\\\\Users\\Sophia Milanov\\Documents\\Bachelorarbeit\\data\\\\x-y-z.dat', usecols=(1,2,3,30,31,32,33,34,35,36,37,38), unpack=True)\n",
    "elif 1:\n",
    "    r_3d_2,m1_2,m2_2,x_2,y_2,z_2,vx_2,vy_2,vz_2,vr_2,vtheta_2,vphi_2=np.loadtxt('/home/sophia/Dokumente/Bachelorarbeit-2/x-y-z_IMBH2.dat', usecols=(1,9,10,30,31,32,33,34,35,36,37,38), unpack=True)\n",
    "else:\n",
    "    r_3d,v_r,v_t,x,y,z,vx,vy,vz,vr,vtheta,vphi=np.loadtxt('/home/milanov/Bachelorarbeit/x-y-z.dat', usecols=(1,2,3,30,31,32,33,34,35,36,37,38), unpack=True)"
   ]
  },
  {
   "cell_type": "code",
   "execution_count": 4,
   "metadata": {
    "collapsed": true
   },
   "outputs": [],
   "source": [
    "### import data of simulation 1 without IMBH ###\n",
    "if 0:\n",
    "    r_3d_wo,m1_wo,m2_wo,x_wo,y_wo,z_wo,vx_wo,vy_wo,vz_wo=np.loadtxt('C:\\\\Users\\Sophia Milanov\\Documents\\Bachelorarbeit\\data\\\\x-y-z.dat', usecols=(1,9,10,30,31,32,33,34,35), unpack=True)\n",
    "elif 1:\n",
    "    r_3d_wo_1,m1_wo_1,m2_wo_1,x_wo_1,y_wo_1,z_wo_1,vx_wo_1,vy_wo_1,vz_wo_1,vr_wo_1,vtheta_wo_1,vphi_wo_1=np.loadtxt('/home/sophia/Dokumente/Bachelorarbeit-2/x-y-z_noIMBH1.dat', usecols=(1,9,10,29,30,31,32,33,34,35,36,37), unpack=True)\n",
    "else:\n",
    "    r_3d,m1,m2,x,y,z#,vx,vy,vz=np.loadtxt('/home/milanov/Bachelorarbeit/x-y-z.dat', usecols=(1,9,10,30,31,32,33,34,35), unpack=True)"
   ]
  },
  {
   "cell_type": "code",
   "execution_count": 5,
   "metadata": {
    "collapsed": true
   },
   "outputs": [],
   "source": [
    "### import data of simulation 2 without IMBH ###\n",
    "if 0:\n",
    "    r_3d_wo,m1_wo,m2_wo,x_wo,y_wo,z_wo,vx_wo,vy_wo,vz_wo=np.loadtxt('C:\\\\Users\\Sophia Milanov\\Documents\\Bachelorarbeit\\data\\\\x-y-z.dat', usecols=(1,9,10,30,31,32,33,34,35), unpack=True)\n",
    "elif 1:\n",
    "    r_3d_wo_2,m1_wo_2,m2_wo_2,x_wo_2,y_wo_2,z_wo_2,vx_wo_2,vy_wo_2,vz_wo_2,vr_wo_2,vtheta_wo_2,vphi_wo_2=np.loadtxt('/home/sophia/Dokumente/Bachelorarbeit-2/x-y-z_noIMBH2.dat', usecols=(1,9,10,30,31,32,33,34,35,36,37,38), unpack=True)\n",
    "else:\n",
    "    r_3d,m1,m2,x,y,z#,vx,vy,vz=np.loadtxt('/home/milanov/Bachelorarbeit/x-y-z.dat', usecols=(1,9,10,30,31,32,33,34,35), unpack=True)"
   ]
  },
  {
   "cell_type": "code",
   "execution_count": 6,
   "metadata": {
    "collapsed": true
   },
   "outputs": [],
   "source": [
    "### load radii, actions, half light and half mass radii for simulations ###\n",
    "r3d_1,J_phi_1,J_theta_1,J_r_1=np.loadtxt('../../sophia/Dokumente/Bachelorarbeit-2/actions_IMBH1.txt')\n",
    "r3d_2,J_phi_2,J_theta_2,J_r_2=np.loadtxt('../../sophia/Dokumente/Bachelorarbeit-2/actions_IMBH2.txt')\n",
    "r3d_wo_1,J_phi_wo_1,J_theta_wo_1,J_r_wo_1=np.loadtxt('../../sophia/Dokumente/Bachelorarbeit-2/actions_noIMBH1.txt')\n",
    "r3d_wo_2,J_phi_wo_2,J_theta_wo_2,J_r_wo_2=np.loadtxt('../../sophia/Dokumente/Bachelorarbeit-2/actions_noIMBH2.txt')\n",
    "hmr_bh_1,hmr_bh_2,hlr_bh_1,hlr_bh_2,hmr_wo_bh_1,hmr_wo_bh_2,hlr_wo_bh_1,hlr_wo_bh_2=np.loadtxt('half_mass_and_half_light_radius')"
   ]
  },
  {
   "cell_type": "code",
   "execution_count": 7,
   "metadata": {
    "collapsed": false
   },
   "outputs": [
    {
     "name": "stdout",
     "output_type": "stream",
     "text": [
      "4.13329 3.57968 2.08948 2.11546 7.8937 5.40817 6.7517 3.85325\n"
     ]
    }
   ],
   "source": [
    "print(hmr_bh_1,hmr_bh_2,hlr_bh_1,hlr_bh_2,hmr_wo_bh_1,hmr_wo_bh_2,hlr_wo_bh_1,hlr_wo_bh_2)"
   ]
  },
  {
   "cell_type": "code",
   "execution_count": 8,
   "metadata": {
    "collapsed": false
   },
   "outputs": [
    {
     "name": "stdout",
     "output_type": "stream",
     "text": [
      "308533.169063 326253.447659 172671.281141 669844.310538\n"
     ]
    }
   ],
   "source": [
    "print(np.sum(m1_1+m2_1),np.sum(m1_2+m2_2),np.sum(m1_wo_1+m2_wo_1),np.sum(m1_wo_2+m2_wo_2))"
   ]
  },
  {
   "cell_type": "code",
   "execution_count": 9,
   "metadata": {
    "collapsed": false
   },
   "outputs": [
    {
     "name": "stderr",
     "output_type": "stream",
     "text": [
      "/home/sophia/bachelor_thesis_ipython_notebooks/GC_Orbit_class.py:68: RuntimeWarning: overflow encountered in exp\n",
      "  density= np.exp(self.s(np.log(r)))\n"
     ]
    }
   ],
   "source": [
    "### initialize orbit class ###\n",
    "\n",
    "bh_orbit_1=GCorbit(inputfilename='densityfile_IMBH1.txt',bhmass_M_sun=m1_1[0]+m2_1[0])\n",
    "bh_orbit_2=GCorbit(inputfilename='densityfile_IMBH2.txt',bhmass_M_sun=m1_2[0]+m2_2[0])\n",
    "wobh_orbit_1=GCorbit(inputfilename='densityfile_noIMBH1.txt')\n",
    "wobh_orbit_2=GCorbit(inputfilename='densityfile_noIMBH2.txt')"
   ]
  },
  {
   "cell_type": "code",
   "execution_count": 10,
   "metadata": {
    "collapsed": false
   },
   "outputs": [
    {
     "ename": "FileNotFoundError",
     "evalue": "[Errno 2] No such file or directory: '../../sophia/Dokumente/Bachelorarbeit-2/r_guide_IMBH2.txt'",
     "output_type": "error",
     "traceback": [
      "\u001b[1;31m---------------------------------------------------------------------------\u001b[0m",
      "\u001b[1;31mFileNotFoundError\u001b[0m                         Traceback (most recent call last)",
      "\u001b[1;32m<ipython-input-10-31b117bbe288>\u001b[0m in \u001b[0;36m<module>\u001b[1;34m()\u001b[0m\n\u001b[0;32m      1\u001b[0m \u001b[1;31m### loads guiding star radii for every star of both simulations ###\u001b[0m\u001b[1;33m\u001b[0m\u001b[1;33m\u001b[0m\u001b[0m\n\u001b[0;32m      2\u001b[0m \u001b[0mr_guide_bh_1\u001b[0m\u001b[1;33m=\u001b[0m\u001b[0mnp\u001b[0m\u001b[1;33m.\u001b[0m\u001b[0mloadtxt\u001b[0m\u001b[1;33m(\u001b[0m\u001b[1;34m'../../sophia/Dokumente/Bachelorarbeit-2/r_guide_IMBH1.txt'\u001b[0m\u001b[1;33m,\u001b[0m\u001b[0munpack\u001b[0m\u001b[1;33m=\u001b[0m\u001b[1;34m'True'\u001b[0m\u001b[1;33m)\u001b[0m\u001b[1;33m\u001b[0m\u001b[0m\n\u001b[1;32m----> 3\u001b[1;33m \u001b[0mr_guide_bh_2\u001b[0m\u001b[1;33m=\u001b[0m\u001b[0mnp\u001b[0m\u001b[1;33m.\u001b[0m\u001b[0mloadtxt\u001b[0m\u001b[1;33m(\u001b[0m\u001b[1;34m'../../sophia/Dokumente/Bachelorarbeit-2/r_guide_IMBH2.txt'\u001b[0m\u001b[1;33m,\u001b[0m\u001b[0munpack\u001b[0m\u001b[1;33m=\u001b[0m\u001b[1;34m'True'\u001b[0m\u001b[1;33m)\u001b[0m\u001b[1;33m\u001b[0m\u001b[0m\n\u001b[0m\u001b[0;32m      4\u001b[0m \u001b[0mr_guide_wobh_1\u001b[0m\u001b[1;33m=\u001b[0m\u001b[0mnp\u001b[0m\u001b[1;33m.\u001b[0m\u001b[0mloadtxt\u001b[0m\u001b[1;33m(\u001b[0m\u001b[1;34m'../../sophia/Dokumente/Bachelorarbeit-2/r_guide_noIMBH1.txt'\u001b[0m\u001b[1;33m,\u001b[0m\u001b[0munpack\u001b[0m\u001b[1;33m=\u001b[0m\u001b[1;34m'True'\u001b[0m\u001b[1;33m)\u001b[0m\u001b[1;33m\u001b[0m\u001b[0m\n\u001b[0;32m      5\u001b[0m \u001b[0mr_guide_wobh_2\u001b[0m\u001b[1;33m=\u001b[0m\u001b[0mnp\u001b[0m\u001b[1;33m.\u001b[0m\u001b[0mloadtxt\u001b[0m\u001b[1;33m(\u001b[0m\u001b[1;34m'../../sophia/Dokumente/Bachelorarbeit-2/r_guide_noIMBH2.txt'\u001b[0m\u001b[1;33m,\u001b[0m\u001b[0munpack\u001b[0m\u001b[1;33m=\u001b[0m\u001b[1;34m'True'\u001b[0m\u001b[1;33m)\u001b[0m\u001b[1;33m\u001b[0m\u001b[0m\n",
      "\u001b[1;32m/home/sophia/anaconda3/lib/python3.4/site-packages/numpy/lib/npyio.py\u001b[0m in \u001b[0;36mloadtxt\u001b[1;34m(fname, dtype, comments, delimiter, converters, skiprows, usecols, unpack, ndmin)\u001b[0m\n\u001b[0;32m    738\u001b[0m                 \u001b[0mfh\u001b[0m \u001b[1;33m=\u001b[0m \u001b[0miter\u001b[0m\u001b[1;33m(\u001b[0m\u001b[0mopen\u001b[0m\u001b[1;33m(\u001b[0m\u001b[0mfname\u001b[0m\u001b[1;33m,\u001b[0m \u001b[1;34m'U'\u001b[0m\u001b[1;33m)\u001b[0m\u001b[1;33m)\u001b[0m\u001b[1;33m\u001b[0m\u001b[0m\n\u001b[0;32m    739\u001b[0m             \u001b[1;32melse\u001b[0m\u001b[1;33m:\u001b[0m\u001b[1;33m\u001b[0m\u001b[0m\n\u001b[1;32m--> 740\u001b[1;33m                 \u001b[0mfh\u001b[0m \u001b[1;33m=\u001b[0m \u001b[0miter\u001b[0m\u001b[1;33m(\u001b[0m\u001b[0mopen\u001b[0m\u001b[1;33m(\u001b[0m\u001b[0mfname\u001b[0m\u001b[1;33m)\u001b[0m\u001b[1;33m)\u001b[0m\u001b[1;33m\u001b[0m\u001b[0m\n\u001b[0m\u001b[0;32m    741\u001b[0m         \u001b[1;32melse\u001b[0m\u001b[1;33m:\u001b[0m\u001b[1;33m\u001b[0m\u001b[0m\n\u001b[0;32m    742\u001b[0m             \u001b[0mfh\u001b[0m \u001b[1;33m=\u001b[0m \u001b[0miter\u001b[0m\u001b[1;33m(\u001b[0m\u001b[0mfname\u001b[0m\u001b[1;33m)\u001b[0m\u001b[1;33m\u001b[0m\u001b[0m\n",
      "\u001b[1;31mFileNotFoundError\u001b[0m: [Errno 2] No such file or directory: '../../sophia/Dokumente/Bachelorarbeit-2/r_guide_IMBH2.txt'"
     ]
    }
   ],
   "source": [
    "### loads guiding star radii for every star of both simulations ###\n",
    "r_guide_bh_1=np.loadtxt('../../sophia/Dokumente/Bachelorarbeit-2/r_guide_IMBH1.txt',unpack='True')\n",
    "r_guide_bh_2=np.loadtxt('../../sophia/Dokumente/Bachelorarbeit-2/r_guide_IMBH2.txt',unpack='True')\n",
    "r_guide_wobh_1=np.loadtxt('../../sophia/Dokumente/Bachelorarbeit-2/r_guide_noIMBH1.txt',unpack='True')\n",
    "r_guide_wobh_2=np.loadtxt('../../sophia/Dokumente/Bachelorarbeit-2/r_guide_noIMBH2.txt',unpack='True')\n"
   ]
  },
  {
   "cell_type": "code",
   "execution_count": null,
   "metadata": {
    "collapsed": false
   },
   "outputs": [],
   "source": [
    "### sorts action arrays as guiding star radius array is sorted ###\n",
    "\n",
    "#with IMBH 1\n",
    "r_guide_bh_argsort_1=np.argsort(r_guide_bh_1)\n",
    "r_guide_bh_sort_1=r_guide_bh_1[r_guide_bh_argsort_1]\n",
    "J_r_bh_sort_1=J_r_1[r_guide_bh_argsort_1]\n",
    "J_theta_bh_sort_1=J_theta_1[r_guide_bh_argsort_1]\n",
    "J_phi_bh_sort_1=J_phi_1[r_guide_bh_argsort_1]\n",
    "\n",
    "#with IMBH 2\n",
    "r_guide_bh_argsort_2=np.argsort(r_guide_bh_2)\n",
    "r_guide_bh_sort_2=r_guide_bh_2[r_guide_bh_argsort_2]\n",
    "J_r_bh_sort_2=J_r_2[r_guide_bh_argsort_2]\n",
    "J_theta_bh_sort_2=J_theta_2[r_guide_bh_argsort_2]\n",
    "J_phi_bh_sort_2=J_phi_2[r_guide_bh_argsort_2]\n",
    "\n",
    "#without IMBH 1\n",
    "r_guide_wobh_argsort_1=np.argsort(r_guide_wobh_1)\n",
    "r_guide_wobh_sort_1=r_guide_wobh_1[r_guide_wobh_argsort_1]\n",
    "J_r_wobh_sort_1=J_r_wo_1[r_guide_wobh_argsort_1]\n",
    "J_theta_wobh_sort_1=J_theta_wo_1[r_guide_wobh_argsort_1]\n",
    "J_phi_wobh_sort_1=J_phi_wo_1[r_guide_wobh_argsort_1]\n",
    "\n",
    "#without IMBH 2\n",
    "r_guide_wobh_argsort_2=np.argsort(r_guide_wobh_2)\n",
    "r_guide_wobh_sort_2=r_guide_wobh_2[r_guide_wobh_argsort_2]\n",
    "J_r_wobh_sort_2=J_r_wo_2[r_guide_wobh_argsort_2]\n",
    "J_theta_wobh_sort_2=J_theta_wo_2[r_guide_wobh_argsort_2]\n",
    "J_phi_wobh_sort_2=J_phi_wo_2[r_guide_wobh_argsort_2]"
   ]
  },
  {
   "cell_type": "code",
   "execution_count": null,
   "metadata": {
    "collapsed": false
   },
   "outputs": [],
   "source": [
    "### calculate mean values of actions and radii ###\n",
    "\n",
    "#IMBH1\n",
    "binning=1000\n",
    "r_mean_1=np.zeros((len(J_r_bh_sort_1)/binning))\n",
    "Jr_mean_1=np.zeros(int(len(J_r_bh_sort_1)/binning))\n",
    "Jtheta_mean_1=np.zeros(int(len(J_r_bh_sort_1)/binning))\n",
    "Jphi_mean_1=np.zeros(int(len(J_r_bh_sort_1)/binning))\n",
    "for i in range(int(len(J_r_bh_sort_1)/binning)):\n",
    "    Jr_mean_1[i]=np.mean(J_r_bh_sort_1[i*binning:(i+1)*binning])\n",
    "    Jtheta_mean_1[i]=np.mean(J_theta_bh_sort_1[i*binning:(i+1)*binning])\n",
    "    Jphi_mean_1[i]=np.mean(J_phi_bh_sort_1[i*binning:(i+1)*binning])\n",
    "    r_mean_1[i]=np.mean(r_guide_bh_sort_1[i*binning:(i+1)*binning])\n",
    "\n",
    "#IMBH2\n",
    "r_mean_2=np.zeros((len(J_r_bh_sort_2)/binning))\n",
    "Jr_mean_2=np.zeros(int(len(J_r_bh_sort_2)/binning))\n",
    "Jtheta_mean_2=np.zeros(int(len(J_r_bh_sort_1)/binning))\n",
    "Jphi_mean_1=np.zeros(int(len(J_r_bh_sort_1)/binning))\n",
    "for i in range(int(len(J_r_bh_sort_1)/binning)):\n",
    "    Jr_mean_1[i]=np.mean(J_r_bh_sort_1[i*binning:(i+1)*binning])\n",
    "    Jtheta_mean_1[i]=np.mean(J_theta_bh_sort_1[i*binning:(i+1)*binning])\n",
    "    Jphi_mean_1[i]=np.mean(J_phi_bh_sort_1[i*binning:(i+1)*binning])\n",
    "    r_mean_1[i]=np.mean(r_guide_bh_sort_1[i*binning:(i+1)*binning])\n",
    "    \n",
    "#without bh\n",
    "r_mean_wo_1=np.zeros((len(J_r_wobh_sort_1)/binning))\n",
    "Jr_mean_wo_1=np.zeros(int(len(J_r_wobh_sort_1)/binning))\n",
    "Jtheta_mean_wo_1=np.zeros(int(len(J_theta_wobh_sort_1)/binning))\n",
    "Jphi_mean_wo_1=np.zeros(int(len(J_phi_wobh_sort_1)/binning))\n",
    "for i in range(int(len(J_r_wobh_sort_1)/binning)):\n",
    "    Jr_mean_wo_1[i]=np.mean(J_r_wobh_sort_1[i*binning:(i+1)*binning])\n",
    "    Jtheta_mean_wo_1[i]=np.mean(J_theta_wobh_sort_1[i*binning:(i+1)*binning])\n",
    "    Jphi_mean_wo_1[i]=np.mean(J_phi_wobh_sort_1[i*binning:(i+1)*binning])\n",
    "    r_mean_wo_1[i]=np.mean(r_guide_wobh_sort_1[i*binning:(i+1)*binning])\n",
    "\n",
    "### calculate guiding star radii over effective radii ###\n",
    "\n",
    "r_bh_1=r_mean_1/hmr_bh_1\n",
    "r_wo_bh_1=r_mean_wo_1/hmr_wo_bh_1"
   ]
  },
  {
   "cell_type": "code",
   "execution_count": null,
   "metadata": {
    "collapsed": false
   },
   "outputs": [],
   "source": [
    "### plot actions over actual distance ###\n",
    "\n",
    "plt.loglog(r3d_1,J_r_1,'b.')\n",
    "plt.show()\n",
    "plt.loglog(r3d_2,J_r_2,'g.')\n",
    "plt.show()\n",
    "plt.loglog(r3d_wo_1,J_r_wo_1,'r.')\n",
    "plt.show()\n",
    "plt.loglog(r3d_wo_2,J_r_wo_2,'y.')\n"
   ]
  },
  {
   "cell_type": "code",
   "execution_count": null,
   "metadata": {
    "collapsed": false
   },
   "outputs": [],
   "source": [
    "### plot sorted J_r over guiding star radius in semilogx ###\n",
    "\n",
    "plt.semilogx(r_guide_bh_sort_1,J_r_bh_sort_1,'b.')\n",
    "#plt.ylim(0,500)\n",
    "plt.show()\n",
    "plt.semilogx(r_guide_bh_sort_2,J_r_bh_sort_2,'g.')\n",
    "plt.show()\n",
    "plt.semilogx(r_guide_wobh_sort_1,J_r_wobh_sort_1,'r.')\n",
    "plt.show()\n",
    "plt.semilogx(r_guide_wobh_sort_2,J_r_wobh_sort_2,'y.')\n"
   ]
  },
  {
   "cell_type": "code",
   "execution_count": null,
   "metadata": {
    "collapsed": false
   },
   "outputs": [],
   "source": [
    "### plots sorted J_r over guiding star radius in loglog ###\n",
    "\n",
    "plt.loglog(r_guide_bh_sort_1,J_r_bh_sort_1,'b.')\n",
    "#plt.ylim(0,500)\n",
    "plt.show()\n",
    "plt.loglog(r_guide_bh_sort_2,J_r_bh_sort_2,'g.')\n",
    "plt.show()\n",
    "plt.loglog(r_guide_wobh_sort_1,J_r_wobh_sort_1,'r.')\n",
    "plt.show()\n",
    "plt.loglog(r_guide_wobh_sort_2,J_r_wobh_sort_2,'y.')\n"
   ]
  },
  {
   "cell_type": "code",
   "execution_count": null,
   "metadata": {
    "collapsed": false
   },
   "outputs": [],
   "source": [
    "### find stars which should be in the gap in w/o IMBH 2 ###\n",
    "\n",
    "blob_sort_wo_2=(0.2<r_guide_wobh_2)*(r_guide_wobh_2<0.3) \n",
    "r3d_blobsort_wo_2=r3d_wo_2[blob_sort_wo_2]\n",
    "J_r_blobsort_wo_2=J_r_wo_2[blob_sort_wo_2]\n",
    "print(blob_sort_wo_2)"
   ]
  },
  {
   "cell_type": "code",
   "execution_count": null,
   "metadata": {
    "collapsed": false
   },
   "outputs": [],
   "source": [
    "### plot J_r over |L| color coded by guiding star distance###\n",
    "\n",
    "L_1=bh_orbit_1.angularmom(x_1[1:],y_1[1:],z_1[1:],vx_1[1:],vy_1[1:],vz_1[1:])[0]\n",
    "L_2=bh_orbit_2.angularmom(x_2[1:],y_2[1:],z_2[1:],vx_2[1:],vy_2[1:],vz_2[1:])[0]\n",
    "L_wo_1=wobh_orbit_1.angularmom(x_wo_1,y_wo_1,z_wo_1,vx_wo_1,vy_wo_1,vz_wo_1)[0]\n",
    "L_wo_2=wobh_orbit_2.angularmom(x_wo_2,y_wo_2,z_wo_2,vx_wo_2,vy_wo_2,vz_wo_2)[0]\n",
    "\n",
    "#per_1=bh_orbit_1.periapocenter(r_3d_1[1:],x_1[1:],y_1[1:],z_1[1:],vx_1[1:],vy_1[1:],vz_1[1:])[0]\n",
    "#per_2=bh_orbit_2.periapocenter(r_3d_2[1:],x_2[1:],y_2[1:],z_2[1:],vx_2[1:],vy_2[1:],vz_2[1:])[0]\n",
    "#per_wo_1=wobh_orbit_1.periapocenter(r_3d_wo_1,x_wo_1,y_wo_1,z_wo_1,vx_wo_1,vy_wo_1,vz_wo_1)[0]\n",
    "#per_wo_2=wobh_orbit_2.periapocenter(r_3d_wo_2,x_wo_2,y_wo_2,z_wo_2,vx_wo_2,vy_wo_2,vz_wo_2)[0]\n",
    "\n",
    "fig = plt.figure()\n",
    "ax = fig.add_subplot(111)\n",
    "cax=ax.scatter(L_1,J_r_1,c=r_guide_bh_1,cmap='Spectral',edgecolor=\"None\")\n",
    "cbar = fig.colorbar(cax)\n",
    "cbar.ax.get_yaxis().labelpad = 20\n",
    "cbar.set_label('guiding star radius', rotation=270,fontsize=14)\n",
    "ax.set_xlim(0,1e-11)\n",
    "ax.set_xlabel('|L| [pc$^2$/s]',fontsize=14)\n",
    "ax.set_ylabel('J$_\\mathrm{r}$',fontsize=14)\n",
    "#ax.set_ylim(0,1700)\n",
    "ax.set_title('w/ IMBH 1')\n",
    "fig.show()\n",
    "\n",
    "fig = plt.figure()\n",
    "ax = fig.add_subplot(111)\n",
    "cax=ax.scatter(L_2,J_r_2,c=r_guide_bh_2,cmap='Spectral',edgecolor=\"None\")\n",
    "cbar = fig.colorbar(cax)\n",
    "cbar.ax.get_yaxis().labelpad = 20\n",
    "cbar.set_label('guiding star radius', rotation=270,fontsize=14)\n",
    "ax.set_xlim(0,0.3e-11)\n",
    "ax.set_ylim(0,50)\n",
    "ax.set_xlabel('|L| [pc$^2$/s]',fontsize=14)\n",
    "ax.set_ylabel('J$_\\mathrm{r}$',fontsize=14)\n",
    "ax.set_title('w/ IMBH 2')\n",
    "fig.show()\n",
    "\n",
    "fig = plt.figure()\n",
    "ax = fig.add_subplot(111)\n",
    "cax=ax.scatter(L_wo_1,J_r_wo_1,c=r_guide_wobh_1,cmap='Spectral',edgecolor=\"None\")\n",
    "cbar = fig.colorbar(cax)\n",
    "cbar.ax.get_yaxis().labelpad = 20\n",
    "cbar.set_label('guiding star radius', rotation=270,fontsize=14)\n",
    "ax.set_xlim(0,0.6e-11)\n",
    "ax.set_ylim(0,700)\n",
    "ax.set_xlabel('|L| [pc$^2$/s]',fontsize=14)\n",
    "ax.set_ylabel('J$_\\mathrm{r}$',fontsize=14)\n",
    "ax.set_title('w/o IMBH 1')\n",
    "fig.show()\n",
    "\n",
    "fig = plt.figure()\n",
    "ax = fig.add_subplot(111)\n",
    "cax=ax.scatter(L_wo_2,J_r_wo_2,c=r_guide_wobh_2,cmap='Spectral',edgecolor=\"None\")\n",
    "cbar = fig.colorbar(cax)\n",
    "cbar.ax.get_yaxis().labelpad = 20\n",
    "cbar.set_label('guiding star radius', rotation=270,fontsize=14)\n",
    "ax.set_xlim(0,1e-11)\n",
    "ax.set_ylim(0,900)\n",
    "ax.set_xlabel('|L| [pc$^2$/s]',fontsize=14)\n",
    "ax.set_ylabel('J$_\\mathrm{r}$',fontsize=14)\n",
    "ax.set_title('w/o IMBH 2')\n",
    "fig.show()"
   ]
  },
  {
   "cell_type": "code",
   "execution_count": null,
   "metadata": {
    "collapsed": false
   },
   "outputs": [],
   "source": [
    "from matplotlib.colors import LogNorm\n",
    "plt.hist2d(L_1,J_r_1,bins=100,norm=LogNorm())\n",
    "plt.colorbar()\n",
    "plt.show()\n",
    "plt.hist2d(L_2,J_r_2,bins=100,norm=LogNorm())\n",
    "plt.colorbar()"
   ]
  },
  {
   "cell_type": "code",
   "execution_count": null,
   "metadata": {
    "collapsed": false
   },
   "outputs": [],
   "source": [
    "J_r_wo_1[np.isnan(J_r_wo_1)]=-99.\n",
    "J_r_wo_2[np.isnan(J_r_wo_2)]=-99.\n",
    "plt.show()\n",
    "plt.hist2d(L_wo_1,J_r_wo_1,bins=100,norm=LogNorm())\n",
    "plt.colorbar()\n",
    "plt.show()\n",
    "plt.hist2d(L_wo_2,J_r_wo_2,bins=100,norm=LogNorm())\n",
    "plt.colorbar()\n",
    "plt.show()"
   ]
  },
  {
   "cell_type": "code",
   "execution_count": null,
   "metadata": {
    "collapsed": false
   },
   "outputs": [],
   "source": [
    "### plot J_r over |E| ###\n",
    "E_1 = bh_orbit_1.energy(x_1[1:],y_1[1:],z_1[1:],vx_1[1:],vy_1[1:],vz_1[1:])\n",
    "E_2 = bh_orbit_2.energy(x_2[1:],y_2[1:],z_2[1:],vx_2[1:],vy_2[1:],vz_2[1:])\n",
    "E_wo_1 = wobh_orbit_1.energy(x_wo_1,y_wo_1,z_wo_1,vx_wo_1,vy_wo_1,vz_wo_1)\n",
    "E_wo_2 = wobh_orbit_2.energy(x_wo_2,y_wo_2,z_wo_2,vx_wo_2,vy_wo_2,vz_wo_2)\n",
    "\n",
    "fig = plt.figure()\n",
    "ax = fig.add_subplot(111)\n",
    "cax=ax.scatter(np.abs(E_1),J_r_1,c=r_guide_bh_1,cmap='Spectral',edgecolor=\"None\")\n",
    "cbar = fig.colorbar(cax)\n",
    "cbar.ax.get_yaxis().labelpad = 20\n",
    "cbar.set_label('guiding star radius', rotation=270,fontsize=14)\n",
    "ax.set_xlim(0.1e-24,0.15e-22)\n",
    "ax.set_xlabel('|E| [pc$^2$/s$^2$]',fontsize=14)\n",
    "ax.set_ylabel('J$_\\mathrm{r}$',fontsize=14)\n",
    "ax.set_ylim(0,700)\n",
    "ax.set_title('w/ IMBH 1')\n",
    "ax.set_xscale('log')\n",
    "\n",
    "fig.show()\n",
    "\n",
    "fig = plt.figure()\n",
    "ax = fig.add_subplot(111)\n",
    "cax=ax.scatter(np.abs(E_2),J_r_2,c=r_guide_bh_2,cmap='Spectral',edgecolor=\"None\")\n",
    "cbar = fig.colorbar(cax)\n",
    "cbar.ax.get_yaxis().labelpad = 20\n",
    "cbar.set_label('guiding star radius', rotation=270,fontsize=14)\n",
    "ax.set_xlim(0.1e-24,0.15e-22)\n",
    "ax.set_ylim(0,50)\n",
    "ax.set_xlabel('|E| [pc$^2$/s$^2$]',fontsize=14)\n",
    "ax.set_ylabel('J$_\\mathrm{r}$',fontsize=14)\n",
    "ax.set_title('w/ IMBH 2')\n",
    "ax.set_xscale('log')\n",
    "fig.show()\n",
    "\n",
    "fig = plt.figure()\n",
    "ax = fig.add_subplot(111)\n",
    "cax=ax.scatter(np.abs(E_wo_1),J_r_wo_1,c=r_guide_wobh_1,cmap='Spectral',edgecolor=\"None\")\n",
    "cbar = fig.colorbar(cax)\n",
    "cbar.ax.get_yaxis().labelpad = 20\n",
    "cbar.set_label('guiding star radius', rotation=270,fontsize=14)\n",
    "ax.set_xlim(0.1e-24,0.15e-22)\n",
    "ax.set_ylim(0,700)\n",
    "ax.set_xlabel('|E| [pc$^2$/s$^2$]',fontsize=14)\n",
    "ax.set_ylabel('J$_\\mathrm{r}$',fontsize=14)\n",
    "ax.set_title('w/o IMBH 1')\n",
    "ax.set_xscale('log')\n",
    "\n",
    "fig.show()\n",
    "\n",
    "fig = plt.figure()\n",
    "ax = fig.add_subplot(111)\n",
    "cax=ax.scatter(np.abs(E_wo_2),J_r_wo_2,c=r_guide_wobh_2,cmap='Spectral',edgecolor=\"None\")\n",
    "cbar = fig.colorbar(cax)\n",
    "cbar.ax.get_yaxis().labelpad = 20\n",
    "cbar.set_label('guiding star radius', rotation=270,fontsize=14)\n",
    "ax.set_xlim(0.1e-24,0.15e-22)\n",
    "ax.set_ylim(0,900)\n",
    "ax.set_xlabel('|E| [pc$^2$/s$^2$]',fontsize=14)\n",
    "ax.set_ylabel('J$_\\mathrm{r}$',fontsize=14)\n",
    "ax.set_title('w/o IMBH 2')\n",
    "ax.set_xscale('log')\n",
    "\n",
    "fig.show()"
   ]
  },
  {
   "cell_type": "code",
   "execution_count": null,
   "metadata": {
    "collapsed": false
   },
   "outputs": [],
   "source": [
    "from matplotlib.colors import LogNorm\n",
    "plt.hist2d(E_1,J_r_1,bins=100,norm=LogNorm())\n",
    "plt.xlabel('E [pc$^2$/s$^2$]',fontsize=14)\n",
    "plt.ylabel('J$_\\mathrm{r}$',fontsize=14)\n",
    "plt.title('w/ IMBH 1')\n",
    "plt.colorbar()\n",
    "plt.show()\n",
    "plt.hist2d(E_2,J_r_2,bins=100,norm=LogNorm())\n",
    "plt.xlabel('E [pc$^2$/s$^2$]',fontsize=14)\n",
    "plt.ylabel('J$_\\mathrm{r}$',fontsize=14)\n",
    "plt.title('w/ IMBH 2')\n",
    "\n",
    "plt.colorbar()\n",
    "J_r_wo_1[np.isnan(J_r_wo_1)]=-99.\n",
    "J_r_wo_2[np.isnan(J_r_wo_2)]=-99.\n",
    "plt.show()\n",
    "plt.hist2d(E_wo_1,J_r_wo_1,bins=100,norm=LogNorm())\n",
    "plt.xlabel('E [pc$^2$/s$^2$]',fontsize=14)\n",
    "plt.ylabel('J$_\\mathrm{r}$',fontsize=14)\n",
    "plt.title('w/o IMBH 1')\n",
    "\n",
    "plt.colorbar()\n",
    "plt.show()\n",
    "plt.hist2d(E_wo_2,J_r_wo_2,bins=100,norm=LogNorm())\n",
    "plt.xlabel('E [pc$^2$/s$^2$]',fontsize=14)\n",
    "plt.ylabel('J$_\\mathrm{r}$',fontsize=14)\n",
    "plt.title('w/o IMBH 2')\n",
    "\n",
    "plt.colorbar()\n",
    "plt.show()"
   ]
  },
  {
   "cell_type": "code",
   "execution_count": null,
   "metadata": {
    "collapsed": false
   },
   "outputs": [],
   "source": [
    "### J_r over E only for binaries ###\n",
    "\n",
    "from matplotlib.colors import LogNorm\n",
    "plt.hist2d(E_1[bin_bool_1],J_r_1[bin_bool_1],bins=100,norm=LogNorm())\n",
    "plt.xlabel('E [pc$^2$/s$^2$]',fontsize=14)\n",
    "plt.ylabel('J$_\\mathrm{r}$',fontsize=14)\n",
    "plt.title('w/ IMBH 1')\n",
    "plt.colorbar()\n",
    "plt.show()\n",
    "plt.hist2d(E_2[bin_bool_2],J_r_2[bin_bool_2],bins=100,norm=LogNorm())\n",
    "plt.xlabel('E [pc$^2$/s$^2$]',fontsize=14)\n",
    "plt.ylabel('J$_\\mathrm{r}$',fontsize=14)\n",
    "plt.title('w/ IMBH 2')\n",
    "\n",
    "plt.colorbar()\n",
    "J_r_wo_1[np.isnan(J_r_wo_1)]=-99.\n",
    "J_r_wo_2[np.isnan(J_r_wo_2)]=-99.\n",
    "plt.show()\n",
    "plt.hist2d(E_wo_1[bin_bool_wo_1],J_r_wo_1[bin_bool_wo_1],bins=100,norm=LogNorm())\n",
    "plt.xlabel('E [pc$^2$/s$^2$]',fontsize=14)\n",
    "plt.ylabel('J$_\\mathrm{r}$',fontsize=14)\n",
    "plt.title('w/o IMBH 1')\n",
    "\n",
    "plt.colorbar()\n",
    "plt.show()\n",
    "plt.hist2d(E_wo_2[bin_bool_wo_2],J_r_wo_2[bin_bool_wo_2],bins=100,norm=LogNorm())\n",
    "plt.xlabel('E [pc$^2$/s$^2$]',fontsize=14)\n",
    "plt.ylabel('J$_\\mathrm{r}$',fontsize=14)\n",
    "plt.title('w/o IMBH 2')\n",
    "\n",
    "plt.colorbar()\n",
    "plt.show()"
   ]
  },
  {
   "cell_type": "code",
   "execution_count": null,
   "metadata": {
    "collapsed": false
   },
   "outputs": [],
   "source": [
    "### plot |E| over |L| ###\n",
    "\n",
    "fig = plt.figure()\n",
    "ax = fig.add_subplot(111)\n",
    "cax=ax.scatter(L_1,np.abs(E_1),c=r_guide_bh_1,cmap='Spectral',edgecolor=\"None\")\n",
    "cbar = fig.colorbar(cax)\n",
    "cbar.ax.get_yaxis().labelpad = 20\n",
    "cbar.set_label('guiding star radius', rotation=270,fontsize=14)\n",
    "ax.set_xlim(0,1e-11)\n",
    "ax.set_xlabel('|L| [pc$^2$/s]',fontsize=14)\n",
    "ax.set_ylabel('|E| [pc$^2$/s$^2$]',fontsize=14)\n",
    "ax.set_ylim(0.1e-24,0.15e-22)\n",
    "ax.set_title('w/ IMBH 1')\n",
    "fig.show()\n",
    "\n",
    "fig = plt.figure()\n",
    "ax = fig.add_subplot(111)\n",
    "cax=ax.scatter(L_2,np.abs(E_2),c=r_guide_bh_2,cmap='Spectral',edgecolor=\"None\")\n",
    "cbar = fig.colorbar(cax)\n",
    "cbar.ax.get_yaxis().labelpad = 20\n",
    "cbar.set_label('guiding star radius', rotation=270,fontsize=14)\n",
    "ax.set_xlim(0,0.3e-11)\n",
    "ax.set_ylim(0.1e-24,0.15e-22)\n",
    "ax.set_xlabel('|L| [pc$^2$/s]',fontsize=14)\n",
    "ax.set_ylabel('|E| [pc$^2$/s$^2$]',fontsize=14)\n",
    "ax.set_title('w/ IMBH 2')\n",
    "fig.show()\n",
    "\n",
    "fig = plt.figure()\n",
    "ax = fig.add_subplot(111)\n",
    "cax=ax.scatter(L_wo_1,np.abs(E_wo_1),c=r_guide_wobh_1,cmap='Spectral',edgecolor=\"None\")\n",
    "cbar = fig.colorbar(cax)\n",
    "cbar.ax.get_yaxis().labelpad = 20\n",
    "cbar.set_label('guiding star radius', rotation=270,fontsize=14)\n",
    "ax.set_xlim(0,0.6e-11)\n",
    "ax.set_ylim(0.1e-24,0.15e-22)\n",
    "ax.set_xlabel('|L| [pc$^2$/s]',fontsize=14)\n",
    "ax.set_ylabel('|E| [pc$^2$/s$^2$]',fontsize=14)\n",
    "ax.set_title('w/o IMBH 1')\n",
    "fig.show()\n",
    "\n",
    "fig = plt.figure()\n",
    "ax = fig.add_subplot(111)\n",
    "cax=ax.scatter(L_wo_2,np.abs(E_wo_2),c=r_guide_wobh_2,cmap='Spectral',edgecolor=\"None\")\n",
    "cbar = fig.colorbar(cax)\n",
    "cbar.ax.get_yaxis().labelpad = 20\n",
    "cbar.set_label('guiding star radius', rotation=270,fontsize=14)\n",
    "ax.set_xlim(0,1e-11)\n",
    "ax.set_ylim(0.1e-24,0.15e-22)\n",
    "ax.set_xlabel('|L| [pc$^2$/s]',fontsize=14)\n",
    "ax.set_ylabel('|E| [pc$^2$/s$^2$]',fontsize=14)\n",
    "ax.set_title('w/o IMBH 2')\n",
    "fig.show()\n",
    "#plt.loglog(L_1,np.abs(E_1),'b.')\n",
    "#plt.show()\n",
    "#plt.loglog(L_2,np.abs(E_2),'g.')\n",
    "#plt.show()\n",
    "#plt.loglog(L_wo_1,np.abs(E_wo_1),'r.')\n",
    "#plt.show()\n",
    "#plt.loglog(L_wo_2,np.abs(E_wo_2),'y.')\n"
   ]
  },
  {
   "cell_type": "code",
   "execution_count": null,
   "metadata": {
    "collapsed": false
   },
   "outputs": [],
   "source": [
    "### plot v_circ over r ###\n",
    "\n",
    "v_circ_1=bh_orbit_1.v_circ(r_3d_1[1:])\n",
    "v_circ_2=bh_orbit_2.v_circ(r_3d_2[1:])\n",
    "v_circ_wo_1=wobh_orbit_1.v_circ(r_3d_wo_1)\n",
    "v_circ_wo_2=wobh_orbit_2.v_circ(r_3d_wo_2)\n",
    "\n",
    "\n",
    "fig = plt.figure()\n",
    "ax = fig.add_subplot(111)\n",
    "cax=ax.scatter(r_3d_1[1:],v_circ_1,c=r_guide_bh_1,cmap='Spectral',edgecolor=\"None\")\n",
    "cbar = fig.colorbar(cax)\n",
    "cbar.ax.get_yaxis().labelpad = 20\n",
    "cbar.set_label('guiding star radius', rotation=270,fontsize=14)\n",
    "ax.set_xlim(1e-3,1e3)\n",
    "ax.set_xlabel('|L| [pc$^2$/s]',fontsize=14)\n",
    "ax.set_ylabel('|E| [pc$^2$/s$^2$]',fontsize=14)\n",
    "ax.set_ylim(1e-13,1e-11)\n",
    "ax.set_title('w/ IMBH 1')\n",
    "ax.set_xscale('log')\n",
    "ax.set_yscale('log')\n",
    "fig.show()\n",
    "\n",
    "fig = plt.figure()\n",
    "ax = fig.add_subplot(111)\n",
    "cax=ax.scatter(r_3d_2[1:],v_circ_2,c=r_guide_bh_2,cmap='Spectral',edgecolor=\"None\")\n",
    "cbar = fig.colorbar(cax)\n",
    "cbar.ax.get_yaxis().labelpad = 20\n",
    "cbar.set_label('guiding star radius', rotation=270,fontsize=14)\n",
    "ax.set_xlim(1e-3,1e1)\n",
    "ax.set_ylim(1e-13,1e-11)\n",
    "ax.set_xlabel('|L| [pc$^2$/s]',fontsize=14)\n",
    "ax.set_ylabel('|E| [pc$^2$/s$^2$]',fontsize=14)\n",
    "ax.set_title('w/ IMBH 2')\n",
    "ax.set_xscale('log')\n",
    "ax.set_yscale('log')\n",
    "fig.show()\n",
    "\n",
    "fig = plt.figure()\n",
    "ax = fig.add_subplot(111)\n",
    "cax=ax.scatter(r_3d_wo_1,v_circ_wo_1,c=r_guide_wobh_1,cmap='Spectral',edgecolor=\"None\")\n",
    "cbar = fig.colorbar(cax)\n",
    "cbar.ax.get_yaxis().labelpad = 20\n",
    "cbar.set_label('guiding star radius', rotation=270,fontsize=14)\n",
    "ax.set_xlim(1e-2,1e2)\n",
    "ax.set_ylim(1e-14,1e-12)\n",
    "ax.set_xlabel('|L| [pc$^2$/s]',fontsize=14)\n",
    "ax.set_ylabel('|E| [pc$^2$/s$^2$]',fontsize=14)\n",
    "ax.set_title('w/o IMBH 1')\n",
    "ax.set_xscale('log')\n",
    "ax.set_yscale('log')\n",
    "fig.show()\n",
    "\n",
    "fig = plt.figure()\n",
    "ax = fig.add_subplot(111)\n",
    "cax=ax.scatter(r_3d_wo_2,v_circ_wo_2,c=r_guide_wobh_2,cmap='Spectral',edgecolor=\"None\")\n",
    "cbar = fig.colorbar(cax)\n",
    "cbar.ax.get_yaxis().labelpad = 20\n",
    "cbar.set_label('guiding star radius', rotation=270,fontsize=14)\n",
    "ax.set_xlim(1e-2,1e2)\n",
    "ax.set_ylim(1e-13,1e-11)\n",
    "ax.set_xlabel('|L| [pc$^2$/s]',fontsize=14)\n",
    "ax.set_ylabel('|E| [pc$^2$/s$^2$]',fontsize=14)\n",
    "ax.set_title('w/o IMBH 2')\n",
    "ax.set_xscale('log')\n",
    "ax.set_yscale('log')\n",
    "#fig.show()\n",
    "\n",
    "#plt.loglog(r_3d_1[1:],v_circ_1,'b.')\n",
    "#plt.show()\n",
    "#plt.loglog(r_3d_2[1:],v_circ_2,'g.')\n",
    "#plt.show()\n",
    "#plt.loglog(r_3d_wo_1,v_circ_wo_1,'r.')\n",
    "#plt.show()\n",
    "#plt.loglog(r_3d_wo_2,v_circ_wo_2,'y.')\n"
   ]
  },
  {
   "cell_type": "code",
   "execution_count": null,
   "metadata": {
    "collapsed": false
   },
   "outputs": [],
   "source": [
    "### calculate anisitropy parameter and according distance ###\n",
    "\n",
    "#with bh\n",
    "bh_1=GCphasespace(r=r3d_1,bin_num=30)\n",
    "r_beta_1=bh_1.mean_distance(r_guide_bh_sort_1) #use guiding star radius\n",
    "beta_1=bh_1.anisotropy_param(vr_1,vtheta_1,vphi_1)\n",
    "\n",
    "#w/o bh\n",
    "wo_bh_1=GCphasespace(r=r3d_wo_1,bin_num=30)\n",
    "r_beta_wo_1=wo_bh_1.mean_distance(r_guide_wobh_sort_1) #use guiding star radius\n",
    "beta_wo_1=wo_bh_1.anisotropy_param(vr_wo_1,vtheta_wo_1,vphi_wo_1)\n",
    "\n",
    "### calculate giuding star radii over effective radii ###\n",
    "\n",
    "r_beta_bh_1=r_beta_1/hmr_bh_1\n",
    "r_beta_wo_bh_1=r_beta_wo_1/hmr_wo_bh_1"
   ]
  },
  {
   "cell_type": "code",
   "execution_count": null,
   "metadata": {
    "collapsed": false
   },
   "outputs": [],
   "source": [
    "### plot J_theta over r without guiding star radius ###\n",
    "\n",
    "fig = plt.figure()\n",
    "ax = fig.add_subplot(111)\n",
    "ax.loglog(r_mean_1,Jtheta_mean_1,'b.',label='w/ IMHB')\n",
    "ax.loglog(r_mean_wo_1,Jtheta_mean_wo_1,'r.',label='w/o IMBH')\n",
    "ax.legend(loc=0,numpoints=1)\n",
    "ax.set_xlabel('r',fontsize=14)\n",
    "ax.set_ylabel('J$_\\\\theta$',fontsize=14)\n",
    "ax.spines['top'].set_linewidth(1.5)\n",
    "ax.spines['right'].set_linewidth(1.5)\n",
    "ax.spines['bottom'].set_linewidth(1.5)\n",
    "ax.spines['left'].set_linewidth(1.5)\n",
    "\n",
    "ax.tick_params(length=8,width=1.5,labelsize=12)\n",
    "ax.tick_params(which='minor',length=4,width=1.5)\n",
    "fig.tight_layout()"
   ]
  },
  {
   "cell_type": "code",
   "execution_count": null,
   "metadata": {
    "collapsed": false
   },
   "outputs": [],
   "source": [
    "### plot J_theta over r with guiding star radius ###\n",
    "\n",
    "fig = plt.figure()\n",
    "ax = fig.add_subplot(111)\n",
    "ax.loglog(r_bh_1,Jtheta_mean_1,'b.',label='w/ IMBH')\n",
    "ax.loglog(r_wo_bh_1,Jtheta_mean_wo_1,'r.',label='w/o IMBH')\n",
    "ax.legend(loc=0,numpoints=1)\n",
    "ax.set_xlabel('r$_\\mathrm{g}$/r$_\\mathrm{e}$',fontsize=14)\n",
    "ax.set_ylabel('J$_\\\\theta$',fontsize=14)\n",
    "ax.spines['top'].set_linewidth(1.5)\n",
    "ax.spines['right'].set_linewidth(1.5)\n",
    "ax.spines['bottom'].set_linewidth(1.5)\n",
    "ax.spines['left'].set_linewidth(1.5)\n",
    "\n",
    "ax.tick_params(length=8,width=1.5,labelsize=12)\n",
    "ax.tick_params(which='minor',length=4,width=1.5)\n",
    "fig.tight_layout()"
   ]
  },
  {
   "cell_type": "code",
   "execution_count": null,
   "metadata": {
    "collapsed": false
   },
   "outputs": [],
   "source": [
    "### plot J_phi over r with guiding star radius ###\n",
    "\n",
    "fig = plt.figure()\n",
    "ax = fig.add_subplot(111)\n",
    "ax.loglog(r_bh_1,Jphi_mean_1,'b.',label='w/ IMBH')\n",
    "ax.loglog(r_wo_bh_1,Jphi_mean_wo_1,'r.',label='w/o IMBH')\n",
    "ax.legend(loc=0,numpoints=1)\n",
    "ax.set_xlabel('r$_\\mathrm{g}$/r$_\\mathrm{e}$',fontsize=14)\n",
    "ax.set_ylabel('J$_\\phi$',fontsize=14)\n",
    "ax.spines['top'].set_linewidth(1.5)\n",
    "ax.spines['right'].set_linewidth(1.5)\n",
    "ax.spines['bottom'].set_linewidth(1.5)\n",
    "ax.spines['left'].set_linewidth(1.5)\n",
    "\n",
    "ax.tick_params(length=8,width=1.5,labelsize=12)\n",
    "ax.tick_params(which='minor',length=4,width=1.5)\n",
    "fig.tight_layout()"
   ]
  },
  {
   "cell_type": "code",
   "execution_count": null,
   "metadata": {
    "collapsed": false
   },
   "outputs": [],
   "source": [
    "### plot J_r over r with guiding star radius ###\n",
    "\n",
    "fig = plt.figure()\n",
    "ax = fig.add_subplot(111)\n",
    "ax.loglog(r_bh_1,Jr_mean_1,'b.',label='w/ IMBH')\n",
    "ax.loglog(r_wo_bh_1,Jr_mean_wo_1,'r.',label='w/o IMBH')\n",
    "ax.legend(loc=0,numpoints=1)\n",
    "ax.set_xlabel('r$_\\mathrm{g}$/r$_\\mathrm{e}$',fontsize=14)\n",
    "ax.set_ylabel('J$_\\mathrm{r}$',fontsize=14)\n",
    "ax.spines['top'].set_linewidth(1.5)\n",
    "ax.spines['right'].set_linewidth(1.5)\n",
    "ax.spines['bottom'].set_linewidth(1.5)\n",
    "ax.spines['left'].set_linewidth(1.5)\n",
    "\n",
    "ax.tick_params(length=8,width=1.5,labelsize=12)\n",
    "ax.tick_params(which='minor',length=4,width=1.5)\n",
    "fig.tight_layout()"
   ]
  },
  {
   "cell_type": "code",
   "execution_count": null,
   "metadata": {
    "collapsed": false
   },
   "outputs": [],
   "source": [
    "### plot beta over r with guiding star radius ###\n",
    "\n",
    "fig = plt.figure()\n",
    "ax = fig.add_subplot(111)\n",
    "ax.loglog(r_beta_bh_1,beta_1,'b.',label='w/ IMBH')\n",
    "ax.loglog(r_beta_wo_bh_1,beta_wo_1,'r.',label='w/o IMBH')\n",
    "ax.legend(loc=0,numpoints=1)\n",
    "ax.set_xlabel('r/r$_\\mathrm{e}$',fontsize=14)\n",
    "ax.set_ylabel('anisotropy parameter $\\\\beta$',fontsize=14)\n",
    "ax.spines['top'].set_linewidth(1.5)\n",
    "ax.spines['right'].set_linewidth(1.5)\n",
    "ax.spines['bottom'].set_linewidth(1.5)\n",
    "ax.spines['left'].set_linewidth(1.5)\n",
    "\n",
    "ax.tick_params(length=8,width=1.5,labelsize=12)\n",
    "ax.tick_params(which='minor',length=4,width=1.5)\n",
    "fig.tight_layout()"
   ]
  },
  {
   "cell_type": "code",
   "execution_count": null,
   "metadata": {
    "collapsed": false
   },
   "outputs": [],
   "source": [
    "### plot J_theta over r with guiding star radius ###\n",
    "#L_bh=np.zeros(len(r_3d))\n",
    "#L_wobh=np.zeros(len(r_3d_wo))\n",
    "#for i in range(len(r_3d)):\n",
    "#    L_bh[i]=bh_orbit.angularmom(x[i],y[i],z[i],vx[i],vy[i],vz[i])[0]\n",
    "#for i in range(len(r_3d_wo)):\n",
    "#    L_wobh[i]=wo_bh.angularmom(x_wo[i],y_wo[i],z_wo[i],vx_wo[i],vy_wo[i],vz_wo[i])[0]"
   ]
  },
  {
   "cell_type": "code",
   "execution_count": null,
   "metadata": {
    "collapsed": false
   },
   "outputs": [],
   "source": [
    "### find binaries ###\n",
    "\n",
    "bin_bool_1= (m1_1 != 0)* (m2_1 != 0)\n",
    "bin_bool_2= (m1_2 != 0)* (m2_2 != 0)\n",
    "bin_bool_wo_1= (m1_wo_1 != 0)* (m2_wo_1 != 0)\n",
    "bin_bool_wo_2= (m1_wo_2 != 0)* (m2_wo_2 != 0)\n"
   ]
  },
  {
   "cell_type": "code",
   "execution_count": null,
   "metadata": {
    "collapsed": false
   },
   "outputs": [],
   "source": [
    "print(np.sum(bin_bool_1), len(x_1),np.sum(bin_bool_1)/len(x_1))\n",
    "print(np.sum(bin_bool_2),len(x_2),np.sum(bin_bool_2)/len(x_2))\n",
    "print(np.sum(bin_bool_wo_1),len(x_wo_1),np.sum(bin_bool_wo_1)/len(x_wo_1))\n",
    "print(np.sum(bin_bool_wo_2),len(x_wo_2),np.sum(bin_bool_wo_2)/len(x_wo_2))"
   ]
  },
  {
   "cell_type": "code",
   "execution_count": null,
   "metadata": {
    "collapsed": true
   },
   "outputs": [],
   "source": []
  },
  {
   "cell_type": "code",
   "execution_count": null,
   "metadata": {
    "collapsed": true
   },
   "outputs": [],
   "source": []
  }
 ],
 "metadata": {
  "kernelspec": {
   "display_name": "Python 3",
   "language": "python",
   "name": "python3"
  },
  "language_info": {
   "codemirror_mode": {
    "name": "ipython",
    "version": 3
   },
   "file_extension": ".py",
   "mimetype": "text/x-python",
   "name": "python",
   "nbconvert_exporter": "python",
   "pygments_lexer": "ipython3",
   "version": "3.4.3"
  }
 },
 "nbformat": 4,
 "nbformat_minor": 0
}
