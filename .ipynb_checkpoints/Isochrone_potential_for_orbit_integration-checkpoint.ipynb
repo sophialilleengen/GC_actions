{
 "cells": [
  {
   "cell_type": "code",
   "execution_count": 1,
   "metadata": {
    "collapsed": false
   },
   "outputs": [],
   "source": [
    "import numpy\n",
    "out = numpy.loadtxt('densityfile_IMBH1.txt')\n",
    "r_pc         = out[0,:]\n",
    "rho_Msun_pc3 = out[1,:]\n",
    "reff_pc = 4.13329"
   ]
  },
  {
   "cell_type": "code",
   "execution_count": 2,
   "metadata": {
    "collapsed": false
   },
   "outputs": [
    {
     "name": "stdout",
     "output_type": "stream",
     "text": [
      "galpyWarning: interppotential_c extension module not loaded, because galpy_actionAngle_c.cpython-34m.so image was not found\n"
     ]
    }
   ],
   "source": [
    "import scipy.optimize\n",
    "%matplotlib inline\n",
    "import matplotlib.pyplot as plt\n",
    "from galpy.potential import IsochronePotential\n",
    "from galpy.util import bovy_conversion"
   ]
  },
  {
   "cell_type": "code",
   "execution_count": 4,
   "metadata": {
    "collapsed": false
   },
   "outputs": [
    {
     "name": "stdout",
     "output_type": "stream",
     "text": [
      "M= 129819.111872 Msun, b= 0.54460934237 pc\n",
      "v_circ(R_eff) =  10.1491275177 km/s\n"
     ]
    }
   ],
   "source": [
    "#_____best fit isochrone______\n",
    "\n",
    "#fit density (in log space):\n",
    "def log_rho_iso(r_pc,M,b_pc):\n",
    "    b = b_pc\n",
    "    b2 = b_pc**2\n",
    "    r2 = r_pc**2\n",
    "    rb = numpy.sqrt(r2+b2)\n",
    "    return numpy.log(M*(3.*(b+rb)*rb**2.-r2*(b+3.*rb))/\\\n",
    "            rb**3./(b+rb)**3./4./numpy.pi)\n",
    "\n",
    "popt, pcov = scipy.optimize.curve_fit(log_rho_iso, r_pc, numpy.log(rho_Msun_pc3), p0=[122022,0.5])\n",
    "M = popt[0]\n",
    "b_pc = popt[1]\n",
    "print(\"M=\",M,\"Msun, b=\",b_pc,\"pc\")\n",
    "\n",
    "#calculate circular velocity:\n",
    "G = bovy_conversion._G #pc (km/s)^2/Msolar)\n",
    "iso = IsochronePotential(amp=G*M,b=b_pc)\n",
    "vcirceff_kms = iso.vcirc(reff_pc)\n",
    "print(\"v_circ(R_eff) = \",vcirceff_kms,\"km/s\")\n",
    "\n",
    "#setup galpy potential:\n",
    "_RSCALE = reff_pc         #used to scale galpy lengths to pc\n",
    "_VSCALE = vcirceff_kms       #used to scale galpy velocities to km/s\n",
    "\n",
    "r_galpy = r_pc/_RSCALE\n",
    "iso_galpy = IsochronePotential(b=b_pc/_RSCALE,normalize=True)\n",
    "dens_galpy_Msun_pc3 = iso_galpy.dens(r_galpy,0.) * bovy_conversion.dens_in_msolpc3(_VSCALE,_RSCALE/1000.)"
   ]
  },
  {
   "cell_type": "code",
   "execution_count": 5,
   "metadata": {
    "collapsed": false
   },
   "outputs": [
    {
     "data": {
      "text/plain": [
       "<matplotlib.legend.Legend at 0x7f88431bd780>"
      ]
     },
     "execution_count": 5,
     "metadata": {},
     "output_type": "execute_result"
    },
    {
     "data": {
      "image/png": "[encoded data removed]",
      "text/plain": [
       "<matplotlib.figure.Figure at 0x7f8843267e80>"
      ]
     },
     "metadata": {},
     "output_type": "display_data"
    }
   ],
   "source": [
    "plt.loglog(r_pc,rho_Msun_pc3,color='red',linestyle='None',marker='o',label='data')\n",
    "plt.plot(r_pc,numpy.exp(log_rho_iso(r_pc,M,b_pc)),linestyle='solid',color='limegreen',label='best fit')\n",
    "plt.plot(r_pc,dens_galpy_Msun_pc3,linestyle='dashed',color='blue',label='galpy iso')\n",
    "\n",
    "plt.ylabel(\"density [Msun / pc^3]\")\n",
    "plt.xlabel(\"radius [pc]\")\n",
    "plt.legend(loc='lower left')"
   ]
  },
  {
   "cell_type": "code",
   "execution_count": 6,
   "metadata": {
    "collapsed": false
   },
   "outputs": [],
   "source": [
    "#_____potential for orbit integration_____\n",
    "_RSCALE = 4.13329         #used to scale galpy lengths to pc\n",
    "_VSCALE = 10.1491275177   #used to scale galpy velocities to km/s\n",
    "\n",
    "b_galpy = 0.54460934237 / _RSCALE\n",
    "iso_galpy = IsochronePotential(b=b_galpy,normalize=True)\n",
    "\n",
    "#initial coordinates of the star in units of _RSCALE and _VSCALE\n",
    "\n",
    "#for circular orbit (in galpy coordinates):\n",
    "r = 1.\n",
    "z = 0.\n",
    "phi = 0.\n",
    "vr = 0.\n",
    "vT = 1.\n",
    "vz = 0."
   ]
  },
  {
   "cell_type": "code",
   "execution_count": null,
   "metadata": {
    "collapsed": false
   },
   "outputs": [],
   "source": []
  }
 ],
 "metadata": {
  "kernelspec": {
   "display_name": "Python 3",
   "language": "python",
   "name": "python3"
  },
  "language_info": {
   "codemirror_mode": {
    "name": "ipython",
    "version": 3
   },
   "file_extension": ".py",
   "mimetype": "text/x-python",
   "name": "python",
   "nbconvert_exporter": "python",
   "pygments_lexer": "ipython3",
   "version": "3.4.3"
  }
 },
 "nbformat": 4,
 "nbformat_minor": 0
}
