{
 "cells": [
  {
   "cell_type": "code",
   "execution_count": 2,
   "metadata": {
    "collapsed": true
   },
   "outputs": [],
   "source": [
    "import numpy as np"
   ]
  },
  {
   "cell_type": "code",
   "execution_count": 3,
   "metadata": {
    "collapsed": true
   },
   "outputs": [],
   "source": [
    "### import data of simulation 1 with IMBH ###\n",
    "if 0:\n",
    "    r_3d,m1,m2,x,y,z=np.loadtxt('C:\\\\Users\\Sophia Milanov\\Documents\\Bachelorarbeit\\data\\\\x-y-z.dat', usecols=(1,9,10,30,31,32), unpack=True)\n",
    "elif 1:\n",
    "    r_3d_1,m1_1,m2_1,l1_1,l2_1,x_1,y_1,z_1=np.loadtxt('/home/sophia/Dokumente/Bachelorarbeit-2/x-y-z_IMBH1.dat', usecols=(1,9,10,11,12,30,31,32), unpack=True)\n",
    "else:\n",
    "    r_3d,m1,m2,x,y,z=np.loadtxt('/home/milanov/Bachelorarbeit/x-y-z.dat', usecols=(1,9,10,30,31,32), unpack=True)"
   ]
  },
  {
   "cell_type": "code",
   "execution_count": 4,
   "metadata": {
    "collapsed": true
   },
   "outputs": [],
   "source": [
    "### import data of simulation 2 with IMBH ###\n",
    "if 0:\n",
    "    r_3d,m1,m2,x,y,z=np.loadtxt('C:\\\\Users\\Sophia Milanov\\Documents\\Bachelorarbeit\\data\\\\x-y-z.dat', usecols=(1,9,10,30,31,32), unpack=True)\n",
    "elif 1:\n",
    "    r_3d_2,m1_2,m2_2,l1_2,l2_2,x_2,y_2,z_2=np.loadtxt('/home/sophia/Dokumente/Bachelorarbeit-2/x-y-z_IMBH2.dat', usecols=(1,9,10,11,12,30,31,32), unpack=True)\n",
    "else:\n",
    "    r_3d,m1,m2,x,y,z=np.loadtxt('/home/milanov/Bachelorarbeit/x-y-z.dat', usecols=(1,9,10,30,31,32), unpack=True)"
   ]
  },
  {
   "cell_type": "code",
   "execution_count": 5,
   "metadata": {
    "collapsed": true
   },
   "outputs": [],
   "source": [
    "### import data for simulation 1 w/o IMBH ###\n",
    "\n",
    "if 0:\n",
    "    r_3d,m1,m2,x,y,z=np.loadtxt('C:\\\\Users\\Sophia Milanov\\Documents\\Bachelorarbeit\\data\\\\x-y-z_sophia.dat', usecols=(1,9,10,30,31,32), unpack=True)\n",
    "elif 1:\n",
    "    r_wo_3d_1,m1_wo_1,m2_wo_1,l1_wo_1,l2_wo_1,x_wo_1,y_wo_1,z_wo_1=np.loadtxt('/home/sophia/Dokumente/Bachelorarbeit-2/x-y-z_noIMBH1.dat', usecols=(1,9,10,11,12,29,30,31), unpack=True)\n",
    "else:\n",
    "    r_3d,m1,m2,x,y,z=np.loadtxt('/home/milanov/Bachelorarbeit/x-y-z_sophia.dat', usecols=(1,9,10,30,31,32), unpack=True)"
   ]
  },
  {
   "cell_type": "code",
   "execution_count": 6,
   "metadata": {
    "collapsed": true
   },
   "outputs": [],
   "source": [
    "### import data for simulation 1 w/o IMBH ###\n",
    "\n",
    "if 0:\n",
    "    r_3d,m1,m2,x,y,z=np.loadtxt('C:\\\\Users\\Sophia Milanov\\Documents\\Bachelorarbeit\\data\\\\x-y-z_sophia.dat', usecols=(1,9,10,30,31,32), unpack=True)\n",
    "elif 1:\n",
    "    r_wo_3d_2,m1_wo_2,m2_wo_2,l1_wo_2,l2_wo_2,x_wo_2,y_wo_2,z_wo_2=np.loadtxt('/home/sophia/Dokumente/Bachelorarbeit-2/x-y-z_noIMBH2.dat', usecols=(1,9,10,11,12,30,31,32), unpack=True)\n",
    "else:\n",
    "    r_3d,m1,m2,x,y,z=np.loadtxt('/home/milanov/Bachelorarbeit/x-y-z_sophia.dat', usecols=(1,9,10,30,31,32), unpack=True)"
   ]
  },
  {
   "cell_type": "code",
   "execution_count": 7,
   "metadata": {
    "collapsed": false
   },
   "outputs": [
    {
     "name": "stdout",
     "output_type": "stream",
     "text": [
      "388825 4.13329\n",
      "150154 2.08948\n"
     ]
    }
   ],
   "source": [
    "#simulation 1 with IMBH\n",
    "m_1=m1_1+m2_1\n",
    "ind_1=(np.where(np.cumsum(m_1)<=0.5*np.sum(m_1)))\n",
    "hmr_bh_1=r_3d_1[np.max(ind_1)]\n",
    "print(np.max(ind_1),hmr_bh_1)\n",
    "\n",
    "l_1=l1_1+l2_1\n",
    "indl_1=np.where(np.cumsum(l_1)<=0.5*np.sum(l_1))\n",
    "hlr_bh_1=r_3d_1[np.max(indl_1)]\n",
    "print(np.max(indl_1),hlr_bh_1)"
   ]
  },
  {
   "cell_type": "code",
   "execution_count": 8,
   "metadata": {
    "collapsed": false
   },
   "outputs": [
    {
     "name": "stdout",
     "output_type": "stream",
     "text": [
      "102938 2.5014\n",
      "116642 2.69536\n"
     ]
    }
   ],
   "source": [
    "#simulation 2 with IMBH\n",
    "m_2=m1_2+m2_2\n",
    "ind_2=(np.where(np.cumsum(m_2)<=0.5*np.sum(m_2)))\n",
    "hmr_bh_2=r_3d_2[np.max(ind_2)]\n",
    "print(np.max(ind_2),hmr_bh_2)\n",
    "\n",
    "l_2=l1_2+l2_2\n",
    "indl_2=np.where(np.cumsum(l_2)<=0.5*np.sum(l_2))\n",
    "hlr_bh_2=r_3d_2[np.max(indl_2)]\n",
    "print(np.max(indl_2),hlr_bh_2)"
   ]
  },
  {
   "cell_type": "code",
   "execution_count": 10,
   "metadata": {
    "collapsed": false
   },
   "outputs": [
    {
     "name": "stdout",
     "output_type": "stream",
     "text": [
      "200613 7.8937\n",
      "166324 6.7517\n"
     ]
    }
   ],
   "source": [
    "#simulation 1 without IMBH\n",
    "m_wo_1=m1_wo_1+m2_wo_1\n",
    "ind_wo_1=(np.where(np.cumsum(m_wo_1)<=0.5*np.sum(m_wo_1)))\n",
    "hmr_wo_bh_1=r_wo_3d_1[np.max(ind_wo_1)]\n",
    "print(np.max(ind_wo_1),hmr_wo_bh_1)\n",
    "\n",
    "l_wo_1=l1_wo_1+l2_wo_1\n",
    "indl_wo_1=np.where(np.cumsum(l_wo_1)<=0.5*np.sum(l_wo_1))\n",
    "hlr_wo_bh_1=r_wo_3d_1[np.max(indl_wo_1)]\n",
    "print(np.max(indl_wo_1),hlr_wo_bh_1)"
   ]
  },
  {
   "cell_type": "code",
   "execution_count": 11,
   "metadata": {
    "collapsed": false
   },
   "outputs": [
    {
     "name": "stdout",
     "output_type": "stream",
     "text": [
      "779843 5.40817\n",
      "516440 3.85325\n"
     ]
    }
   ],
   "source": [
    "#simulation 1 without IMBH\n",
    "m_wo_2=m1_wo_2+m2_wo_2\n",
    "ind_wo_2=(np.where(np.cumsum(m_wo_2)<=0.5*np.sum(m_wo_2)))\n",
    "hmr_wo_bh_2=r_wo_3d_2[np.max(ind_wo_2)]\n",
    "print(np.max(ind_wo_2),hmr_wo_bh_2)\n",
    "\n",
    "l_wo_2=l1_wo_2+l2_wo_2\n",
    "indl_wo_2=np.where(np.cumsum(l_wo_2)<=0.5*np.sum(l_wo_2))\n",
    "hlr_wo_bh_2=r_wo_3d_2[np.max(indl_wo_2)]\n",
    "print(np.max(indl_wo_2),hlr_wo_bh_2)"
   ]
  },
  {
   "cell_type": "code",
   "execution_count": 14,
   "metadata": {
    "collapsed": false
   },
   "outputs": [],
   "source": [
    "np.savetxt('half_mass_and_half_light_radius',(hmr_bh_1,hmr_bh_2,hlr_bh_1,hlr_bh_2,hmr_wo_bh_1,hmr_wo_bh_2,hlr_wo_bh_1,hlr_wo_bh_2))"
   ]
  },
  {
   "cell_type": "code",
   "execution_count": 12,
   "metadata": {
    "collapsed": false
   },
   "outputs": [
    {
     "name": "stdout",
     "output_type": "stream",
     "text": [
      "1026735 271946 468627 1851556\n"
     ]
    }
   ],
   "source": [
    "print(len(x_1),len(x_2),len(x_wo_1),len(x_wo_2))"
   ]
  },
  {
   "cell_type": "code",
   "execution_count": null,
   "metadata": {
    "collapsed": true
   },
   "outputs": [],
   "source": []
  }
 ],
 "metadata": {
  "kernelspec": {
   "display_name": "Python 3",
   "language": "python",
   "name": "python3"
  },
  "language_info": {
   "codemirror_mode": {
    "name": "ipython",
    "version": 3
   },
   "file_extension": ".py",
   "mimetype": "text/x-python",
   "name": "python",
   "nbconvert_exporter": "python",
   "pygments_lexer": "ipython3",
   "version": "3.4.3"
  }
 },
 "nbformat": 4,
 "nbformat_minor": 0
}
