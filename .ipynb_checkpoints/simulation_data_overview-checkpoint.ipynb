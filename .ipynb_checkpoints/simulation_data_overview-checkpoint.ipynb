{
 "cells": [
  {
   "cell_type": "code",
   "execution_count": 1,
   "metadata": {
    "collapsed": true
   },
   "outputs": [],
   "source": [
    "import numpy as np"
   ]
  },
  {
   "cell_type": "code",
   "execution_count": 2,
   "metadata": {
    "collapsed": false
   },
   "outputs": [],
   "source": [
    "### import relevant data ###\n",
    "\n",
    "m1_1,m2_1=np.loadtxt('../Dokumente/Bachelorarbeit-2/x-y-z_IMBH1.dat',usecols=(9,10),unpack=True)\n",
    "m1_2,m2_2=np.loadtxt('../Dokumente/Bachelorarbeit-2/x-y-z_IMBH2.dat',usecols=(9,10),unpack=True)\n",
    "m1_wo_1,m2_wo_1=np.loadtxt('../Dokumente/Bachelorarbeit-2/x-y-z_noIMBH1.dat',usecols=(9,10),unpack=True)\n",
    "m1_wo_2,m2_wo_2=np.loadtxt('../Dokumente/Bachelorarbeit-2/x-y-z_noIMBH2.dat',usecols=(9,10),unpack=True)\n",
    "hmr_bh_1,hmr_bh_2,hlr_bh_1,hlr_bh_2,hmr_wo_bh_1,hmr_wo_bh_2,hlr_wo_bh_1,hlr_wo_bh_2=np.loadtxt('half_mass_and_half_light_radius')"
   ]
  },
  {
   "cell_type": "code",
   "execution_count": 3,
   "metadata": {
    "collapsed": false
   },
   "outputs": [
    {
     "name": "stdout",
     "output_type": "stream",
     "text": [
      "m_1 = 308533.169063\n",
      "m_2 = 326253.447659\n",
      "m_wo_1 = 172671.281141\n",
      "m_wo_2 = 669844.310538\n",
      "m1bh = 10102.0\n",
      "m2bh = 8902.33\n",
      "# of stars SIM 1 = 1026735\n",
      "# of stars SIM 2 = 1079376\n",
      "# of stars SIM 3 = 468627\n",
      "# of stars SIM 4 = 1851556\n",
      "hmr SIM 1 = 4.13329\n",
      "hmr SIM 2 = 3.57968\n",
      "hmr SIM 3 = 7.8937\n",
      "hmr SIM 4 = 5.40817\n"
     ]
    }
   ],
   "source": [
    "### total mass ###\n",
    "\n",
    "m_1=np.sum(m1_1+m2_1)\n",
    "m_2=np.sum(m1_2+m2_2)\n",
    "m_wo_1=np.sum(m1_wo_1+m2_wo_1)\n",
    "m_wo_2=np.sum(m1_wo_2+m2_wo_2)\n",
    "\n",
    "print('m_1 = ' +str(m_1))\n",
    "print('m_2 = ' +str(m_2))\n",
    "print('m_wo_1 = ' +str(m_wo_1))\n",
    "print('m_wo_2 = ' +str(m_wo_2))\n",
    "\n",
    "### bh masses ###\n",
    "\n",
    "m1bh=m1_1[0]+m2_1[0]\n",
    "m2bh=m1_2[0]+m2_2[0]\n",
    "\n",
    "print('m1bh = '+str(m1bh))\n",
    "print('m2bh = '+str(m2bh))\n",
    "\n",
    "### # of stars ###\n",
    "\n",
    "print('# of stars SIM 1 = '+str(len(m1_1)))\n",
    "print('# of stars SIM 2 = '+str(len(m1_2)))\n",
    "print('# of stars SIM 3 = '+str(len(m1_wo_1)))\n",
    "print('# of stars SIM 4 = '+str(len(m1_wo_2)))\n",
    "\n",
    "### half mass radius ###\n",
    "\n",
    "print('hmr SIM 1 = '+str(hmr_bh_1))\n",
    "print('hmr SIM 2 = '+str(hmr_bh_2))\n",
    "print('hmr SIM 3 = '+str(hmr_wo_bh_1))\n",
    "print('hmr SIM 4 = '+str(hmr_wo_bh_2))"
   ]
  },
  {
   "cell_type": "code",
   "execution_count": null,
   "metadata": {
    "collapsed": true
   },
   "outputs": [],
   "source": []
  }
 ],
 "metadata": {
  "kernelspec": {
   "display_name": "Python 3",
   "language": "python",
   "name": "python3"
  },
  "language_info": {
   "codemirror_mode": {
    "name": "ipython",
    "version": 3
   },
   "file_extension": ".py",
   "mimetype": "text/x-python",
   "name": "python",
   "nbconvert_exporter": "python",
   "pygments_lexer": "ipython3",
   "version": "3.4.3"
  }
 },
 "nbformat": 4,
 "nbformat_minor": 0
}
