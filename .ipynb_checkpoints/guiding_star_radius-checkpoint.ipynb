{
 "cells": [
  {
   "cell_type": "code",
   "execution_count": 1,
   "metadata": {
    "collapsed": false
   },
   "outputs": [],
   "source": [
    "import numpy as np\n",
    "import matplotlib.pyplot as plt\n",
    "import sys\n",
    "sys.path.insert(0, '/home/sophia/bachelor_thesis_ipython_notebooks')\n",
    "\n",
    "from Paolo_class import GCphasespace\n",
    "from GC_Orbit_class import GCorbit\n",
    "%matplotlib inline"
   ]
  },
  {
   "cell_type": "code",
   "execution_count": 2,
   "metadata": {
    "collapsed": true
   },
   "outputs": [],
   "source": [
    "if 0:\n",
    "    r_3d,v_r,v_t,x,y,z,vx,vy,vz,vr,vtheta,vphi=np.loadtxt('C:\\\\Users\\Sophia Milanov\\Documents\\Bachelorarbeit\\data\\\\x-y-z.dat', usecols=(1,2,3,30,31,32,33,34,35,36,37,38), unpack=True)\n",
    "elif 1:\n",
    "    r_3d,m1,m2,x,y,z,vx,vy,vz,vr,vtheta,vphi=np.loadtxt('/home/sophia/Dokumente/Bachelorarbeit-2/x-y-z_IMBH2.dat', usecols=(1,9,10,30,31,32,33,34,35,36,37,38), unpack=True)\n",
    "else:\n",
    "    r_3d,v_r,v_t,x,y,z,vx,vy,vz,vr,vtheta,vphi=np.loadtxt('/home/milanov/Bachelorarbeit/x-y-z.dat', usecols=(1,2,3,30,31,32,33,34,35,36,37,38), unpack=True)\n",
    "    \n",
    "r_3d0=r_3d[0]\n",
    "m10=m1[0]\n",
    "m20=m2[0]\n",
    "x0=x[0]\n",
    "y0=y[0]\n",
    "z0=z[0]\n",
    "vx0=vx[0]\n",
    "vy0=vy[0]\n",
    "vz0=vz[0]\n",
    "vr0=vr[0]\n",
    "vtheta0=vtheta[0]\n",
    "vphi0=vphi[0]\n",
    "\n",
    "r_3d=r_3d[1:]\n",
    "m1=m1[1:]\n",
    "m2=m2[1:]\n",
    "x=x[1:]\n",
    "y=y[1:]\n",
    "z=z[1:]\n",
    "vx=vx[1:]\n",
    "vy=vy[1:]\n",
    "vz=vz[1:]\n",
    "vr=vr[1:]\n",
    "vtheta=vtheta[1:]\n",
    "vphi=vphi[1:]"
   ]
  },
  {
   "cell_type": "code",
   "execution_count": 3,
   "metadata": {
    "collapsed": true
   },
   "outputs": [],
   "source": [
    "#data for simulation without bh\n",
    "if 0:\n",
    "    r_3d_wo,m1_wo,m2_wo,x_wo,y_wo,z_wo,vx_wo,vy_wo,vz_wo,vr_wo,vtheta_wo,vphi_wo=np.loadtxt('C:\\\\Users\\Sophia Milanov\\Documents\\Bachelorarbeit\\data\\\\x-y-z_noIMBH2.dat', usecols=(1,9,10,30,31,32,33,34,35,36,37,38), unpack=True)\n",
    "elif 1:\n",
    "    r_3d_wo,m1_wo,m2_wo,x_wo,y_wo,z_wo,vx_wo,vy_wo,vz_wo,vr_wo,vtheta_wo,vphi_wo=np.loadtxt('/home/sophia/Dokumente/Bachelorarbeit-2/x-y-z_noIMBH2.dat', usecols=(1,9,10,30,31,32,33,34,35,36,37,38), unpack=True)\n",
    "else:\n",
    "    r_3d,m1,m2,x,y,z,vx,vy,vz=np.loadtxt('/home/milanov/Bachelorarbeit/x-y-z.dat', usecols=(1,9,10,30,31,32,33,34,35), unpack=True)"
   ]
  },
  {
   "cell_type": "code",
   "execution_count": 4,
   "metadata": {
    "collapsed": false
   },
   "outputs": [],
   "source": [
    "bh_orbit=GCorbit(inputfilename='densityfile_IMBH2.txt',bhmass_M_sun=m10+m20)\n",
    "wobh_orbit=GCorbit(inputfilename='densityfile_noIMBH2.txt')"
   ]
  },
  {
   "cell_type": "code",
   "execution_count": 5,
   "metadata": {
    "collapsed": false
   },
   "outputs": [],
   "source": [
    "n=len(x)\n",
    "r_guide_bh=np.zeros(n)\n",
    "\n",
    "n_wo=len(x_wo)\n",
    "r_guide_wobh=np.zeros(n_wo)\n"
   ]
  },
  {
   "cell_type": "code",
   "execution_count": 6,
   "metadata": {
    "collapsed": false
   },
   "outputs": [],
   "source": [
    "#orbit=bh_orbit.orbit_integration(x=x[35940],y=y[35940],z=z[35940],vx=vx[35940],vy=vy[35940],vz=vz[35940],dt=10000,t_end=1e11)"
   ]
  },
  {
   "cell_type": "code",
   "execution_count": 7,
   "metadata": {
    "collapsed": false,
    "scrolled": true
   },
   "outputs": [
    {
     "name": "stdout",
     "output_type": "stream",
     "text": [
      "9.99999999921e+13 -1.10699918593e-05 -1.10693238796e-05 0.00132317811048\n",
      "65.0118 65.0118142768\n",
      "-4.62693654947e-12\n",
      "1.74916562479e-11\n"
     ]
    },
    {
     "data": {
      "text/plain": [
       "<matplotlib.lines.Line2D at 0x7fccd96ad898>"
      ]
     },
     "execution_count": 7,
     "metadata": {},
     "output_type": "execute_result"
    },
    {
     "data": {
      "image/png": "[encoded data removed]",
      "text/plain": [
       "<matplotlib.figure.Figure at 0x7fccd97092e8>"
      ]
     },
     "metadata": {},
     "output_type": "display_data"
    }
   ],
   "source": [
    "k=1079319\n",
    "\n",
    "\n",
    "L=bh_orbit.angularmom(x[k],y[k],z[k],vx[k],vy[k],vz[k])[0]\n",
    "E=bh_orbit.energy(x[k],y[k],z[k],vx[k],vy[k],vz[k])\n",
    "r=10.**(np.linspace(np.log10(0.00002),3.,10000))\n",
    "print(bh_orbit._periapocenter_aux(1e-7,E,L),bh_orbit._periapocenter_aux(r_3d[k],E,L),bh_orbit._periapocenter_aux(np.sqrt(x[k]**2+y[k]**2+z[k]**2),E,L),bh_orbit._periapocenter_aux(np.max(bh_orbit._r_bin)*1.03,E,L))\n",
    "plt.loglog(r,np.abs(bh_orbit._periapocenter_aux(r=r,E=E,L=L)))\n",
    "\n",
    "bh_orbit._r_guide_aux(r_3d[k],L)\n",
    "\n",
    "print(r_3d[k],np.sqrt(x[k]**2+y[k]**2+z[k]**2))\n",
    "plt.axvline(r_3d[k],color='r')\n",
    "plt.axvline(bh_orbit.periapocenter(r_3d[k],x[k],y[k],z[k],vx[k],vy[k],vz[k])[0], color='m')\n",
    "plt.axvline(bh_orbit.periapocenter(r_3d[k],x[k],y[k],z[k],vx[k],vy[k],vz[k])[1], color='black')\n",
    "print(bh_orbit._r_guide_aux(bh_orbit.periapocenter(r_3d[k],x[k],y[k],z[k],vx[k],vy[k],vz[k])[0],L=L))\n",
    "print(bh_orbit._r_guide_aux(bh_orbit.periapocenter(r_3d[k],x[k],y[k],z[k],vx[k],vy[k],vz[k])[1],L=L))\n",
    "plt.axvline(bh_orbit.r_guide_root(r_3d[k],x[k],y[k],z[k],vx[k],vy[k],vz[k]),color='g')"
   ]
  },
  {
   "cell_type": "code",
   "execution_count": 8,
   "metadata": {
    "collapsed": false
   },
   "outputs": [],
   "source": [
    "r_guide_wobh_2=np.loadtxt('../Dokumente/Bachelorarbeit-2/r_guide_noIMBH2.txt',unpack=True)\n",
    "r3d_wo,J_r_wo=np.loadtxt('../Dokumente/Bachelorarbeit-2/actions_noIMBH2.txt',usecols=(0,1),unpack=True)"
   ]
  },
  {
   "cell_type": "code",
   "execution_count": 9,
   "metadata": {
    "collapsed": false
   },
   "outputs": [
    {
     "name": "stdout",
     "output_type": "stream",
     "text": [
      "[False False False ..., False False False] [] 1851556 1851556 0\n"
     ]
    },
    {
     "data": {
      "text/plain": [
       "array([], dtype=int64)"
      ]
     },
     "execution_count": 9,
     "metadata": {},
     "output_type": "execute_result"
    }
   ],
   "source": [
    "blob_sort_wo_2=(0.2<r_guide_wobh_2)*(r_guide_wobh_2<0.3) \n",
    "#r3d_blobsort_wo_2=r3d_wo[blob_sort_wo_2]\n",
    "#J_r_blobsort_wo_2=J_r_wo[blob_sort_wo_2]\n",
    "ind=np.flatnonzero(blob_sort_wo_2)\n",
    "print(blob_sort_wo_2,ind,len(r_guide_wobh_2),len(r_3d_wo),len(ind))\n",
    "ind"
   ]
  },
  {
   "cell_type": "code",
   "execution_count": 10,
   "metadata": {
    "collapsed": true
   },
   "outputs": [],
   "source": [
    "from scipy import optimize as opt"
   ]
  },
  {
   "cell_type": "code",
   "execution_count": 11,
   "metadata": {
    "collapsed": false
   },
   "outputs": [],
   "source": [
    "ind=np.array(range(len(r_3d_wo)))\n"
   ]
  },
  {
   "cell_type": "code",
   "execution_count": 12,
   "metadata": {
    "collapsed": true
   },
   "outputs": [],
   "source": [
    "#rg_k=np.zeros(len(r_3d_wo))\n",
    "#for k in ind:\n",
    "#    print(k)\n",
    "#    L=wobh_orbit.angularmom(x_wo[k],y_wo[k],z_wo[k],vx_wo[k],vy_wo[k],vz_wo[k])[0]\n",
    "#    rg_k[k]=opt.brentq(wobh_orbit._r_guide_aux,a=wobh_orbit.periapocenter(r_3d_wo[k],x_wo[k],y_wo[k],z_wo[k],vx_wo[k],vy_wo[k],vz_wo[k])[0],b=wobh_orbit.periapocenter(r_3d_wo[k],x_wo[k],y_wo[k],z_wo[k],vx_wo[k],vy_wo[k],vz_wo[k])[1],args=(L))\n",
    "#    print(rg_k[k])"
   ]
  },
  {
   "cell_type": "code",
   "execution_count": null,
   "metadata": {
    "collapsed": true
   },
   "outputs": [],
   "source": []
  },
  {
   "cell_type": "code",
   "execution_count": 14,
   "metadata": {
    "collapsed": false,
    "scrolled": false
   },
   "outputs": [],
   "source": [
    "for i in ind:\n",
    "    #print(i)\n",
    "    if np.sign(np.min(wobh_orbit._r_bin))!=np.sign(np.max(wobh_orbit._r_bin)):\n",
    "        r_guide_wobh[i]=wobh_orbit.r_guide_root(r_3d_wo[i],x_wo[i],y_wo[i],z_wo[i],vx_wo[i],vy_wo[i],vz_wo[i])\n",
    "    else:\n",
    "        r_guide_wobh[i]=wobh_orbit.r_guide_min(r_3d_wo[i],x_wo[i],y_wo[i],z_wo[i],vx_wo[i],vy_wo[i],vz_wo[i])"
   ]
  },
  {
   "cell_type": "code",
   "execution_count": null,
   "metadata": {
    "collapsed": false
   },
   "outputs": [],
   "source": [
    "#for i in range(n):\n",
    "#    if not np.sign(bh_orbit.periapocenter(r_3d[i],x[i],y[i],z[i],vx[i],vy[i],vz[i])[0])==np.sign(bh_orbit.periapocenter(r_3d[i],x[i],y[i],z[i],vx[i],vy[i],vz[i])[1]):\n",
    "#        r_guide_bh[i]=bh_orbit.r_guide_root(r_3d[i],x[i],y[i],z[i],vx[i],vy[i],vz[i])\n",
    "#    else:\n",
    "#        r_guide_bh[i]=bh.orbit.r_guide_min(r_3d[i],x[i],y[i],z[i],vx[i],vy[i],vz[i])"
   ]
  },
  {
   "cell_type": "code",
   "execution_count": 15,
   "metadata": {
    "collapsed": true
   },
   "outputs": [],
   "source": [
    "np.savetxt('../Dokumente/Bachelorarbeit-2/r_guide_noIMBH2.txt',r_guide_wobh)\n",
    "#np.savetxt('../../sophia/Dokumente/Bachelorarbeit-2/r_guide_IMBH2.txt',r_guide_bh)"
   ]
  },
  {
   "cell_type": "code",
   "execution_count": null,
   "metadata": {
    "collapsed": false
   },
   "outputs": [],
   "source": [
    "bh_orbit.r_guide(r_3d[k],x[k],y[k],z[k],vx[k],vy[k],vz[k])"
   ]
  },
  {
   "cell_type": "code",
   "execution_count": 98,
   "metadata": {
    "collapsed": false
   },
   "outputs": [],
   "source": [
    "np.copyto(r_guide_wobh_2,rg_k,where=blob_sort_wo_2)"
   ]
  },
  {
   "cell_type": "code",
   "execution_count": 99,
   "metadata": {
    "collapsed": false
   },
   "outputs": [
    {
     "data": {
      "text/plain": [
       "array([ 0.11395807,  0.04742184,  0.10718419, ...,  1.41347558,\n",
       "        1.82161207,  1.11059106])"
      ]
     },
     "execution_count": 99,
     "metadata": {},
     "output_type": "execute_result"
    }
   ],
   "source": [
    "np.r_guide_wobh_2"
   ]
  },
  {
   "cell_type": "code",
   "execution_count": 100,
   "metadata": {
    "collapsed": false
   },
   "outputs": [
    {
     "name": "stdout",
     "output_type": "stream",
     "text": [
      "None\n"
     ]
    }
   ],
   "source": [
    "print(r_guide_2_copy)"
   ]
  },
  {
   "cell_type": "code",
   "execution_count": null,
   "metadata": {
    "collapsed": true
   },
   "outputs": [],
   "source": []
  }
 ],
 "metadata": {
  "kernelspec": {
   "display_name": "Python 3",
   "language": "python",
   "name": "python3"
  },
  "language_info": {
   "codemirror_mode": {
    "name": "ipython",
    "version": 3
   },
   "file_extension": ".py",
   "mimetype": "text/x-python",
   "name": "python",
   "nbconvert_exporter": "python",
   "pygments_lexer": "ipython3",
   "version": "3.4.3"
  }
 },
 "nbformat": 4,
 "nbformat_minor": 0
}
