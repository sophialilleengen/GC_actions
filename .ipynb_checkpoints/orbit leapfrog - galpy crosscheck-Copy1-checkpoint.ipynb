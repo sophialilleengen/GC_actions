{
 "cells": [
  {
   "cell_type": "code",
   "execution_count": 1,
   "metadata": {
    "collapsed": false
   },
   "outputs": [
    {
     "name": "stdout",
     "output_type": "stream",
     "text": [
      "galpyWarning: interppotential_c extension module not loaded, because galpy_actionAngle_c.cpython-34m.so image was not found\n",
      "galpyWarning: integratePlanarOrbit_c extension module not loaded, because galpy_integrate_c.cpython-34m.so image was not found\n",
      "galpyWarning: integrateFullOrbit_c extension module not loaded, because galpy_integrate_c.cpython-34m.so image was not found\n",
      "galpyWarning: actionAngleAdiabatic_c extension module not loaded, because galpy_actionAngle_c.cpython-34m.so image was not found\n",
      "galpyWarning: actionAngleStaeckel_c extension module not loaded, because galpy_actionAngle_c.cpython-34m.so image was not found\n"
     ]
    }
   ],
   "source": [
    "import numpy as np\n",
    "import matplotlib.pyplot as plt\n",
    "from mpl_toolkits.mplot3d import Axes3D\n",
    "from astropy import units as un\n",
    "from scipy import constants as cs\n",
    "from scipy import optimize as opt\n",
    "from scipy import integrate as intg\n",
    "import galpy.potential as pot\n",
    "from galpy.orbit import Orbit\n",
    "from galpy.util import bovy_coords\n",
    "from galpy.actionAngle import actionAngleIsochrone\n",
    "import matplotlib.colors as cmaps\n",
    "import math\n",
    "\n",
    "%matplotlib inline"
   ]
  },
  {
   "cell_type": "code",
   "execution_count": 2,
   "metadata": {
    "collapsed": false
   },
   "outputs": [],
   "source": [
    "import sys\n",
    "sys.path.insert(0, '/home/sophia/bachelor_thesis_ipython_notebooks')\n",
    "\n",
    "from GC_Orbit_class import GCorbit"
   ]
  },
  {
   "cell_type": "code",
   "execution_count": 3,
   "metadata": {
    "collapsed": false
   },
   "outputs": [],
   "source": [
    "# Daten einlesen\n",
    "if 0:\n",
    "    r_3d,m1,m2,x,y,z,vx,vy,vz,vr,vtheta,vphi=np.loadtxt('C:\\\\Users\\Sophia Milanov\\Documents\\Bachelorarbeit\\data\\\\x-y-z.dat', usecols=(1,9,10,30,31,32,33,34,35,36,37,38), unpack=True)\n",
    "elif 1:\n",
    "    r_3d,m1,m2,x,y,z,vx,vy,vz=np.loadtxt('/home/sophia/Dokumente/Bachelorarbeit-2/x-y-z_IMBH1.dat', usecols=(1,9,10,30,31,32,33,34,35), unpack=True)\n",
    "else:\n",
    "    r_3d,m1,m2,x,y,z,vx,vy,vz,vr,vtheta,vphi=np.loadtxt('/home/milanov/Bachelorarbeit/x-y-z.dat', usecols=(1,9,10,30,31,32,33,34,35,36,37,38), unpack=True)"
   ]
  },
  {
   "cell_type": "code",
   "execution_count": 4,
   "metadata": {
    "collapsed": false
   },
   "outputs": [],
   "source": [
    "bh_orbit=GCorbit(inputfilename='densityfile_IMBH1.txt',bhmass_M_sun=m1[0]+m2[0])\n",
    "r3d_1,J_phi_1,J_theta_1,J_r_1=np.loadtxt('../../sophia/Dokumente/Bachelorarbeit-2/actions_IMBH1.txt')"
   ]
  },
  {
   "cell_type": "code",
   "execution_count": 5,
   "metadata": {
    "collapsed": false
   },
   "outputs": [
    {
     "name": "stdout",
     "output_type": "stream",
     "text": [
      "[19420]\n",
      "[ 22935 193778 229562 232669]\n"
     ]
    }
   ],
   "source": [
    "### find J_r = 0, J_theta = 0, J_phi != 0 ###\n",
    "Orbit_1 = (J_r_1<0.01)*(J_theta_1<0.01)\n",
    "test_1=np.flatnonzero(Orbit_1)\n",
    "print(test_1)\n",
    "\n",
    "### find J_r = 0, J_theta != 0 and J_phi != 0 ###\n",
    "Orbit_2=(J_r_1==0.)\n",
    "test_2=np.flatnonzero(Orbit_2)\n",
    "print(test_2)\n"
   ]
  },
  {
   "cell_type": "code",
   "execution_count": 6,
   "metadata": {
    "collapsed": false
   },
   "outputs": [],
   "source": [
    "### calculate T_circ ###\n",
    "v_circ=bh_orbit.v_circ(r_3d[1:]) #[pc/s]\n",
    "T_circ=(2*np.pi*r_3d[1:])/v_circ #[s]\n",
    "\n",
    "#np.savetxt('Orbit_Tcirc_IMBH1.txt',(r_3d[1:],v_circ,T_circ))"
   ]
  },
  {
   "cell_type": "code",
   "execution_count": 7,
   "metadata": {
    "collapsed": false
   },
   "outputs": [
    {
     "name": "stdout",
     "output_type": "stream",
     "text": [
      "[  3.76792933e-12   3.68481291e-12   3.23547431e-12 ...,   1.06449249e-12\n",
      "   1.06844851e-12   1.08356292e-12] [  5.36030126e+09   5.73118686e+09   8.46495777e+09 ...,   6.13867700e+14\n",
      "   6.12376930e+14   6.06769114e+14]\n"
     ]
    }
   ],
   "source": [
    "print(v_circ,T_circ)"
   ]
  },
  {
   "cell_type": "code",
   "execution_count": 1,
   "metadata": {
    "collapsed": false
   },
   "outputs": [
    {
     "ename": "NameError",
     "evalue": "name 'bh_orbit' is not defined",
     "output_type": "error",
     "traceback": [
      "\u001b[1;31m---------------------------------------------------------------------------\u001b[0m",
      "\u001b[1;31mNameError\u001b[0m                                 Traceback (most recent call last)",
      "\u001b[1;32m<ipython-input-1-177afc7d191e>\u001b[0m in \u001b[0;36m<module>\u001b[1;34m()\u001b[0m\n\u001b[0;32m      1\u001b[0m \u001b[0mn\u001b[0m\u001b[1;33m=\u001b[0m\u001b[1;36m19421\u001b[0m\u001b[1;33m\u001b[0m\u001b[0m\n\u001b[1;32m----> 2\u001b[1;33m \u001b[0mxn\u001b[0m\u001b[1;33m,\u001b[0m\u001b[0myn\u001b[0m\u001b[1;33m,\u001b[0m\u001b[0mzn\u001b[0m\u001b[1;33m,\u001b[0m\u001b[0mvxn_kms\u001b[0m\u001b[1;33m,\u001b[0m\u001b[0mvyn_kms\u001b[0m\u001b[1;33m,\u001b[0m\u001b[0mvzn_kms\u001b[0m\u001b[1;33m,\u001b[0m\u001b[0mtn_yr\u001b[0m\u001b[1;33m=\u001b[0m\u001b[0mbh_orbit\u001b[0m\u001b[1;33m.\u001b[0m\u001b[0morbit_integration\u001b[0m\u001b[1;33m(\u001b[0m\u001b[0mx\u001b[0m\u001b[1;33m[\u001b[0m\u001b[0mn\u001b[0m\u001b[1;33m]\u001b[0m\u001b[1;33m,\u001b[0m\u001b[0my\u001b[0m\u001b[1;33m[\u001b[0m\u001b[0mn\u001b[0m\u001b[1;33m]\u001b[0m\u001b[1;33m,\u001b[0m\u001b[0mz\u001b[0m\u001b[1;33m[\u001b[0m\u001b[0mn\u001b[0m\u001b[1;33m]\u001b[0m\u001b[1;33m,\u001b[0m\u001b[0mvx\u001b[0m\u001b[1;33m[\u001b[0m\u001b[0mn\u001b[0m\u001b[1;33m]\u001b[0m\u001b[1;33m,\u001b[0m\u001b[0mvy\u001b[0m\u001b[1;33m[\u001b[0m\u001b[0mn\u001b[0m\u001b[1;33m]\u001b[0m\u001b[1;33m,\u001b[0m\u001b[0mvz\u001b[0m\u001b[1;33m[\u001b[0m\u001b[0mn\u001b[0m\u001b[1;33m]\u001b[0m\u001b[1;33m,\u001b[0m\u001b[0mdt\u001b[0m\u001b[1;33m=\u001b[0m\u001b[1;36m1e-8\u001b[0m\u001b[1;33m*\u001b[0m\u001b[1;36m8\u001b[0m\u001b[1;33m*\u001b[0m\u001b[0mT_circ\u001b[0m\u001b[1;33m[\u001b[0m\u001b[0mn\u001b[0m\u001b[1;33m-\u001b[0m\u001b[1;36m1\u001b[0m\u001b[1;33m]\u001b[0m\u001b[1;33m,\u001b[0m\u001b[0mt_end\u001b[0m\u001b[1;33m=\u001b[0m\u001b[1;36m8\u001b[0m\u001b[1;33m*\u001b[0m\u001b[0mT_circ\u001b[0m\u001b[1;33m[\u001b[0m\u001b[0mn\u001b[0m\u001b[1;33m-\u001b[0m\u001b[1;36m1\u001b[0m\u001b[1;33m]\u001b[0m\u001b[1;33m)\u001b[0m\u001b[1;33m\u001b[0m\u001b[0m\n\u001b[0m\u001b[0;32m      3\u001b[0m \u001b[0mnp\u001b[0m\u001b[1;33m.\u001b[0m\u001b[0msavetxt\u001b[0m\u001b[1;33m(\u001b[0m\u001b[1;34m'orbit_J_phi_n='\u001b[0m\u001b[1;33m+\u001b[0m\u001b[0mstr\u001b[0m\u001b[1;33m(\u001b[0m\u001b[0mn\u001b[0m\u001b[1;33m)\u001b[0m\u001b[1;33m,\u001b[0m\u001b[0mxn\u001b[0m\u001b[1;33m,\u001b[0m\u001b[0myn\u001b[0m\u001b[1;33m,\u001b[0m\u001b[0mzn\u001b[0m\u001b[1;33m,\u001b[0m\u001b[0mvxn_kms\u001b[0m\u001b[1;33m,\u001b[0m\u001b[0mvyn_kms\u001b[0m\u001b[1;33m,\u001b[0m\u001b[0mvzn_kms\u001b[0m\u001b[1;33m,\u001b[0m\u001b[0mtn_yr\u001b[0m\u001b[1;33m)\u001b[0m\u001b[1;33m\u001b[0m\u001b[0m\n",
      "\u001b[1;31mNameError\u001b[0m: name 'bh_orbit' is not defined"
     ]
    }
   ],
   "source": [
    "n=19421\n",
    "xn,yn,zn,vxn_kms,vyn_kms,vzn_kms,tn_yr=bh_orbit.orbit_integration(x[n],y[n],z[n],vx[n],vy[n],vz[n],dt=1e-8*8*T_circ[n-1],t_end=8*T_circ[n-1])\n",
    "np.savetxt('orbit_J_phi_n='+str(n),xn,yn,zn,vxn_kms,vyn_kms,vzn_kms,tn_yr)"
   ]
  },
  {
   "cell_type": "code",
   "execution_count": null,
   "metadata": {
    "collapsed": true
   },
   "outputs": [],
   "source": [
    "m=193779\n",
    "xm,ym,zm,vxm_kms,vym_kms,vzm_kms,tm_yr=bh_orbit.orbit_integration(x[m],y[m],z[m],vx[m],vy[m],vz[m],dt=1e-10*8*T_circ[m-1],t_end=8*T_circ[m-1])\n",
    "np.savetxt('orbit_J_phi_J_theta_m='+str(m),xm,ym,zm,vxm_kms,vym_kms,vzm_kms,tm_yr)"
   ]
  },
  {
   "cell_type": "code",
   "execution_count": null,
   "metadata": {
    "collapsed": false
   },
   "outputs": [],
   "source": [
    "k=486385\n",
    "xk,yk,zk,vxk_kms,vyk_kms,vzk_kms,tk_yr=bh_orbit.orbit_integration(x[k],y[k],z[k],vx[k],vy[k],vz[k],dt=1e-10*8*T_circ[k-1],t_end=8*T_circ[k-1])\n",
    "np.savetxt('orbit_random_k='+str(k),xk,yk,zk,vxk_kms,vyk_kms,vzk_kms,tk_yr)"
   ]
  },
  {
   "cell_type": "code",
   "execution_count": 31,
   "metadata": {
    "collapsed": false
   },
   "outputs": [
    {
     "data": {
      "text/plain": [
       "10000000"
      ]
     },
     "execution_count": 31,
     "metadata": {},
     "output_type": "execute_result"
    }
   ],
   "source": []
  },
  {
   "cell_type": "code",
   "execution_count": 11,
   "metadata": {
    "collapsed": false
   },
   "outputs": [
    {
     "data": {
      "text/plain": [
       "[<matplotlib.lines.Line2D at 0x7f8c90c7b400>]"
      ]
     },
     "execution_count": 11,
     "metadata": {},
     "output_type": "execute_result"
    },
    {
     "data": {
      "image/png": "[encoded data removed]",
      "text/plain": [
       "<matplotlib.figure.Figure at 0x7f8c90d70b38>"
      ]
     },
     "metadata": {},
     "output_type": "display_data"
    }
   ],
   "source": [
    "plt.plot(xl,zl)"
   ]
  },
  {
   "cell_type": "code",
   "execution_count": 45,
   "metadata": {
    "collapsed": false
   },
   "outputs": [],
   "source": [
    "mges=un.solMass.to(un.kg,np.sum(m1+m2))\n",
    "\n",
    "ni=17916\n",
    "\n",
    "xi=x[ni]\n",
    "yi=y[ni]\n",
    "zi=z[ni]\n",
    "\n",
    "vxi=vx[ni]\n",
    "vyi=vy[ni]\n",
    "vzi=vz[ni]\n",
    "\n",
    "xim=un.pc.to(un.m, xi)\n",
    "yim=un.pc.to(un.m, yi)\n",
    "zim=un.pc.to(un.m, zi)\n",
    "\n",
    "x0=xim\n",
    "y0=yim\n",
    "z0=zim\n",
    "\n",
    "kms=un.km/un.s\n",
    "ms=un.m/un.s\n",
    "\n",
    "r=np.sqrt(x**2+y**2+z**2)\n",
    "ri=r[ni]\n",
    "rim=un.pc.to(un.m,ri)\n",
    "\n",
    "vxim=kms.to(ms,vxi)\n",
    "vyim=kms.to(ms,vyi)\n",
    "vzim=kms.to(ms,vzi)\n",
    "\n",
    "vx0=vxim\n",
    "vy0=vyim\n",
    "vz0=vzim\n",
    "\n",
    "\n",
    "N=5000000\n",
    "start=1e7\n",
    "end=1e14\n",
    "t=np.linspace(start,end,N)\n",
    "dt=t[1]-t[0]\n",
    "\n",
    "vri=vr[ni]\n",
    "vrim=kms.to(ms,vri)"
   ]
  },
  {
   "cell_type": "code",
   "execution_count": 46,
   "metadata": {
    "collapsed": false
   },
   "outputs": [],
   "source": [
    "# some potential\n",
    "b=1.\n",
    "phi=-cs.G*mges/(b+np.sqrt(b**2+rim**2))\n",
    "phi_dyn=-cs.G/(b+np.sqrt(b**2+rim**2))\n",
    "\n",
    "def force_isochrone(x,y,z):\n",
    "\n",
    "    r=np.sqrt(x**2+y**2+z**2)\n",
    "#    phi=-cs.G*mges/(b+np.sqrt(b**2+r**2))\n",
    "    a=np.zeros(3)\n",
    "    a[0]=-cs.G*mges*x/(np.sqrt(b**2+r**2)*(np.sqrt(b**2+r**2)+b)**2)\n",
    "    a[1]=-cs.G*mges*y/(np.sqrt(b**2+r**2)*(np.sqrt(b**2+r**2)+b)**2)\n",
    "    a[2]=-cs.G*mges*z/(np.sqrt(b**2+r**2)*(np.sqrt(b**2+r**2)+b)**2)\n",
    "    return a\n"
   ]
  },
  {
   "cell_type": "markdown",
   "metadata": {},
   "source": [
    "leapfrog:\n",
    "\n",
    "$x_{i+1}=x_i+v_i\\Delta t+\\frac{a_i(x_i)}{2}\\Delta t^2$\n",
    "\n",
    "$v_{i+1}=v_i+\\frac{a(x_{i+1})+a(x_i)}{2}\\Delta t$"
   ]
  },
  {
   "cell_type": "code",
   "execution_count": 47,
   "metadata": {
    "collapsed": false
   },
   "outputs": [],
   "source": [
    "#leapfrog\n",
    "xl=np.zeros(N+1)\n",
    "yl=np.zeros(N+1)\n",
    "zl=np.zeros(N+1)\n",
    "\n",
    "x_l=np.sqrt(xl**2+yl**2+zl**2)\n",
    "\n",
    "vxl=np.zeros(N+1)\n",
    "vyl=np.zeros(N+1)\n",
    "vzl=np.zeros(N+1)\n",
    "\n",
    "xl[0]=x0\n",
    "yl[0]=y0\n",
    "zl[0]=z0\n",
    "\n",
    "vxl[0]=vx0\n",
    "vyl[0]=vy0\n",
    "vzl[0]=vz0\n",
    "\n",
    "for i in range(N):\n",
    "    xl[0]=x0\n",
    "    yl[0]=y0\n",
    "    zl[0]=z0\n",
    "    \n",
    "    a=force_isochrone(xl[i],yl[i],zl[i])\n",
    "    \n",
    "    xl[i+1]=xl[i]+vxl[i]*dt+1./2.*a[0]*dt**2\n",
    "    yl[i+1]=yl[i]+vyl[i]*dt+1./2.*a[1]*dt**2\n",
    "    zl[i+1]=zl[i]+vzl[i]*dt+1./2.*a[2]*dt**2\n",
    "    \n",
    "    a_1=force_isochrone(xl[i+1],yl[i+1],zl[i+1])\n",
    "    \n",
    "    vxl[i+1]=vxl[i]+1./2.*(a[0]+a_1[0])*dt\n",
    "    vyl[i+1]=vyl[i]+1./2.*(a[1]+a_1[1])*dt\n",
    "    vzl[i+1]=vzl[i]+1./2.*(a[2]+a_1[2])*dt\n"
   ]
  },
  {
   "cell_type": "code",
   "execution_count": 48,
   "metadata": {
    "collapsed": false
   },
   "outputs": [],
   "source": [
    "#galpy crosscheck\n",
    "isopot=pot.IsochronePotential(amp=cs.G*mges,b=b,normalize=False)\n",
    "\n",
    "#in Galactocentric cylindrical coordinates vxvv=[R,vR,vT(,z,vz,phi)]\n",
    "R,phi,z_new=bovy_coords.rect_to_cyl(xim,yim,zim) #ort\n",
    "vR,vT,vz_new=bovy_coords.rect_to_cyl_vec(vxim,vyim,vzim,xim,yim,zim) #geschw\n",
    "o=Orbit(vxvv=[R,vR,vT,z_new,vz_new,phi])\n",
    "o.integrate(t,isopot)\n"
   ]
  },
  {
   "cell_type": "code",
   "execution_count": 49,
   "metadata": {
    "collapsed": false
   },
   "outputs": [
    {
     "data": {
      "text/plain": [
       "<matplotlib.text.Text at 0x7f47bf32b080>"
      ]
     },
     "execution_count": 49,
     "metadata": {},
     "output_type": "execute_result"
    },
    {
     "data": {
      "image/png": "[encoded data removed]",
      "text/plain": [
       "<matplotlib.figure.Figure at 0x7f4774f68d30>"
      ]
     },
     "metadata": {},
     "output_type": "display_data"
    }
   ],
   "source": [
    "xlpc=un.m.to(un.pc,xl)\n",
    "ylpc=un.m.to(un.pc,yl)\n",
    "zlpc=un.m.to(un.pc,zl)\n",
    "plt.plot(xl,yl)\n",
    "plt.xlabel('x [m]')\n",
    "plt.ylabel('y [m]')\n"
   ]
  },
  {
   "cell_type": "code",
   "execution_count": 50,
   "metadata": {
    "collapsed": false
   },
   "outputs": [
    {
     "ename": "KeyboardInterrupt",
     "evalue": "",
     "output_type": "error",
     "traceback": [
      "\u001b[1;31m---------------------------------------------------------------------------\u001b[0m",
      "\u001b[1;31mMemoryError\u001b[0m                               Traceback (most recent call last)",
      "\u001b[1;32m/home/sophia/anaconda3/lib/python3.4/site-packages/galpy/orbit_src/OrbitTop.py\u001b[0m in \u001b[0;36m__call__\u001b[1;34m(self, *args, **kwargs)\u001b[0m\n\u001b[0;32m   1136\u001b[0m             \u001b[1;32mtry\u001b[0m\u001b[1;33m:\u001b[0m\u001b[1;33m\u001b[0m\u001b[0m\n\u001b[1;32m-> 1137\u001b[1;33m                 \u001b[0mself\u001b[0m\u001b[1;33m.\u001b[0m\u001b[0m_setupOrbitInterp\u001b[0m\u001b[1;33m(\u001b[0m\u001b[1;33m)\u001b[0m\u001b[1;33m\u001b[0m\u001b[0m\n\u001b[0m\u001b[0;32m   1138\u001b[0m             \u001b[1;32mexcept\u001b[0m\u001b[1;33m:\u001b[0m\u001b[1;33m\u001b[0m\u001b[0m\n",
      "\u001b[1;32m/home/sophia/anaconda3/lib/python3.4/site-packages/galpy/orbit_src/OrbitTop.py\u001b[0m in \u001b[0;36m_setupOrbitInterp\u001b[1;34m(self)\u001b[0m\n\u001b[0;32m   1883\u001b[0m                         orbInterp.append(interpolate.InterpolatedUnivariateSpline(\\\n\u001b[1;32m-> 1884\u001b[1;33m                                 self.t,self.orbit[:,0]*nu.cos(self.orbit[:,-1])))\n\u001b[0m\u001b[0;32m   1885\u001b[0m                 \u001b[1;32melif\u001b[0m \u001b[1;33m(\u001b[0m\u001b[0mlen\u001b[0m\u001b[1;33m(\u001b[0m\u001b[0mself\u001b[0m\u001b[1;33m.\u001b[0m\u001b[0mvxvv\u001b[0m\u001b[1;33m)\u001b[0m \u001b[1;33m==\u001b[0m \u001b[1;36m4\u001b[0m \u001b[1;32mor\u001b[0m \u001b[0mlen\u001b[0m\u001b[1;33m(\u001b[0m\u001b[0mself\u001b[0m\u001b[1;33m.\u001b[0m\u001b[0mvxvv\u001b[0m\u001b[1;33m)\u001b[0m \u001b[1;33m==\u001b[0m \u001b[1;36m6\u001b[0m\u001b[1;33m)\u001b[0m \u001b[1;32mand\u001b[0m\u001b[0;31m \u001b[0m\u001b[0;31m\\\u001b[0m\u001b[1;33m\u001b[0m\u001b[0m\n",
      "\u001b[1;32m/home/sophia/anaconda3/lib/python3.4/site-packages/scipy/interpolate/fitpack2.py\u001b[0m in \u001b[0;36m__init__\u001b[1;34m(self, x, y, w, bbox, k, ext)\u001b[0m\n\u001b[0;32m    506\u001b[0m         self._data = dfitpack.fpcurf0(x,y,k,w=w,\n\u001b[1;32m--> 507\u001b[1;33m                                       xb=bbox[0],xe=bbox[1],s=0)\n\u001b[0m\u001b[0;32m    508\u001b[0m         \u001b[0mself\u001b[0m\u001b[1;33m.\u001b[0m\u001b[0m_reset_class\u001b[0m\u001b[1;33m(\u001b[0m\u001b[1;33m)\u001b[0m\u001b[1;33m\u001b[0m\u001b[0m\n",
      "\u001b[1;31mMemoryError\u001b[0m: ",
      "\nDuring handling of the above exception, another exception occurred:\n",
      "\u001b[1;31mKeyboardInterrupt\u001b[0m                         Traceback (most recent call last)",
      "\u001b[1;32m<ipython-input-50-0cf066fc56d9>\u001b[0m in \u001b[0;36m<module>\u001b[1;34m()\u001b[0m\n\u001b[1;32m----> 1\u001b[1;33m \u001b[0mo\u001b[0m\u001b[1;33m.\u001b[0m\u001b[0mplot\u001b[0m\u001b[1;33m(\u001b[0m\u001b[0md1\u001b[0m\u001b[1;33m=\u001b[0m\u001b[1;34m'x'\u001b[0m\u001b[1;33m,\u001b[0m\u001b[0md2\u001b[0m\u001b[1;33m=\u001b[0m\u001b[1;34m'y'\u001b[0m\u001b[1;33m)\u001b[0m\u001b[1;33m\u001b[0m\u001b[0m\n\u001b[0m",
      "\u001b[1;32m/home/sophia/anaconda3/lib/python3.4/site-packages/galpy/orbit_src/Orbit.py\u001b[0m in \u001b[0;36mplot\u001b[1;34m(self, *args, **kwargs)\u001b[0m\n\u001b[0;32m   2537\u001b[0m \u001b[1;33m\u001b[0m\u001b[0m\n\u001b[0;32m   2538\u001b[0m         \"\"\"\n\u001b[1;32m-> 2539\u001b[1;33m         \u001b[0mself\u001b[0m\u001b[1;33m.\u001b[0m\u001b[0m_orb\u001b[0m\u001b[1;33m.\u001b[0m\u001b[0mplot\u001b[0m\u001b[1;33m(\u001b[0m\u001b[1;33m*\u001b[0m\u001b[0margs\u001b[0m\u001b[1;33m,\u001b[0m\u001b[1;33m**\u001b[0m\u001b[0mkwargs\u001b[0m\u001b[1;33m)\u001b[0m\u001b[1;33m\u001b[0m\u001b[0m\n\u001b[0m\u001b[0;32m   2540\u001b[0m \u001b[1;33m\u001b[0m\u001b[0m\n\u001b[0;32m   2541\u001b[0m     \u001b[1;32mdef\u001b[0m \u001b[0mplot3d\u001b[0m\u001b[1;33m(\u001b[0m\u001b[0mself\u001b[0m\u001b[1;33m,\u001b[0m\u001b[1;33m*\u001b[0m\u001b[0margs\u001b[0m\u001b[1;33m,\u001b[0m\u001b[1;33m**\u001b[0m\u001b[0mkwargs\u001b[0m\u001b[1;33m)\u001b[0m\u001b[1;33m:\u001b[0m\u001b[1;33m\u001b[0m\u001b[0m\n",
      "\u001b[1;32m/home/sophia/anaconda3/lib/python3.4/site-packages/galpy/orbit_src/OrbitTop.py\u001b[0m in \u001b[0;36mplot\u001b[1;34m(self, *args, **kwargs)\u001b[0m\n\u001b[0;32m   1271\u001b[0m             \u001b[0mx\u001b[0m\u001b[1;33m=\u001b[0m \u001b[0mself\u001b[0m\u001b[1;33m.\u001b[0m\u001b[0mvT\u001b[0m\u001b[1;33m(\u001b[0m\u001b[0mself\u001b[0m\u001b[1;33m.\u001b[0m\u001b[0mt\u001b[0m\u001b[1;33m,\u001b[0m\u001b[1;33m**\u001b[0m\u001b[0mkwargs\u001b[0m\u001b[1;33m)\u001b[0m\u001b[1;33m\u001b[0m\u001b[0m\n\u001b[0;32m   1272\u001b[0m         \u001b[1;32melif\u001b[0m \u001b[0md1\u001b[0m \u001b[1;33m==\u001b[0m \u001b[1;34m'x'\u001b[0m\u001b[1;33m:\u001b[0m\u001b[1;33m\u001b[0m\u001b[0m\n\u001b[1;32m-> 1273\u001b[1;33m             \u001b[0mx\u001b[0m\u001b[1;33m=\u001b[0m \u001b[0mself\u001b[0m\u001b[1;33m.\u001b[0m\u001b[0mx\u001b[0m\u001b[1;33m(\u001b[0m\u001b[0mself\u001b[0m\u001b[1;33m.\u001b[0m\u001b[0mt\u001b[0m\u001b[1;33m,\u001b[0m\u001b[1;33m**\u001b[0m\u001b[0mkwargs\u001b[0m\u001b[1;33m)\u001b[0m\u001b[1;33m\u001b[0m\u001b[0m\n\u001b[0m\u001b[0;32m   1274\u001b[0m         \u001b[1;32melif\u001b[0m \u001b[0md1\u001b[0m \u001b[1;33m==\u001b[0m \u001b[1;34m'y'\u001b[0m\u001b[1;33m:\u001b[0m\u001b[1;33m\u001b[0m\u001b[0m\n\u001b[0;32m   1275\u001b[0m             \u001b[0mx\u001b[0m\u001b[1;33m=\u001b[0m \u001b[0mself\u001b[0m\u001b[1;33m.\u001b[0m\u001b[0my\u001b[0m\u001b[1;33m(\u001b[0m\u001b[0mself\u001b[0m\u001b[1;33m.\u001b[0m\u001b[0mt\u001b[0m\u001b[1;33m,\u001b[0m\u001b[1;33m**\u001b[0m\u001b[0mkwargs\u001b[0m\u001b[1;33m)\u001b[0m\u001b[1;33m\u001b[0m\u001b[0m\n",
      "\u001b[1;32m/home/sophia/anaconda3/lib/python3.4/site-packages/galpy/util/bovy_conversion.py\u001b[0m in \u001b[0;36mwrapped\u001b[1;34m(*args, **kwargs)\u001b[0m\n\u001b[0;32m    484\u001b[0m                 \u001b[1;32mreturn\u001b[0m \u001b[0mmethod\u001b[0m\u001b[1;33m(\u001b[0m\u001b[1;33m*\u001b[0m\u001b[0margs\u001b[0m\u001b[1;33m,\u001b[0m\u001b[1;33m**\u001b[0m\u001b[0mkwargs\u001b[0m\u001b[1;33m)\u001b[0m\u001b[1;33m*\u001b[0m\u001b[0mfac\u001b[0m\u001b[1;33m\u001b[0m\u001b[0m\n\u001b[0;32m    485\u001b[0m             \u001b[1;32melse\u001b[0m\u001b[1;33m:\u001b[0m\u001b[1;33m\u001b[0m\u001b[0m\n\u001b[1;32m--> 486\u001b[1;33m                 \u001b[1;32mreturn\u001b[0m \u001b[0mmethod\u001b[0m\u001b[1;33m(\u001b[0m\u001b[1;33m*\u001b[0m\u001b[0margs\u001b[0m\u001b[1;33m,\u001b[0m\u001b[1;33m**\u001b[0m\u001b[0mkwargs\u001b[0m\u001b[1;33m)\u001b[0m\u001b[1;33m\u001b[0m\u001b[0m\n\u001b[0m\u001b[0;32m    487\u001b[0m         \u001b[1;32mreturn\u001b[0m \u001b[0mwrapped\u001b[0m\u001b[1;33m\u001b[0m\u001b[0m\n\u001b[0;32m    488\u001b[0m     \u001b[1;32mreturn\u001b[0m \u001b[0mwrapper\u001b[0m\u001b[1;33m\u001b[0m\u001b[0m\n",
      "\u001b[1;32m/home/sophia/anaconda3/lib/python3.4/site-packages/galpy/orbit_src/OrbitTop.py\u001b[0m in \u001b[0;36mx\u001b[1;34m(self, *args, **kwargs)\u001b[0m\n\u001b[0;32m    292\u001b[0m            \u001b[1;36m2010\u001b[0m\u001b[1;33m-\u001b[0m\u001b[1;36m0\u001b[0m\u001b[1;36m9\u001b[0m\u001b[1;33m-\u001b[0m\u001b[1;36m21\u001b[0m \u001b[1;33m-\u001b[0m \u001b[0mWritten\u001b[0m \u001b[1;33m-\u001b[0m \u001b[0mBovy\u001b[0m \u001b[1;33m(\u001b[0m\u001b[0mNYU\u001b[0m\u001b[1;33m)\u001b[0m\u001b[1;33m\u001b[0m\u001b[0m\n\u001b[0;32m    293\u001b[0m         \"\"\"\n\u001b[1;32m--> 294\u001b[1;33m         \u001b[0mthiso\u001b[0m\u001b[1;33m=\u001b[0m \u001b[0mself\u001b[0m\u001b[1;33m(\u001b[0m\u001b[1;33m*\u001b[0m\u001b[0margs\u001b[0m\u001b[1;33m,\u001b[0m\u001b[1;33m**\u001b[0m\u001b[0mkwargs\u001b[0m\u001b[1;33m)\u001b[0m\u001b[1;33m\u001b[0m\u001b[0m\n\u001b[0m\u001b[0;32m    295\u001b[0m         \u001b[1;32mif\u001b[0m \u001b[1;32mnot\u001b[0m \u001b[0mlen\u001b[0m\u001b[1;33m(\u001b[0m\u001b[0mthiso\u001b[0m\u001b[1;33m.\u001b[0m\u001b[0mshape\u001b[0m\u001b[1;33m)\u001b[0m \u001b[1;33m==\u001b[0m \u001b[1;36m2\u001b[0m\u001b[1;33m:\u001b[0m \u001b[0mthiso\u001b[0m\u001b[1;33m=\u001b[0m \u001b[0mthiso\u001b[0m\u001b[1;33m.\u001b[0m\u001b[0mreshape\u001b[0m\u001b[1;33m(\u001b[0m\u001b[1;33m(\u001b[0m\u001b[0mthiso\u001b[0m\u001b[1;33m.\u001b[0m\u001b[0mshape\u001b[0m\u001b[1;33m[\u001b[0m\u001b[1;36m0\u001b[0m\u001b[1;33m]\u001b[0m\u001b[1;33m,\u001b[0m\u001b[1;36m1\u001b[0m\u001b[1;33m)\u001b[0m\u001b[1;33m)\u001b[0m\u001b[1;33m\u001b[0m\u001b[0m\n\u001b[0;32m    296\u001b[0m         \u001b[1;32mif\u001b[0m \u001b[0mlen\u001b[0m\u001b[1;33m(\u001b[0m\u001b[0mthiso\u001b[0m\u001b[1;33m[\u001b[0m\u001b[1;33m:\u001b[0m\u001b[1;33m,\u001b[0m\u001b[1;36m0\u001b[0m\u001b[1;33m]\u001b[0m\u001b[1;33m)\u001b[0m \u001b[1;33m==\u001b[0m \u001b[1;36m2\u001b[0m\u001b[1;33m:\u001b[0m\u001b[1;33m\u001b[0m\u001b[0m\n",
      "\u001b[1;32m/home/sophia/anaconda3/lib/python3.4/site-packages/galpy/orbit_src/OrbitTop.py\u001b[0m in \u001b[0;36m__call__\u001b[1;34m(self, *args, **kwargs)\u001b[0m\n\u001b[0;32m   1140\u001b[0m                 \u001b[1;32mfor\u001b[0m \u001b[0mjj\u001b[0m \u001b[1;32min\u001b[0m \u001b[0mrange\u001b[0m\u001b[1;33m(\u001b[0m\u001b[0mnt\u001b[0m\u001b[1;33m)\u001b[0m\u001b[1;33m:\u001b[0m\u001b[1;33m\u001b[0m\u001b[0m\n\u001b[0;32m   1141\u001b[0m                     \u001b[1;32mtry\u001b[0m\u001b[1;33m:\u001b[0m\u001b[1;33m\u001b[0m\u001b[0m\n\u001b[1;32m-> 1142\u001b[1;33m                         \u001b[0mindx\u001b[0m\u001b[1;33m=\u001b[0m \u001b[0mlist\u001b[0m\u001b[1;33m(\u001b[0m\u001b[0mself\u001b[0m\u001b[1;33m.\u001b[0m\u001b[0mt\u001b[0m\u001b[1;33m)\u001b[0m\u001b[1;33m.\u001b[0m\u001b[0mindex\u001b[0m\u001b[1;33m(\u001b[0m\u001b[0mt\u001b[0m\u001b[1;33m[\u001b[0m\u001b[0mjj\u001b[0m\u001b[1;33m]\u001b[0m\u001b[1;33m)\u001b[0m\u001b[1;33m\u001b[0m\u001b[0m\n\u001b[0m\u001b[0;32m   1143\u001b[0m                     \u001b[1;32mexcept\u001b[0m \u001b[0mValueError\u001b[0m\u001b[1;33m:\u001b[0m\u001b[1;33m\u001b[0m\u001b[0m\n\u001b[0;32m   1144\u001b[0m                         \u001b[1;32mraise\u001b[0m \u001b[0mLookupError\u001b[0m\u001b[1;33m(\u001b[0m\u001b[1;34m\"Orbit interpolaton failed; integrate on finer grid\"\u001b[0m\u001b[1;33m)\u001b[0m\u001b[1;33m\u001b[0m\u001b[0m\n",
      "\u001b[1;31mKeyboardInterrupt\u001b[0m: "
     ]
    }
   ],
   "source": [
    "o.plot(d1='x',d2='y')"
   ]
  },
  {
   "cell_type": "code",
   "execution_count": null,
   "metadata": {
    "collapsed": false
   },
   "outputs": [],
   "source": [
    "plt.plot(xl,zl)\n",
    "plt.xlabel('x [m]')\n",
    "plt.ylabel('z [m]')\n",
    "o.plot(d1='x',d2='z')"
   ]
  },
  {
   "cell_type": "code",
   "execution_count": null,
   "metadata": {
    "collapsed": false
   },
   "outputs": [],
   "source": [
    "fig = plt.figure()\n",
    "ax = fig.add_subplot(111, projection='3d')\n",
    "ax.plot(xlpc,ylpc,zlpc)\n",
    "ax.set_xlabel('x [pc]')\n",
    "ax.set_ylabel('y [pc]')\n",
    "ax.set_zlabel('z [pc]')"
   ]
  },
  {
   "cell_type": "code",
   "execution_count": null,
   "metadata": {
    "collapsed": false
   },
   "outputs": [],
   "source": [
    "rlpc=np.sqrt(xlpc**2+ylpc**2+zlpc**2)\n",
    "print(np.min(rlpc))\n",
    "print(ri)\n",
    "print(np.max(rlpc))"
   ]
  },
  {
   "cell_type": "markdown",
   "metadata": {
    "collapsed": true
   },
   "source": [
    "actions\n",
    "---"
   ]
  },
  {
   "cell_type": "code",
   "execution_count": 30,
   "metadata": {
    "collapsed": false
   },
   "outputs": [
    {
     "ename": "NameError",
     "evalue": "name 'E' is not defined",
     "output_type": "error",
     "traceback": [
      "\u001b[1;31m---------------------------------------------------------------------------\u001b[0m",
      "\u001b[1;31mNameError\u001b[0m                                 Traceback (most recent call last)",
      "\u001b[1;32m<ipython-input-30-b8cb42ea39fa>\u001b[0m in \u001b[0;36m<module>\u001b[1;34m()\u001b[0m\n\u001b[0;32m     25\u001b[0m \u001b[0mrl\u001b[0m\u001b[1;33m=\u001b[0m\u001b[0mnp\u001b[0m\u001b[1;33m.\u001b[0m\u001b[0msqrt\u001b[0m\u001b[1;33m(\u001b[0m\u001b[0mxl\u001b[0m\u001b[1;33m**\u001b[0m\u001b[1;36m2\u001b[0m\u001b[1;33m+\u001b[0m\u001b[0myl\u001b[0m\u001b[1;33m**\u001b[0m\u001b[1;36m2\u001b[0m\u001b[1;33m+\u001b[0m\u001b[0mzl\u001b[0m\u001b[1;33m**\u001b[0m\u001b[1;36m2\u001b[0m\u001b[1;33m)\u001b[0m\u001b[1;33m\u001b[0m\u001b[0m\n\u001b[0;32m     26\u001b[0m \u001b[1;33m\u001b[0m\u001b[0m\n\u001b[1;32m---> 27\u001b[1;33m \u001b[0mrmin\u001b[0m\u001b[1;33m=\u001b[0m\u001b[0mopt\u001b[0m\u001b[1;33m.\u001b[0m\u001b[0mfsolve\u001b[0m\u001b[1;33m(\u001b[0m\u001b[0mperiapocenter\u001b[0m\u001b[1;33m,\u001b[0m\u001b[0mnp\u001b[0m\u001b[1;33m.\u001b[0m\u001b[0mmin\u001b[0m\u001b[1;33m(\u001b[0m\u001b[0mrl\u001b[0m\u001b[1;33m)\u001b[0m\u001b[1;33m)\u001b[0m \u001b[1;31m#nicht min(rl) sondern einfach kleiner wert weil ich es erst durch orbit integration weiss\u001b[0m\u001b[1;33m\u001b[0m\u001b[0m\n\u001b[0m\u001b[0;32m     28\u001b[0m \u001b[0mrmax\u001b[0m\u001b[1;33m=\u001b[0m\u001b[0mopt\u001b[0m\u001b[1;33m.\u001b[0m\u001b[0mfsolve\u001b[0m\u001b[1;33m(\u001b[0m\u001b[0mperiapocenter\u001b[0m\u001b[1;33m,\u001b[0m\u001b[0mnp\u001b[0m\u001b[1;33m.\u001b[0m\u001b[0mmax\u001b[0m\u001b[1;33m(\u001b[0m\u001b[0mrl\u001b[0m\u001b[1;33m)\u001b[0m\u001b[1;33m)\u001b[0m\u001b[1;33m\u001b[0m\u001b[0m\n\u001b[0;32m     29\u001b[0m \u001b[1;33m\u001b[0m\u001b[0m\n",
      "\u001b[1;32m/home/sophia/anaconda3/lib/python3.4/site-packages/scipy/optimize/minpack.py\u001b[0m in \u001b[0;36mfsolve\u001b[1;34m(func, x0, args, fprime, full_output, col_deriv, xtol, maxfev, band, epsfcn, factor, diag)\u001b[0m\n\u001b[0;32m    138\u001b[0m                'full_output': full_output}\n\u001b[0;32m    139\u001b[0m \u001b[1;33m\u001b[0m\u001b[0m\n\u001b[1;32m--> 140\u001b[1;33m     \u001b[0mres\u001b[0m \u001b[1;33m=\u001b[0m \u001b[0m_root_hybr\u001b[0m\u001b[1;33m(\u001b[0m\u001b[0mfunc\u001b[0m\u001b[1;33m,\u001b[0m \u001b[0mx0\u001b[0m\u001b[1;33m,\u001b[0m \u001b[0margs\u001b[0m\u001b[1;33m,\u001b[0m \u001b[0mjac\u001b[0m\u001b[1;33m=\u001b[0m\u001b[0mfprime\u001b[0m\u001b[1;33m,\u001b[0m \u001b[1;33m**\u001b[0m\u001b[0moptions\u001b[0m\u001b[1;33m)\u001b[0m\u001b[1;33m\u001b[0m\u001b[0m\n\u001b[0m\u001b[0;32m    141\u001b[0m     \u001b[1;32mif\u001b[0m \u001b[0mfull_output\u001b[0m\u001b[1;33m:\u001b[0m\u001b[1;33m\u001b[0m\u001b[0m\n\u001b[0;32m    142\u001b[0m         \u001b[0mx\u001b[0m \u001b[1;33m=\u001b[0m \u001b[0mres\u001b[0m\u001b[1;33m[\u001b[0m\u001b[1;34m'x'\u001b[0m\u001b[1;33m]\u001b[0m\u001b[1;33m\u001b[0m\u001b[0m\n",
      "\u001b[1;32m/home/sophia/anaconda3/lib/python3.4/site-packages/scipy/optimize/minpack.py\u001b[0m in \u001b[0;36m_root_hybr\u001b[1;34m(func, x0, args, jac, col_deriv, xtol, maxfev, band, eps, factor, diag, full_output, **unknown_options)\u001b[0m\n\u001b[0;32m    195\u001b[0m     \u001b[1;32mif\u001b[0m \u001b[1;32mnot\u001b[0m \u001b[0misinstance\u001b[0m\u001b[1;33m(\u001b[0m\u001b[0margs\u001b[0m\u001b[1;33m,\u001b[0m \u001b[0mtuple\u001b[0m\u001b[1;33m)\u001b[0m\u001b[1;33m:\u001b[0m\u001b[1;33m\u001b[0m\u001b[0m\n\u001b[0;32m    196\u001b[0m         \u001b[0margs\u001b[0m \u001b[1;33m=\u001b[0m \u001b[1;33m(\u001b[0m\u001b[0margs\u001b[0m\u001b[1;33m,\u001b[0m\u001b[1;33m)\u001b[0m\u001b[1;33m\u001b[0m\u001b[0m\n\u001b[1;32m--> 197\u001b[1;33m     \u001b[0mshape\u001b[0m\u001b[1;33m,\u001b[0m \u001b[0mdtype\u001b[0m \u001b[1;33m=\u001b[0m \u001b[0m_check_func\u001b[0m\u001b[1;33m(\u001b[0m\u001b[1;34m'fsolve'\u001b[0m\u001b[1;33m,\u001b[0m \u001b[1;34m'func'\u001b[0m\u001b[1;33m,\u001b[0m \u001b[0mfunc\u001b[0m\u001b[1;33m,\u001b[0m \u001b[0mx0\u001b[0m\u001b[1;33m,\u001b[0m \u001b[0margs\u001b[0m\u001b[1;33m,\u001b[0m \u001b[0mn\u001b[0m\u001b[1;33m,\u001b[0m \u001b[1;33m(\u001b[0m\u001b[0mn\u001b[0m\u001b[1;33m,\u001b[0m\u001b[1;33m)\u001b[0m\u001b[1;33m)\u001b[0m\u001b[1;33m\u001b[0m\u001b[0m\n\u001b[0m\u001b[0;32m    198\u001b[0m     \u001b[1;32mif\u001b[0m \u001b[0mepsfcn\u001b[0m \u001b[1;32mis\u001b[0m \u001b[1;32mNone\u001b[0m\u001b[1;33m:\u001b[0m\u001b[1;33m\u001b[0m\u001b[0m\n\u001b[0;32m    199\u001b[0m         \u001b[0mepsfcn\u001b[0m \u001b[1;33m=\u001b[0m \u001b[0mfinfo\u001b[0m\u001b[1;33m(\u001b[0m\u001b[0mdtype\u001b[0m\u001b[1;33m)\u001b[0m\u001b[1;33m.\u001b[0m\u001b[0meps\u001b[0m\u001b[1;33m\u001b[0m\u001b[0m\n",
      "\u001b[1;32m/home/sophia/anaconda3/lib/python3.4/site-packages/scipy/optimize/minpack.py\u001b[0m in \u001b[0;36m_check_func\u001b[1;34m(checker, argname, thefunc, x0, args, numinputs, output_shape)\u001b[0m\n\u001b[0;32m     18\u001b[0m def _check_func(checker, argname, thefunc, x0, args, numinputs,\n\u001b[0;32m     19\u001b[0m                 output_shape=None):\n\u001b[1;32m---> 20\u001b[1;33m     \u001b[0mres\u001b[0m \u001b[1;33m=\u001b[0m \u001b[0matleast_1d\u001b[0m\u001b[1;33m(\u001b[0m\u001b[0mthefunc\u001b[0m\u001b[1;33m(\u001b[0m\u001b[1;33m*\u001b[0m\u001b[1;33m(\u001b[0m\u001b[1;33m(\u001b[0m\u001b[0mx0\u001b[0m\u001b[1;33m[\u001b[0m\u001b[1;33m:\u001b[0m\u001b[0mnuminputs\u001b[0m\u001b[1;33m]\u001b[0m\u001b[1;33m,\u001b[0m\u001b[1;33m)\u001b[0m \u001b[1;33m+\u001b[0m \u001b[0margs\u001b[0m\u001b[1;33m)\u001b[0m\u001b[1;33m)\u001b[0m\u001b[1;33m)\u001b[0m\u001b[1;33m\u001b[0m\u001b[0m\n\u001b[0m\u001b[0;32m     21\u001b[0m     \u001b[1;32mif\u001b[0m \u001b[1;33m(\u001b[0m\u001b[0moutput_shape\u001b[0m \u001b[1;32mis\u001b[0m \u001b[1;32mnot\u001b[0m \u001b[1;32mNone\u001b[0m\u001b[1;33m)\u001b[0m \u001b[1;32mand\u001b[0m \u001b[1;33m(\u001b[0m\u001b[0mshape\u001b[0m\u001b[1;33m(\u001b[0m\u001b[0mres\u001b[0m\u001b[1;33m)\u001b[0m \u001b[1;33m!=\u001b[0m \u001b[0moutput_shape\u001b[0m\u001b[1;33m)\u001b[0m\u001b[1;33m:\u001b[0m\u001b[1;33m\u001b[0m\u001b[0m\n\u001b[0;32m     22\u001b[0m         \u001b[1;32mif\u001b[0m \u001b[1;33m(\u001b[0m\u001b[0moutput_shape\u001b[0m\u001b[1;33m[\u001b[0m\u001b[1;36m0\u001b[0m\u001b[1;33m]\u001b[0m \u001b[1;33m!=\u001b[0m \u001b[1;36m1\u001b[0m\u001b[1;33m)\u001b[0m\u001b[1;33m:\u001b[0m\u001b[1;33m\u001b[0m\u001b[0m\n",
      "\u001b[1;32m<ipython-input-30-b8cb42ea39fa>\u001b[0m in \u001b[0;36mperiapocenter\u001b[1;34m(rl)\u001b[0m\n\u001b[0;32m     21\u001b[0m     \u001b[0mpot\u001b[0m\u001b[1;33m=\u001b[0m\u001b[0mpotential\u001b[0m\u001b[1;33m(\u001b[0m\u001b[0mxl\u001b[0m\u001b[1;33m,\u001b[0m\u001b[0myl\u001b[0m\u001b[1;33m,\u001b[0m\u001b[0mzl\u001b[0m\u001b[1;33m,\u001b[0m\u001b[0mM\u001b[0m\u001b[1;33m=\u001b[0m\u001b[0mmges\u001b[0m\u001b[1;33m,\u001b[0m\u001b[0mb\u001b[0m\u001b[1;33m=\u001b[0m\u001b[0mb\u001b[0m\u001b[1;33m)\u001b[0m\u001b[1;33m\u001b[0m\u001b[0m\n\u001b[0;32m     22\u001b[0m \u001b[1;33m\u001b[0m\u001b[0m\n\u001b[1;32m---> 23\u001b[1;33m     \u001b[1;32mreturn\u001b[0m \u001b[1;33m(\u001b[0m\u001b[1;36m1\u001b[0m\u001b[1;33m/\u001b[0m\u001b[0mrl\u001b[0m\u001b[1;33m)\u001b[0m\u001b[1;33m**\u001b[0m\u001b[1;36m2.\u001b[0m\u001b[1;33m+\u001b[0m\u001b[1;36m2.\u001b[0m\u001b[1;33m*\u001b[0m\u001b[1;33m(\u001b[0m\u001b[0mpot\u001b[0m\u001b[1;33m-\u001b[0m\u001b[0mE\u001b[0m\u001b[1;33m[\u001b[0m\u001b[1;36m0\u001b[0m\u001b[1;33m]\u001b[0m\u001b[1;33m)\u001b[0m\u001b[1;33m/\u001b[0m\u001b[0mL\u001b[0m\u001b[1;33m[\u001b[0m\u001b[1;36m0\u001b[0m\u001b[1;33m]\u001b[0m\u001b[1;33m**\u001b[0m\u001b[1;36m2.\u001b[0m\u001b[1;33m\u001b[0m\u001b[0m\n\u001b[0m\u001b[0;32m     24\u001b[0m \u001b[1;33m\u001b[0m\u001b[0m\n\u001b[0;32m     25\u001b[0m \u001b[0mrl\u001b[0m\u001b[1;33m=\u001b[0m\u001b[0mnp\u001b[0m\u001b[1;33m.\u001b[0m\u001b[0msqrt\u001b[0m\u001b[1;33m(\u001b[0m\u001b[0mxl\u001b[0m\u001b[1;33m**\u001b[0m\u001b[1;36m2\u001b[0m\u001b[1;33m+\u001b[0m\u001b[0myl\u001b[0m\u001b[1;33m**\u001b[0m\u001b[1;36m2\u001b[0m\u001b[1;33m+\u001b[0m\u001b[0mzl\u001b[0m\u001b[1;33m**\u001b[0m\u001b[1;36m2\u001b[0m\u001b[1;33m)\u001b[0m\u001b[1;33m\u001b[0m\u001b[0m\n",
      "\u001b[1;31mNameError\u001b[0m: name 'E' is not defined"
     ]
    }
   ],
   "source": [
    "#angular moments without mass\n",
    "\n",
    "def angularmom(xl,yl,zl,vxl,vyl,vzl):\n",
    "    Lx=yl*vzl-zl*vyl\n",
    "    Ly=zl*vxl-xl*vzl\n",
    "    Lz=xl*vyl-yl*vxl\n",
    "    L=np.sqrt(Lx**2+Ly**2+Lz**2)\n",
    "    return L,Lx,Ly,Lz\n",
    "\n",
    "def potential(xl,yl,zl,M=mges,b=2):\n",
    "    pot=-cs.G*M/(b+np.sqrt(b**2+(np.sqrt(xl**2+yl**2+zl**2))**2))\n",
    "    return pot \n",
    "\n",
    "def energy(xl,yl,zl,vxl,vyl,vzl):\n",
    "    pot=potential(xl,yl,zl,M=mges,b=b)\n",
    "    E=vxl**2./2.+vyl**2./2.+vzl**2./2.+pot\n",
    "    return E\n",
    "\n",
    "def periapocenter(rl):\n",
    "#    r=np.sqrt(xl**2+yl**2+zl**2)\n",
    "    pot=potential(xl,yl,zl,M=mges,b=b)\n",
    "    \n",
    "    return (1/rl)**2.+2.*(pot-E[0])/L[0]**2.\n",
    "\n",
    "rl=np.sqrt(xl**2+yl**2+zl**2)\n",
    "\n",
    "rmin=opt.fsolve(periapocenter,np.min(rl)) #nicht min(rl) sondern einfach kleiner wert weil ich es erst durch orbit integration weiss\n",
    "rmax=opt.fsolve(periapocenter,np.max(rl))\n",
    "\n",
    "def j_rint(xl,yl,zl,vxl,vyl,vzl,E,L,pot):\n",
    "    r=np.sqrt(xl**2+yl**2+zl**2)\n",
    "    pot=potential(xl,yl,tl,M=M,b=b)\n",
    "    E=energy(vxl,vyl,vzl,pot)\n",
    "    L=angularmom(xl,yl,zl,vxl,vyl,vzl)\n",
    "    return np.sqrt(2.*E-2.*pot-L**2./r**2.)\n",
    "\n",
    "def J_phi(xl,yl,vxl,vyl):\n",
    "    Lz=xl*vyl-yl*vxl\n",
    "    J_phi=Lz\n",
    "    return J_phi\n",
    "    \n",
    "def J_theta(L,Lz):\n",
    "    L=angularmom(xl,yl,zl,vxl,vyl,vzl)[0]\n",
    "    Lz=angularmom(xl,yl,zl,vxl,vyl,vzl)[1]\n",
    "    J_theta=L-np.abs(Lz)\n",
    "    return J_theta\n",
    "#j_rint=lambda r_var: np.sqrt(2.*E-2.*Phi(r_var)-L**2./r_var**2.)\n",
    "\n",
    "def J_r():\n",
    "#    J_r=np.zeros(len(J_phi))\n",
    "#for i in range(len(J_r)):\n",
    "    J_r=1/np.pi*intg.quad(j_rint,rmin,rmax)[0] #rmin,rmax,args=(E,L)\n",
    "#J_ri=cs.G*mges/np.sqrt(-2.*E)-1./2.*(L+np.sqrt(L**2.-4.*cs.G*mges*b))\n",
    "    return J_r\n",
    "#print(rmin,rmax)\n"
   ]
  },
  {
   "cell_type": "code",
   "execution_count": null,
   "metadata": {
    "collapsed": false
   },
   "outputs": [],
   "source": [
    "angularmom(xl[0],yl[0],zl[0],vxl[0],vyl[0],vzl[0])"
   ]
  },
  {
   "cell_type": "code",
   "execution_count": null,
   "metadata": {
    "collapsed": false
   },
   "outputs": [],
   "source": [
    "energy(xl[0],yl[0],zl[0],vxl[0],vyl[0],vzl[0])"
   ]
  },
  {
   "cell_type": "code",
   "execution_count": null,
   "metadata": {
    "collapsed": true
   },
   "outputs": [],
   "source": [
    "aAI= actionAngleIsochrone(ip=isopot)"
   ]
  },
  {
   "cell_type": "code",
   "execution_count": null,
   "metadata": {
    "collapsed": false
   },
   "outputs": [],
   "source": [
    "#galpy\n",
    "tJ=np.linspace(start,end,N+1)\n",
    "tg=np.linspace(start,end,N/100)\n",
    "jfa= aAI.actionsFreqs(o.R(tg),o.vR(tg),o.vT(tg),o.z(tg),o.vz(tg),o.phi(tg))\n",
    "Jr,Jphi,Jz=aAi(R,vR,vT,z,vz)"
   ]
  },
  {
   "cell_type": "code",
   "execution_count": null,
   "metadata": {
    "collapsed": false
   },
   "outputs": [],
   "source": [
    "plt.plot(tJ,J_phi,'b',tg,jfa[1],'r')"
   ]
  },
  {
   "cell_type": "code",
   "execution_count": null,
   "metadata": {
    "collapsed": false
   },
   "outputs": [],
   "source": [
    "plt.plot(tJ,J_theta,'b',tg,jfa[2],'r')"
   ]
  },
  {
   "cell_type": "code",
   "execution_count": null,
   "metadata": {
    "collapsed": false,
    "scrolled": true
   },
   "outputs": [],
   "source": [
    "plt.plot(tJ,J_r,'b',tg,jfa[0],'r')\n"
   ]
  },
  {
   "cell_type": "code",
   "execution_count": null,
   "metadata": {
    "collapsed": false
   },
   "outputs": [],
   "source": [
    "plt.plot(tJ,E)"
   ]
  },
  {
   "cell_type": "code",
   "execution_count": null,
   "metadata": {
    "collapsed": false
   },
   "outputs": [],
   "source": [
    "print len(E)\n",
    "\n"
   ]
  },
  {
   "cell_type": "code",
   "execution_count": null,
   "metadata": {
    "collapsed": false
   },
   "outputs": [],
   "source": [
    "print len(rl)"
   ]
  },
  {
   "cell_type": "code",
   "execution_count": null,
   "metadata": {
    "collapsed": false
   },
   "outputs": [],
   "source": [
    "np.sqrt(2.*E(r_var)-2.*Phi(r_var)-L(r_var)**2./r_var**2.)"
   ]
  },
  {
   "cell_type": "code",
   "execution_count": null,
   "metadata": {
    "collapsed": false
   },
   "outputs": [],
   "source": [
    "len(E)"
   ]
  },
  {
   "cell_type": "code",
   "execution_count": null,
   "metadata": {
    "collapsed": false
   },
   "outputs": [],
   "source": [
    "len(L)"
   ]
  },
  {
   "cell_type": "code",
   "execution_count": null,
   "metadata": {
    "collapsed": false
   },
   "outputs": [],
   "source": [
    "print rl\n"
   ]
  },
  {
   "cell_type": "code",
   "execution_count": null,
   "metadata": {
    "collapsed": true
   },
   "outputs": [],
   "source": []
  }
 ],
 "metadata": {
  "kernelspec": {
   "display_name": "Python 3",
   "language": "python",
   "name": "python3"
  },
  "language_info": {
   "codemirror_mode": {
    "name": "ipython",
    "version": 3
   },
   "file_extension": ".py",
   "mimetype": "text/x-python",
   "name": "python",
   "nbconvert_exporter": "python",
   "pygments_lexer": "ipython3",
   "version": "3.4.3"
  }
 },
 "nbformat": 4,
 "nbformat_minor": 0
}
