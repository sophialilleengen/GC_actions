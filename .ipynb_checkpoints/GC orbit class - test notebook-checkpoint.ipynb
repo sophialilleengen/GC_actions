{
 "cells": [
  {
   "cell_type": "code",
   "execution_count": 1,
   "metadata": {
    "collapsed": false
   },
   "outputs": [
    {
     "name": "stdout",
     "output_type": "stream",
     "text": [
      "galpyWarning: interppotential_c extension module not loaded, because galpy_actionAngle_c.cpython-34m.so image was not found\n",
      "galpyWarning: integratePlanarOrbit_c extension module not loaded, because galpy_integrate_c.cpython-34m.so image was not found\n",
      "galpyWarning: integrateFullOrbit_c extension module not loaded, because galpy_integrate_c.cpython-34m.so image was not found\n",
      "galpyWarning: actionAngleAdiabatic_c extension module not loaded, because galpy_actionAngle_c.cpython-34m.so image was not found\n",
      "galpyWarning: actionAngleStaeckel_c extension module not loaded, because galpy_actionAngle_c.cpython-34m.so image was not found\n"
     ]
    }
   ],
   "source": [
    "import numpy as  np\n",
    "import matplotlib.pyplot as plt\n",
    "from mpl_toolkits.mplot3d import Axes3D\n",
    "from matplotlib.colors import LogNorm\n",
    "import sys\n",
    "from astropy import units as un\n",
    "from scipy import constants as cs\n",
    "from scipy import interpolate\n",
    "\n",
    "sys.path.insert(0, '/home/sophia/bachelor_thesis_ipython_notebooks')\n",
    "\n",
    "from GC_Orbit_class import GCorbit\n",
    "\n",
    "import galpy.potential as galpot\n",
    "from galpy.orbit import Orbit\n",
    "from galpy.util import bovy_coords\n",
    "from galpy.actionAngle import actionAngleIsochrone\n",
    "\n",
    "%matplotlib inline"
   ]
  },
  {
   "cell_type": "code",
   "execution_count": 2,
   "metadata": {
    "collapsed": false
   },
   "outputs": [],
   "source": [
    "#data: need actions J_r, J_phi, J_theta\n",
    "if 0:\n",
    "    r_3d,m1,m2,x,y,z,vx,vy,vz=np.loadtxt('C:\\\\Users\\Sophia Milanov\\Documents\\Bachelorarbeit\\data\\\\x-y-z.dat', usecols=(1,9,10,30,31,32,33,34,35), unpack=True)\n",
    "elif 1:\n",
    "    r_3d,m1,m2,x,y,z,vx,vy,vz=np.loadtxt('/home/sophia/Dokumente/Bachelorarbeit-2/x-y-z.dat', usecols=(1,9,10,30,31,32,33,34,35), unpack=True)\n",
    "else:\n",
    "    r_3d,m1,m2,x,y,z,vx,vy,vz=np.loadtxt('/home/milanov/Bachelorarbeit/x-y-z.dat', usecols=(1,9,10,30,31,32,33,34,35), unpack=True)"
   ]
  },
  {
   "cell_type": "code",
   "execution_count": 26,
   "metadata": {
    "collapsed": false,
    "scrolled": true
   },
   "outputs": [
    {
     "name": "stdout",
     "output_type": "stream",
     "text": [
      "18.4142139404 0.000283933675285\n"
     ]
    }
   ],
   "source": [
    "mges=np.sum(m1+m2)\n",
    "G=(un.m**3/(un.kg*un.s**2)).to(un.pc**3/(un.solMass*un.s**2), cs.G) #m3 / (kg s2) to pc³/(Msun*s²)\n",
    "r=np.exp(np.linspace(np.log(np.min(r_3d[1:])),np.log(200),500))\n",
    "b=10.\n",
    "b2=b**2.\n",
    "z0=0\n",
    "r2= r**2.+z0**2.\n",
    "rb= np.sqrt(r2+b2)\n",
    "rho=mges*((3.*(b+rb)*rb**2.-r2*(b+3.*rb))/rb**3./(b+rb)**3./4./np.pi) #Einheit Msun/pc**3\n",
    "\n",
    "test=GCorbit(r_pc=r,rho_M_sunpc3=rho) #bhmass_M_sun=np.sum(m1[0]+m2[0])\n",
    "\n",
    "pot_iso=-G*mges/(b+np.sqrt(b**2.+r**2))\n",
    "print(rho[0],rho[-1])"
   ]
  },
  {
   "cell_type": "code",
   "execution_count": 30,
   "metadata": {
    "collapsed": false,
    "scrolled": true
   },
   "outputs": [
    {
     "data": {
      "text/plain": [
       "[<matplotlib.lines.Line2D at 0x7fe606937f60>,\n",
       " <matplotlib.lines.Line2D at 0x7fe6068e0b70>]"
      ]
     },
     "execution_count": 30,
     "metadata": {},
     "output_type": "execute_result"
    },
    {
     "data": {
      "image/png": "[encoded data removed]",
      "text/plain": [
       "<matplotlib.figure.Figure at 0x7fe606bbf080>"
      ]
     },
     "metadata": {},
     "output_type": "display_data"
    }
   ],
   "source": [
    "#test if GCorbit.density is right\n",
    "r_temp=np.exp(np.linspace(np.log(0.01),np.log(200),1000))\n",
    "r2_temp=r_temp**2\n",
    "rb_temp= np.sqrt(r2_temp+b2)\n",
    "rho_temp=mges*((3.*(b+rb_temp)*rb_temp**2.-r2_temp*(b+3.*rb_temp))/rb_temp**3./(b+rb_temp)**3./4./np.pi)\n",
    "plt.semilogx(r_temp,test.density(r_temp),'r-',r_temp,rho_temp,'b-')\n",
    "#anzahl der werte bestimmen zu ner guten übereinstimmung"
   ]
  },
  {
   "cell_type": "code",
   "execution_count": 33,
   "metadata": {
    "collapsed": false
   },
   "outputs": [
    {
     "data": {
      "text/plain": [
       "(1, 200)"
      ]
     },
     "execution_count": 33,
     "metadata": {},
     "output_type": "execute_result"
    },
    {
     "data": {
      "image/png": "[encoded data removed]",
      "text/plain": [
       "<matplotlib.figure.Figure at 0x7fe606979550>"
      ]
     },
     "metadata": {},
     "output_type": "display_data"
    }
   ],
   "source": [
    "#test if GCorbit._potential_stars is right\n",
    "pot_iso=-G*mges/(b+np.sqrt(b**2.+r_temp**2))\n",
    "plt.semilogx(r_temp,test.potential(r=r_temp),'r-',r_temp,pot_iso,'b-')\n",
    "plt.xlim(1,200)"
   ]
  },
  {
   "cell_type": "code",
   "execution_count": 15,
   "metadata": {
    "collapsed": false
   },
   "outputs": [],
   "source": [
    "#test if GCorbit.orbit_integration is right\n",
    "n=78363\n",
    "xo,yo,zo,vxo,vyo,vzo,to=test.orbit_integration(x[n],y[n],z[n],vx[n],vy[n],vz[n],dt=10,t_end=1000000)\n",
    "\n",
    "\n",
    "##### galpy orbit #####\n",
    "#in Galactocentric cylindrical coordinates vxvv=[R,vR,vT(,z,vz,phi)]\n",
    "\n",
    "#xim=un.pc.to(un.m,x[n])\n",
    "#yim=un.pc.to(un.m,y[n])\n",
    "#zim=un.pc.to(un.m,z[n])\n",
    "#vxim=(un.km/un.s).to(un.m/un.s,vx[n])\n",
    "#vyim=(un.km/un.s).to(un.m/un.s,vy[n])\n",
    "#vzim=(un.km/un.s).to(un.m/un.s,vz[n])\n",
    "#R,phi,z_new=bovy_coords.rect_to_cyl(xim,yim,zim) #ort\n",
    "#vR,vT,vz_new=bovy_coords.rect_to_cyl_vec(vxim,vyim,vzim,xim,yim,zim) #geschw\n",
    "#o=Orbit(vxvv=[R,vR,vT,z_new,vz_new,phi])\n",
    "#o.integrate(to,pot_iso)"
   ]
  },
  {
   "cell_type": "code",
   "execution_count": 11,
   "metadata": {
    "collapsed": false,
    "scrolled": true
   },
   "outputs": [
    {
     "data": {
      "text/plain": [
       "[<matplotlib.lines.Line2D at 0x7fe60718c278>]"
      ]
     },
     "execution_count": 11,
     "metadata": {},
     "output_type": "execute_result"
    },
    {
     "data": {
      "image/png": "[encoded data removed]",
      "text/plain": [
       "<matplotlib.figure.Figure at 0x7fe6072f6b38>"
      ]
     },
     "metadata": {},
     "output_type": "display_data"
    }
   ],
   "source": [
    "plt.plot(xo,yo)"
   ]
  },
  {
   "cell_type": "code",
   "execution_count": null,
   "metadata": {
    "collapsed": true
   },
   "outputs": [],
   "source": [
    "#test if GCorbit.actions is right"
   ]
  },
  {
   "cell_type": "code",
   "execution_count": null,
   "metadata": {
    "collapsed": true
   },
   "outputs": [],
   "source": [
    "J_phi,J_theta,"
   ]
  },
  {
   "cell_type": "code",
   "execution_count": null,
   "metadata": {
    "collapsed": true
   },
   "outputs": [],
   "source": []
  },
  {
   "cell_type": "code",
   "execution_count": null,
   "metadata": {
    "collapsed": true
   },
   "outputs": [],
   "source": []
  }
 ],
 "metadata": {
  "kernelspec": {
   "display_name": "Python 3",
   "language": "python",
   "name": "python3"
  },
  "language_info": {
   "codemirror_mode": {
    "name": "ipython",
    "version": 3
   },
   "file_extension": ".py",
   "mimetype": "text/x-python",
   "name": "python",
   "nbconvert_exporter": "python",
   "pygments_lexer": "ipython3",
   "version": "3.4.3"
  }
 },
 "nbformat": 4,
 "nbformat_minor": 0
}
