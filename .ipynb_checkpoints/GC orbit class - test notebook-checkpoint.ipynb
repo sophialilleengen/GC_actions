{
 "cells": [
  {
   "cell_type": "code",
   "execution_count": 1,
   "metadata": {
    "collapsed": false
   },
   "outputs": [
    {
     "name": "stdout",
     "output_type": "stream",
     "text": [
      "galpyWarning: interppotential_c extension module not loaded, because galpy_actionAngle_c.cpython-34m.so image was not found\n",
      "galpyWarning: integratePlanarOrbit_c extension module not loaded, because galpy_integrate_c.cpython-34m.so image was not found\n",
      "galpyWarning: integrateFullOrbit_c extension module not loaded, because galpy_integrate_c.cpython-34m.so image was not found\n",
      "galpyWarning: actionAngleAdiabatic_c extension module not loaded, because galpy_actionAngle_c.cpython-34m.so image was not found\n",
      "galpyWarning: actionAngleStaeckel_c extension module not loaded, because galpy_actionAngle_c.cpython-34m.so image was not found\n"
     ]
    }
   ],
   "source": [
    "import numpy as  np\n",
    "import matplotlib.pyplot as plt\n",
    "from mpl_toolkits.mplot3d import Axes3D\n",
    "from matplotlib.colors import LogNorm\n",
    "import sys\n",
    "from astropy import units as un\n",
    "from scipy import constants as cs\n",
    "from scipy import interpolate\n",
    "from scipy import optimize as opt\n",
    "\n",
    "sys.path.insert(0, '/home/sophia/bachelor_thesis_ipython_notebooks')\n",
    "\n",
    "from GC_Orbit_class import GCorbit\n",
    "\n",
    "import galpy.potential as galpot\n",
    "from galpy.orbit import Orbit\n",
    "from galpy.util import bovy_coords\n",
    "from galpy.actionAngle import actionAngleIsochrone\n",
    "\n",
    "%matplotlib inline"
   ]
  },
  {
   "cell_type": "code",
   "execution_count": 2,
   "metadata": {
    "collapsed": false
   },
   "outputs": [],
   "source": [
    "#data: need actions J_r, J_phi, J_theta\n",
    "if 0:\n",
    "    r_3d,m1,m2,x,y,z,vx,vy,vz=np.loadtxt('C:\\\\Users\\Sophia Milanov\\Documents\\Bachelorarbeit\\data\\\\x-y-z.dat', usecols=(1,9,10,30,31,32,33,34,35), unpack=True)\n",
    "elif 1:\n",
    "    r_3d,m1,m2,x,y,z,vx,vy,vz=np.loadtxt('/home/sophia/Dokumente/Bachelorarbeit-2/x-y-z.dat', usecols=(1,9,10,30,31,32,33,34,35), unpack=True)\n",
    "else:\n",
    "    r_3d,m1,m2,x,y,z,vx,vy,vz=np.loadtxt('/home/milanov/Bachelorarbeit/x-y-z.dat', usecols=(1,9,10,30,31,32,33,34,35), unpack=True)"
   ]
  },
  {
   "cell_type": "code",
   "execution_count": 3,
   "metadata": {
    "collapsed": false,
    "scrolled": true
   },
   "outputs": [
    {
     "name": "stdout",
     "output_type": "stream",
     "text": [
      "18413.899994 3.0460188934e-05\n"
     ]
    }
   ],
   "source": [
    "mges=np.sum(m1+m2)\n",
    "G=(un.m**3/(un.kg*un.s**2)).to(un.pc**3/(un.solMass*un.s**2), cs.G) #m3 / (kg s2) to pc³/(Msun*s²)\n",
    "r=np.exp(np.linspace(np.log(np.min(r_3d[1:])),np.log(200),500))\n",
    "b=1.\n",
    "b2=b**2.\n",
    "z0=0\n",
    "r2= r**2.+z0**2.\n",
    "rb= np.sqrt(r2+b2)\n",
    "rho=mges*((3.*(b+rb)*rb**2.-r2*(b+3.*rb))/rb**3./(b+rb)**3./4./np.pi) #Einheit Msun/pc**3\n",
    "\n",
    "test=GCorbit(r_pc=r,rho_M_sunpc3=rho) #bhmass_M_sun=np.sum(m1[0]+m2[0])\n",
    "\n",
    "pot_iso=-G*mges/(b+np.sqrt(b**2.+r**2))\n",
    "print(rho[0],rho[-1])"
   ]
  },
  {
   "cell_type": "code",
   "execution_count": 4,
   "metadata": {
    "collapsed": false,
    "scrolled": true
   },
   "outputs": [
    {
     "data": {
      "text/plain": [
       "[<matplotlib.lines.Line2D at 0x7fcd2712bcf8>,\n",
       " <matplotlib.lines.Line2D at 0x7fcd270fdc50>]"
      ]
     },
     "execution_count": 4,
     "metadata": {},
     "output_type": "execute_result"
    },
    {
     "data": {
      "image/png": "[encoded data removed]",
      "text/plain": [
       "<matplotlib.figure.Figure at 0x7fcd271c4320>"
      ]
     },
     "metadata": {},
     "output_type": "display_data"
    }
   ],
   "source": [
    "#test if GCorbit.density is right\n",
    "r_temp=np.exp(np.linspace(np.log(0.01),np.log(200),1000))\n",
    "r2_temp=r_temp**2\n",
    "rb_temp= np.sqrt(r2_temp+b2)\n",
    "rho_temp=mges*((3.*(b+rb_temp)*rb_temp**2.-r2_temp*(b+3.*rb_temp))/rb_temp**3./(b+rb_temp)**3./4./np.pi)\n",
    "plt.semilogx(r_temp,test.density(r_temp),'r-',r_temp,rho_temp,'b-')\n",
    "#anzahl der werte bestimmen zu ner guten übereinstimmung"
   ]
  },
  {
   "cell_type": "code",
   "execution_count": 5,
   "metadata": {
    "collapsed": false
   },
   "outputs": [
    {
     "data": {
      "text/plain": [
       "(0.0001, 200)"
      ]
     },
     "execution_count": 5,
     "metadata": {},
     "output_type": "execute_result"
    },
    {
     "data": {
      "image/png": "[encoded data removed]",
      "text/plain": [
       "<matplotlib.figure.Figure at 0x7fcd401f0ba8>"
      ]
     },
     "metadata": {},
     "output_type": "display_data"
    }
   ],
   "source": [
    "#test if GCorbit._potential_stars is right\n",
    "pot_iso=-G*mges/(b+np.sqrt(b**2.+r_temp**2))\n",
    "plt.semilogx(r_temp,test.potential(r=r_temp),'r-',r_temp,pot_iso,'b-')\n",
    "plt.xlim(0.0001,200)"
   ]
  },
  {
   "cell_type": "code",
   "execution_count": 6,
   "metadata": {
    "collapsed": false
   },
   "outputs": [
    {
     "data": {
      "text/plain": [
       "<matplotlib.lines.Line2D at 0x7fcd4000ed30>"
      ]
     },
     "execution_count": 6,
     "metadata": {},
     "output_type": "execute_result"
    },
    {
     "data": {
      "image/png": "[encoded data removed]",
      "text/plain": [
       "<matplotlib.figure.Figure at 0x7fcd400b26d8>"
      ]
     },
     "metadata": {},
     "output_type": "display_data"
    }
   ],
   "source": [
    "n=785\n",
    "L=test.angularmom(x[n],y[n],z[n],vx[n],vy[n],vz[n])[0]\n",
    "E=test.energy(x[n],y[n],z[n],vx[n],vy[n],vz[n])\n",
    "r=10.**(np.linspace(-2.3,3.,10000))\n",
    "plt.loglog(r,np.abs(test._periapocenter_aux(r=r,E=E,L=L)))\n",
    "\n",
    "plt.axvline(r_3d[n],color='r')\n",
    "plt.axvline(test.periapocenter(x[n],y[n],z[n],vx[n],vy[n],vz[n])[0], color='m')\n",
    "plt.axvline(test.periapocenter(x[n],y[n],z[n],vx[n],vy[n],vz[n])[1], color='black')\n",
    "\n"
   ]
  },
  {
   "cell_type": "code",
   "execution_count": 7,
   "metadata": {
    "collapsed": false
   },
   "outputs": [
    {
     "name": "stdout",
     "output_type": "stream",
     "text": [
      "[ 0.6443852] 0.669642 [ 0.669642]\n"
     ]
    },
    {
     "data": {
      "text/plain": [
       "<matplotlib.lines.Line2D at 0x7fcd400a2eb8>"
      ]
     },
     "execution_count": 7,
     "metadata": {},
     "output_type": "execute_result"
    },
    {
     "data": {
      "image/png": "[encoded data removed]",
      "text/plain": [
       "<matplotlib.figure.Figure at 0x7fcd4015fc88>"
      ]
     },
     "metadata": {},
     "output_type": "display_data"
    }
   ],
   "source": [
    "n=17916\n",
    "L=test.angularmom(x[n],y[n],z[n],vx[n],vy[n],vz[n])[0]\n",
    "E=test.energy(x[n],y[n],z[n],vx[n],vy[n],vz[n])\n",
    "r=np.linspace(0.0035,100,100000)\n",
    "plt.loglog(r,np.abs(test._periapocenter_aux(r=r,E=E,L=L)))\n",
    "plt.axvline(r_3d[n],color='r')\n",
    "\n",
    "rminn=opt.minimize(test._periapocenter_aux, x0=r_3d[n],args=(E,L),bounds=((np.min(r),r_3d[n]),))\n",
    "rmaxx=opt.minimize(test._periapocenter_aux, x0=r_3d[n],args=(E,L),bounds=((r_3d[n],np.max(r)),))\n",
    "\n",
    "print(rminn.x,r_3d[n],rmaxx.x)\n",
    "\n",
    "plt.axvline(test.periapocenter(x[n],y[n],z[n],vx[n],vy[n],vz[n])[0], color='m')\n",
    "plt.axvline(test.periapocenter(x[n],y[n],z[n],vx[n],vy[n],vz[n])[1], color='black')\n",
    "\n"
   ]
  },
  {
   "cell_type": "code",
   "execution_count": 8,
   "metadata": {
    "collapsed": false,
    "scrolled": false
   },
   "outputs": [
    {
     "data": {
      "text/plain": [
       "<matplotlib.lines.Line2D at 0x7fcd3fd9dda0>"
      ]
     },
     "execution_count": 8,
     "metadata": {},
     "output_type": "execute_result"
    },
    {
     "data": {
      "image/png": "[encoded data removed]",
      "text/plain": [
       "<matplotlib.figure.Figure at 0x7fcd3fdeb908>"
      ]
     },
     "metadata": {},
     "output_type": "display_data"
    }
   ],
   "source": [
    "n=654919\n",
    "L=test.angularmom(x[n],y[n],z[n],vx[n],vy[n],vz[n])[0]\n",
    "E=test.energy(x[n],y[n],z[n],vx[n],vy[n],vz[n])\n",
    "r=np.linspace(0.005,500,10000)\n",
    "plt.loglog(r,np.abs(test._periapocenter_aux(r=r,E=E,L=L)))\n",
    "plt.axvline(r_3d[n],color='r')\n",
    "\n",
    "plt.axvline(test.periapocenter(x[n],y[n],z[n],vx[n],vy[n],vz[n])[0], color='m')\n",
    "plt.axvline(test.periapocenter(x[n],y[n],z[n],vx[n],vy[n],vz[n])[1], color='black')"
   ]
  },
  {
   "cell_type": "code",
   "execution_count": 9,
   "metadata": {
    "collapsed": false
   },
   "outputs": [],
   "source": [
    "#test if GCorbit.orbit_integration is right\n",
    "#n=178690\n",
    "#xo,yo,zo,vxo,vyo,vzo,to=test.orbit_integration(x[n],y[n],z[n],vx[n],vy[n],vz[n],dt=10,t_end=100000)\n",
    "\n",
    "\n",
    "##### galpy orbit #####\n",
    "#in Galactocentric cylindrical coordinates vxvv=[R,vR,vT(,z,vz,phi)]\n",
    "\n",
    "#xim=un.pc.to(un.m,x[n])\n",
    "#yim=un.pc.to(un.m,y[n])\n",
    "#zim=un.pc.to(un.m,z[n])\n",
    "#vxim=(un.km/un.s).to(un.m/un.s,vx[n])\n",
    "#vyim=(un.km/un.s).to(un.m/un.s,vy[n])\n",
    "#vzim=(un.km/un.s).to(un.m/un.s,vz[n])\n",
    "#R,phi,z_new=bovy_coords.rect_to_cyl(xim,yim,zim) #ort\n",
    "#vR,vT,vz_new=bovy_coords.rect_to_cyl_vec(vxim,vyim,vzim,xim,yim,zim) #geschw\n",
    "#o=Orbit(vxvv=[R,vR,vT,z_new,vz_new,phi])\n",
    "#o.integrate(to,pot_iso)"
   ]
  },
  {
   "cell_type": "code",
   "execution_count": null,
   "metadata": {
    "collapsed": false
   },
   "outputs": [],
   "source": []
  },
  {
   "cell_type": "code",
   "execution_count": 10,
   "metadata": {
    "collapsed": false,
    "scrolled": true
   },
   "outputs": [],
   "source": [
    "#plt.plot(xo,yo)"
   ]
  },
  {
   "cell_type": "code",
   "execution_count": 11,
   "metadata": {
    "collapsed": true
   },
   "outputs": [],
   "source": [
    "#test if GCorbit.actions is right"
   ]
  },
  {
   "cell_type": "code",
   "execution_count": 12,
   "metadata": {
    "collapsed": false
   },
   "outputs": [],
   "source": [
    "n=785\n",
    "m=17916\n",
    "l=654919\n",
    "J_phi_n,J_theta_n,J_r_n=test.actions(x[n],y[n],z[n],vx[n],vy[n],vz[n])\n",
    "J_phi_m,J_theta_m,J_r_m=test.actions(x[m],y[m],z[m],vx[m],vy[m],vz[m])\n",
    "J_phi_l,J_theta_l,J_r_l=test.actions(x[l],y[l],z[l],vx[l],vy[l],vz[l])\n",
    "\n",
    "vx_pcs=(un.km/un.s).to(un.pc/un.s,vx)\n",
    "vy_pcs=(un.km/un.s).to(un.pc/un.s,vy)\n",
    "vz_pcs=(un.km/un.s).to(un.pc/un.s,vz)\n",
    "\n",
    "Lx_n=y[n]*vz_pcs[n]-z[n]*vy_pcs[n]\n",
    "Ly_n=z[n]*vx_pcs[n]-x[n]*vz_pcs[n]\n",
    "Lz_n=x[n]*vy_pcs[n]-y[n]*vx_pcs[n]\n",
    "L_n=np.sqrt(Lx_n**2+Ly_n**2+Lz_n**2)\n",
    "\n",
    "Lx_m=y[m]*vz_pcs[m]-z[m]*vy_pcs[m]\n",
    "Ly_m=z[m]*vx_pcs[m]-x[m]*vz_pcs[m]\n",
    "Lz_m=x[m]*vy_pcs[m]-y[m]*vx_pcs[m]\n",
    "L_m=np.sqrt(Lx_m**2+Ly_m**2+Lz_m**2)\n",
    "\n",
    "Lx_l=y[l]*vz_pcs[l]-z[l]*vy_pcs[l]\n",
    "Ly_l=z[l]*vx_pcs[l]-x[l]*vz_pcs[l]\n",
    "Lz_l=x[l]*vy_pcs[l]-y[l]*vx_pcs[l]\n",
    "L_l=np.sqrt(Lx_l**2+Ly_l**2+Lz_l**2)\n",
    "\n",
    "pot_n=-G*mges/(b+np.sqrt(b**2.+np.sqrt(x[n]**2+y[n]**2+z[n]**2)**2))\n",
    "E_n=vx_pcs[n]**2./2.+vy_pcs[n]**2./2.+vz_pcs[n]**2./2.+pot_n\n",
    "\n",
    "J_phi_test_n=Lz_n\n",
    "J_theta_test_n=L_n-np.abs(Lz_n)\n",
    "J_r_test_n=G*mges/np.sqrt(-2.*E_n)-1./2.*(L_n+np.sqrt(L_n**2.+4.*G*mges*b))\n",
    "\n",
    "pot_m=-G*mges/(b+np.sqrt(b**2.+np.sqrt(x[m]**2+y[m]**2+z[m]**2)**2))\n",
    "E_m=vx_pcs[m]**2./2.+vy_pcs[m]**2./2.+vz_pcs[m]**2./2.+pot_m\n",
    "\n",
    "J_phi_test_m=Lz_m\n",
    "J_theta_test_m=L_m-np.abs(Lz_m)\n",
    "J_r_test_m=G*mges/np.sqrt(-2.*E_m)-1./2.*(L_m+np.sqrt(L_m**2.+4.*G*mges*b))\n",
    "\n",
    "pot_l=-G*mges/(b+np.sqrt(b**2.+np.sqrt(x[l]**2+y[l]**2+z[l]**2)**2))\n",
    "E_l=vx_pcs[l]**2./2.+vy_pcs[l]**2./2.+vz_pcs[l]**2./2.+pot_l\n",
    "\n",
    "J_phi_test_l=Lz_l\n",
    "J_theta_test_l=L_l-np.abs(Lz_l)\n",
    "J_r_test_l=G*mges/np.sqrt(-2.*E_l)-1./2.*(L_l+np.sqrt(L_l**2.+4.*G*mges*b))\n",
    "\n",
    "J_phi_test_n_pckms=(un.pc**2/un.s).to(un.pc*un.km/un.s,J_phi_test_n)\n",
    "J_theta_test_n_pckms=(un.pc**2/un.s).to(un.pc*un.km/un.s,J_theta_test_n)\n",
    "J_r_test_n_pckms=(un.pc**2/un.s).to(un.pc*un.km/un.s,J_r_test_n)\n",
    "\n",
    "J_phi_test_m_pckms=(un.pc**2/un.s).to(un.pc*un.km/un.s,J_phi_test_m)\n",
    "J_theta_test_m_pckms=(un.pc**2/un.s).to(un.pc*un.km/un.s,J_theta_test_m)\n",
    "J_r_test_m_pckms=(un.pc**2/un.s).to(un.pc*un.km/un.s,J_r_test_m)\n",
    "\n",
    "J_phi_test_l_pckms=(un.pc**2/un.s).to(un.pc*un.km/un.s,J_phi_test_l)\n",
    "J_theta_test_l_pckms=(un.pc**2/un.s).to(un.pc*un.km/un.s,J_theta_test_l)\n",
    "J_r_test_l_pckms=(un.pc**2/un.s).to(un.pc*un.km/un.s,J_r_test_l)"
   ]
  },
  {
   "cell_type": "code",
   "execution_count": 13,
   "metadata": {
    "collapsed": false,
    "scrolled": false
   },
   "outputs": [
    {
     "data": {
      "text/plain": [
       "0.1144"
      ]
     },
     "execution_count": 13,
     "metadata": {},
     "output_type": "execute_result"
    }
   ],
   "source": [
    "r_3d[n]\n"
   ]
  },
  {
   "cell_type": "code",
   "execution_count": 14,
   "metadata": {
    "collapsed": false,
    "scrolled": false
   },
   "outputs": [
    {
     "name": "stderr",
     "output_type": "stream",
     "text": [
      "No traceback available to show.\n"
     ]
    }
   ],
   "source": [
    "%tb"
   ]
  },
  {
   "cell_type": "code",
   "execution_count": 15,
   "metadata": {
    "collapsed": false
   },
   "outputs": [
    {
     "name": "stdout",
     "output_type": "stream",
     "text": [
      "#785\t\tclass\t\t\tanalyticalfunc\n",
      "J_phi\t\t0.280971272176\t0.280971272176\n",
      "J_theta\t\t0.199198158959\t0.199198158959\n",
      "J_r\t\t4.719889271327673\t4.41597399177\n"
     ]
    }
   ],
   "source": [
    "print('#'+str(n)+'\\t\\tclass\\t\\t\\tanalyticalfunc\\nJ_phi\\t\\t'\n",
    "      +str(J_phi_n)+'\\t'+str(J_phi_test_n_pckms)\n",
    "      +'\\nJ_theta\\t\\t'+str(J_theta_n)+'\\t'\n",
    "      +str(J_theta_test_n_pckms)\n",
    "      +'\\nJ_r\\t\\t'+str(J_r_n)+'\\t'+str(J_r_test_n_pckms))"
   ]
  },
  {
   "cell_type": "code",
   "execution_count": 16,
   "metadata": {
    "collapsed": false
   },
   "outputs": [
    {
     "name": "stdout",
     "output_type": "stream",
     "text": [
      "#17916\t\tclass\t\t\tanalyticalfunc\n",
      "J_phi\t\t3.3910142878\t3.3910142878\n",
      "J_theta\t\t3.03980497032\t3.03980497032\n",
      "J_r\t\t0.010356538379652804\t0.00682896947476\n"
     ]
    }
   ],
   "source": [
    "print('#'+str(m)+'\\t\\tclass\\t\\t\\tanalyticalfunc\\nJ_phi\\t\\t'\n",
    "      +str(J_phi_m)+'\\t'+str(J_phi_test_m_pckms)\n",
    "      +'\\nJ_theta\\t\\t'+str(J_theta_m)+'\\t'\n",
    "      +str(J_theta_test_m_pckms)\n",
    "      +'\\nJ_r\\t\\t'+str(J_r_m)+'\\t'+str(J_r_test_m_pckms))"
   ]
  },
  {
   "cell_type": "code",
   "execution_count": 17,
   "metadata": {
    "collapsed": false
   },
   "outputs": [
    {
     "name": "stdout",
     "output_type": "stream",
     "text": [
      "#654919\t\tclass\t\t\tanalyticalfunc\n",
      "J_phi\t\t-36.5135359596\t-36.5135359596\n",
      "J_theta\t\t19.3553885549\t19.3553885549\n",
      "J_r\t\t9.891797543989687\t9.89151408309\n"
     ]
    }
   ],
   "source": [
    "print('#'+str(l)+'\\t\\tclass\\t\\t\\tanalyticalfunc\\nJ_phi\\t\\t'\n",
    "      +str(J_phi_l)+'\\t'+str(J_phi_test_l_pckms)\n",
    "      +'\\nJ_theta\\t\\t'+str(J_theta_l)+'\\t'\n",
    "      +str(J_theta_test_l_pckms)\n",
    "      +'\\nJ_r\\t\\t'+str(J_r_l)+'\\t'+str(J_r_test_l_pckms))"
   ]
  },
  {
   "cell_type": "code",
   "execution_count": 18,
   "metadata": {
    "collapsed": false
   },
   "outputs": [
    {
     "name": "stdout",
     "output_type": "stream",
     "text": [
      "-5.47990085752e-25 -5.84177091752e-25 -1.31952536147e-25\n"
     ]
    }
   ],
   "source": [
    "print(E_n,E_m,E_l)"
   ]
  },
  {
   "cell_type": "code",
   "execution_count": 19,
   "metadata": {
    "collapsed": false
   },
   "outputs": [
    {
     "name": "stdout",
     "output_type": "stream",
     "text": [
      "-6.94766109625e-25 -6.32657771492e-25 -1.6678099188e-25\n"
     ]
    }
   ],
   "source": [
    "print(pot_n,pot_m,pot_l)"
   ]
  },
  {
   "cell_type": "code",
   "execution_count": 20,
   "metadata": {
    "collapsed": true
   },
   "outputs": [],
   "source": [
    "#teste mit galpy actionisochrones\n"
   ]
  },
  {
   "cell_type": "code",
   "execution_count": 21,
   "metadata": {
    "collapsed": false
   },
   "outputs": [
    {
     "name": "stdout",
     "output_type": "stream",
     "text": [
      "(0.029302551153335948, 1.2262616819987164)\n",
      "0.1144\n"
     ]
    }
   ],
   "source": [
    "print(test.periapocenter(x[n],y[n],z[n],vx[n],vy[n],vz[n]))\n",
    "print(r_3d[n])"
   ]
  },
  {
   "cell_type": "code",
   "execution_count": 22,
   "metadata": {
    "collapsed": false
   },
   "outputs": [
    {
     "name": "stdout",
     "output_type": "stream",
     "text": [
      "(1.5561231478573037e-14, 1.097317663146784e-14, 6.2312356397448262e-15, 9.105658798039511e-15)\n",
      "1.55612314786e-14 9.10565879804e-15\n"
     ]
    }
   ],
   "source": [
    "print(test.angularmom(x[n],y[n],z[n],vx[n],vy[n],vz[n]))\n",
    "print(L_n,Lz_n)"
   ]
  },
  {
   "cell_type": "code",
   "execution_count": 23,
   "metadata": {
    "collapsed": false
   },
   "outputs": [
    {
     "name": "stdout",
     "output_type": "stream",
     "text": [
      "-5.40083830271e-25\n",
      "-5.47990085752e-25\n"
     ]
    }
   ],
   "source": [
    "print(test.energy(x[n],y[n],z[n],vx[n],vy[n],vz[n]))\n",
    "print(E_n)"
   ]
  },
  {
   "cell_type": "code",
   "execution_count": null,
   "metadata": {
    "collapsed": true
   },
   "outputs": [],
   "source": []
  }
 ],
 "metadata": {
  "kernelspec": {
   "display_name": "Python 3",
   "language": "python",
   "name": "python3"
  },
  "language_info": {
   "codemirror_mode": {
    "name": "ipython",
    "version": 3
   },
   "file_extension": ".py",
   "mimetype": "text/x-python",
   "name": "python",
   "nbconvert_exporter": "python",
   "pygments_lexer": "ipython3",
   "version": "3.4.3"
  }
 },
 "nbformat": 4,
 "nbformat_minor": 0
}
