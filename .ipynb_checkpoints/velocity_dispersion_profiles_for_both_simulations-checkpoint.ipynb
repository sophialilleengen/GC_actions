{
 "cells": [
  {
   "cell_type": "markdown",
   "metadata": {},
   "source": [
    "$\\sigma_i^2=\\left\\langle(v_i-\\langle v_i\\rangle)^2\\right\\rangle=\\left\\langle v_i^2-\\langle v_i\\rangle^2\\right\\rangle$\n",
    "2ter Term entspricht np.std()^2"
   ]
  },
  {
   "cell_type": "code",
   "execution_count": 1,
   "metadata": {
    "collapsed": false
   },
   "outputs": [],
   "source": [
    "import numpy as np\n",
    "import matplotlib.pyplot as plt\n",
    "from scipy import stats\n",
    "import sys\n",
    "sys.path.insert(0, '/home/sophia/bachelor_thesis_ipython_notebooks')\n",
    "\n",
    "from Paolo_class import GCphasespace\n",
    "\n",
    "%matplotlib inline"
   ]
  },
  {
   "cell_type": "code",
   "execution_count": 2,
   "metadata": {
    "collapsed": false
   },
   "outputs": [],
   "source": [
    "### import data of simulation w/ IMBH ###\n",
    "if 0:\n",
    "    r_3d,v_r,v_t,x,y,z,vx,vy,vz,vr,vtheta,vphi=np.loadtxt('C:\\\\Users\\Sophia Milanov\\Documents\\Bachelorarbeit\\data\\\\x-y-z.dat', usecols=(1,2,3,30,31,32,33,34,35,36,37,38), unpack=True)\n",
    "elif 1:\n",
    "    r_3d,v_r,v_t,x,y,z,vx,vy,vz,vr,vtheta,vphi=np.loadtxt('/home/sophia/Dokumente/Bachelorarbeit-2/x-y-z.dat', usecols=(1,2,3,30,31,32,33,34,35,36,37,38), unpack=True)\n",
    "else:\n",
    "    r_3d,v_r,v_t,x,y,z,vx,vy,vz,vr,vtheta,vphi=np.loadtxt('/home/milanov/Bachelorarbeit/x-y-z.dat', usecols=(1,2,3,30,31,32,33,34,35,36,37,38), unpack=True)"
   ]
  },
  {
   "cell_type": "code",
   "execution_count": 3,
   "metadata": {
    "collapsed": false
   },
   "outputs": [],
   "source": [
    "### import data of simulation w/o IMBH ###\n",
    "if 0:\n",
    "    r_3d_wo,m1_wo,m2_wo,x_wo,y_wo,z_wo,vx_wo,vy_wo,vz_wo=np.loadtxt('C:\\\\Users\\Sophia Milanov\\Documents\\Bachelorarbeit\\data\\\\x-y-z.dat', usecols=(1,9,10,30,31,32,33,34,35), unpack=True)\n",
    "elif 1:\n",
    "    r_3d_wo,x_wo,y_wo,z_wo,vx_wo,vy_wo,vz_wo,vr_wo,vtheta_wo,vphi_wo=np.loadtxt('/home/sophia/Dokumente/Bachelorarbeit-2/x-y-z_sophia_neu.dat', usecols=(1,29,30,31,32,33,34,35,36,37), unpack=True)\n",
    "else:\n",
    "    r_3d,m1,m2,x,y,z,vx,vy,vz=np.loadtxt('/home/milanov/Bachelorarbeit/x-y-z.dat', usecols=(1,9,10,30,31,32,33,34,35), unpack=True)"
   ]
  },
  {
   "cell_type": "code",
   "execution_count": 4,
   "metadata": {
    "collapsed": false
   },
   "outputs": [],
   "source": [
    "### initialize phasespcae objects ###\n",
    "bh=GCphasespace(r_3d,bin_num=50)\n",
    "wobh=GCphasespace(r_3d_wo,bin_num=50)"
   ]
  },
  {
   "cell_type": "code",
   "execution_count": 5,
   "metadata": {
    "collapsed": false
   },
   "outputs": [
    {
     "name": "stdout",
     "output_type": "stream",
     "text": [
      "2.08948 6.7517\n"
     ]
    }
   ],
   "source": [
    "### load half light and half mass radii for both simulations ###\n",
    "hmr_bh,hlr_bh,hmr_wo_bh,hlr_wo_bh=np.loadtxt('half_mass_and_half_light_radius')\n",
    "print(hlr_bh,hlr_wo_bh)"
   ]
  },
  {
   "cell_type": "code",
   "execution_count": 6,
   "metadata": {
    "collapsed": false
   },
   "outputs": [],
   "source": [
    "### calculates mean distance, velocity dispersion and anisotropy parameter ###\n",
    "R_bh=bh.mean_distance(r_3d)\n",
    "vel_disp_bh=bh.velocity_dispersion(vr,vtheta,vphi)\n",
    "beta_bh=bh.anisotropy_param(vr,vtheta,vphi)\n",
    "\n",
    "R_wobh=wobh.mean_distance(r_3d_wo)\n",
    "vel_disp_wobh=wobh.velocity_dispersion(vr_wo,vtheta_wo,vphi_wo)\n",
    "beta_wobh=wobh.anisotropy_param(vr_wo,vtheta_wo,vphi_wo)"
   ]
  },
  {
   "cell_type": "code",
   "execution_count": 7,
   "metadata": {
    "collapsed": true
   },
   "outputs": [],
   "source": [
    "### calculate distance over effective radius ###\n",
    "r_plot_bh=R_bh/hlr_bh\n",
    "r_plot_wobh= R_wobh/hlr_wo_bh"
   ]
  },
  {
   "cell_type": "code",
   "execution_count": 8,
   "metadata": {
    "collapsed": false
   },
   "outputs": [
    {
     "data": {
      "image/png": "[encoded data removed]",
      "text/plain": [
       "<matplotlib.figure.Figure at 0x7fb740884390>"
      ]
     },
     "metadata": {},
     "output_type": "display_data"
    }
   ],
   "source": [
    "### plots radial velocity dispersion ###\n",
    "\n",
    "fig = plt.figure(figsize=(5,4))\n",
    "ax1 = fig.add_subplot(111)\n",
    "ax2 = ax1.twiny()\n",
    "\n",
    "#ax1.grid(True)\n",
    "ax1.semilogx(r_plot_bh,vel_disp_bh[0],'b.',label='w/ IMBH')\n",
    "ax1.semilogx(r_plot_wobh,vel_disp_wobh[0],'r.',label='w/o IMBH')\n",
    "#ax1.errorbar(R,sigrad_r3d_neu,sigraderr,fmt='.')\n",
    "ax1.legend(loc=0,numpoints=1)\n",
    "ax1.set_xlim(0.4,100)\n",
    "ax1.set_xlabel('r/r$_\\mathrm{e}$',fontsize=14)\n",
    "ax1.set_ylabel('radial velocity dispersion [km/s]',fontsize=14)\n",
    "\n",
    "ax2.set_xlim((0.4/5000)*360*3600/(2*np.pi),(100./5000)*360*3600/(2*np.pi))\n",
    "ax2.set_xscale('log')\n",
    "ax2.set_xlabel('mean distance from center [arcsec]',fontsize=14)\n",
    "\n",
    "ax1.spines['top'].set_linewidth(1.5)\n",
    "ax1.spines['right'].set_linewidth(1.5)\n",
    "ax1.spines['bottom'].set_linewidth(1.5)\n",
    "ax1.spines['left'].set_linewidth(1.5)\n",
    "\n",
    "ax1.tick_params(length=8,width=1.5,labelsize=12)\n",
    "ax2.tick_params(length=8,width=1.5,labelsize=12)\n",
    "ax1.tick_params(which='minor',length=4,width=1.5)\n",
    "ax2.tick_params(which='minor',length=4,width=1.5)\n",
    "\n",
    "fig.tight_layout()\n",
    "plt.show()\n",
    "fig.savefig('Plots/radial_velocity_dispersion.pdf',format='pdf')"
   ]
  },
  {
   "cell_type": "code",
   "execution_count": 9,
   "metadata": {
    "collapsed": false
   },
   "outputs": [
    {
     "data": {
      "image/png": "[encoded data removed]",
      "text/plain": [
       "<matplotlib.figure.Figure at 0x7fb74c38bc88>"
      ]
     },
     "metadata": {},
     "output_type": "display_data"
    }
   ],
   "source": [
    "### plots azimuthal velocity dispersion ###\n",
    "\n",
    "fig = plt.figure(figsize=(5,4))\n",
    "ax1 = fig.add_subplot(111)\n",
    "#ax2 = ax1.twiny()\n",
    "#ax1.grid(True)\n",
    "\n",
    "ax1.semilogx(r_plot_bh,vel_disp_bh[1],'b.',label='w/ IMBH')\n",
    "ax1.semilogx(r_plot_wobh,vel_disp_wobh[1],'r.',label='w/o IMBH')\n",
    "\n",
    "ax1.legend(loc=0,numpoints=1)\n",
    "\n",
    "#ax1.errorbar(R,sigtheta_r3d,sigthetaerr,fmt='.')\n",
    "ax1.set_xlim(0.1,100)\n",
    "ax1.set_xlabel('r/r$_\\mathrm{e}$',fontsize=14)\n",
    "ax1.set_ylabel('azimuthal velocity dispersion [km/s]',fontsize=14)\n",
    "\n",
    "#ax2.set_xlim((0.1/5000)*360*3600/(2*np.pi),(100./5000)*360*3600/(2*np.pi))\n",
    "#ax2.set_xscale('log')\n",
    "#ax2.set_xlabel('mean distance from center [arcsec]',fontsize=14)\n",
    "\n",
    "ax1.spines['top'].set_linewidth(1.5)\n",
    "ax1.spines['right'].set_linewidth(1.5)\n",
    "ax1.spines['bottom'].set_linewidth(1.5)\n",
    "ax1.spines['left'].set_linewidth(1.5)\n",
    "\n",
    "ax1.tick_params(length=8,width=1.5,labelsize=12)\n",
    "#ax2.tick_params(length=8,width=1.5,labelsize=12)\n",
    "ax1.tick_params(which='minor',length=4,width=1.5)\n",
    "#ax2.tick_params(which='minor',length=4,width=1.5)\n",
    "fig.tight_layout()\n",
    "\n",
    "\n",
    "plt.show()\n",
    "fig.savefig('Plots/azimuthal_velocity_dispersion.pdf',format='pdf')"
   ]
  },
  {
   "cell_type": "code",
   "execution_count": 10,
   "metadata": {
    "collapsed": false
   },
   "outputs": [
    {
     "data": {
      "image/png": "[encoded data removed]",
      "text/plain": [
       "<matplotlib.figure.Figure at 0x7fb74c1d0748>"
      ]
     },
     "metadata": {},
     "output_type": "display_data"
    }
   ],
   "source": [
    "### plots polar velocity dispersion ###\n",
    "\n",
    "fig = plt.figure(figsize=(5,4))\n",
    "ax1 = fig.add_subplot(111)\n",
    "#ax2 = ax1.twiny()\n",
    "#ax1.grid(True)\n",
    "\n",
    "#ax1.semilogx(R,sigphi_r3d,'.')\n",
    "ax1.semilogx(r_plot_bh,vel_disp_bh[2],'b.',label='w/ IMH')\n",
    "ax1.semilogx(r_plot_wobh,vel_disp_wobh[2],'r.',label='w/o IMBH')\n",
    "#ax1.errorbar(R,sigphi_r3d,sigphierr,fmt='.')\n",
    "ax1.legend(loc=0,numpoints=1)\n",
    "\n",
    "ax1.set_xlim(0.1,100)\n",
    "ax1.set_xlabel('r/r$_\\mathrm{e}$',fontsize=14)\n",
    "ax1.set_ylabel('polar velocity dispersion [km/s]',fontsize=14)\n",
    "\n",
    "#ax2.set_xlim((0.1/5000)*360*3600/(2*np.pi),(100./5000)*360*3600/(2*np.pi))\n",
    "#ax2.set_xscale('log')\n",
    "#ax2.set_xlabel('mean distance from center [arcsec]',fontsize=14)\n",
    "\n",
    "ax1.spines['top'].set_linewidth(1.5)\n",
    "ax1.spines['right'].set_linewidth(1.5)\n",
    "ax1.spines['bottom'].set_linewidth(1.5)\n",
    "ax1.spines['left'].set_linewidth(1.5)\n",
    "\n",
    "ax1.tick_params(length=8,width=1.5,labelsize=12)\n",
    "#ax2.tick_params(length=8,width=1.5,labelsize=12)\n",
    "ax1.tick_params(which='minor',length=4,width=1.5)\n",
    "#ax2.tick_params(which='minor',length=4,width=1.5)\n",
    "fig.tight_layout()\n",
    "\n",
    "\n",
    "fig.savefig('Plots/polar_velocity_dispersion.pdf',format='pdf')"
   ]
  },
  {
   "cell_type": "markdown",
   "metadata": {},
   "source": [
    "Anisotropy parameter beta \n",
    "---\n",
    "$$\\beta\\equiv1-\\frac{\\sigma_\\theta^2+\\sigma_\\phi^2}{2\\sigma_r^2}$$\n",
    "\n",
    "Quelle: Binney&Tremaine 2008 eq. (4.61)"
   ]
  },
  {
   "cell_type": "code",
   "execution_count": 11,
   "metadata": {
    "collapsed": false
   },
   "outputs": [
    {
     "data": {
      "image/png": "[encoded data removed]",
      "text/plain": [
       "<matplotlib.figure.Figure at 0x7fb74c1520f0>"
      ]
     },
     "metadata": {},
     "output_type": "display_data"
    }
   ],
   "source": [
    "### plots anisotropy parameter beta ###\n",
    "\n",
    "fig = plt.figure(figsize=(5,4))\n",
    "ax1 = fig.add_subplot(111)\n",
    "#ax2 = ax1.twiny()\n",
    "\n",
    "#ax1.grid(True)\n",
    "\n",
    "ax1.plot(r_plot_bh,beta_bh,'b.',label='w/ IMBH')\n",
    "ax1.plot(r_plot_wobh,beta_wobh,'r.',label='w/o IMBH')\n",
    "ax1.set_xlabel('r/r$_\\mathrm{e}$',fontsize=14)\n",
    "ax1.set_ylabel('anisotropy parameter $\\\\beta$',fontsize=14)\n",
    "\n",
    "ax1.legend(loc=0,numpoints=1)\n",
    "\n",
    "#ax2.set_xlim((0./5000)*360*3600/(2*np.pi),(35./5000)*360*3600/(2*np.pi))\n",
    "#ax2.set_xlabel('mean distance from center [arcsec]',fontsize=14)\n",
    "\n",
    "ax1.spines['top'].set_linewidth(1.5)\n",
    "ax1.spines['right'].set_linewidth(1.5)\n",
    "ax1.spines['bottom'].set_linewidth(1.5)\n",
    "ax1.spines['left'].set_linewidth(1.5)\n",
    "\n",
    "ax1.tick_params(length=8,width=1.5,labelsize=12)\n",
    "#ax2.tick_params(length=8,width=1.5,labelsize=12)\n",
    "ax1.tick_params(which='minor',length=4,width=1.5)\n",
    "#ax2.tick_params(which='minor',length=4,width=1.5)\n",
    "fig.tight_layout()\n",
    "\n",
    "fig.savefig('Plots/anisotropy_parameter_beta.pdf', format='pdf')"
   ]
  },
  {
   "cell_type": "code",
   "execution_count": null,
   "metadata": {
    "collapsed": true
   },
   "outputs": [],
   "source": []
  },
  {
   "cell_type": "code",
   "execution_count": null,
   "metadata": {
    "collapsed": true
   },
   "outputs": [],
   "source": []
  },
  {
   "cell_type": "code",
   "execution_count": null,
   "metadata": {
    "collapsed": true
   },
   "outputs": [],
   "source": []
  }
 ],
 "metadata": {
  "kernelspec": {
   "display_name": "Python 3",
   "language": "python",
   "name": "python3"
  },
  "language_info": {
   "codemirror_mode": {
    "name": "ipython",
    "version": 3
   },
   "file_extension": ".py",
   "mimetype": "text/x-python",
   "name": "python",
   "nbconvert_exporter": "python",
   "pygments_lexer": "ipython3",
   "version": "3.4.3"
  }
 },
 "nbformat": 4,
 "nbformat_minor": 0
}
