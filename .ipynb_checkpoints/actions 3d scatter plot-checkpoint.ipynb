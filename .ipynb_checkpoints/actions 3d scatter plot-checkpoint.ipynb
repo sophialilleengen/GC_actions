{
 "cells": [
  {
   "cell_type": "code",
   "execution_count": 1,
   "metadata": {
    "collapsed": false
   },
   "outputs": [],
   "source": [
    "import numpy as  np\n",
    "import matplotlib.pyplot as plt\n",
    "from mpl_toolkits.mplot3d import Axes3D\n",
    "from matplotlib.colors import LogNorm\n",
    "import sys\n",
    "\n",
    "sys.path.insert(0, '/home/sophia/bachelor_thesis_ipython_notebooks')\n",
    "\n",
    "from GC_Orbit_class import GCorbit\n",
    "\n",
    "%matplotlib inline"
   ]
  },
  {
   "cell_type": "code",
   "execution_count": 2,
   "metadata": {
    "collapsed": false
   },
   "outputs": [],
   "source": [
    "#data: need actions J_r, J_phi, J_theta\n",
    "if 0:\n",
    "    r_3d,x,y,z,vx,vy,vz=np.loadtxt('C:\\\\Users\\Sophia Milanov\\Documents\\Bachelorarbeit\\data\\\\x-y-z.dat', usecols=(1,30,31,32,33,34,35), unpack=True)\n",
    "elif 1:\n",
    "    r_3d,x,y,z,vx,vy,vz=np.loadtxt('/home/sophia/Dokumente/Bachelorarbeit-2/x-y-z.dat', usecols=(1,30,31,32,33,34,35), unpack=True)\n",
    "else:\n",
    "    r_3d,x,y,z,vx,vy,vz=np.loadtxt('/home/milanov/Bachelorarbeit/x-y-z.dat', usecols=(1,30,31,32,33,34,35), unpack=True)"
   ]
  },
  {
   "cell_type": "code",
   "execution_count": 3,
   "metadata": {
    "collapsed": false,
    "scrolled": false
   },
   "outputs": [
    {
     "name": "stderr",
     "output_type": "stream",
     "text": [
      "/home/sophia/bachelor_thesis_ipython_notebooks/GC_Orbit_class.py:37: RuntimeWarning: divide by zero encountered in log\n",
      "  self.s=interpolate.InterpolatedUnivariateSpline(np.log(self._r_bin[:]),np.log(self._rho[:]))\n"
     ]
    }
   ],
   "source": [
    "r=np.logspace(0,100,100)\n",
    "b=1.\n",
    "b2=b**2\n",
    "z0=0\n",
    "r2= r**2.+z0**2.\n",
    "rb= np.sqrt(r2+b2)\n",
    "rho=(3.*(b+rb)*rb**2.-r2*(b+3.*rb))/rb**3./(b+rb)**3./4./np.pi\n",
    "\n",
    "test=GCorbit(r_pc=r,rho_Msunpc3=rho)"
   ]
  },
  {
   "cell_type": "code",
   "execution_count": 10,
   "metadata": {
    "collapsed": false
   },
   "outputs": [
    {
     "name": "stderr",
     "output_type": "stream",
     "text": [
      "/home/sophia/anaconda3/lib/python3.4/site-packages/scipy/optimize/minpack.py:237: RuntimeWarning: The iteration is not making good progress, as measured by the \n",
      "  improvement from the last ten iterations.\n",
      "  warnings.warn(msg, RuntimeWarning)\n",
      "/home/sophia/anaconda3/lib/python3.4/site-packages/scipy/integrate/quadpack.py:352: IntegrationWarning: The occurrence of roundoff error is detected, which prevents \n",
      "  the requested tolerance from being achieved.  The error may be \n",
      "  underestimated.\n",
      "  warnings.warn(msg, IntegrationWarning)\n"
     ]
    },
    {
     "name": "stdout",
     "output_type": "stream",
     "text": [
      "-0.00028343646372 nan 0.000511226299509\n"
     ]
    }
   ],
   "source": [
    "N=len(r_3d)\n",
    "\n",
    "J_phi=np.array(N)\n",
    "J_theta=np.array(N)\n",
    "J_r=np.array(N)\n",
    "\n",
    "for i in range(1):\n",
    "    (J_phi,J_theta,J_r)=test.actions(x=x[i],y=y[i],z=z[i],vx=vx[i],vy=vy[i],vz=vz[i],density=rho)\n",
    "print(J_phi,J_r,J_theta)"
   ]
  },
  {
   "cell_type": "code",
   "execution_count": null,
   "metadata": {
    "collapsed": false
   },
   "outputs": [],
   "source": [
    "fig = plt.figure(figsize=(8,8))\n",
    "ax = fig.add_subplot(111, projection='3d')\n",
    "ax.scatter(x,y,z) #zu testzwecken mit x,y,z; eigentlich J_phi,J_theta,J_r\n",
    "ax.set_xlabel(\"J_phi\") #einheit\n",
    "ax.set_ylabel('J_theta') #einheit\n",
    "ax.set_zlabel(\"J_r\") #einheit\n",
    "ax.set_title('actions')\n",
    "#fig.savefig('./Plots/action_scatter_3d')"
   ]
  },
  {
   "cell_type": "code",
   "execution_count": null,
   "metadata": {
    "collapsed": false
   },
   "outputs": [],
   "source": [
    "##### Versuch vom Triangle Plot\n",
    "\n",
    "fig,axes=plt.subplots(nrows=3,ncols=3,figsize=(15,15))\n",
    "n0, bins0, patches0=axes[0,0].hist(x,50) #J_phi\n",
    "n1, bins1, patches1=axes[1,1].hist(y,50) #J_theta\n",
    "n2, bins2, patches2=axes[2,2].hist(z,50) #J_r\n",
    "\n",
    "H0, xedges0, yedges0, img0 = axes[1,0].hist2d(x, y, bins=200, norm=LogNorm()) #J_phi,J_theta\n",
    "H1, xedges1, yedges1, img0 = axes[2,1].hist2d(y, z, bins=200, norm=LogNorm()) #J_theta, J_r\n",
    "H2, xedges2, yedges2, img0 = axes[2,0].hist2d(x, z, bins=200, norm=LogNorm()) #J_phi, J_r\n",
    "\n",
    "axes[0,1].axis('off')\n",
    "axes[0,2].axis('off')\n",
    "axes[1,2].axis('off')\n",
    "\n",
    "axes[2,0].set_xlabel('J$_\\phi$', fontsize=20)\n",
    "axes[2,1].set_xlabel('J$_\\\\theta$', fontsize=20)\n",
    "axes[2,2].set_xlabel('J$_r$', fontsize=20)\n",
    "axes[1,0].set_ylabel('J$_\\\\theta$', fontsize=20)\n",
    "axes[2,0].set_ylabel('J$_r$', fontsize=20)\n",
    "axes[0,0].set_ylabel('J$_\\phi$', fontsize=20)\n",
    "\n",
    "axes[1,0].set_aspect('equal')\n",
    "axes[2,0].set_aspect('equal')\n",
    "axes[2,1].set_aspect('equal')\n",
    "\n",
    "fig.subplots_adjust(hspace=0.1,wspace=0.1)"
   ]
  },
  {
   "cell_type": "markdown",
   "metadata": {},
   "source": [
    "anpassen:\n",
    "---\n",
    "\n",
    "-abstand der subplots\n",
    "\n",
    "-histogram grenzen\n",
    "\n",
    "-ticks\n",
    "\n",
    "-beschriftung der ticks\n"
   ]
  },
  {
   "cell_type": "code",
   "execution_count": null,
   "metadata": {
    "collapsed": false
   },
   "outputs": [],
   "source": [
    "print(len(vz))\n",
    "vz[0]"
   ]
  },
  {
   "cell_type": "code",
   "execution_count": null,
   "metadata": {
    "collapsed": true
   },
   "outputs": [],
   "source": []
  }
 ],
 "metadata": {
  "kernelspec": {
   "display_name": "Python 3",
   "language": "python",
   "name": "python3"
  },
  "language_info": {
   "codemirror_mode": {
    "name": "ipython",
    "version": 3
   },
   "file_extension": ".py",
   "mimetype": "text/x-python",
   "name": "python",
   "nbconvert_exporter": "python",
   "pygments_lexer": "ipython3",
   "version": "3.4.3"
  }
 },
 "nbformat": 4,
 "nbformat_minor": 0
}
