{
 "cells": [
  {
   "cell_type": "code",
   "execution_count": 1,
   "metadata": {
    "collapsed": true
   },
   "outputs": [],
   "source": [
    "import numpy as np\n",
    "import matplotlib.pyplot as plt\n",
    "from scipy import interpolate\n",
    "from scipy import constants as cs\n",
    "from astropy import units as un\n",
    "import sys\n",
    "sys.path.insert(0, '/home/sophia/bachelor_thesis_ipython_notebooks')\n",
    "\n",
    "from Paolo_class import GCphasespace\n",
    "from GC_Orbit_class import GCorbit\n",
    "\n",
    "%matplotlib inline"
   ]
  },
  {
   "cell_type": "code",
   "execution_count": 2,
   "metadata": {
    "collapsed": false
   },
   "outputs": [],
   "source": [
    "### import data of simulation with IMBH ###\n",
    "if 0:\n",
    "    r_3d,m1,m2,x,y,z=np.loadtxt('C:\\\\Users\\Sophia Milanov\\Documents\\Bachelorarbeit\\data\\\\x-y-z.dat', usecols=(1,9,10,30,31,32), unpack=True)\n",
    "elif 1:\n",
    "    r_3d,m1,m2,x,y,z=np.loadtxt('/home/sophia/Dokumente/Bachelorarbeit-2/x-y-z.dat', usecols=(1,9,10,30,31,32), unpack=True)\n",
    "else:\n",
    "    r_3d,m1,m2,x,y,z=np.loadtxt('/home/milanov/Bachelorarbeit/x-y-z.dat', usecols=(1,9,10,30,31,32), unpack=True)"
   ]
  },
  {
   "cell_type": "code",
   "execution_count": 3,
   "metadata": {
    "collapsed": true
   },
   "outputs": [],
   "source": [
    "### import data for simulation w/o IMBH ###\n",
    "if 0:\n",
    "    r_3d_wo,m1_wo,m2_wo,x_wo,y_wo,z_wo,vx_wo,vy_wo,vz_wo=np.loadtxt('C:\\\\Users\\Sophia Milanov\\Documents\\Bachelorarbeit\\data\\\\x-y-z.dat', usecols=(1,9,10,30,31,32,33,34,35), unpack=True)\n",
    "elif 1:\n",
    "    r_3d_wo,m1_wo,m2_wo,x_wo,y_wo,z_wo=np.loadtxt('/home/sophia/Dokumente/Bachelorarbeit-2/x-y-z_sophia_neu.dat', usecols=(1,9,10,29,30,31), unpack=True)\n",
    "else:\n",
    "    r_3d,m1,m2,x,y,z,vx,vy,vz=np.loadtxt('/home/milanov/Bachelorarbeit/x-y-z.dat', usecols=(1,9,10,30,31,32,33,34,35), unpack=True)"
   ]
  },
  {
   "cell_type": "code",
   "execution_count": 4,
   "metadata": {
    "collapsed": true
   },
   "outputs": [],
   "source": [
    "### initialize phasespace objects ###\n",
    "wobh=GCphasespace(r_3d_wo,bin_num=20)\n",
    "bh=GCphasespace(r_3d,bin_num=20)\n"
   ]
  },
  {
   "cell_type": "code",
   "execution_count": 5,
   "metadata": {
    "collapsed": true
   },
   "outputs": [],
   "source": [
    "### load half light and half mass radii for both simulations ###\n",
    "hmr_bh,hlr_bh,hmr_wo_bh,hlr_wo_bh=np.loadtxt('half_mass_and_half_light_radius')"
   ]
  },
  {
   "cell_type": "code",
   "execution_count": 6,
   "metadata": {
    "collapsed": false
   },
   "outputs": [],
   "source": [
    "### take IMBH out of data ###\n",
    "mges=np.sum(m1+m2)\n",
    "r3d0=r_3d[0]\n",
    "m10=m1[0]\n",
    "m20=m2[0]\n",
    "x0=x[0]\n",
    "y0=y[0]\n",
    "z0=z[0]\n",
    "\n",
    "r_3d=r_3d[1:]\n",
    "m1=m1[1:]\n",
    "m2=m2[1:]\n",
    "x=x[1:]\n",
    "y=y[1:]\n",
    "z=z[1:]"
   ]
  },
  {
   "cell_type": "code",
   "execution_count": 7,
   "metadata": {
    "collapsed": true
   },
   "outputs": [],
   "source": [
    "### calculate mean density and its mean radius and save them ###\n",
    "r_dens_bh,dens_bh=bh.density(r_3d,m1,m2,r_3d[300],np.max(r_3d),step=20) \n",
    "r_dens_wobh,dens_wobh=wobh.density(r_3d_wo,m1_wo,m2_wo,r_3d_wo[300],np.max(r_3d_wo),step=20) \n",
    "\n",
    "np.savetxt('densityfile.txt',(r_dens_bh,dens_bh))\n",
    "np.savetxt('densityfile_wobh.txt',(r_dens_wobh,dens_wobh))\n"
   ]
  },
  {
   "cell_type": "code",
   "execution_count": 8,
   "metadata": {
    "collapsed": true
   },
   "outputs": [],
   "source": [
    "### calculate distance over effective radius ###\n",
    "r_plot_bh=r_dens_bh/hlr_bh\n",
    "r_plot_wobh= r_dens_wobh/hlr_wo_bh"
   ]
  },
  {
   "cell_type": "code",
   "execution_count": 9,
   "metadata": {
    "collapsed": false
   },
   "outputs": [
    {
     "name": "stderr",
     "output_type": "stream",
     "text": [
      "/home/sophia/bachelor_thesis_ipython_notebooks/GC_Orbit_class.py:68: RuntimeWarning: overflow encountered in exp\n",
      "  density= np.exp(self.s(np.log(r)))\n"
     ]
    }
   ],
   "source": [
    "### initialize orbit objects ###\n",
    "orb_bh=GCorbit(inputfilename='densityfile.txt',bhmass_M_sun=m10+m20)\n",
    "orb_wobh=GCorbit(inputfilename='densityfile_wobh.txt')"
   ]
  },
  {
   "cell_type": "code",
   "execution_count": 10,
   "metadata": {
    "collapsed": true
   },
   "outputs": [],
   "source": [
    "### interpolate density ###\n",
    "intpol_dens_bh=orb_bh.density(r_3d)\n",
    "intpol_dens_wobh=orb_wobh.density(r_3d_wo)"
   ]
  },
  {
   "cell_type": "code",
   "execution_count": 11,
   "metadata": {
    "collapsed": false
   },
   "outputs": [
    {
     "data": {
      "image/png": "[encoded data removed]",
      "text/plain": [
       "<matplotlib.figure.Figure at 0x7f67186d0d68>"
      ]
     },
     "metadata": {},
     "output_type": "display_data"
    }
   ],
   "source": [
    "### plot both densities over r over effective radius ###\n",
    "fig = plt.figure(figsize=(5,4))\n",
    "ax1 = fig.add_subplot(111)\n",
    "#ax2 = ax1.twiny()\n",
    "\n",
    "ax1.loglog(r_plot_bh,dens_bh,'b.',label='w/ IMBH')\n",
    "ax1.loglog(r_plot_wobh,dens_wobh,'r.', label='w/o IMBH')\n",
    "ax1.legend(loc=0,numpoints=1)\n",
    "\n",
    "#ax1.set_xlim(0.01,100)\n",
    "#ax1.set_ylim(0.00001,1000000)\n",
    "ax1.set_xlabel('r/r$_\\mathrm{e}$',fontsize=14)\n",
    "ax1.set_ylabel('mass density [$\\mathrm{M}_\\odot/\\mathrm{pc}^2$]',fontsize=14)\n",
    "\n",
    "#ax2.set_xlim((0.01/5000)*360*3600/(2*np.pi),(100./5000)*360*3600/(2*np.pi)) #calculates x limits from parsec to arcsec\n",
    "#ax2.set_xscale('log')\n",
    "#ax2.set_xlabel('mean distance from center [arcsec]',fontsize=14)\n",
    "\n",
    "#fig.savefig('3d density profile numerical fit without imbh')\n",
    "ax1.spines['top'].set_linewidth(1.5)\n",
    "ax1.spines['right'].set_linewidth(1.5)\n",
    "ax1.spines['bottom'].set_linewidth(1.5)\n",
    "ax1.spines['left'].set_linewidth(1.5)\n",
    "\n",
    "ax1.tick_params(length=8,width=1.5,labelsize=12)\n",
    "#ax2.tick_params(length=8,width=1.5,labelsize=12)\n",
    "ax1.tick_params(which='minor',length=4,width=1.5)\n",
    "#ax2.tick_params(which='minor',length=4,width=1.5)\n",
    "fig.tight_layout()"
   ]
  },
  {
   "cell_type": "code",
   "execution_count": 12,
   "metadata": {
    "collapsed": false
   },
   "outputs": [
    {
     "data": {
      "image/png": "[encoded data removed]",
      "text/plain": [
       "<matplotlib.figure.Figure at 0x7f672b485c50>"
      ]
     },
     "metadata": {},
     "output_type": "display_data"
    }
   ],
   "source": [
    "### plot both densities and interpolations over r ###\n",
    "fig = plt.figure(figsize=(5,4))\n",
    "ax1 = fig.add_subplot(111)\n",
    "#ax2 = ax1.twiny()\n",
    "\n",
    "ax1.loglog(r_dens_bh,dens_bh,'b.',r_3d,intpol_dens_bh,label='w/ IMBH')\n",
    "ax1.loglog(r_dens_wobh,dens_wobh,'r.',r_3d_wo,intpol_dens_wobh, label='w/o IMBH')\n",
    "ax1.legend(loc=0,numpoints=1)\n",
    "\n",
    "#ax1.set_xlim(0.01,100)\n",
    "#ax1.set_ylim(0.00001,1000000)\n",
    "ax1.set_xlabel('mean distance to center[pc]',fontsize=14)\n",
    "ax1.set_ylabel('mass density [$\\mathrm{M}_\\odot/\\mathrm{pc}^2$]',fontsize=14)\n",
    "\n",
    "#ax2.set_xlim((0.01/5000)*360*3600/(2*np.pi),(100./5000)*360*3600/(2*np.pi)) #calculates x limits from parsec to arcsec\n",
    "#ax2.set_xscale('log')\n",
    "#ax2.set_xlabel('mean distance from center [arcsec]',fontsize=14)\n",
    "\n",
    "#fig.savefig('3d density profile numerical fit without imbh')\n",
    "ax1.spines['top'].set_linewidth(1.5)\n",
    "ax1.spines['right'].set_linewidth(1.5)\n",
    "ax1.spines['bottom'].set_linewidth(1.5)\n",
    "ax1.spines['left'].set_linewidth(1.5)\n",
    "\n",
    "ax1.tick_params(length=8,width=1.5,labelsize=12)\n",
    "#ax2.tick_params(length=8,width=1.5,labelsize=12)\n",
    "ax1.tick_params(which='minor',length=4,width=1.5)\n",
    "#ax2.tick_params(which='minor',length=4,width=1.5)\n",
    "fig.tight_layout()"
   ]
  },
  {
   "cell_type": "code",
   "execution_count": null,
   "metadata": {
    "collapsed": true
   },
   "outputs": [],
   "source": []
  }
 ],
 "metadata": {
  "kernelspec": {
   "display_name": "Python 3",
   "language": "python",
   "name": "python3"
  },
  "language_info": {
   "codemirror_mode": {
    "name": "ipython",
    "version": 3
   },
   "file_extension": ".py",
   "mimetype": "text/x-python",
   "name": "python",
   "nbconvert_exporter": "python",
   "pygments_lexer": "ipython3",
   "version": "3.4.3"
  }
 },
 "nbformat": 4,
 "nbformat_minor": 0
}
