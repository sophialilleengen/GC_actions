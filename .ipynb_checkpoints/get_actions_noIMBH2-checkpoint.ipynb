{
 "cells": [
  {
   "cell_type": "code",
   "execution_count": 1,
   "metadata": {
    "collapsed": false
   },
   "outputs": [],
   "source": [
    "import numpy as  np\n",
    "import matplotlib.pyplot as plt\n",
    "from mpl_toolkits.mplot3d import Axes3D\n",
    "from matplotlib.colors import LogNorm\n",
    "import sys\n",
    "\n",
    "from scipy import interpolate\n",
    "\n",
    "sys.path.insert(0, '/home/sophia/bachelor_thesis_ipython_notebooks')\n",
    "\n",
    "from GC_Orbit_class import GCorbit\n",
    "\n",
    "%matplotlib inline"
   ]
  },
  {
   "cell_type": "code",
   "execution_count": 2,
   "metadata": {
    "collapsed": false
   },
   "outputs": [],
   "source": [
    "#data: need actions J_r, J_phi, J_theta\n",
    "if 0:\n",
    "    r_3d,x,y,z,vx,vy,vz=np.loadtxt('C:\\\\Users\\Sophia Milanov\\Documents\\Bachelorarbeit\\data\\\\x-y-z.dat', usecols=(1,30,31,32,33,34,35), unpack=True)\n",
    "elif 1:\n",
    "    r_3d,x,y,z,vx,vy,vz=np.loadtxt('/home/sophia/Dokumente/Bachelorarbeit-2/x-y-z_noIMBH2.dat', usecols=(1,30,31,32,33,34,35), unpack=True)\n",
    "else:\n",
    "    r_3d,x,y,z,vx,vy,vz=np.loadtxt('/home/milanov/Bachelorarbeit/x-y-z.dat', usecols=(1,30,31,32,33,34,35), unpack=True)\n",
    "\n",
    "#r_3d0=r_3d[0]\n",
    "#x0=x[0]\n",
    "#y0=y[0]\n",
    "#z0=z[0]\n",
    "#vx0=vx[0]\n",
    "#vy0=vy[0]\n",
    "#vz0=vz[0]\n",
    "#r_3d=r_3d[1:]\n",
    "#x=x[1:]\n",
    "#y=y[1:]\n",
    "#z=z[1:]\n",
    "#vx=vx[1:]\n",
    "#vy=vy[1:]\n",
    "#vz=vz[1:]    "
   ]
  },
  {
   "cell_type": "code",
   "execution_count": 3,
   "metadata": {
    "collapsed": false,
    "scrolled": true
   },
   "outputs": [],
   "source": [
    "#r,rho=np.loadtxt('densityfile_noIMBH2.txt', usecols=(1,2), unpack=True)\n",
    "\n",
    "noIMBH_sample=GCorbit(inputfilename='densityfile_noIMBH2.txt')"
   ]
  },
  {
   "cell_type": "code",
   "execution_count": 4,
   "metadata": {
    "collapsed": false
   },
   "outputs": [],
   "source": [
    "n=len(x)\n",
    "\n",
    "\n",
    "J_phi=np.zeros(n)\n",
    "J_theta=np.zeros(n)\n",
    "J_r=np.zeros(n)"
   ]
  },
  {
   "cell_type": "code",
   "execution_count": 5,
   "metadata": {
    "collapsed": false
   },
   "outputs": [],
   "source": [
    "#k=1026694\n",
    "#L=bh_sample.angularmom(x[k],y[k],z[k],vx[k],vy[k],vz[k])[0]\n",
    "#E=bh_sample.energy(x[k],y[k],z[k],vx[k],vy[k],vz[k])\n",
    "#r=10.**(np.linspace(np.log10(0.00002),3.,10000))\n",
    "#print(bh_sample._periapocenter_aux(1e-7,E,L),bh_sample._periapocenter_aux(r_3d[k],E,L),bh_sample._periapocenter_aux(np.sqrt(x[k]**2+y[k]**2+z[k]**2),E,L),bh_sample._periapocenter_aux(np.max(bh_sample._r_bin)*1.03,E,L))\n",
    "#plt.loglog(r,np.abs(bh_sample._periapocenter_aux(r=r,E=E,L=L)))\n",
    "\n",
    "#print(r_3d[k],np.sqrt(x[k]**2+y[k]**2+z[k]**2))\n",
    "#plt.axvline(r_3d[k],color='r')\n",
    "#plt.axvline(bh_sample.periapocenter(r_3d[k],x[k],y[k],z[k],vx[k],vy[k],vz[k])[0], color='m')\n",
    "#plt.axvline(bh_sample.periapocenter(r_3d[k],x[k],y[k],z[k],vx[k],vy[k],vz[k])[1], color='black')\n"
   ]
  },
  {
   "cell_type": "code",
   "execution_count": 6,
   "metadata": {
    "collapsed": false
   },
   "outputs": [
    {
     "name": "stderr",
     "output_type": "stream",
     "text": [
      "/home/sophia/bachelor_thesis_ipython_notebooks/GC_Orbit_class.py:414: RuntimeWarning: invalid value encountered in sqrt\n",
      "  return np.sqrt(2.*E-2.*pot-L**2./r**2.) #[pc²/s²]\n",
      "/home/sophia/anaconda3/lib/python3.4/site-packages/scipy/integrate/quadpack.py:352: IntegrationWarning: The occurrence of roundoff error is detected, which prevents \n",
      "  the requested tolerance from being achieved.  The error may be \n",
      "  underestimated.\n",
      "  warnings.warn(msg, IntegrationWarning)\n",
      "/home/sophia/anaconda3/lib/python3.4/site-packages/scipy/integrate/quadpack.py:352: IntegrationWarning: The maximum number of subdivisions (50) has been achieved.\n",
      "  If increasing the limit yields no improvement it is advised to analyze \n",
      "  the integrand in order to determine the difficulties.  If the position of a \n",
      "  local difficulty can be determined (singularity, discontinuity) one will \n",
      "  probably gain from splitting up the interval and calling the integrator \n",
      "  on the subranges.  Perhaps a special-purpose integrator should be used.\n",
      "  warnings.warn(msg, IntegrationWarning)\n",
      "/home/sophia/anaconda3/lib/python3.4/site-packages/scipy/integrate/quadpack.py:352: IntegrationWarning: Extremely bad integrand behavior occurs at some points of the\n",
      "  integration interval.\n",
      "  warnings.warn(msg, IntegrationWarning)\n"
     ]
    }
   ],
   "source": [
    "for i in range(n):\n",
    "    J_r[i]=noIMBH_sample._J_r(r=r_3d[i],x=x[i],y=y[i],z=z[i],vx=vx[i],vy=vy[i],vz=vz[i])\n"
   ]
  },
  {
   "cell_type": "code",
   "execution_count": 7,
   "metadata": {
    "collapsed": false
   },
   "outputs": [],
   "source": [
    "for i in range(n):\n",
    "    J_phi[i]=noIMBH_sample._J_phi(x=x[i],y=y[i],z=z[i],vx=vx[i],vy=vy[i],vz=vz[i])"
   ]
  },
  {
   "cell_type": "code",
   "execution_count": 9,
   "metadata": {
    "collapsed": false
   },
   "outputs": [],
   "source": [
    "for i in range(n):\n",
    "    J_theta[i]=noIMBH_sample._J_theta(x=x[i],y=y[i],z=z[i],vx=vx[i],vy=vy[i],vz=vz[i])\n"
   ]
  },
  {
   "cell_type": "code",
   "execution_count": 10,
   "metadata": {
    "collapsed": true
   },
   "outputs": [],
   "source": [
    "np.savetxt('../../sophia/Dokumente/Bachelorarbeit-2/actions_noIMBH2.txt',(r_3d,J_phi,J_theta,J_r))"
   ]
  },
  {
   "cell_type": "code",
   "execution_count": null,
   "metadata": {
    "collapsed": true
   },
   "outputs": [],
   "source": []
  }
 ],
 "metadata": {
  "kernelspec": {
   "display_name": "Python 3",
   "language": "python",
   "name": "python3"
  },
  "language_info": {
   "codemirror_mode": {
    "name": "ipython",
    "version": 3
   },
   "file_extension": ".py",
   "mimetype": "text/x-python",
   "name": "python",
   "nbconvert_exporter": "python",
   "pygments_lexer": "ipython3",
   "version": "3.4.3"
  }
 },
 "nbformat": 4,
 "nbformat_minor": 0
}
