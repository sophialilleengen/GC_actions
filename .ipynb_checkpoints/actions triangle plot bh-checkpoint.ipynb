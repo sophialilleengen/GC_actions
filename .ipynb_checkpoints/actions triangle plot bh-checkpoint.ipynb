{
 "cells": [
  {
   "cell_type": "code",
   "execution_count": 3,
   "metadata": {
    "collapsed": false
   },
   "outputs": [],
   "source": [
    "import numpy as  np\n",
    "import matplotlib.pyplot as plt\n",
    "from mpl_toolkits.mplot3d import Axes3D\n",
    "from matplotlib.colors import LogNorm\n",
    "import sys\n",
    "\n",
    "from scipy import interpolate\n",
    "\n",
    "sys.path.insert(0, '/home/sophia/bachelor_thesis_ipython_notebooks')\n",
    "\n",
    "from GC_Orbit_class import GCorbit\n",
    "\n",
    "%matplotlib inline"
   ]
  },
  {
   "cell_type": "code",
   "execution_count": 4,
   "metadata": {
    "collapsed": false
   },
   "outputs": [],
   "source": [
    "#data: need actions J_r, J_phi, J_theta\n",
    "if 0:\n",
    "    r_3d,x,y,z,vx,vy,vz=np.loadtxt('C:\\\\Users\\Sophia Milanov\\Documents\\Bachelorarbeit\\data\\\\x-y-z.dat', usecols=(1,30,31,32,33,34,35), unpack=True)\n",
    "elif 1:\n",
    "    r_3d,m1,m2,x,y,z,vx,vy,vz=np.loadtxt('/home/sophia/Dokumente/Bachelorarbeit-2/x-y-z.dat', usecols=(1,9,10,30,31,32,33,34,35), unpack=True)\n",
    "else:\n",
    "    r_3d,x,y,z,vx,vy,vz=np.loadtxt('/home/milanov/Bachelorarbeit/x-y-z.dat', usecols=(1,30,31,32,33,34,35), unpack=True)\n",
    "\n",
    "r_3d0=r_3d[0]\n",
    "x0=x[0]\n",
    "y0=y[0]\n",
    "z0=z[0]\n",
    "vx0=vx[0]\n",
    "vy0=vy[0]\n",
    "vz0=vz[0]\n",
    "r_3d=r_3d[1:]\n",
    "x=x[1:]\n",
    "y=y[1:]\n",
    "z=z[1:]\n",
    "vx=vx[1:]\n",
    "vy=vy[1:]\n",
    "vz=vz[1:]    "
   ]
  },
  {
   "cell_type": "code",
   "execution_count": 5,
   "metadata": {
    "collapsed": false,
    "scrolled": true
   },
   "outputs": [],
   "source": [
    "r,rho=np.loadtxt('densityfile.txt', usecols=(1,2), unpack=True)\n",
    "\n",
    "bh_sample=GCorbit(inputfilename='densityfile.txt',bhmass_M_sun=np.sum(m1[0]+m2[0]))"
   ]
  },
  {
   "cell_type": "code",
   "execution_count": 6,
   "metadata": {
    "collapsed": false
   },
   "outputs": [],
   "source": [
    "ni=1000\n",
    "J_phi=np.zeros(ni)\n",
    "J_theta=np.zeros(ni)\n",
    "J_r=np.zeros(ni)"
   ]
  },
  {
   "cell_type": "code",
   "execution_count": 7,
   "metadata": {
    "collapsed": false,
    "scrolled": false
   },
   "outputs": [
    {
     "name": "stdout",
     "output_type": "stream",
     "text": [
      "9.99999990986e+13 3.46768076531e-07 1.11022302463e-16\n",
      "1.87248 1.87247352174\n"
     ]
    },
    {
     "data": {
      "text/plain": [
       "<matplotlib.lines.Line2D at 0x7ff4a8ee0f60>"
      ]
     },
     "execution_count": 7,
     "metadata": {},
     "output_type": "execute_result"
    },
    {
     "data": {
      "image/png": "[encoded data removed]",
      "text/plain": [
       "<matplotlib.figure.Figure at 0x7ff4c2007128>"
      ]
     },
     "metadata": {},
     "output_type": "display_data"
    }
   ],
   "source": [
    "n=125170\n",
    "L=bh_sample.angularmom(x[n],y[n],z[n],vx[n],vy[n],vz[n])[0]\n",
    "E=bh_sample.energy(x[n],y[n],z[n],vx[n],vy[n],vz[n])\n",
    "r=10.**(np.linspace(np.log10(0.00002),3.,10000))\n",
    "print(bh_sample._periapocenter_aux(1e-7,E,L),bh_sample._periapocenter_aux(r_3d[n],E,L),bh_sample._periapocenter_aux(np.sqrt(x[n]**2+y[n]**2+z[n]**2),E,L))\n",
    "plt.loglog(r,np.abs(bh_sample._periapocenter_aux(r=r,E=E,L=L)))\n",
    "\n",
    "print(r_3d[n],np.sqrt(x[n]**2+y[n]**2+z[n]**2))\n",
    "plt.axvline(r_3d[n],color='r')\n",
    "plt.axvline(bh_sample.periapocenter(r_3d[n],x[n],y[n],z[n],vx[n],vy[n],vz[n])[0], color='m')\n",
    "plt.axvline(bh_sample.periapocenter(r_3d[n],x[n],y[n],z[n],vx[n],vy[n],vz[n])[1], color='black')\n"
   ]
  },
  {
   "cell_type": "code",
   "execution_count": 8,
   "metadata": {
    "collapsed": false
   },
   "outputs": [
    {
     "data": {
      "text/plain": [
       "1000"
      ]
     },
     "execution_count": 8,
     "metadata": {},
     "output_type": "execute_result"
    }
   ],
   "source": [
    "ni"
   ]
  },
  {
   "cell_type": "code",
   "execution_count": 9,
   "metadata": {
    "collapsed": false,
    "scrolled": false
   },
   "outputs": [],
   "source": [
    "for i in range(ni):\n",
    "    J_r[i]=bh_sample._J_r(r=r_3d[i],x=x[i],y=y[i],z=z[i],vx=vx[i],vy=vy[i],vz=vz[i])\n"
   ]
  },
  {
   "cell_type": "code",
   "execution_count": 10,
   "metadata": {
    "collapsed": false
   },
   "outputs": [],
   "source": [
    "for i in range(ni):\n",
    "    J_phi[i]=bh_sample._J_phi(x=x[i],y=y[i],z=z[i],vx=vx[i],vy=vy[i],vz=vz[i])"
   ]
  },
  {
   "cell_type": "code",
   "execution_count": 11,
   "metadata": {
    "collapsed": false
   },
   "outputs": [],
   "source": [
    "for i in range(ni):\n",
    "    J_theta[i]=bh_sample._J_theta(x=x[i],y=y[i],z=z[i],vx=vx[i],vy=vy[i],vz=vz[i])\n"
   ]
  },
  {
   "cell_type": "code",
   "execution_count": null,
   "metadata": {
    "collapsed": true
   },
   "outputs": [],
   "source": [
    "np.savetxt('actions_bh.txt',(r_3d,J_phi,J_theta,J_r))"
   ]
  },
  {
   "cell_type": "code",
   "execution_count": null,
   "metadata": {
    "collapsed": true
   },
   "outputs": [],
   "source": [
    "n=1000\n",
    "J_phi=np.zeros(n)\n",
    "J_theta=np.zeros(n)\n",
    "J_r=np.zeros(n)\n",
    "for i in range(n):\n",
    "    print(i)\n",
    "    J_phi[i]=test._J_phi(x=x[i],y=y[i],z=z[i],vx=vx[i],vy=vy[i],vz=vz[i])\n",
    "    J_theta[i]=test._J_theta(x=x[i],y=y[i],z=z[i],vx=vx[i],vy=vy[i],vz=vz[i])\n",
    "    J_r[i]=test._J_r(r=r_3d[i],x=x[i],y=y[i],z=z[i],vx=vx[i],vy=vy[i],vz=vz[i])\n",
    "#J_phi,J_theta,J_r=test.actions(x=x[n],y=y[n],z=z[n],vx=vx[n],vy=vy[n],vz=vz[n],density=test.density(r_3d[n]))\n",
    "#print(J_phi,J_r,J_theta)\n",
    "#J_r_new=np.nan_to_num(J_r)\n",
    "np.sum(np.isnan(J_r))\n",
    "#np.savetxt('actions.txt',(J_phi,J_theta,J_r))"
   ]
  },
  {
   "cell_type": "code",
   "execution_count": 12,
   "metadata": {
    "collapsed": false
   },
   "outputs": [
    {
     "name": "stdout",
     "output_type": "stream",
     "text": [
      "[  1.59787907e-01   2.95103308e-01   2.33956745e-01   1.11585558e-01\n",
      "   4.65715881e-01   1.62577641e-01   1.33411289e-01   2.63491335e-01\n",
      "   5.40725756e-02   7.46805978e-01   2.64170071e-01   6.69171442e-03\n",
      "   2.94887034e-01   3.31552657e-02   3.58792212e-01   1.52122090e-01\n",
      "   3.90330726e-01   3.38371876e-01   4.59480129e-01   4.07606070e-01\n",
      "   3.21678516e-01   3.45729890e-01   1.80102489e-01   4.54575254e-01\n",
      "   2.97484126e-01   1.52953117e-01   1.81101330e-01   6.05963025e-01\n",
      "   4.28997780e-03   9.60221231e-02   2.68899532e-01   2.16853960e-01\n",
      "   4.93656001e-01   7.44950400e-01   1.63056351e-01   2.20829382e-01\n",
      "   1.37632937e-01   7.03771305e-01   3.32449727e-01   3.44202622e-01\n",
      "   1.78957425e-02   6.97716771e-02   4.71471735e-01   1.32850601e-01\n",
      "   2.89275052e-01   8.11945338e-02   2.93409461e-01   7.39758577e-01\n",
      "   3.33487637e-01   4.63766663e-01   2.17728149e-02   2.30560446e-01\n",
      "   1.02307848e+00   5.16938889e-01   4.22405244e-01   5.07180720e-02\n",
      "   1.47744397e-02   8.13233070e-01   1.83667302e-01   5.59498764e-01\n",
      "   2.39216609e-01   4.09591069e-01   2.07652240e-01   9.00120397e-02\n",
      "   4.37920859e-01   2.90536067e-01   5.28726272e-01   6.61962930e-02\n",
      "   1.06047190e-01   3.31462240e-01   1.02808975e-01   1.32905450e-01\n",
      "   5.40895749e-01   1.59639137e-01   2.96796585e-01   1.64855709e-01\n",
      "   2.61041428e-01   3.23474358e-01   8.08383411e-01   5.51331319e-02\n",
      "   7.91715975e-01   4.59200981e-01   7.28481338e-01   6.33777070e-02\n",
      "   4.43891590e-01   1.16066999e-01   1.73617507e-01   7.36669360e-01\n",
      "   2.44137015e-01   2.02067919e-01   7.67293378e-01   3.52040003e-01\n",
      "   1.29122847e-02   9.23622406e-01   1.28665735e+00   3.60056830e-01\n",
      "   9.64962890e-01   6.00223164e-02   1.24257375e+00   1.86756265e-02\n",
      "   6.87611502e-01   7.49277542e-01   2.28648075e-01   1.23555064e+00\n",
      "   1.06259133e-01   2.08614495e-01   7.64263332e-04   4.92441092e-01\n",
      "   1.23261292e-01   3.07761584e-01   6.53767435e-02   1.74187933e-01\n",
      "   7.99594845e-01   1.99495395e-01   1.06773420e+00   4.16983680e-01\n",
      "   3.25434868e-01   4.40365639e-02   5.62533871e-02   1.36015299e-01\n",
      "   6.33966521e-01   8.39437034e-01   3.40712827e-01   6.36404599e-02\n",
      "   5.48588595e-01   7.12897934e-01   3.62905503e-01   1.02843951e+00\n",
      "   5.54707765e-01   2.04376592e-01   1.16919766e+00   5.81526433e-01\n",
      "   9.03606414e-01   7.95154953e-01   3.53847820e-01   9.07778308e-01\n",
      "   1.40145150e+00   8.67285924e-01   1.17077571e+00   8.78010070e-01\n",
      "   7.67526751e-01   7.30079587e-01   1.08912521e+00   9.11210515e-01\n",
      "   4.26491269e-01   5.28135724e-01   6.55737901e-01   2.98593444e-01\n",
      "   2.70060980e-01   4.05048372e-01   5.76018407e-01   1.68853278e+00\n",
      "   4.27533512e-01   4.39432565e-01   1.36319440e+00   9.07014320e-01\n",
      "   1.86157602e-01   4.17177873e-01   2.21501620e-01   2.52748646e-01\n",
      "   7.16094689e-01   4.27754913e-01   7.32044895e-01   1.49146406e-01\n",
      "   8.31484040e-01   6.84351399e-01   4.73163957e-01   3.21129591e-01\n",
      "   6.28335581e-02   1.18866932e-01   8.40054666e-01   2.92482988e-01\n",
      "   1.50790003e+00   4.82193318e-01   5.81022172e-01   2.46132764e-01\n",
      "   5.56088539e-01   2.42415603e-01   4.41154859e-01   7.73515975e-02\n",
      "   1.06417922e+00   4.75221192e-01   6.57577579e-02   8.78217505e-02\n",
      "   1.03048589e+00   7.41485867e-02   8.67230172e-01   9.52484480e-01\n",
      "   2.22660495e-02   3.18740941e-02   5.43015704e-01   3.48583156e-01\n",
      "   1.02457952e-01   1.09949654e+00   6.96737341e-01   1.16351684e-01\n",
      "   3.91706110e-01   2.02152444e-01   8.02106671e-02   1.41795140e+00\n",
      "   2.73059688e-02   4.19973364e-01   8.91102770e-01   1.19763869e+00\n",
      "   1.76925822e-01   1.13737925e+00   5.75388815e-01   8.07209703e-01\n",
      "   1.14189468e+00   9.53586939e-01   2.85781780e-02   8.73509670e-01\n",
      "   2.81280936e-01   1.39457016e+00   1.91231371e-01   6.19992344e-01\n",
      "   1.01671463e+00   5.57850919e-02   5.51292774e-01   3.67551242e-02\n",
      "   1.29542182e+00   5.72230815e-01   9.66663444e-01   4.18885889e-01\n",
      "   6.77964968e-03   1.63465450e-01   1.47231394e+00   6.58240390e-01\n",
      "   7.18263186e-01   2.80710408e-02   9.26923896e-01   2.94290077e-02\n",
      "   9.56872135e-02   6.58886070e-01   3.82791844e-02   4.01487968e-03\n",
      "   9.10856997e-02   5.73610154e-01   1.95491425e-01   6.57345434e-01\n",
      "   6.67801359e-01   3.32069945e-01   1.28200580e+00   9.49741841e-02\n",
      "   2.76596034e-01   2.47800041e-01   5.68203269e-01   1.43366738e+00\n",
      "   3.98518749e-01   4.23958462e-01   1.50851833e+00   7.25538952e-01\n",
      "   9.27805090e-01   1.03725846e+00   4.07448146e-01   6.87892669e-01\n",
      "   1.29058819e+00   1.54407544e+00   6.59738096e-01   5.57986322e-01\n",
      "   1.23046671e+00   1.30326882e+00   7.75551430e-01   2.37323515e-01\n",
      "   5.21043013e-01   3.71816683e-01   2.02343804e-01   8.62663572e-01\n",
      "   3.36744646e-01   1.59177931e+00   1.22114999e+00   2.95500223e-01\n",
      "   8.90710443e-01   7.58396841e-01   9.47791659e-02   1.73199730e+00\n",
      "   2.78883478e-01   1.06605406e-01   7.41486265e-01   4.36765911e-02\n",
      "   1.02933948e+00   7.13847921e-01   1.20773022e+00   3.18325962e-01\n",
      "   3.04802515e-01   1.33548211e-01   8.28254745e-01   9.70520160e-01\n",
      "   3.97216207e-01   3.53336906e-01   9.65311276e-01   1.30784640e+00\n",
      "   1.12233436e+00   1.52229098e+00   1.15640985e+00   1.92278243e-01\n",
      "   1.83248074e+00   8.13208382e-01   1.90708614e-01   1.30511868e+00\n",
      "   1.80223512e+00   2.12915797e-02   2.50848765e-02   5.49017395e-01\n",
      "   2.37838003e-01   7.88100019e-01   2.96171879e-01   5.94715646e-01\n",
      "   1.88472388e+00   1.04097951e+00   3.01944221e-01   6.49462892e-01\n",
      "   1.44409890e+00   2.02213366e-01   7.00713045e-01   1.51709574e+00\n",
      "   1.35904455e+00   4.53153515e-01   2.13691050e+00   3.65062387e-01\n",
      "   8.82649002e-01   5.23924426e-01   6.47604527e-01   6.16458729e-01\n",
      "   7.98604659e-02   4.41278314e-01   3.75363022e-01   9.12955814e-02\n",
      "   1.07566096e+00   1.34248773e+00   1.21642229e-03   8.81304213e-01\n",
      "   8.16853725e-01   5.22213501e-01   1.35486370e+00   4.52728029e-01\n",
      "   1.15805917e+00   2.27160282e+00   2.75931933e-01   1.52423959e+00\n",
      "   1.39219179e+00   3.43866783e-01   3.42122070e-01   1.92178520e-01\n",
      "   5.41247976e-01   7.28918125e-03   1.19742523e+00   1.23840113e+00\n",
      "   1.28780392e+00   3.29381379e-01   2.94027819e-01   5.40427475e-01\n",
      "   1.93077025e-01   2.29220238e-01   6.12125561e-03   3.82024749e-02\n",
      "   3.49153995e-01   7.01215785e-01   1.14264399e+00   5.99639258e-01\n",
      "   6.83915983e-01   1.71705927e-01   1.12986933e+00   1.56863409e+00\n",
      "   2.11414592e-01   5.28509935e-01   1.56440223e+00   6.33732256e-01\n",
      "   7.30087401e-01   6.52781839e-01   6.41569339e-01   2.14458645e-01\n",
      "   6.28952038e-01   4.38205404e-02   4.58888518e-01   5.61736177e-01\n",
      "   8.70057011e-01   1.21686656e+00   5.07557692e-01   4.64694369e-01\n",
      "   1.68651805e+00   8.68262005e-01   5.50019821e-02   6.02563988e-01\n",
      "   1.16843820e-01   4.34312808e-01   2.69540511e-01   4.98304185e-02\n",
      "   3.07879039e-02   1.27269694e+00   2.42463667e-01   8.87435952e-01\n",
      "   1.14821250e-01   6.29559413e-02   1.80614426e-01   2.10272132e+00\n",
      "   7.16204134e-02   1.45731380e+00   4.63726590e-01   1.04156373e+00\n",
      "   3.59319239e-02   1.79208983e+00   4.59684081e-01   1.88721565e-01\n",
      "   1.13046647e-01   1.26487680e+00   4.84873932e-01   4.23150350e-01\n",
      "   1.98271892e-01   2.41267758e-01   6.61378588e-01   6.64081262e-01\n",
      "   8.36477148e-01   2.33254521e-01   1.54522049e+00   1.62548024e+00\n",
      "   8.00471767e-01   3.20723435e-01   5.40289419e-01   8.98793235e-01\n",
      "   8.53452938e-01   8.31779278e-02   1.10383038e+00   5.77098820e-01\n",
      "   1.41379439e+00   4.21639131e-01   8.84104368e-01   1.29296068e+00\n",
      "   2.74633993e-01   4.25767300e-01   1.06322425e+00   6.39724932e-01\n",
      "   2.04140547e+00   1.19688203e+00   2.00002264e-01   1.38687200e+00\n",
      "   8.43843748e-01   1.67491102e-01   7.76998565e-01   2.64958437e+00\n",
      "   8.20957704e-01   6.97952718e-01   1.47164918e+00   8.32633552e-01\n",
      "   4.69761139e-01   5.48136858e-02   6.63797326e-03   2.62350323e-01\n",
      "   1.09959331e+00   5.75302153e-01   9.22334434e-01   1.02514515e+00\n",
      "   6.14090360e-01   6.59032080e-01   7.31637604e-01   1.39095832e+00\n",
      "   9.13339899e-01   5.63664233e-01   3.45644864e-01   8.67826419e-01\n",
      "   2.58082867e-01   1.02530477e+00   8.32308491e-01   1.36317900e-01\n",
      "   2.16316084e+00   9.81896052e-01   1.27890223e+00   9.43763489e-01\n",
      "   4.79894149e-01   1.96741961e-02   3.66333230e-01   5.67887628e-01\n",
      "   2.17982870e+00   8.47690363e-01   2.46120282e+00   8.36039671e-01\n",
      "   6.08627973e-01   8.60752519e-01   1.27671904e+00   8.77807643e-01\n",
      "   6.79887127e-01   1.79762699e-01   7.01933580e-01   1.34204090e+00\n",
      "   7.34827383e-01   6.20452644e-01   7.52369363e-01   1.90332340e+00\n",
      "   9.29182908e-01   4.04333183e-01   2.83810285e-02   1.52280693e+00\n",
      "   8.03813242e-02   3.05823037e-01   3.80760609e-01   3.90670962e-01\n",
      "   1.53268562e+00   2.34430899e+00   1.75629686e-01   1.90709131e+00\n",
      "   5.30775112e-01   7.88941742e-01   5.08826454e-01   5.48701953e-01\n",
      "   7.27200138e-01   2.43698339e+00   9.23319212e-02   8.79776456e-01\n",
      "   6.63912952e-01   6.30485632e-01   5.83698664e-01   2.04015619e-01\n",
      "   8.41969021e-01   5.58046600e-01   9.65896754e-01   2.79770187e-01\n",
      "   2.58293416e-02   9.97087283e-01   2.65075375e+00   2.36421082e-02\n",
      "   3.62509222e-01   2.24198572e+00   7.67843493e-02   8.80147455e-01\n",
      "   1.73796922e+00   4.17515922e-01   2.73923002e+00   1.44821691e+00\n",
      "   1.02757203e+00   5.22845182e-02   1.33808360e+00   2.58815903e-01\n",
      "   4.15577339e-01   2.00842251e+00   4.70024414e-01   9.28286154e-01\n",
      "   5.79081477e-01   1.24226407e+00   2.02186878e-01   2.18381965e-01\n",
      "   1.38000718e+00   2.21650829e-01   2.22471578e+00   1.39048775e+00\n",
      "   8.92543051e-01   2.87943402e-01   4.89303356e-01   2.52184525e-01\n",
      "   1.26470035e-01   9.62018807e-01   3.54671060e-01   5.97753792e-01\n",
      "   7.37870008e-01   2.11415376e-01   4.99141382e-01   4.63592522e-01\n",
      "   2.07753379e-01   1.30462855e+00   1.56008549e+00   2.46153824e-02\n",
      "   1.81415771e+00   5.55949800e-01   5.53055254e-01   6.43191742e-01\n",
      "   5.15815614e-01   1.85811249e+00   5.68731530e-01   3.56546161e-01\n",
      "   1.02056966e+00   1.24857415e+00   2.79820764e-01   5.92099903e-01\n",
      "   1.14897159e+00   5.37271898e-01   4.25438897e-01   2.29548283e+00\n",
      "   2.45983653e-01   4.79961534e-01   3.87436247e-01   8.00375527e-01\n",
      "   8.39685603e-01   1.78276746e+00   3.26839817e-01   1.62731641e+00\n",
      "   7.97859023e-01   2.72518576e+00   1.20054120e-01   1.09378501e-01\n",
      "   3.28170779e-01   3.39227242e-01   7.47113867e-01   7.79866839e-01\n",
      "   3.47070485e-01   1.36909854e+00   1.53120091e-01   2.61173448e-01\n",
      "   3.29473484e-01   9.34697226e-01   3.00447780e-02   6.16739144e-02\n",
      "   8.64244233e-01   3.66201009e-01   2.56576715e+00   1.27048167e+00\n",
      "   1.75098570e+00   3.48746309e-01   2.66713912e+00   1.07489942e+00\n",
      "   8.43784922e-02   7.25838603e-01   4.11916671e-01   2.55319475e-01\n",
      "   1.15071519e+00   4.73970564e-02   4.85392569e-01   9.21756323e-01\n",
      "   7.59726044e-02   1.14506657e+00   5.92876064e-01   1.60194044e+00\n",
      "   4.77210036e-01   9.97659221e-01   2.49359958e+00   3.54120863e-01\n",
      "   8.83753419e-01   1.95270348e-01   1.89492071e+00   7.77851126e-01\n",
      "   9.83512061e-01   3.53654723e-01   9.93093366e-01   4.00896565e-01\n",
      "   5.30205616e-02   1.34468173e+00   5.63608043e-01   1.84562598e+00\n",
      "   1.92047594e-01   6.75681669e-01   5.38798817e-01   8.78104789e-01\n",
      "   5.99550170e-01   2.41246360e-01   1.06758758e+00   8.91879345e-03\n",
      "   1.97357305e-01   1.55628581e-01   2.34181538e+00   1.31892473e+00\n",
      "   7.52182195e-01   3.81221085e-01   2.14005008e+00   8.35048293e-01\n",
      "   3.18898908e-01   1.40675072e+00   6.46857717e-01   4.96364605e-02\n",
      "   6.87968441e-01   1.82242754e+00   2.94141712e-02   1.24974196e+00\n",
      "   1.21947512e+00   1.15285237e+00   8.95503832e-01   2.07698505e+00\n",
      "   1.55659568e+00   1.54274238e+00   7.83488184e-01   1.70643058e+00\n",
      "   1.39818556e+00   1.05570073e+00   1.88431966e+00   6.09044440e-01\n",
      "   1.23652118e+00   8.61833284e-01   9.23399347e-01   7.18803953e-01\n",
      "   5.09570099e-01   2.59860040e+00   3.39174192e-01   2.39600680e+00\n",
      "   4.42914966e-01   6.78033333e-01   1.58390211e+00   1.80718155e+00\n",
      "   3.29312979e-02   6.51111423e-01   9.77824170e-01   1.81785671e-01\n",
      "   1.39702963e+00   1.21138546e+00   3.03412076e-02   1.39562939e+00\n",
      "   7.41911590e-01   2.33283985e-01   6.11732469e-01   2.17329429e+00\n",
      "   7.66337316e-01   2.34198178e+00   1.29399943e+00   6.82984700e-02\n",
      "   2.33336486e-02   6.55025065e-01   1.03090062e+00   2.41138907e+00\n",
      "   3.72029632e-01   1.92592343e-01   7.29600069e-01   7.92409412e-01\n",
      "   2.20582775e+00   1.87186038e+00   5.15333165e-01   1.52697574e-01\n",
      "   2.08298000e+00   1.75500547e+00   6.99034322e-01   7.47343353e-01\n",
      "   1.09492937e+00   9.94805981e-01   1.06855542e+00   6.12431949e-01\n",
      "   9.03768377e-01   1.06973143e+00   9.23192331e-01   5.20676937e-01\n",
      "   4.19584153e-01   8.91531777e-01   7.57495892e-01   1.29456913e+00\n",
      "   3.05609047e-02   2.69003003e+00   3.09735091e+00   1.46539142e+00\n",
      "   1.29037386e+00   1.42837816e+00   8.47990479e-01   2.31959787e+00\n",
      "   1.05338576e+00   1.34231237e+00   2.06734960e+00   6.75549470e-01\n",
      "   1.56117567e-01   6.72855261e-01   5.57595586e-01   1.77059308e+00\n",
      "   4.19065215e-01   2.41314849e+00   1.07766552e+00   1.82224042e+00\n",
      "   1.26354910e+00   5.08395778e-01   5.70990082e-01   1.09661473e+00\n",
      "   2.21200147e-01   4.97819776e-01   9.39634990e-01   8.62403225e-01\n",
      "   2.14520160e+00   3.41975305e-01   1.09588026e+00   2.40161409e+00\n",
      "   1.32714404e+00   2.61716120e+00   1.05944676e+00   1.64724338e+00\n",
      "   8.72351708e-01   1.49567500e+00   2.15913047e-01   2.86712879e+00\n",
      "   6.27217426e-01   7.85068949e-01   7.99583904e-01   2.53942081e+00\n",
      "   4.62983399e-01   8.52803339e-01   1.67153434e+00   7.33436133e-01\n",
      "   1.39758848e+00   1.27814010e+00   2.18636385e+00   1.93361239e+00\n",
      "   1.05751925e+00   8.67171121e-01   1.49220624e-01   6.72664132e-02\n",
      "   1.99198159e-01   2.33947165e-01   1.95535910e+00   5.53442595e-01\n",
      "   3.77005880e-01   2.25350585e+00   1.61231369e-01   8.20042403e-01\n",
      "   1.59321582e+00   2.25615707e+00   9.95609376e-01   1.23421972e+00\n",
      "   7.58508032e-01   2.50521064e+00   2.09974538e-01   9.55896368e-02\n",
      "   3.81503600e-01   9.47320046e-01   3.32318702e+00   1.41039862e+00\n",
      "   2.51550527e-01   1.20048392e+00   1.68838882e+00   1.96763797e-01\n",
      "   3.33206533e-01   1.06287439e-01   1.10294485e+00   1.89228373e+00\n",
      "   1.45995826e+00   4.81267921e-01   1.22157771e+00   1.60194013e+00\n",
      "   4.64557571e-01   1.35944113e+00   1.95882695e-01   6.53323580e-01\n",
      "   2.31209092e+00   9.10959225e-01   1.12829424e-01   1.24412075e+00\n",
      "   5.37369410e-01   6.31323431e-01   8.90545167e-01   2.88067047e-01\n",
      "   3.08253516e+00   1.48633233e+00   3.43400951e-02   1.25232052e+00\n",
      "   1.18296285e+00   2.73217007e-01   4.52962871e-02   1.07992722e+00\n",
      "   1.51438900e+00   4.43227856e-01   3.85129616e-01   5.67949992e-01\n",
      "   2.38960875e-01   5.69874219e-01   1.20141818e+00   8.49575452e-01\n",
      "   4.45170793e-01   1.01566465e-01   8.80384649e-01   4.78592761e-01\n",
      "   5.09054398e-01   4.91923235e-01   2.07228827e+00   2.39054300e-01\n",
      "   6.97833220e-01   1.47368653e+00   7.78834674e-01   8.03740301e-01\n",
      "   1.14359088e+00   8.69636779e-01   3.09081854e+00   3.87698128e+00\n",
      "   4.85605950e-02   8.52919812e-01   2.08532245e+00   7.71993065e-01\n",
      "   4.55841102e-01   1.29973668e+00   1.09828590e+00   1.96600059e+00\n",
      "   3.53057720e-02   9.82282634e-01   6.17588523e-01   3.19874250e-01\n",
      "   3.20746383e+00   1.36256280e+00   2.75315630e+00   2.54830548e-01\n",
      "   3.75073784e-01   5.37007953e-01   5.44961983e-01   6.28510602e-01\n",
      "   4.57125678e-01   5.69173566e-01   1.53493704e-01   6.91825190e-01\n",
      "   3.41997220e-01   9.42845448e-03   5.92445262e-01   1.43599819e+00\n",
      "   5.53306861e-02   1.84081712e+00   1.04551576e+00   2.77780412e-01\n",
      "   1.10086342e+00   9.84270405e-01   1.56332037e-02   2.39529067e+00\n",
      "   1.55057592e-01   3.76584058e+00   1.89313999e+00   9.89137403e-02\n",
      "   5.88137590e-01   1.87170532e+00   1.80001865e-01   9.45532669e-01\n",
      "   5.38087273e-01   3.63052463e+00   2.80059333e+00   2.36012366e+00\n",
      "   1.73693115e+00   1.54202162e+00   9.01212801e-01   1.55386807e-02\n",
      "   6.39820847e-01   2.49311622e+00   3.42093652e-03   8.91096676e-01\n",
      "   9.93140398e-01   1.85493273e-01   2.74822234e+00   7.74223681e-01\n",
      "   1.38410554e+00   4.26134849e-01   5.61548175e-01   1.85453280e+00\n",
      "   3.46908384e+00   1.03364072e+00   5.30658238e-01   8.12278015e-01\n",
      "   5.73338364e-01   1.55456798e+00   1.42251643e+00   4.00564342e-02\n",
      "   2.61893294e+00   1.66327716e+00   2.38338182e-01   2.30283958e+00\n",
      "   7.11185330e-01   1.72091923e+00   1.69695939e+00   6.45298248e-01\n",
      "   1.35070720e+00   2.34835656e-01   8.34177444e-01   5.43231648e-01\n",
      "   1.89029262e+00   3.72136882e-01   8.02423093e-01   2.47214868e-01\n",
      "   1.87792458e+00   3.43616770e-01   2.52250734e+00   1.67770378e+00\n",
      "   4.07572827e+00   1.38869962e+00   2.98653962e+00   2.20973879e-02\n",
      "   2.40684944e-01   4.86165963e-01   4.87570390e-02   1.11763212e+00\n",
      "   1.22295387e+00   2.37710616e-01   7.10009774e-01   3.46364003e-01\n",
      "   1.16767258e+00   9.52707945e-01   2.91372431e+00   3.75043989e-01\n",
      "   2.64662403e-01   4.39893852e-01   1.25064288e+00   2.60286745e-01\n",
      "   1.34521114e+00   1.80967997e+00   1.11852269e+00   4.40579021e-01\n",
      "   1.39299827e+00   1.85203166e+00   1.07737263e+00   8.52938936e-01\n",
      "   1.09601823e+00   3.45224301e-01   4.40631517e-01   4.34079823e-01\n",
      "   4.41594245e-01   1.06144458e+00   1.50185654e+00   3.19526165e+00\n",
      "   7.83486673e-01   1.44059550e+00   1.03132682e-01   3.36238430e+00\n",
      "   1.10835590e+00   4.80058951e-01   7.52059420e-01   2.18831977e+00\n",
      "   1.64300870e+00   2.86827052e+00   2.53830360e+00   6.50298907e-01]\n"
     ]
    }
   ],
   "source": [
    "print(J_theta)"
   ]
  },
  {
   "cell_type": "code",
   "execution_count": 13,
   "metadata": {
    "collapsed": false
   },
   "outputs": [],
   "source": [
    "#fig = plt.figure(figsize=(8,8))\n",
    "#ax = fig.add_subplot(111, projection='3d')\n",
    "#ax.scatter(x,y,z) #zu testzwecken mit x,y,z; eigentlich J_phi,J_theta,J_r\n",
    "#ax.set_xlabel(\"J_phi\") #einheit\n",
    "#ax.set_ylabel('J_theta') #einheit\n",
    "#ax.set_zlabel(\"J_r\") #einheit\n",
    "#ax.set_title('actions')\n",
    "#fig.savefig('./Plots/action_scatter_3d')"
   ]
  },
  {
   "cell_type": "code",
   "execution_count": 15,
   "metadata": {
    "collapsed": false
   },
   "outputs": [
    {
     "data": {
      "image/png": "[encoded data removed]",
      "text/plain": [
       "<matplotlib.figure.Figure at 0x7ff4c1e336a0>"
      ]
     },
     "metadata": {},
     "output_type": "display_data"
    }
   ],
   "source": [
    "##### Versuch vom Triangle Plot\n",
    "\n",
    "#optimal bin width: Scott's normal reference rule h=3.5*sigma/n^(1/3)\n",
    "\n",
    "#h_phi_1=np.std(J_phi)*3.5/(len(J_phi))**(1/3)\n",
    "#h_theta_1=np.std(J_theta)*3.5/(len(J_theta))**(1/3)\n",
    "#h_r_1=np.std(J_r)*3.5/(len(J_r))**(1/3)\n",
    "\n",
    "fig,axes=plt.subplots(nrows=3,ncols=3,figsize=(15,15))\n",
    "n0, bins0, patches0=axes[0,0].hist(J_phi,20,color='grey') \n",
    "n1, bins1, patches1=axes[1,1].hist(J_theta,20,color='grey') \n",
    "n2, bins2, patches2=axes[2,2].hist(J_r,20,color='grey') \n",
    "H0, xedges0, yedges0, img0 = axes[1,0].hist2d(J_phi, J_theta, bins=50,cmap='Greys') \n",
    "H1, xedges1, yedges1, img0 = axes[2,1].hist2d(J_theta, J_r, bins=50, cmap='Greys') \n",
    "H2, xedges2, yedges2, img0 = axes[2,0].hist2d(J_phi, J_r, bins=50,cmap='Greys') \n",
    "\n",
    "axes[0,1].axis('off')\n",
    "axes[0,2].axis('off')\n",
    "axes[1,2].axis('off')\n",
    "\n",
    "axes[2,0].set_xlabel('J$_\\phi$', fontsize=20)\n",
    "axes[2,1].set_xlabel('J$_\\\\theta$', fontsize=20)\n",
    "axes[2,2].set_xlabel('J$_r$', fontsize=20)\n",
    "axes[1,0].set_ylabel('J$_\\\\theta$', fontsize=20)\n",
    "axes[2,0].set_ylabel('J$_r$', fontsize=20)\n",
    "axes[0,0].set_ylabel('J$_\\phi$', fontsize=20)\n",
    "\n",
    "\n",
    "#fig.subplots_adjust(hspace=0.1,wspace=0.1)\n",
    "fig.tight_layout()\n",
    "#achsen genau übereinander\n"
   ]
  },
  {
   "cell_type": "markdown",
   "metadata": {},
   "source": [
    "anpassen:\n",
    "---\n",
    "-binwidth\n",
    "\n",
    "-histogram grenzen\n",
    "\n",
    "-ticks\n",
    "\n",
    "-beschriftung der ticks\n"
   ]
  },
  {
   "cell_type": "code",
   "execution_count": null,
   "metadata": {
    "collapsed": false
   },
   "outputs": [],
   "source": [
    "print(np.max(r_3d[0:5000]))"
   ]
  },
  {
   "cell_type": "code",
   "execution_count": null,
   "metadata": {
    "collapsed": true
   },
   "outputs": [],
   "source": [
    "#calculate half light radius"
   ]
  },
  {
   "cell_type": "code",
   "execution_count": null,
   "metadata": {
    "collapsed": false
   },
   "outputs": [],
   "source": [
    "np.sum(J_r)/(len(J_r))"
   ]
  },
  {
   "cell_type": "code",
   "execution_count": null,
   "metadata": {
    "collapsed": false
   },
   "outputs": [],
   "source": [
    "np.sum(J_phi)/(len(J_phi))"
   ]
  },
  {
   "cell_type": "code",
   "execution_count": null,
   "metadata": {
    "collapsed": false
   },
   "outputs": [],
   "source": [
    "np.sum(J_theta)/(len(J_theta))"
   ]
  },
  {
   "cell_type": "code",
   "execution_count": null,
   "metadata": {
    "collapsed": false
   },
   "outputs": [],
   "source": [
    "len(J_r)"
   ]
  },
  {
   "cell_type": "code",
   "execution_count": null,
   "metadata": {
    "collapsed": false
   },
   "outputs": [],
   "source": [
    "np.sum(r_3d[0:1000])/1000"
   ]
  },
  {
   "cell_type": "code",
   "execution_count": null,
   "metadata": {
    "collapsed": false
   },
   "outputs": [],
   "source": [
    "r_3d0"
   ]
  },
  {
   "cell_type": "code",
   "execution_count": null,
   "metadata": {
    "collapsed": true
   },
   "outputs": [],
   "source": [
    "#plot J_r changes with radius an dcomopare it to anisotropy profile"
   ]
  }
 ],
 "metadata": {
  "kernelspec": {
   "display_name": "Python 3",
   "language": "python",
   "name": "python3"
  },
  "language_info": {
   "codemirror_mode": {
    "name": "ipython",
    "version": 3
   },
   "file_extension": ".py",
   "mimetype": "text/x-python",
   "name": "python",
   "nbconvert_exporter": "python",
   "pygments_lexer": "ipython3",
   "version": "3.4.3"
  }
 },
 "nbformat": 4,
 "nbformat_minor": 0
}
