{
 "cells": [
  {
   "cell_type": "code",
   "execution_count": 1,
   "metadata": {
    "collapsed": true
   },
   "outputs": [],
   "source": [
    "### TO DO: ASK GLENN WHAT TO DO WITH INNER DENSITY ###"
   ]
  },
  {
   "cell_type": "code",
   "execution_count": 1,
   "metadata": {
    "collapsed": true
   },
   "outputs": [],
   "source": [
    "import numpy as np\n",
    "import matplotlib.pyplot as plt\n",
    "from scipy import interpolate\n",
    "from scipy import constants as cs\n",
    "from astropy import units as un\n",
    "import sys\n",
    "%matplotlib inline"
   ]
  },
  {
   "cell_type": "code",
   "execution_count": 2,
   "metadata": {
    "collapsed": false
   },
   "outputs": [],
   "source": [
    "if 0:\n",
    "    r_3d,m1,m2,x,y,z=np.loadtxt('C:\\\\Users\\Sophia Milanov\\Documents\\Bachelorarbeit\\data\\\\x-y-z_sophia.dat', usecols=(1,9,10,30,31,32), unpack=True)\n",
    "elif 1:\n",
    "    r_3d,m1,m2,x,y,z=np.loadtxt('/home/sophia/Dokumente/Bachelorarbeit-2/x-y-z_sophia_neu.dat', usecols=(1,9,10,29,30,31), unpack=True)\n",
    "else:\n",
    "    r_3d,m1,m2,x,y,z=np.loadtxt('/home/milanov/Bachelorarbeit/x-y-z_sophia.dat', usecols=(1,9,10,30,31,32), unpack=True)"
   ]
  },
  {
   "cell_type": "code",
   "execution_count": 3,
   "metadata": {
    "collapsed": false
   },
   "outputs": [
    {
     "name": "stdout",
     "output_type": "stream",
     "text": [
      "0.072748 0.82696 0.0 0.0487863 0.00944488 0.0531316\n",
      "0.072748 88.896\n"
     ]
    }
   ],
   "source": [
    "mges=np.sum(m1+m2)\n",
    "#r3d0=r_3d[0]\n",
    "#m10=m1[0]\n",
    "#m20=m2[0]\n",
    "#x0=x[0]\n",
    "#y0=y[0]\n",
    "#z0=z[0]\n",
    "\n",
    "#r_3d=r_3d[:]\n",
    "#m1=m1[1:]\n",
    "#m2=m2[1:]\n",
    "#x=x[1:]\n",
    "#y=y[1:]\n",
    "#z=z[1:]\n",
    "print(r_3d[0],m1[0],m2[0],x[0],y[0],z[0])\n",
    "print(np.min(r_3d),np.max(r_3d))"
   ]
  },
  {
   "cell_type": "code",
   "execution_count": 27,
   "metadata": {
    "collapsed": false
   },
   "outputs": [
    {
     "name": "stdout",
     "output_type": "stream",
     "text": [
      "[  0.3          0.45087742   0.67763483   1.01843415   1.53062987\n",
      "   2.3004215    3.45736037   5.19615242   7.80942601  11.73697953\n",
      "  17.63979686  26.51128705  39.8444691   59.88323821  90.        ] 0.407413033904 [-1.2039728  -0.79655977 -0.38914674  0.0182663   0.42567933  0.83309237\n",
      "  1.2405054   1.64791843  2.05533147  2.4627445   2.87015753  3.27757057\n",
      "  3.6849836   4.09239664  4.49980967]\n"
     ]
    }
   ],
   "source": [
    "r0=0.3\n",
    "step=14\n",
    "end=90\n",
    "stepsize=((np.log(end)-np.log(r0))/step)\n",
    "R=np.zeros(step)\n",
    "ee=(np.linspace(np.log(r0),np.log(end),step+1))\n",
    "r=np.exp(ee)\n",
    "r_i=r[:-1:]\n",
    "r_a=r[1::]\n",
    "binwidth=r_a-r_i\n",
    "r_error=binwidth/2\n",
    "print(r,stepsize,ee)"
   ]
  },
  {
   "cell_type": "code",
   "execution_count": 23,
   "metadata": {
    "collapsed": false
   },
   "outputs": [
    {
     "name": "stdout",
     "output_type": "stream",
     "text": [
      "[  0.3          0.45087742   0.67763483   1.01843415   1.53062987\n",
      "   2.3004215    3.45736037   5.19615242   7.80942601  11.73697953\n",
      "  17.63979686  26.51128705  39.8444691   59.88323821  90.        ] 0.17693723248 [-0.52287875 -0.34594151 -0.16900428  0.00793295  0.18487018  0.36180742\n",
      "  0.53874465  0.71568188  0.89261911  1.06955635  1.24649358  1.42343081\n",
      "  1.60036804  1.77730528  1.95424251]\n"
     ]
    }
   ],
   "source": [
    "\n",
    "r0=0.3\n",
    "step=14\n",
    "end=90\n",
    "stepsize=((np.log10(end)-np.log10(r0))/step)\n",
    "R=np.zeros(step)\n",
    "ee=(np.linspace(np.log10(r0),np.log10(end),step+1))\n",
    "r=10**ee\n",
    "r_i=r[:-1:]\n",
    "r_a=r[1::]\n",
    "binwidth=r_a-r_i\n",
    "r_error=binwidth/2\n",
    "print(r,stepsize,ee)\n",
    "\n",
    "a=[0:1000]\n",
    "r_a=r(a)"
   ]
  },
  {
   "cell_type": "code",
   "execution_count": 17,
   "metadata": {
    "collapsed": false,
    "scrolled": true
   },
   "outputs": [
    {
     "name": "stdout",
     "output_type": "stream",
     "text": [
      "0 203\n",
      "1 652\n",
      "2 1979\n",
      "3 5822\n",
      "4 14651\n",
      "5 32617\n",
      "6 58674\n",
      "7 83564\n",
      "8 92124\n",
      "9 78396\n",
      "10 52082\n",
      "11 29194\n",
      "12 14375\n",
      "13 4193\n"
     ]
    },
    {
     "data": {
      "text/plain": [
       "101"
      ]
     },
     "execution_count": 17,
     "metadata": {},
     "output_type": "execute_result"
    }
   ],
   "source": [
    "M = np.zeros(step)\n",
    "rho=np.zeros(step)\n",
    "\n",
    "for n in range(step):\n",
    "    inbin=(r_i[n]<r_3d) * (r_3d<=r_a[n]) #r_3d wird verwendet! creates boolean arrays with true values if star is in bin distance\n",
    "    print(n,np.sum(inbin))\n",
    "    M[n]=np.sum(m1[inbin])+np.sum(m2[inbin]) #mass array with both masses of binary system\n",
    "    rho[n]=M[n]/((r_a[n]**2-r_i[n]**2)*np.pi) #calculates density of bin\n",
    "    R[n]=np.mean(r_3d[inbin]) #calculates mean distance of bin\n",
    "    \n",
    "#extrabin am anfang\n",
    "M_extra=np.sum(m1[r_3d<r0])+np.sum(m2[r_3d<r0])\n",
    "rho_extra=M_extra/(r0**2*np.pi)\n",
    "R_extra=np.mean(r_3d[r_3d<r0])\n",
    "#einfuegen in bereits angefertigte arrays an erster Stelle\n",
    "M_final=np.insert(M,0,M_extra)\n",
    "rho_final=np.insert(rho,0,rho_extra)\n",
    "R_final=np.insert(R,0,R_extra)\n",
    "\n",
    "\n",
    "#rho_relerror=-2*r_error/R_final[1:]\n",
    "#rho_error=rho_relerror*rho_final[1:]\n",
    "\n",
    "s = interpolate.InterpolatedUnivariateSpline(np.log(R_final[:]), np.log(rho_final[:]))\n",
    "R_new=np.exp(np.linspace(-1,2,1000))\n",
    "rho_int=10**(s(np.log10(R_new)))\n",
    "\n",
    "\n",
    "np.savetxt('densityfile_wo_bh.txt',(R_final,rho_final))\n",
    "np.sum(r_3d<r0)"
   ]
  },
  {
   "cell_type": "code",
   "execution_count": null,
   "metadata": {
    "collapsed": true
   },
   "outputs": [],
   "source": [
    "0 203\n",
    "1 652\n",
    "2 1979\n",
    "3 5822\n",
    "4 14651\n",
    "5 32617\n",
    "6 58674\n",
    "7 83564\n",
    "8 92124\n",
    "9 78396\n",
    "10 52082\n",
    "11 29194\n",
    "12 14375\n",
    "13 4193\n",
    "\n",
    "1 101"
   ]
  },
  {
   "cell_type": "code",
   "execution_count": 13,
   "metadata": {
    "collapsed": false
   },
   "outputs": [
    {
     "data": {
      "image/png": "[encoded data removed]",
      "text/plain": [
       "<matplotlib.figure.Figure at 0x7fb0fe9176a0>"
      ]
     },
     "metadata": {},
     "output_type": "display_data"
    }
   ],
   "source": [
    "fig = plt.figure()\n",
    "ax1 = fig.add_subplot(111)\n",
    "ax2 = ax1.twiny()\n",
    "\n",
    "ax1.loglog(R_final,rho_final,'.')\n",
    "ax1.loglog(R_new,rho_int)\n",
    "#ax1.set_xlim(0.01,100)\n",
    "ax1.set_ylim(0.00001,1000000)\n",
    "ax1.set_xlabel('mean distance from center [pc]')\n",
    "ax1.set_ylabel('mass density of globular cluster[$M_\\odot/pc^2$]')\n",
    "\n",
    "\n",
    "\n",
    "ax2.set_xlim((0.01/5000)*360*3600/(2*np.pi),(100./5000)*360*3600/(2*np.pi)) #calculates x limits from parsec to arcsec\n",
    "ax2.set_xscale('log')\n",
    "ax2.set_xlabel('mean distance from center [arcsec]')\n",
    "\n",
    "#fig.savefig('3d density profile numerical fit without imbh')\n",
    "\n",
    "plt.show()\n"
   ]
  },
  {
   "cell_type": "markdown",
   "metadata": {
    "collapsed": true
   },
   "source": [
    "$\\Phi(r)=4\\pi G \\int_{r}^{\\infty}r''^2dr''\\int_{0}^{r}\\rho(r)r'^2dr'$\n",
    "\n",
    "vereinfacht wegen Kugelsymmetrie: $\\Phi(r)=-\\frac{G}{r}\\int_0^r{\\mathrm{d}M(r')}-G\\int_r^{\\infty}{\\frac{\\mathrm{d}M(r')}{r'}}=-4\\pi G\\left[\\frac{1}{r}\\int_0^r\\mathrm{d}r'r'^2\\rho(r')+\\int_r^{\\infty}\\mathrm{d}r'r'\\rho(r')\\right]$\n",
    "rechne mit $f(r')=\\rho(r')r'^2$ bzw. $f(r')=\\rho(r')r'$\n",
    "\n",
    "\n",
    "Gauss-Legendre quadrature\n",
    "\n",
    "$\\int_a^b f(x)dx = \\frac{b-a}{2}\\sum_{i=1}^n w_i f\\left(\\frac{b-a}{2}x_i+\\frac{a+b}{2}\\right)$\n",
    "\n",
    "damit $\\Phi(r)=-4\\pi G\\left[\\frac{1}{2}\\sum_{i=1}^n w_i\\left(\\frac{r}{2}x_i+\\frac{r}{2}\\right)^2\\rho\\left(\\frac{r}{2} x_i+\\frac{r}{2}\\right)+\\frac{\\infty-r}{2}\\sum_{i=1}^n w_i \\left(\\frac{\\infty-r}{2} x_i + \\frac{\\infty+r}{2}\\right)\\rho\\left(\\frac{\\infty-r}{2} x_i + \\frac{\\infty+r}{2}\\right)\\right]$"
   ]
  },
  {
   "cell_type": "code",
   "execution_count": null,
   "metadata": {
    "collapsed": true
   },
   "outputs": [],
   "source": []
  },
  {
   "cell_type": "code",
   "execution_count": 67,
   "metadata": {
    "collapsed": false
   },
   "outputs": [],
   "source": [
    "#G in pc^3/(M_sol*s^2)\n",
    "m_3=un.m*un.m*un.m/(un.kg*un.s*un.s)\n",
    "pc_3=un.pc**3/(un.solMass*un.s**2)\n",
    "G=m_3.to(pc_3,cs.G)"
   ]
  },
  {
   "cell_type": "code",
   "execution_count": 68,
   "metadata": {
    "collapsed": false
   },
   "outputs": [],
   "source": [
    "#einfach s(x) benutzen\n",
    "\n",
    "def potential(r,density,low=0.003,high=104.64,x_i=None,w_i=None):\n",
    "    sum1=np.zeros(n)\n",
    "    sum2=np.zeros(n)\n",
    "    if isinstance(r,np.ndarray):\n",
    "        return np.array([potential(rr,density,low=low,high=high,x_i=x_i,w_i=w_i) for rr in r])\n",
    "    else:\n",
    "        if r<low or r>high:\n",
    "            sys.exit(\"r is smaller or bigger than star boundaries\")\n",
    "        x1=((r-low)/2)*x_i+(r+low)/2\n",
    "        x2=((high-r)/2)*x_i+(high+r)/2\n",
    "        for i in range(n):\n",
    "            s1=density(x1[i])\n",
    "            s2=density(x2[i])\n",
    "            sum1[i]=(w_i[i]*x1[i]**2*s1)\n",
    "            sum2[i]=(w_i[i]*x2[i]*s2)\n",
    "        sum_1=np.sum(sum1)\n",
    "        sum_2=np.sum(sum2)\n",
    "        return -4*np.pi*G*((r-low)/(2*r)*sum_1+(high-r)/2*sum_2)\n",
    "    "
   ]
  },
  {
   "cell_type": "code",
   "execution_count": 69,
   "metadata": {
    "collapsed": false
   },
   "outputs": [],
   "source": [
    "def potential_bh(r):\n",
    "    return -G*(m10+m20)/r"
   ]
  },
  {
   "cell_type": "code",
   "execution_count": 71,
   "metadata": {
    "collapsed": false
   },
   "outputs": [],
   "source": [
    "#fuer w_i und x_i\n",
    "n=30 #ab n=100 wurde diese Methode nicht getestet\n",
    "x_i,w_i=np.polynomial.legendre.leggauss(n)\n",
    "r=np.linspace(0.004,100,1000)\n",
    "pot=potential(r,s,x_i=x_i,w_i=w_i)"
   ]
  },
  {
   "cell_type": "code",
   "execution_count": 72,
   "metadata": {
    "collapsed": false
   },
   "outputs": [],
   "source": [
    "s1 = interpolate.InterpolatedUnivariateSpline(r, pot)\n"
   ]
  },
  {
   "cell_type": "code",
   "execution_count": 73,
   "metadata": {
    "collapsed": false
   },
   "outputs": [
    {
     "data": {
      "text/plain": [
       "<matplotlib.text.Text at 0x7f5a58b0d358>"
      ]
     },
     "execution_count": 73,
     "metadata": {},
     "output_type": "execute_result"
    },
    {
     "data": {
      "image/png": "[encoded data removed]",
      "text/plain": [
       "<matplotlib.figure.Figure at 0x7f5a60f2e908>"
      ]
     },
     "metadata": {},
     "output_type": "display_data"
    }
   ],
   "source": [
    "plt.plot(r,pot,'r.',r,s1(r),'b-')\n",
    "#plt.xlim(0,120)\n",
    "#plt.ylim(-4.7e-19,-4.0e-19)\n",
    "plt.xlabel('r [pc]')\n",
    "plt.ylabel('$\\Phi\\ [pc^3/s^2]$')"
   ]
  },
  {
   "cell_type": "code",
   "execution_count": 14,
   "metadata": {
    "collapsed": true
   },
   "outputs": [
    {
     "name": "stdout",
     "output_type": "stream",
     "text": [
      "[ -4.68497129e-19  -4.68486157e-19  -4.68485942e-19  -4.68485868e-19\n",
      "  -4.68485831e-19  -4.68485808e-19  -4.68485794e-19  -4.68485783e-19\n",
      "  -4.68485775e-19  -4.68485769e-19  -4.68485763e-19  -4.68485759e-19\n",
      "  -4.68485756e-19  -4.68485753e-19  -4.68485750e-19  -4.68485748e-19\n",
      "  -4.68485746e-19  -4.68485745e-19  -4.68485743e-19  -4.68485742e-19\n",
      "  -4.68485741e-19  -4.68485739e-19  -4.68485738e-19  -4.68485738e-19\n",
      "  -4.68485737e-19  -4.68485736e-19  -4.68485735e-19  -4.68485734e-19\n",
      "  -4.68485734e-19  -4.68485733e-19  -4.68485733e-19  -4.68485732e-19\n",
      "  -4.68485732e-19  -4.68485731e-19  -4.68485731e-19  -4.68485730e-19\n",
      "  -4.68485730e-19  -4.68485730e-19  -4.68485729e-19  -4.68485729e-19\n",
      "  -4.68485729e-19  -4.68485728e-19  -4.68485728e-19  -4.68485728e-19\n",
      "  -4.68485728e-19  -4.68485727e-19  -4.68485727e-19  -4.68485727e-19\n",
      "  -4.68485727e-19  -4.68485727e-19  -4.68485727e-19  -4.68485726e-19\n",
      "  -4.68485726e-19  -4.68485726e-19  -4.68485726e-19  -4.68485726e-19\n",
      "  -4.68485726e-19  -4.68485726e-19  -4.68485725e-19  -4.68485725e-19\n",
      "  -4.68485725e-19  -4.68485725e-19  -4.68485725e-19  -4.68485725e-19\n",
      "  -4.68485724e-19  -4.68485724e-19  -4.68485724e-19  -4.68485724e-19\n",
      "  -4.68485723e-19  -4.68485723e-19  -4.68485722e-19  -4.68485722e-19\n",
      "  -4.68485721e-19  -4.68485721e-19  -4.68485720e-19  -4.68485719e-19\n",
      "  -4.68485719e-19  -4.68485718e-19  -4.68485717e-19  -4.68485715e-19\n",
      "  -4.68485714e-19  -4.68485713e-19  -4.68485711e-19  -4.68485709e-19\n",
      "  -4.68485708e-19  -4.68485706e-19  -4.68485703e-19  -4.68485701e-19\n",
      "  -4.68485698e-19  -4.68485696e-19  -4.68485693e-19  -4.68485689e-19\n",
      "  -4.68485686e-19  -4.68485682e-19  -4.68485678e-19  -4.68485674e-19\n",
      "  -4.68485669e-19  -4.68485664e-19  -4.68485659e-19  -4.68485653e-19\n",
      "  -4.68485647e-19  -4.68485640e-19  -4.68485633e-19  -4.68485626e-19\n",
      "  -4.68485618e-19  -4.68485609e-19  -4.68485601e-19  -4.68485591e-19\n",
      "  -4.68485581e-19  -4.68485571e-19  -4.68485560e-19  -4.68485548e-19\n",
      "  -4.68485535e-19  -4.68485522e-19  -4.68485508e-19  -4.68485494e-19\n",
      "  -4.68485479e-19  -4.68485463e-19  -4.68485446e-19  -4.68485428e-19\n",
      "  -4.68485409e-19  -4.68485390e-19  -4.68485369e-19  -4.68485348e-19\n",
      "  -4.68485325e-19  -4.68485302e-19  -4.68485277e-19  -4.68485251e-19\n",
      "  -4.68485224e-19  -4.68485196e-19  -4.68485167e-19  -4.68485136e-19\n",
      "  -4.68485104e-19  -4.68485071e-19  -4.68485036e-19  -4.68485000e-19\n",
      "  -4.68484962e-19  -4.68484923e-19  -4.68484882e-19  -4.68484840e-19\n",
      "  -4.68484796e-19  -4.68484750e-19  -4.68484702e-19  -4.68484653e-19\n",
      "  -4.68484602e-19  -4.68484548e-19  -4.68484493e-19  -4.68484436e-19\n",
      "  -4.68484377e-19  -4.68484315e-19  -4.68484251e-19  -4.68484185e-19\n",
      "  -4.68484117e-19  -4.68484047e-19  -4.68483973e-19  -4.68483898e-19\n",
      "  -4.68483820e-19  -4.68483739e-19  -4.68483655e-19  -4.68483569e-19\n",
      "  -4.68483480e-19  -4.68483388e-19  -4.68483293e-19  -4.68483195e-19\n",
      "  -4.68483094e-19  -4.68482989e-19  -4.68482882e-19  -4.68482771e-19\n",
      "  -4.68482656e-19  -4.68482538e-19  -4.68482417e-19  -4.68482292e-19\n",
      "  -4.68482163e-19  -4.68482030e-19  -4.68481894e-19  -4.68481753e-19\n",
      "  -4.68481609e-19  -4.68481460e-19  -4.68481307e-19  -4.68481150e-19\n",
      "  -4.68480988e-19  -4.68480821e-19  -4.68480651e-19  -4.68480475e-19\n",
      "  -4.68480295e-19  -4.68480109e-19  -4.68479919e-19  -4.68479723e-19\n",
      "  -4.68479523e-19  -4.68479317e-19  -4.68479106e-19  -4.68478889e-19\n",
      "  -4.68478666e-19  -4.68478438e-19  -4.68478204e-19  -4.68477964e-19\n",
      "  -4.68477718e-19  -4.68477466e-19  -4.68477207e-19  -4.68476942e-19\n",
      "  -4.68476671e-19  -4.68476393e-19  -4.68476108e-19  -4.68475816e-19\n",
      "  -4.68475517e-19  -4.68475211e-19  -4.68474898e-19  -4.68474578e-19\n",
      "  -4.68474250e-19  -4.68473914e-19  -4.68473570e-19  -4.68473219e-19\n",
      "  -4.68472860e-19  -4.68472492e-19  -4.68472116e-19  -4.68471731e-19\n",
      "  -4.68471338e-19  -4.68470937e-19  -4.68470526e-19  -4.68470106e-19\n",
      "  -4.68469677e-19  -4.68469239e-19  -4.68468791e-19  -4.68468334e-19\n",
      "  -4.68467867e-19  -4.68467390e-19  -4.68466902e-19  -4.68466405e-19\n",
      "  -4.68465897e-19  -4.68465378e-19  -4.68464849e-19  -4.68464309e-19\n",
      "  -4.68463757e-19  -4.68463195e-19  -4.68462621e-19  -4.68462035e-19\n",
      "  -4.68461438e-19  -4.68460828e-19  -4.68460207e-19  -4.68459573e-19\n",
      "  -4.68458927e-19  -4.68458268e-19  -4.68457596e-19  -4.68456911e-19\n",
      "  -4.68456213e-19  -4.68455501e-19  -4.68454776e-19  -4.68454037e-19\n",
      "  -4.68453284e-19  -4.68452517e-19  -4.68451735e-19  -4.68450939e-19\n",
      "  -4.68450128e-19  -4.68449302e-19  -4.68448460e-19  -4.68447604e-19\n",
      "  -4.68446731e-19  -4.68445843e-19  -4.68444939e-19  -4.68444018e-19\n",
      "  -4.68443081e-19  -4.68442127e-19  -4.68441156e-19  -4.68440168e-19\n",
      "  -4.68439163e-19  -4.68438140e-19  -4.68437099e-19  -4.68436040e-19\n",
      "  -4.68434962e-19  -4.68433866e-19  -4.68432752e-19  -4.68431618e-19\n",
      "  -4.68430465e-19  -4.68429292e-19  -4.68428100e-19  -4.68426888e-19\n",
      "  -4.68425655e-19  -4.68424402e-19  -4.68423128e-19  -4.68421833e-19\n",
      "  -4.68420517e-19  -4.68419179e-19  -4.68417819e-19  -4.68416438e-19\n",
      "  -4.68415033e-19  -4.68413607e-19  -4.68412157e-19  -4.68410684e-19\n",
      "  -4.68409188e-19  -4.68407668e-19  -4.68406124e-19  -4.68404556e-19\n",
      "  -4.68402963e-19  -4.68401345e-19  -4.68399702e-19  -4.68398034e-19\n",
      "  -4.68396340e-19  -4.68394620e-19  -4.68392873e-19  -4.68391100e-19\n",
      "  -4.68389300e-19  -4.68387473e-19  -4.68385618e-19  -4.68383736e-19\n",
      "  -4.68381825e-19  -4.68379886e-19  -4.68377917e-19  -4.68375920e-19\n",
      "  -4.68373894e-19  -4.68371837e-19  -4.68369751e-19  -4.68367634e-19\n",
      "  -4.68365486e-19  -4.68363307e-19  -4.68361097e-19  -4.68358855e-19\n",
      "  -4.68356581e-19  -4.68354275e-19  -4.68351936e-19  -4.68349563e-19\n",
      "  -4.68347157e-19  -4.68344718e-19  -4.68342244e-19  -4.68339735e-19\n",
      "  -4.68337192e-19  -4.68334613e-19  -4.68331999e-19  -4.68329349e-19\n",
      "  -4.68326662e-19  -4.68323939e-19  -4.68321178e-19  -4.68318380e-19\n",
      "  -4.68315545e-19  -4.68312670e-19  -4.68309758e-19  -4.68306806e-19\n",
      "  -4.68303815e-19  -4.68300784e-19  -4.68297712e-19  -4.68294600e-19\n",
      "  -4.68291447e-19  -4.68288253e-19  -4.68285017e-19  -4.68281739e-19\n",
      "  -4.68278418e-19  -4.68275054e-19  -4.68271646e-19  -4.68268195e-19\n",
      "  -4.68264699e-19  -4.68261158e-19  -4.68257573e-19  -4.68253942e-19\n",
      "  -4.68250264e-19  -4.68246540e-19  -4.68242770e-19  -4.68238952e-19\n",
      "  -4.68235086e-19  -4.68231172e-19  -4.68227209e-19  -4.68223197e-19\n",
      "  -4.68219136e-19  -4.68215025e-19  -4.68210863e-19  -4.68206650e-19\n",
      "  -4.68202385e-19  -4.68198069e-19  -4.68193700e-19  -4.68189279e-19\n",
      "  -4.68184804e-19  -4.68180275e-19  -4.68175692e-19  -4.68171054e-19\n",
      "  -4.68166361e-19  -4.68161612e-19  -4.68156807e-19  -4.68151945e-19\n",
      "  -4.68147026e-19  -4.68142049e-19  -4.68137014e-19  -4.68131920e-19\n",
      "  -4.68126767e-19  -4.68121554e-19  -4.68116281e-19  -4.68110946e-19\n",
      "  -4.68105551e-19  -4.68100093e-19  -4.68094573e-19  -4.68088991e-19\n",
      "  -4.68083344e-19  -4.68077634e-19  -4.68071859e-19  -4.68066019e-19\n",
      "  -4.68060113e-19  -4.68054141e-19  -4.68048102e-19  -4.68041996e-19\n",
      "  -4.68035822e-19  -4.68029579e-19  -4.68023268e-19  -4.68016887e-19\n",
      "  -4.68010435e-19  -4.68003913e-19  -4.67997320e-19  -4.67990654e-19\n",
      "  -4.67983917e-19  -4.67977106e-19  -4.67970221e-19  -4.67963262e-19\n",
      "  -4.67956228e-19  -4.67949119e-19  -4.67941934e-19  -4.67934672e-19\n",
      "  -4.67927332e-19  -4.67919915e-19  -4.67912419e-19  -4.67904844e-19\n",
      "  -4.67897189e-19  -4.67889454e-19  -4.67881638e-19  -4.67873740e-19\n",
      "  -4.67865760e-19  -4.67857697e-19  -4.67849550e-19  -4.67841319e-19\n",
      "  -4.67833003e-19  -4.67824601e-19  -4.67816114e-19  -4.67807539e-19\n",
      "  -4.67798877e-19  -4.67790127e-19  -4.67781287e-19  -4.67772358e-19\n",
      "  -4.67763339e-19  -4.67754229e-19  -4.67745028e-19  -4.67735734e-19\n",
      "  -4.67726347e-19  -4.67716867e-19  -4.67707292e-19  -4.67697622e-19\n",
      "  -4.67687856e-19  -4.67677994e-19  -4.67668034e-19  -4.67657977e-19\n",
      "  -4.67647821e-19  -4.67637566e-19  -4.67627210e-19  -4.67616754e-19\n",
      "  -4.67606196e-19  -4.67595536e-19  -4.67584773e-19  -4.67573906e-19\n",
      "  -4.67562934e-19  -4.67551857e-19  -4.67540675e-19  -4.67529385e-19\n",
      "  -4.67517988e-19  -4.67506482e-19  -4.67494868e-19  -4.67483143e-19\n",
      "  -4.67471308e-19  -4.67459362e-19  -4.67447303e-19  -4.67435131e-19\n",
      "  -4.67422846e-19  -4.67410446e-19  -4.67397930e-19  -4.67385299e-19\n",
      "  -4.67372550e-19  -4.67359684e-19  -4.67346698e-19  -4.67333594e-19\n",
      "  -4.67320369e-19  -4.67307023e-19  -4.67293556e-19  -4.67279965e-19\n",
      "  -4.67266251e-19  -4.67252413e-19  -4.67238449e-19  -4.67224359e-19\n",
      "  -4.67210142e-19  -4.67195798e-19  -4.67181324e-19  -4.67166721e-19\n",
      "  -4.67151988e-19  -4.67137124e-19  -4.67122127e-19  -4.67106997e-19\n",
      "  -4.67091734e-19  -4.67076335e-19  -4.67060801e-19  -4.67045130e-19\n",
      "  -4.67029322e-19  -4.67013376e-19  -4.66997290e-19  -4.66981064e-19\n",
      "  -4.66964696e-19  -4.66948187e-19  -4.66931535e-19  -4.66914739e-19\n",
      "  -4.66897798e-19  -4.66880711e-19  -4.66863478e-19  -4.66846097e-19\n",
      "  -4.66828568e-19  -4.66810889e-19  -4.66793059e-19  -4.66775078e-19\n",
      "  -4.66756945e-19  -4.66738658e-19  -4.66720217e-19  -4.66701621e-19\n",
      "  -4.66682868e-19  -4.66663959e-19  -4.66644891e-19  -4.66625663e-19\n",
      "  -4.66606276e-19  -4.66586727e-19  -4.66567016e-19  -4.66547141e-19\n",
      "  -4.66527103e-19  -4.66506899e-19  -4.66486529e-19  -4.66465992e-19\n",
      "  -4.66445286e-19  -4.66424411e-19  -4.66403365e-19  -4.66382148e-19\n",
      "  -4.66360758e-19  -4.66339195e-19  -4.66317458e-19  -4.66295544e-19\n",
      "  -4.66273454e-19  -4.66251187e-19  -4.66228740e-19  -4.66206113e-19\n",
      "  -4.66183306e-19  -4.66160316e-19  -4.66137143e-19  -4.66113786e-19\n",
      "  -4.66090243e-19  -4.66066514e-19  -4.66042598e-19  -4.66018492e-19\n",
      "  -4.65994197e-19  -4.65969711e-19  -4.65945033e-19  -4.65920162e-19\n",
      "  -4.65895097e-19  -4.65869836e-19  -4.65844378e-19  -4.65818723e-19\n",
      "  -4.65792869e-19  -4.65766815e-19  -4.65740559e-19  -4.65714102e-19\n",
      "  -4.65687441e-19  -4.65660575e-19  -4.65633503e-19  -4.65606225e-19\n",
      "  -4.65578738e-19  -4.65551041e-19  -4.65523134e-19  -4.65495016e-19\n",
      "  -4.65466684e-19  -4.65438138e-19  -4.65409377e-19  -4.65380399e-19\n",
      "  -4.65351203e-19  -4.65321788e-19  -4.65292153e-19  -4.65262296e-19\n",
      "  -4.65232216e-19  -4.65201913e-19  -4.65171384e-19  -4.65140629e-19\n",
      "  -4.65109645e-19  -4.65078433e-19  -4.65046991e-19  -4.65015316e-19\n",
      "  -4.64983409e-19  -4.64951268e-19  -4.64918892e-19  -4.64886278e-19\n",
      "  -4.64853427e-19  -4.64820336e-19  -4.64787005e-19  -4.64753432e-19\n",
      "  -4.64719615e-19  -4.64685554e-19  -4.64651247e-19  -4.64616693e-19\n",
      "  -4.64581890e-19  -4.64546838e-19  -4.64511534e-19  -4.64475977e-19\n",
      "  -4.64440167e-19  -4.64404101e-19  -4.64367779e-19  -4.64331199e-19\n",
      "  -4.64294359e-19  -4.64257259e-19  -4.64219896e-19  -4.64182270e-19\n",
      "  -4.64144379e-19  -4.64106221e-19  -4.64067796e-19  -4.64029102e-19\n",
      "  -4.63990137e-19  -4.63950901e-19  -4.63911390e-19  -4.63871605e-19\n",
      "  -4.63831544e-19  -4.63791206e-19  -4.63750588e-19  -4.63709689e-19\n",
      "  -4.63668509e-19  -4.63627045e-19  -4.63585296e-19  -4.63543261e-19\n",
      "  -4.63500938e-19  -4.63458325e-19  -4.63415422e-19  -4.63372226e-19\n",
      "  -4.63328737e-19  -4.63284952e-19  -4.63240871e-19  -4.63196491e-19\n",
      "  -4.63151812e-19  -4.63106831e-19  -4.63061548e-19  -4.63015960e-19\n",
      "  -4.62970066e-19  -4.62923865e-19  -4.62877354e-19  -4.62830534e-19\n",
      "  -4.62783401e-19  -4.62735954e-19  -4.62688193e-19  -4.62640114e-19\n",
      "  -4.62591718e-19  -4.62543001e-19  -4.62493963e-19  -4.62444602e-19\n",
      "  -4.62394916e-19  -4.62344904e-19  -4.62294564e-19  -4.62243894e-19\n",
      "  -4.62192894e-19  -4.62141561e-19  -4.62089893e-19  -4.62037890e-19\n",
      "  -4.61985548e-19  -4.61932868e-19  -4.61879847e-19  -4.61826483e-19\n",
      "  -4.61772775e-19  -4.61718721e-19  -4.61664320e-19  -4.61609569e-19\n",
      "  -4.61554468e-19  -4.61499014e-19  -4.61443205e-19  -4.61387041e-19\n",
      "  -4.61330519e-19  -4.61273638e-19  -4.61216396e-19  -4.61158791e-19\n",
      "  -4.61100822e-19  -4.61042486e-19  -4.60983782e-19  -4.60924709e-19\n",
      "  -4.60865264e-19  -4.60805446e-19  -4.60745253e-19  -4.60684684e-19\n",
      "  -4.60623736e-19  -4.60562408e-19  -4.60500697e-19  -4.60438603e-19\n",
      "  -4.60376124e-19  -4.60313257e-19  -4.60250001e-19  -4.60186354e-19\n",
      "  -4.60122314e-19  -4.60057880e-19  -4.59993049e-19  -4.59927820e-19\n",
      "  -4.59862191e-19  -4.59796160e-19  -4.59729725e-19  -4.59662885e-19\n",
      "  -4.59595637e-19  -4.59527980e-19  -4.59459912e-19  -4.59391431e-19\n",
      "  -4.59322534e-19  -4.59253221e-19  -4.59183490e-19  -4.59113338e-19\n",
      "  -4.59042763e-19  -4.58971764e-19  -4.58900338e-19  -4.58828485e-19\n",
      "  -4.58756201e-19  -4.58683485e-19  -4.58610336e-19  -4.58536750e-19\n",
      "  -4.58462726e-19  -4.58388263e-19  -4.58313358e-19  -4.58238009e-19\n",
      "  -4.58162214e-19  -4.58085972e-19  -4.58009280e-19  -4.57932137e-19\n",
      "  -4.57854539e-19  -4.57776486e-19  -4.57697976e-19  -4.57619006e-19\n",
      "  -4.57539574e-19  -4.57459678e-19  -4.57379317e-19  -4.57298488e-19\n",
      "  -4.57217189e-19  -4.57135419e-19  -4.57053174e-19  -4.56970454e-19\n",
      "  -4.56887256e-19  -4.56803577e-19  -4.56719416e-19  -4.56634772e-19\n",
      "  -4.56549641e-19  -4.56464021e-19  -4.56377911e-19  -4.56291308e-19\n",
      "  -4.56204211e-19  -4.56116617e-19  -4.56028524e-19  -4.55939930e-19\n",
      "  -4.55850832e-19  -4.55761230e-19  -4.55671119e-19  -4.55580500e-19\n",
      "  -4.55489368e-19  -4.55397722e-19  -4.55305561e-19  -4.55212880e-19\n",
      "  -4.55119680e-19  -4.55025957e-19  -4.54931709e-19  -4.54836933e-19\n",
      "  -4.54741629e-19  -4.54645793e-19  -4.54549423e-19  -4.54452517e-19\n",
      "  -4.54355074e-19  -4.54257089e-19  -4.54158562e-19  -4.54059491e-19\n",
      "  -4.53959872e-19  -4.53859703e-19  -4.53758983e-19  -4.53657709e-19\n",
      "  -4.53555879e-19  -4.53453490e-19  -4.53350540e-19  -4.53247027e-19\n",
      "  -4.53142949e-19  -4.53038303e-19  -4.52933086e-19  -4.52827298e-19\n",
      "  -4.52720935e-19  -4.52613994e-19  -4.52506474e-19  -4.52398373e-19\n",
      "  -4.52289687e-19  -4.52180415e-19  -4.52070554e-19  -4.51960102e-19\n",
      "  -4.51849056e-19  -4.51737414e-19  -4.51625174e-19  -4.51512333e-19\n",
      "  -4.51398888e-19  -4.51284839e-19  -4.51170181e-19  -4.51054912e-19\n",
      "  -4.50939031e-19  -4.50822534e-19  -4.50705420e-19  -4.50587685e-19\n",
      "  -4.50469327e-19  -4.50350345e-19  -4.50230735e-19  -4.50110494e-19\n",
      "  -4.49989621e-19  -4.49868113e-19  -4.49745967e-19  -4.49623182e-19\n",
      "  -4.49499753e-19  -4.49375680e-19  -4.49250958e-19  -4.49125587e-19\n",
      "  -4.48999563e-19  -4.48872883e-19  -4.48745546e-19  -4.48617548e-19\n",
      "  -4.48488888e-19  -4.48359562e-19  -4.48229567e-19  -4.48098902e-19\n",
      "  -4.47967564e-19  -4.47835550e-19  -4.47702858e-19  -4.47569484e-19\n",
      "  -4.47435427e-19  -4.47300683e-19  -4.47165250e-19  -4.47029126e-19\n",
      "  -4.46892307e-19  -4.46754792e-19  -4.46616577e-19  -4.46477660e-19\n",
      "  -4.46338037e-19  -4.46197708e-19  -4.46056668e-19  -4.45914915e-19\n",
      "  -4.45772446e-19  -4.45629259e-19  -4.45485351e-19  -4.45340720e-19\n",
      "  -4.45195361e-19  -4.45049274e-19  -4.44902454e-19  -4.44754900e-19\n",
      "  -4.44606608e-19  -4.44457576e-19  -4.44307801e-19  -4.44157280e-19\n",
      "  -4.44006011e-19  -4.43853990e-19  -4.43701215e-19  -4.43547683e-19\n",
      "  -4.43393392e-19  -4.43238337e-19  -4.43082518e-19  -4.42925930e-19\n",
      "  -4.42768571e-19  -4.42610438e-19  -4.42451528e-19  -4.42291839e-19\n",
      "  -4.42131367e-19  -4.41970110e-19  -4.41808065e-19  -4.41645228e-19\n",
      "  -4.41481598e-19  -4.41317171e-19  -4.41151943e-19  -4.40985913e-19\n",
      "  -4.40819078e-19  -4.40651434e-19  -4.40482978e-19  -4.40313708e-19\n",
      "  -4.40143620e-19  -4.39972712e-19  -4.39800981e-19  -4.39628423e-19\n",
      "  -4.39455036e-19  -4.39280817e-19  -4.39105763e-19  -4.38929870e-19\n",
      "  -4.38753136e-19  -4.38575558e-19  -4.38397132e-19  -4.38217857e-19\n",
      "  -4.38037727e-19  -4.37856742e-19  -4.37674897e-19  -4.37492189e-19\n",
      "  -4.37308616e-19  -4.37124174e-19  -4.36938861e-19  -4.36752673e-19\n",
      "  -4.36565606e-19  -4.36377659e-19  -4.36188828e-19  -4.35999109e-19\n",
      "  -4.35808500e-19  -4.35616998e-19  -4.35424599e-19  -4.35231300e-19\n",
      "  -4.35037099e-19  -4.34841991e-19  -4.34645974e-19  -4.34449045e-19\n",
      "  -4.34251200e-19  -4.34052436e-19  -4.33852750e-19  -4.33652140e-19\n",
      "  -4.33450600e-19  -4.33248129e-19  -4.33044724e-19  -4.32840380e-19\n",
      "  -4.32635095e-19  -4.32428865e-19  -4.32221688e-19  -4.32013559e-19\n",
      "  -4.31804477e-19  -4.31594436e-19  -4.31383435e-19  -4.31171469e-19\n",
      "  -4.30958536e-19  -4.30744633e-19  -4.30529755e-19  -4.30313899e-19\n",
      "  -4.30097063e-19  -4.29879243e-19  -4.29660435e-19  -4.29440637e-19\n",
      "  -4.29219844e-19  -4.28998054e-19  -4.28775263e-19  -4.28551467e-19\n",
      "  -4.28326664e-19  -4.28100850e-19  -4.27874021e-19  -4.27646175e-19\n",
      "  -4.27417307e-19  -4.27187414e-19  -4.26956493e-19  -4.26724541e-19\n",
      "  -4.26491553e-19  -4.26257527e-19  -4.26022459e-19  -4.25786345e-19\n",
      "  -4.25549183e-19  -4.25310968e-19  -4.25071697e-19  -4.24831366e-19\n",
      "  -4.24589973e-19  -4.24347513e-19  -4.24103983e-19  -4.23859379e-19\n",
      "  -4.23613698e-19  -4.23366937e-19  -4.23119091e-19  -4.22870158e-19\n",
      "  -4.22620133e-19  -4.22369014e-19  -4.22116795e-19  -4.21863475e-19\n",
      "  -4.21609049e-19  -4.21353513e-19  -4.21096865e-19  -4.20839099e-19\n",
      "  -4.20580214e-19  -4.20320205e-19  -4.20059068e-19  -4.19796799e-19\n",
      "  -4.19533396e-19  -4.19268855e-19  -4.19003171e-19  -4.18736341e-19\n",
      "  -4.18468361e-19  -4.18199228e-19  -4.17928938e-19  -4.17657488e-19\n",
      "  -4.17384872e-19  -4.17111089e-19  -4.16836133e-19  -4.16560001e-19\n",
      "  -4.16282690e-19  -4.16004196e-19  -4.15724514e-19  -4.15443642e-19\n",
      "  -4.15161574e-19  -4.14878309e-19  -4.14593841e-19  -4.14308166e-19\n",
      "  -4.14021282e-19  -4.13733184e-19  -4.13443868e-19  -4.13153331e-19\n",
      "  -4.12861568e-19  -4.12568576e-19  -4.12274351e-19  -4.11978889e-19\n",
      "  -4.11682186e-19  -4.11384238e-19  -4.11085041e-19  -4.10784592e-19\n",
      "  -4.10482886e-19  -4.10179919e-19  -4.09875688e-19  -4.09570189e-19\n",
      "  -4.09263417e-19  -4.08955369e-19  -4.08646040e-19  -4.08335427e-19]\n"
     ]
    }
   ],
   "source": [
    "print(s1(r))"
   ]
  },
  {
   "cell_type": "code",
   "execution_count": 75,
   "metadata": {
    "collapsed": false
   },
   "outputs": [],
   "source": [
    "der=s1.derivative()\n"
   ]
  },
  {
   "cell_type": "code",
   "execution_count": 76,
   "metadata": {
    "collapsed": false,
    "scrolled": true
   },
   "outputs": [
    {
     "data": {
      "text/plain": [
       "[<matplotlib.lines.Line2D at 0x7f5a612198d0>]"
      ]
     },
     "execution_count": 76,
     "metadata": {},
     "output_type": "execute_result"
    },
    {
     "data": {
      "image/png": "[encoded data removed]",
      "text/plain": [
       "<matplotlib.figure.Figure at 0x7f5a589b2ba8>"
      ]
     },
     "metadata": {},
     "output_type": "display_data"
    }
   ],
   "source": [
    "plt.plot(r,der(r))"
   ]
  },
  {
   "cell_type": "code",
   "execution_count": 77,
   "metadata": {
    "collapsed": false
   },
   "outputs": [
    {
     "ename": "NameError",
     "evalue": "name 'm10' is not defined",
     "output_type": "error",
     "traceback": [
      "\u001b[1;31m---------------------------------------------------------------------------\u001b[0m",
      "\u001b[1;31mNameError\u001b[0m                                 Traceback (most recent call last)",
      "\u001b[1;32m<ipython-input-77-749dbe1ac35b>\u001b[0m in \u001b[0;36m<module>\u001b[1;34m()\u001b[0m\n\u001b[1;32m----> 1\u001b[1;33m \u001b[0mprint\u001b[0m\u001b[1;33m(\u001b[0m\u001b[0mpotential_bh\u001b[0m\u001b[1;33m(\u001b[0m\u001b[1;36m0.01\u001b[0m\u001b[1;33m)\u001b[0m\u001b[1;33m)\u001b[0m\u001b[1;33m\u001b[0m\u001b[0m\n\u001b[0m",
      "\u001b[1;32m<ipython-input-69-7dadb9ef5a87>\u001b[0m in \u001b[0;36mpotential_bh\u001b[1;34m(r)\u001b[0m\n\u001b[0;32m      1\u001b[0m \u001b[1;32mdef\u001b[0m \u001b[0mpotential_bh\u001b[0m\u001b[1;33m(\u001b[0m\u001b[0mr\u001b[0m\u001b[1;33m)\u001b[0m\u001b[1;33m:\u001b[0m\u001b[1;33m\u001b[0m\u001b[0m\n\u001b[1;32m----> 2\u001b[1;33m     \u001b[1;32mreturn\u001b[0m \u001b[1;33m-\u001b[0m\u001b[0mG\u001b[0m\u001b[1;33m*\u001b[0m\u001b[1;33m(\u001b[0m\u001b[0mm10\u001b[0m\u001b[1;33m+\u001b[0m\u001b[0mm20\u001b[0m\u001b[1;33m)\u001b[0m\u001b[1;33m/\u001b[0m\u001b[0mr\u001b[0m\u001b[1;33m\u001b[0m\u001b[0m\n\u001b[0m",
      "\u001b[1;31mNameError\u001b[0m: name 'm10' is not defined"
     ]
    }
   ],
   "source": [
    "print(potential_bh(0.01))"
   ]
  },
  {
   "cell_type": "code",
   "execution_count": 78,
   "metadata": {
    "collapsed": false
   },
   "outputs": [
    {
     "name": "stdout",
     "output_type": "stream",
     "text": [
      "[  0.22075877   0.38057966   0.57974627   0.8673444    1.30163957\n",
      "   1.94483426   2.90701687   4.33614508   6.46383922   9.63423268\n",
      "  14.34503767  21.40626447  32.0099962   47.77640577  68.75594348]\n"
     ]
    }
   ],
   "source": [
    "print(R_final)"
   ]
  },
  {
   "cell_type": "code",
   "execution_count": 19,
   "metadata": {
    "collapsed": false
   },
   "outputs": [
    {
     "data": {
      "text/plain": [
       "9"
      ]
     },
     "execution_count": 19,
     "metadata": {},
     "output_type": "execute_result"
    }
   ],
   "source": [
    "np.sum(r_3d<R_final[0])"
   ]
  },
  {
   "cell_type": "code",
   "execution_count": 20,
   "metadata": {
    "collapsed": false
   },
   "outputs": [
    {
     "name": "stdout",
     "output_type": "stream",
     "text": [
      "[ 0.00321449  0.00336109  0.00435896  0.00443727  0.00484375  0.00561033\n",
      "  0.00572935  0.00599613  0.00602059  0.00751598  0.00756089  0.00773547\n",
      "  0.00774078  0.0079085   0.00837139  0.00917604  0.00928405  0.00955792\n",
      "  0.0103242   0.0111365 ]\n"
     ]
    }
   ],
   "source": [
    "print(r_3d[0:20])"
   ]
  },
  {
   "cell_type": "code",
   "execution_count": null,
   "metadata": {
    "collapsed": true
   },
   "outputs": [],
   "source": []
  }
 ],
 "metadata": {
  "kernelspec": {
   "display_name": "Python 3",
   "language": "python",
   "name": "python3"
  },
  "language_info": {
   "codemirror_mode": {
    "name": "ipython",
    "version": 3
   },
   "file_extension": ".py",
   "mimetype": "text/x-python",
   "name": "python",
   "nbconvert_exporter": "python",
   "pygments_lexer": "ipython3",
   "version": "3.4.3"
  }
 },
 "nbformat": 4,
 "nbformat_minor": 0
}
