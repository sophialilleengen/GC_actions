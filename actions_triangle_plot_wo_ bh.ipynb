{
 "cells": [
  {
   "cell_type": "code",
   "execution_count": 2,
   "metadata": {
    "collapsed": false
   },
   "outputs": [],
   "source": [
    "import numpy as  np\n",
    "import matplotlib.pyplot as plt\n",
    "from mpl_toolkits.mplot3d import Axes3D\n",
    "from matplotlib.colors import LogNorm\n",
    "import sys\n",
    "\n",
    "from scipy import interpolate\n",
    "\n",
    "sys.path.insert(0, '/home/sophia/bachelor_thesis_ipython_notebooks')\n",
    "\n",
    "from GC_Orbit_class import GCorbit\n",
    "\n",
    "%matplotlib inline"
   ]
  },
  {
   "cell_type": "code",
   "execution_count": 3,
   "metadata": {
    "collapsed": false
   },
   "outputs": [],
   "source": [
    "#data: need actions J_r, J_phi, J_theta\n",
    "if 0:\n",
    "    r_3d,x,y,z,vx,vy,vz=np.loadtxt('C:\\\\Users\\Sophia Milanov\\Documents\\Bachelorarbeit\\data\\\\x-y-z.dat', usecols=(1,30,31,32,33,34,35), unpack=True)\n",
    "elif 1:\n",
    "    r_3d,m1,m2,x,y,z,vx,vy,vz=np.loadtxt('/home/sophia/Dokumente/Bachelorarbeit-2/x-y-z_sophia_neu.dat', usecols=(1,9,10,29,30,31,32,33,34), unpack=True)\n",
    "else:\n",
    "    r_3d,x,y,z,vx,vy,vz=np.loadtxt('/home/milanov/Bachelorarbeit/x-y-z.dat', usecols=(1,30,31,32,33,34,35), unpack=True)\n",
    "\n",
    "#r_3d0=r_3d[0]\n",
    "#x0=x[0]\n",
    "#y0=y[0]\n",
    "#z0=z[0]\n",
    "#vx0=vx[0]\n",
    "#vy0=vy[0]\n",
    "#vz0=vz[0]\n",
    "#r_3d=r_3d[1:]\n",
    "#x=x[1:]\n",
    "#y=y[1:]\n",
    "#z=z[1:]\n",
    "#vx=vx[1:]\n",
    "#vy=vy[1:]\n",
    "#vz=vz[1:]    "
   ]
  },
  {
   "cell_type": "code",
   "execution_count": 4,
   "metadata": {
    "collapsed": false,
    "scrolled": true
   },
   "outputs": [
    {
     "name": "stderr",
     "output_type": "stream",
     "text": [
      "/home/sophia/bachelor_thesis_ipython_notebooks/GC_Orbit_class.py:68: RuntimeWarning: overflow encountered in exp\n",
      "  density= np.exp(self.s(np.log(r)))\n"
     ]
    }
   ],
   "source": [
    "r,rho=np.loadtxt('densityfile_wo_bh.txt', usecols=(1,2), unpack=True)\n",
    "\n",
    "bh_sample=GCorbit(inputfilename='densityfile_wo_bh.txt')"
   ]
  },
  {
   "cell_type": "code",
   "execution_count": 13,
   "metadata": {
    "collapsed": false
   },
   "outputs": [],
   "source": [
    "r3d,J_phi,J_theta,J_r=np.loadtxt('actions_wo_bh.txt')"
   ]
  },
  {
   "cell_type": "code",
   "execution_count": 14,
   "metadata": {
    "collapsed": false
   },
   "outputs": [
    {
     "data": {
      "text/plain": [
       "468627"
      ]
     },
     "execution_count": 14,
     "metadata": {},
     "output_type": "execute_result"
    }
   ],
   "source": [
    "len(J_theta)"
   ]
  },
  {
   "cell_type": "code",
   "execution_count": 57,
   "metadata": {
    "collapsed": true
   },
   "outputs": [],
   "source": [
    "#ni=500\n",
    "#J_phi=np.zeros(ni)\n",
    "#J_theta=np.zeros(ni)\n",
    "#J_r=np.zeros(ni)"
   ]
  },
  {
   "cell_type": "code",
   "execution_count": 58,
   "metadata": {
    "collapsed": false,
    "scrolled": false
   },
   "outputs": [],
   "source": [
    "#n=125170\n",
    "#L=bh_sample.angularmom(x[n],y[n],z[n],vx[n],vy[n],vz[n])[0]\n",
    "#E=bh_sample.energy(x[n],y[n],z[n],vx[n],vy[n],vz[n])\n",
    "#r=10.**(np.linspace(np.log10(0.00002),3.,10000))\n",
    "#print(bh_sample._periapocenter_aux(1e-7,E,L),bh_sample._periapocenter_aux(r_3d[n],E,L),bh_sample._periapocenter_aux(np.sqrt(x[n]**2+y[n]**2+z[n]**2),E,L))\n",
    "#plt.loglog(r,np.abs(bh_sample._periapocenter_aux(r=r,E=E,L=L)))\n",
    "\n",
    "#print(r_3d[n],np.sqrt(x[n]**2+y[n]**2+z[n]**2))\n",
    "#plt.axvline(r_3d[n],color='r')\n",
    "#plt.axvline(bh_sample.periapocenter(r_3d[n],x[n],y[n],z[n],vx[n],vy[n],vz[n])[0], color='m')\n",
    "#plt.axvline(bh_sample.periapocenter(r_3d[n],x[n],y[n],z[n],vx[n],vy[n],vz[n])[1], color='black')\n"
   ]
  },
  {
   "cell_type": "code",
   "execution_count": 59,
   "metadata": {
    "collapsed": false
   },
   "outputs": [
    {
     "data": {
      "text/plain": [
       "500"
      ]
     },
     "execution_count": 59,
     "metadata": {},
     "output_type": "execute_result"
    }
   ],
   "source": [
    "#ni"
   ]
  },
  {
   "cell_type": "code",
   "execution_count": 60,
   "metadata": {
    "collapsed": false,
    "scrolled": false
   },
   "outputs": [],
   "source": [
    "#for i in range(ni):\n",
    "#    J_r[i]=bh_sample._J_r(r=r_3d[i],x=x[i],y=y[i],z=z[i],vx=vx[i],vy=vy[i],vz=vz[i])\n"
   ]
  },
  {
   "cell_type": "code",
   "execution_count": 61,
   "metadata": {
    "collapsed": false
   },
   "outputs": [],
   "source": [
    "#for i in range(ni):\n",
    "#    J_phi[i]=bh_sample._J_phi(x=x[i],y=y[i],z=z[i],vx=vx[i],vy=vy[i],vz=vz[i])"
   ]
  },
  {
   "cell_type": "code",
   "execution_count": 62,
   "metadata": {
    "collapsed": false
   },
   "outputs": [],
   "source": [
    "#for i in range(ni):\n",
    "#    J_theta[i]=bh_sample._J_theta(x=x[i],y=y[i],z=z[i],vx=vx[i],vy=vy[i],vz=vz[i])\n"
   ]
  },
  {
   "cell_type": "code",
   "execution_count": 63,
   "metadata": {
    "collapsed": true
   },
   "outputs": [],
   "source": [
    "#np.savetxt('actions_wo_bh.txt',(r_3d,J_phi,J_theta,J_r))"
   ]
  },
  {
   "cell_type": "code",
   "execution_count": 64,
   "metadata": {
    "collapsed": false
   },
   "outputs": [],
   "source": [
    "#n=1000\n",
    "#J_phi=np.zeros(n)\n",
    "#J_theta=np.zeros(n)\n",
    "#J_r=np.zeros(n)\n",
    "#for i in range(n):\n",
    "#    print(i)\n",
    "#    J_phi[i]=test._J_phi(x=x[i],y=y[i],z=z[i],vx=vx[i],vy=vy[i],vz=vz[i])\n",
    "#    J_theta[i]=test._J_theta(x=x[i],y=y[i],z=z[i],vx=vx[i],vy=vy[i],vz=vz[i])\n",
    "#    J_r[i]=test._J_r(r=r_3d[i],x=x[i],y=y[i],z=z[i],vx=vx[i],vy=vy[i],vz=vz[i])\n",
    "#J_phi,J_theta,J_r=test.actions(x=x[n],y=y[n],z=z[n],vx=vx[n],vy=vy[n],vz=vz[n],density=test.density(r_3d[n]))\n",
    "#print(J_phi,J_r,J_theta)\n",
    "#J_r_new=np.nan_to_num(J_r)\n",
    "#np.sum(np.isnan(J_r))\n",
    "#np.savetxt('actions.txt',(J_phi,J_theta,J_r))"
   ]
  },
  {
   "cell_type": "code",
   "execution_count": 15,
   "metadata": {
    "collapsed": false
   },
   "outputs": [
    {
     "name": "stdout",
     "output_type": "stream",
     "text": [
      "[  1.78262653   8.89482566  30.81918018 ...,  18.86808535  17.68969592\n",
      "  12.26367554]\n"
     ]
    }
   ],
   "source": [
    "print(J_theta)"
   ]
  },
  {
   "cell_type": "code",
   "execution_count": 66,
   "metadata": {
    "collapsed": false
   },
   "outputs": [],
   "source": [
    "#fig = plt.figure(figsize=(8,8))\n",
    "#ax = fig.add_subplot(111, projection='3d')\n",
    "#ax.scatter(x,y,z) #zu testzwecken mit x,y,z; eigentlich J_phi,J_theta,J_r\n",
    "#ax.set_xlabel(\"J_phi\") #einheit\n",
    "#ax.set_ylabel('J_theta') #einheit\n",
    "#ax.set_zlabel(\"J_r\") #einheit\n",
    "#ax.set_title('actions')\n",
    "#fig.savefig('./Plots/action_scatter_3d')"
   ]
  },
  {
   "cell_type": "code",
   "execution_count": 24,
   "metadata": {
    "collapsed": false,
    "scrolled": false
   },
   "outputs": [
    {
     "data": {
      "image/png": "[encoded data removed]",
      "text/plain": [
       "<matplotlib.figure.Figure at 0x7f905b4d8198>"
      ]
     },
     "metadata": {},
     "output_type": "display_data"
    }
   ],
   "source": [
    "##### Versuch vom Triangle Plot\n",
    "\n",
    "#optimal bin width: Scott's normal reference rule h=3.5*sigma/n^(1/3)\n",
    "\n",
    "#h_phi_1=np.std(J_phi)*3.5/(len(J_phi))**(1/3)\n",
    "#h_theta_1=np.std(J_theta)*3.5/(len(J_theta))**(1/3)\n",
    "#h_r_1=np.std(J_r)*3.5/(len(J_r))**(1/3)\n",
    "#print(int(h_phi_1),int(h_theta_1),int(h_r_1))\n",
    "\n",
    "fig,axes=plt.subplots(nrows=3,ncols=3,figsize=(15,15))\n",
    "n0, bins0, patches0=axes[0,0].hist(J_phi,20,color='grey') \n",
    "n1, bins1, patches1=axes[1,1].hist(J_theta,20,color='grey') \n",
    "n2, bins2, patches2=axes[2,2].hist(J_r,20,color='grey') \n",
    "H0, xedges0, yedges0, img0 = axes[1,0].hist2d(J_phi, J_theta, bins=200,cmap='Greys') \n",
    "H1, xedges1, yedges1, img0 = axes[2,1].hist2d(J_theta, J_r, bins=200, cmap='Greys') \n",
    "H2, xedges2, yedges2, img0 = axes[2,0].hist2d(J_phi, J_r, bins=200,cmap='Greys') \n",
    "\n",
    "axes[0,1].axis('off')\n",
    "axes[0,2].axis('off')\n",
    "axes[1,2].axis('off')\n",
    "\n",
    "axes[1,0].set_xlim(-50,50)\n",
    "axes[1,0].set_ylim(0,50)\n",
    "axes[2,0].set_xlim(-50,50)\n",
    "axes[2,0].set_ylim(0,100)\n",
    "axes[2,1].set_xlim(0,50)\n",
    "axes[2,1].set_ylim(0,100)\n",
    "axes[2,0].set_xlabel('J$_\\phi$', fontsize=20)\n",
    "axes[2,1].set_xlabel('J$_\\\\theta$', fontsize=20)\n",
    "axes[2,2].set_xlabel('J$_r$', fontsize=20)\n",
    "axes[1,0].set_ylabel('J$_\\\\theta$', fontsize=20)\n",
    "axes[2,0].set_ylabel('J$_r$', fontsize=20)\n",
    "axes[0,0].set_ylabel('J$_\\phi$', fontsize=20)\n",
    "\n",
    "\n",
    "#fig.subplots_adjust(hspace=0.1,wspace=0.1)\n",
    "fig.tight_layout()\n",
    "#achsen genau übereinander\n"
   ]
  },
  {
   "cell_type": "markdown",
   "metadata": {},
   "source": [
    "anpassen:\n",
    "---\n",
    "-binwidth\n",
    "\n",
    "-histogram grenzen\n",
    "\n",
    "-ticks\n",
    "\n",
    "-beschriftung der ticks\n"
   ]
  },
  {
   "cell_type": "code",
   "execution_count": null,
   "metadata": {
    "collapsed": false
   },
   "outputs": [],
   "source": [
    "print(np.max(r_3d[0:5000]))"
   ]
  },
  {
   "cell_type": "code",
   "execution_count": null,
   "metadata": {
    "collapsed": true
   },
   "outputs": [],
   "source": [
    "#calculate half light radius"
   ]
  },
  {
   "cell_type": "code",
   "execution_count": null,
   "metadata": {
    "collapsed": false
   },
   "outputs": [],
   "source": [
    "np.sum(J_r)/(len(J_r))"
   ]
  },
  {
   "cell_type": "code",
   "execution_count": null,
   "metadata": {
    "collapsed": false
   },
   "outputs": [],
   "source": [
    "np.sum(J_phi)/(len(J_phi))"
   ]
  },
  {
   "cell_type": "code",
   "execution_count": null,
   "metadata": {
    "collapsed": false
   },
   "outputs": [],
   "source": [
    "np.sum(J_theta)/(len(J_theta))"
   ]
  },
  {
   "cell_type": "code",
   "execution_count": null,
   "metadata": {
    "collapsed": false
   },
   "outputs": [],
   "source": [
    "len(J_r)"
   ]
  },
  {
   "cell_type": "code",
   "execution_count": null,
   "metadata": {
    "collapsed": false
   },
   "outputs": [],
   "source": [
    "np.sum(r_3d[0:1000])/1000"
   ]
  },
  {
   "cell_type": "code",
   "execution_count": null,
   "metadata": {
    "collapsed": false
   },
   "outputs": [],
   "source": [
    "r_3d0"
   ]
  },
  {
   "cell_type": "code",
   "execution_count": null,
   "metadata": {
    "collapsed": true
   },
   "outputs": [],
   "source": [
    "#plot J_r changes with radius an dcomopare it to anisotropy profile"
   ]
  }
 ],
 "metadata": {
  "kernelspec": {
   "display_name": "Python 3",
   "language": "python",
   "name": "python3"
  },
  "language_info": {
   "codemirror_mode": {
    "name": "ipython",
    "version": 3
   },
   "file_extension": ".py",
   "mimetype": "text/x-python",
   "name": "python",
   "nbconvert_exporter": "python",
   "pygments_lexer": "ipython3",
   "version": "3.4.3"
  }
 },
 "nbformat": 4,
 "nbformat_minor": 0
}
