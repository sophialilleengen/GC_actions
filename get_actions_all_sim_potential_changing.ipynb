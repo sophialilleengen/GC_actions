{
 "cells": [
  {
   "cell_type": "code",
   "execution_count": 1,
   "metadata": {
    "collapsed": true
   },
   "outputs": [],
   "source": [
    "pc = \"MPIA\""
   ]
  },
  {
   "cell_type": "code",
   "execution_count": 2,
   "metadata": {
    "collapsed": false
   },
   "outputs": [],
   "source": [
    "import numpy as  np\n",
    "import matplotlib.pyplot as plt\n",
    "from mpl_toolkits.mplot3d import Axes3D\n",
    "from matplotlib.colors import LogNorm\n",
    "import sys\n",
    "\n",
    "from scipy import interpolate\n",
    "\n",
    "if pc == \"MPIA\":\n",
    "    sys.path.insert(0, '/home/milanov/Documents/Project/GC_actions/')\n",
    "    \n",
    "else:\n",
    "    sys.path.insert(0, '/home/sophia/bachelor_thesis_ipython_notebooks')\n",
    "\n",
    "from GC_Orbit_class import GCorbit\n",
    "from MGE_potential import MGE_orbit\n",
    "\n",
    "%matplotlib inline"
   ]
  },
  {
   "cell_type": "code",
   "execution_count": 3,
   "metadata": {
    "collapsed": false
   },
   "outputs": [],
   "source": [
    "if pc == \"MPIA\":\n",
    "    \n",
    "    r_3d_1, m1_1, m2_1, x_1, y_1, z_1, vx_1, vy_1, vz_1 = \\\n",
    "    np.loadtxt('/home/milanov/Documents/Project/data_newpc/x-y-z_IMBH1.dat', usecols = (1,9,10,30,31,32,33,34,35), unpack = True)\n",
    "    r_3d_2, m1_2, m2_2, x_2, y_2, z_2, vx_2, vy_2, vz_2 = \\\n",
    "    np.loadtxt('/home/milanov/Documents/Project/data_newpc/x-y-z_IMBH2.dat', usecols = (1,9,10,30,31,32,33,34,35), unpack = True)\n",
    "    r_3d_wo_1, x_wo_1, y_wo_1, z_wo_1, vx_wo_1, vy_wo_1, vz_wo_1 = \\\n",
    "    np.loadtxt('/home/milanov/Documents/Project/data_newpc/x-y-z_noIMBH1.dat', usecols=(1,29,30,31,32,33,34), unpack=True)\n",
    "    r_3d_wo_2, x_wo_2, y_wo_2, z_wo_2, vx_wo_2, vy_wo_2, vz_wo_2  = \\\n",
    "    np.loadtxt('/home/milanov/Documents/Project/data_newpc/x-y-z_noIMBH2.dat', usecols=(1,29,30,31,32,33,34), unpack=True)\n",
    "\n",
    "    \n",
    "else: \n",
    "    r_3d_1, m1_1, m2_1, x_1, y_1, z_1, vx_1, vy_1, vz_1 = \\\n",
    "    np.loadtxt('/home/sophia/Dokumente/Bachelorarbeit-2/x-y-z_IMBH1.dat', usecols = (1,9,10,30,31,32,33,34,35), unpack = True)\n",
    "    r_3d_2, m1_2, m2_2, x_2, y_2, z_2, vx_2, vy_2, vz_2 = \\\n",
    "    np.loadtxt('/home/sophia/Dokumente/Bachelorarbeit-2/x-y-z_IMBH2.dat', usecols = (1,9,10,30,31,32,33,34,35), unpack = True)\n",
    "    r_3d_wo_1, x_wo_1, y_wo_1, z_wo_1, vx_wo_1, vy_wo_1, vz_wo_1  = \\\n",
    "    np.loadtxt('/home/sophia/Dokumente/Bachelorarbeit-2/x-y-z_noIMBH1.dat', usecols=(1,29,30,31,32,33,34), unpack=True)\n",
    "    r_3d_wo_2, x_wo_2, y_wo_2, z_wo_2, vx_wo_2, vy_wo_2, vz_wo_2  = \\\n",
    "    np.loadtxt('/home/sophia/Dokumente/Bachelorarbeit-2/x-y-z_noIMBH2.dat', usecols=(1,29,30,31,32,33,34), unpack=True)\n",
    "\n",
    "# interpolated density\n",
    "r1, rho1 = np.loadtxt('interim_results/densityfile_IMBH1.txt')\n",
    "r2, rho2 = np.loadtxt('interim_results/densityfile_IMBH2.txt')\n",
    "r1_wo, rho1_wo = np.loadtxt('interim_results/densityfile_noIMBH1.txt')\n",
    "r2_wo, rho2_wo = np.loadtxt('interim_results/densityfile_noIMBH2.txt')\n",
    "\n",
    "# MGE density \n",
    "rho_mge1 = np.loadtxt('MGE_Results/MGE_results_IMBH1')\n",
    "rho_mge2 = np.loadtxt('MGE_Results/MGE_results_IMBH2')\n",
    "rho_mge_wo1 = np.loadtxt('MGE_Results/MGE_results_noIMBH1')\n",
    "rho_mge_wo2 = np.loadtxt('MGE_Results/MGE_results_noIMBH2')"
   ]
  },
  {
   "cell_type": "code",
   "execution_count": 4,
   "metadata": {
    "collapsed": true
   },
   "outputs": [],
   "source": [
    "\n",
    "r_3d_10 = r_3d_1[0]\n",
    "m1_10 = m1_1[0]\n",
    "m2_10 = m2_1[0]\n",
    "x_10 = x_1[0]\n",
    "y_10 = y_1[0]\n",
    "z_10 = z_1[0]\n",
    "vx_10 = vx_1[0]\n",
    "vy_10 = vy_1[0]\n",
    "vz_10 = vz_1[0]\n",
    "\n",
    "r_3d_1 = r_3d_1[1:]\n",
    "m1_1 = m1_1[1:]\n",
    "m2_1 = m2_1[1:]\n",
    "x_1 = x_1[1:]\n",
    "y_1 = y_1[1:]\n",
    "z_1 = z_1[1:]\n",
    "vx_1 = vx_1[1:]\n",
    "vy_1 = vy_1[1:]\n",
    "vz_1 = vz_1[1:]\n",
    "\n",
    "r_3d_20 = r_3d_2[0]\n",
    "m1_20 = m1_2[0]\n",
    "m2_20 = m2_2[0]\n",
    "x_20 = x_2[0]\n",
    "y_20 = y_2[0]\n",
    "z_20 = z_2[0]\n",
    "vx_20 = vx_2[0]\n",
    "vy_20 = vy_2[0]\n",
    "vz_20 = vz_2[0]\n",
    "\n",
    "r_3d_2 = r_3d_2[1:]\n",
    "m1_2 = m1_2[1:]\n",
    "m2_2 = m2_2[1:]\n",
    "x_2 = x_2[1:]\n",
    "y_2 = y_2[1:]\n",
    "z_2 = z_2[1:]\n",
    "vx_2 = vx_2[1:]\n",
    "vy_2 = vy_2[1:]\n",
    "vz_2 = vz_2[1:]\n"
   ]
  },
  {
   "cell_type": "code",
   "execution_count": 5,
   "metadata": {
    "collapsed": false
   },
   "outputs": [],
   "source": [
    "n = len(r_3d_1)\n",
    "m = len(r_3d_2)\n",
    "l = len(r_3d_wo_1)\n",
    "k = len(r_3d_wo_2)\n",
    "\n",
    "J_r_n = np.zeros(n)\n",
    "J_r_m = np.zeros(m)\n",
    "J_r_l = np.zeros(l)\n",
    "J_r_k = np.zeros(k)"
   ]
  },
  {
   "cell_type": "code",
   "execution_count": 6,
   "metadata": {
    "collapsed": false,
    "scrolled": true
   },
   "outputs": [
    {
     "name": "stderr",
     "output_type": "stream",
     "text": [
      "/usr/lib64/python2.7/site-packages/scipy/integrate/quadpack.py:352: IntegrationWarning: Extremely bad integrand behavior occurs at some points of the\n",
      "  integration interval.\n",
      "  warnings.warn(msg, IntegrationWarning)\n",
      "/home/milanov/Documents/Project/GC_actions/MGE_potential.py:355: RuntimeWarning: invalid value encountered in sqrt\n",
      "  return np.sqrt(2.*E-2.*pot-L**2./r**2.) #[pc^2/s^2]\n",
      "/usr/lib64/python2.7/site-packages/scipy/integrate/quadpack.py:352: IntegrationWarning: The occurrence of roundoff error is detected, which prevents \n",
      "  the requested tolerance from being achieved.  The error may be \n",
      "  underestimated.\n",
      "  warnings.warn(msg, IntegrationWarning)\n",
      "/usr/lib64/python2.7/site-packages/scipy/integrate/quadpack.py:352: IntegrationWarning: The algorithm does not converge.  Roundoff error is detected\n",
      "  in the extrapolation table.  It is assumed that the requested tolerance\n",
      "  cannot be achieved, and that the returned result (if full_output = 1) is \n",
      "  the best which can be obtained.\n",
      "  warnings.warn(msg, IntegrationWarning)\n",
      "/usr/lib64/python2.7/site-packages/scipy/integrate/quadpack.py:352: IntegrationWarning: The integral is probably divergent, or slowly convergent.\n",
      "  warnings.warn(msg, IntegrationWarning)\n"
     ]
    },
    {
     "ename": "ValueError",
     "evalue": "f(a) and f(b) must have different signs",
     "output_type": "error",
     "traceback": [
      "\u001b[1;31m---------------------------------------------------------------------------\u001b[0m",
      "\u001b[1;31mValueError\u001b[0m                                Traceback (most recent call last)",
      "\u001b[1;32m<ipython-input-6-0a6af2ca3c4e>\u001b[0m in \u001b[0;36m<module>\u001b[1;34m()\u001b[0m\n\u001b[0;32m     11\u001b[0m     \u001b[0mnp\u001b[0m\u001b[1;33m.\u001b[0m\u001b[0msavetxt\u001b[0m\u001b[1;33m(\u001b[0m\u001b[1;34m\"Actions/act_IMBH1_pot_\"\u001b[0m \u001b[1;33m+\u001b[0m \u001b[0mstr\u001b[0m\u001b[1;33m(\u001b[0m\u001b[0mj\u001b[0m\u001b[1;33m)\u001b[0m\u001b[1;33m,\u001b[0m \u001b[0mJ_r_n\u001b[0m\u001b[1;33m)\u001b[0m\u001b[1;33m\u001b[0m\u001b[0m\n\u001b[0;32m     12\u001b[0m     \u001b[1;32mfor\u001b[0m \u001b[0mi\u001b[0m \u001b[1;32min\u001b[0m \u001b[0mrange\u001b[0m\u001b[1;33m(\u001b[0m\u001b[0mm\u001b[0m\u001b[1;33m)\u001b[0m\u001b[1;33m:\u001b[0m\u001b[1;33m\u001b[0m\u001b[0m\n\u001b[1;32m---> 13\u001b[1;33m         \u001b[0mJ_r_m\u001b[0m\u001b[1;33m[\u001b[0m\u001b[0mi\u001b[0m\u001b[1;33m]\u001b[0m \u001b[1;33m=\u001b[0m \u001b[0mbh_sample2\u001b[0m\u001b[1;33m.\u001b[0m\u001b[0m_J_r\u001b[0m\u001b[1;33m(\u001b[0m\u001b[0mr\u001b[0m\u001b[1;33m=\u001b[0m\u001b[0mr_3d_2\u001b[0m\u001b[1;33m[\u001b[0m\u001b[0mi\u001b[0m\u001b[1;33m]\u001b[0m\u001b[1;33m,\u001b[0m\u001b[0mx\u001b[0m\u001b[1;33m=\u001b[0m\u001b[0mx_2\u001b[0m\u001b[1;33m[\u001b[0m\u001b[0mi\u001b[0m\u001b[1;33m]\u001b[0m\u001b[1;33m,\u001b[0m\u001b[0my\u001b[0m\u001b[1;33m=\u001b[0m\u001b[0my_2\u001b[0m\u001b[1;33m[\u001b[0m\u001b[0mi\u001b[0m\u001b[1;33m]\u001b[0m\u001b[1;33m,\u001b[0m\u001b[0mz\u001b[0m\u001b[1;33m=\u001b[0m\u001b[0mz_2\u001b[0m\u001b[1;33m[\u001b[0m\u001b[0mi\u001b[0m\u001b[1;33m]\u001b[0m\u001b[1;33m,\u001b[0m\u001b[0mvx\u001b[0m\u001b[1;33m=\u001b[0m\u001b[0mvx_2\u001b[0m\u001b[1;33m[\u001b[0m\u001b[0mi\u001b[0m\u001b[1;33m]\u001b[0m\u001b[1;33m,\u001b[0m\u001b[0mvy\u001b[0m\u001b[1;33m=\u001b[0m\u001b[0mvy_2\u001b[0m\u001b[1;33m[\u001b[0m\u001b[0mi\u001b[0m\u001b[1;33m]\u001b[0m\u001b[1;33m,\u001b[0m\u001b[0mvz\u001b[0m\u001b[1;33m=\u001b[0m\u001b[0mvz_2\u001b[0m\u001b[1;33m[\u001b[0m\u001b[0mi\u001b[0m\u001b[1;33m]\u001b[0m\u001b[1;33m)\u001b[0m\u001b[1;33m[\u001b[0m\u001b[1;36m0\u001b[0m\u001b[1;33m]\u001b[0m\u001b[1;33m\u001b[0m\u001b[0m\n\u001b[0m\u001b[0;32m     14\u001b[0m     \u001b[0mnp\u001b[0m\u001b[1;33m.\u001b[0m\u001b[0msavetxt\u001b[0m\u001b[1;33m(\u001b[0m\u001b[1;34m\"Actions/act_IMBH2_pot_\"\u001b[0m \u001b[1;33m+\u001b[0m \u001b[0mstr\u001b[0m\u001b[1;33m(\u001b[0m\u001b[0mj\u001b[0m\u001b[1;33m)\u001b[0m\u001b[1;33m,\u001b[0m \u001b[0mJ_r_m\u001b[0m\u001b[1;33m)\u001b[0m\u001b[1;33m\u001b[0m\u001b[0m\n\u001b[0;32m     15\u001b[0m     \u001b[1;32mfor\u001b[0m \u001b[0mi\u001b[0m \u001b[1;32min\u001b[0m \u001b[0mrange\u001b[0m\u001b[1;33m(\u001b[0m\u001b[0ml\u001b[0m\u001b[1;33m)\u001b[0m\u001b[1;33m:\u001b[0m\u001b[1;33m\u001b[0m\u001b[0m\n",
      "\u001b[1;32m/home/milanov/Documents/Project/GC_actions/MGE_potential.py\u001b[0m in \u001b[0;36m_J_r\u001b[1;34m(self, r, x, y, z, vx, vy, vz)\u001b[0m\n\u001b[0;32m    411\u001b[0m             \u001b[1;36m2015\u001b[0m\u001b[1;33m-\u001b[0m\u001b[1;36m12\u001b[0m\u001b[1;33m-\u001b[0m\u001b[1;36m04\u001b[0m \u001b[1;33m-\u001b[0m \u001b[0mWritten\u001b[0m \u001b[1;33m(\u001b[0m\u001b[0mMilanov\u001b[0m\u001b[1;33m,\u001b[0m \u001b[0mMPIA\u001b[0m\u001b[1;33m)\u001b[0m\u001b[1;33m\u001b[0m\u001b[0m\n\u001b[0;32m    412\u001b[0m         \"\"\"\n\u001b[1;32m--> 413\u001b[1;33m         \u001b[0mrmin\u001b[0m\u001b[1;33m,\u001b[0m\u001b[0mrmax\u001b[0m\u001b[1;33m=\u001b[0m\u001b[0mself\u001b[0m\u001b[1;33m.\u001b[0m\u001b[0mperiapocenter\u001b[0m\u001b[1;33m(\u001b[0m\u001b[0mr\u001b[0m\u001b[1;33m,\u001b[0m\u001b[0mx\u001b[0m\u001b[1;33m,\u001b[0m\u001b[0my\u001b[0m\u001b[1;33m,\u001b[0m\u001b[0mz\u001b[0m\u001b[1;33m,\u001b[0m\u001b[0mvx\u001b[0m\u001b[1;33m,\u001b[0m\u001b[0mvy\u001b[0m\u001b[1;33m,\u001b[0m\u001b[0mvz\u001b[0m\u001b[1;33m)\u001b[0m\u001b[1;33m\u001b[0m\u001b[0m\n\u001b[0m\u001b[0;32m    414\u001b[0m         \u001b[0mE\u001b[0m\u001b[1;33m=\u001b[0m\u001b[0mself\u001b[0m\u001b[1;33m.\u001b[0m\u001b[0menergy\u001b[0m\u001b[1;33m(\u001b[0m\u001b[0mx\u001b[0m\u001b[1;33m,\u001b[0m\u001b[0my\u001b[0m\u001b[1;33m,\u001b[0m\u001b[0mz\u001b[0m\u001b[1;33m,\u001b[0m\u001b[0mvx\u001b[0m\u001b[1;33m,\u001b[0m\u001b[0mvy\u001b[0m\u001b[1;33m,\u001b[0m\u001b[0mvz\u001b[0m\u001b[1;33m)\u001b[0m   \u001b[1;31m#[pc^2/s^2]\u001b[0m\u001b[1;33m\u001b[0m\u001b[0m\n\u001b[0;32m    415\u001b[0m         \u001b[0mL\u001b[0m\u001b[1;33m=\u001b[0m\u001b[0mself\u001b[0m\u001b[1;33m.\u001b[0m\u001b[0mangularmom\u001b[0m\u001b[1;33m(\u001b[0m\u001b[0mx\u001b[0m\u001b[1;33m,\u001b[0m\u001b[0my\u001b[0m\u001b[1;33m,\u001b[0m\u001b[0mz\u001b[0m\u001b[1;33m,\u001b[0m\u001b[0mvx\u001b[0m\u001b[1;33m,\u001b[0m\u001b[0mvy\u001b[0m\u001b[1;33m,\u001b[0m\u001b[0mvz\u001b[0m\u001b[1;33m)\u001b[0m\u001b[1;33m[\u001b[0m\u001b[1;36m0\u001b[0m\u001b[1;33m]\u001b[0m    \u001b[1;31m#[pc^2/s]\u001b[0m\u001b[1;33m\u001b[0m\u001b[0m\n",
      "\u001b[1;32m/home/milanov/Documents/Project/GC_actions/MGE_potential.py\u001b[0m in \u001b[0;36mperiapocenter\u001b[1;34m(self, r, x, y, z, vx, vy, vz)\u001b[0m\n\u001b[0;32m    317\u001b[0m             \u001b[1;32melse\u001b[0m\u001b[1;33m:\u001b[0m\u001b[1;33m\u001b[0m\u001b[0m\n\u001b[0;32m    318\u001b[0m                 \u001b[0mr_ma\u001b[0m\u001b[1;33m=\u001b[0m\u001b[0mr\u001b[0m\u001b[1;33m\u001b[0m\u001b[0m\n\u001b[1;32m--> 319\u001b[1;33m                 \u001b[0mrmax\u001b[0m\u001b[1;33m=\u001b[0m\u001b[0mopt\u001b[0m\u001b[1;33m.\u001b[0m\u001b[0mbrentq\u001b[0m\u001b[1;33m(\u001b[0m\u001b[0mself\u001b[0m\u001b[1;33m.\u001b[0m\u001b[0m_periapocenter_aux\u001b[0m\u001b[1;33m,\u001b[0m\u001b[0mr_ma\u001b[0m\u001b[1;33m,\u001b[0m\u001b[0mnp\u001b[0m\u001b[1;33m.\u001b[0m\u001b[0mmax\u001b[0m\u001b[1;33m(\u001b[0m\u001b[0mself\u001b[0m\u001b[1;33m.\u001b[0m\u001b[0m_sigma\u001b[0m\u001b[1;33m)\u001b[0m\u001b[1;33m*\u001b[0m\u001b[1;36m2.\u001b[0m\u001b[1;33m,\u001b[0m\u001b[0margs\u001b[0m\u001b[1;33m=\u001b[0m\u001b[1;33m(\u001b[0m\u001b[0mE\u001b[0m\u001b[1;33m,\u001b[0m\u001b[0mL\u001b[0m\u001b[1;33m)\u001b[0m\u001b[1;33m)\u001b[0m \u001b[1;31m#[pc]\u001b[0m\u001b[1;33m\u001b[0m\u001b[0m\n\u001b[0m\u001b[0;32m    320\u001b[0m         \u001b[1;32melse\u001b[0m\u001b[1;33m:\u001b[0m\u001b[1;33m\u001b[0m\u001b[0m\n\u001b[0;32m    321\u001b[0m             \u001b[0mr_ma\u001b[0m\u001b[1;33m=\u001b[0m\u001b[0mr\u001b[0m\u001b[1;33m\u001b[0m\u001b[0m\n",
      "\u001b[1;32m/usr/lib64/python2.7/site-packages/scipy/optimize/zeros.pyc\u001b[0m in \u001b[0;36mbrentq\u001b[1;34m(f, a, b, args, xtol, rtol, maxiter, full_output, disp)\u001b[0m\n\u001b[0;32m    427\u001b[0m        \u001b[1;33m*\u001b[0m\u001b[0mNumerical\u001b[0m \u001b[0mRecipes\u001b[0m \u001b[1;32min\u001b[0m \u001b[0mFORTRAN\u001b[0m\u001b[1;33m:\u001b[0m \u001b[0mThe\u001b[0m \u001b[0mArt\u001b[0m \u001b[0mof\u001b[0m \u001b[0mScientific\u001b[0m \u001b[0mComputing\u001b[0m\u001b[1;33m*\u001b[0m\u001b[1;33m,\u001b[0m \u001b[1;36m2\u001b[0m\u001b[0mnd\u001b[0m \u001b[0med\u001b[0m\u001b[1;33m.\u001b[0m\u001b[1;33m\u001b[0m\u001b[0m\n\u001b[0;32m    428\u001b[0m        \u001b[0mCambridge\u001b[0m\u001b[1;33m,\u001b[0m \u001b[0mEngland\u001b[0m\u001b[1;33m:\u001b[0m \u001b[0mCambridge\u001b[0m \u001b[0mUniversity\u001b[0m \u001b[0mPress\u001b[0m\u001b[1;33m,\u001b[0m \u001b[0mpp\u001b[0m\u001b[1;33m.\u001b[0m \u001b[1;36m352\u001b[0m\u001b[1;33m-\u001b[0m\u001b[1;36m355\u001b[0m\u001b[1;33m,\u001b[0m \u001b[1;36m1992.\u001b[0m\u001b[1;33m\u001b[0m\u001b[0m\n\u001b[1;32m--> 429\u001b[1;33m        \u001b[0mSection\u001b[0m \u001b[1;36m9.3\u001b[0m\u001b[1;33m:\u001b[0m  \u001b[1;34m\"Van Wijngaarden-Dekker-Brent Method.\"\u001b[0m\u001b[1;33m\u001b[0m\u001b[0m\n\u001b[0m\u001b[0;32m    430\u001b[0m \u001b[1;33m\u001b[0m\u001b[0m\n\u001b[0;32m    431\u001b[0m     \"\"\"\n",
      "\u001b[1;31mValueError\u001b[0m: f(a) and f(b) must have different signs"
     ]
    }
   ],
   "source": [
    "### Test masses of IMBHs ###\n",
    "M = np.array([0, 10, 100, 1000, 10000, 50000])\n",
    "\n",
    "for j in M:\n",
    "    bh_sample1 = MGE_orbit(inputfilename='MGE_Results/MGE_results_IMBH1', M_BH = j)\n",
    "    bh_sample2 = MGE_orbit(inputfilename='MGE_Results/MGE_results_IMBH2', M_BH = j)\n",
    "    wobh_sample1 = MGE_orbit(inputfilename='MGE_Results/MGE_results_noIMBH1', M_BH = j)\n",
    "    wobh_sample2 = MGE_orbit(inputfilename='MGE_Results/MGE_results_noIMBH2', M_BH = j)\n",
    "    for i in range(n):\n",
    "        J_r_n[i] = bh_sample1._J_r(r=r_3d_1[i],x=x_1[i],y=y_1[i],z=z_1[i],vx=vx_1[i],vy=vy_1[i],vz=vz_1[i])[0]\n",
    "    np.savetxt(\"Actions/act_IMBH1_pot_\" + str(j), J_r_n)\n",
    "    for i in range(m):\n",
    "        J_r_m[i] = bh_sample2._J_r(r=r_3d_2[i],x=x_2[i],y=y_2[i],z=z_2[i],vx=vx_2[i],vy=vy_2[i],vz=vz_2[i])[0]\n",
    "    np.savetxt(\"Actions/act_IMBH2_pot_\" + str(j), J_r_m)\n",
    "    for i in range(l):\n",
    "        J_r_l[i] = wobh_sample1._J_r(r=r_3d_wo_1[i],x=x_wo_1[i],y=y_wo_1[i],z=z_wo_1[i],vx=vx_wo_1[i],vy=vy_wo_1[i],vz=vz_wo_1[i])[0]\n",
    "    np.savetxt(\"Actions/act_noIMBH1_pot_\" + str(j), J_r_l)\n",
    "    for i in range(k):\n",
    "        J_r_k[i] = wobh_sample2._J_r(r=r_3d_wo_2[i],x=x_wo_2[i],y=y_wo_2[i],z=z_wo_2[i],vx=vx_wo_2[i],vy=vy_wo_2[i],vz=vz_wo_2[i])[0]\n",
    "    np.savetxt(\"Actions/act_noIMBH2_pot_\" + str(j), J_r_k)"
   ]
  },
  {
   "cell_type": "code",
   "execution_count": null,
   "metadata": {
    "collapsed": true
   },
   "outputs": [],
   "source": []
  }
 ],
 "metadata": {
  "kernelspec": {
   "display_name": "Python 2",
   "language": "python",
   "name": "python2"
  },
  "language_info": {
   "codemirror_mode": {
    "name": "ipython",
    "version": 2
   },
   "file_extension": ".py",
   "mimetype": "text/x-python",
   "name": "python",
   "nbconvert_exporter": "python",
   "pygments_lexer": "ipython2",
   "version": "2.7.6"
  }
 },
 "nbformat": 4,
 "nbformat_minor": 0
}
