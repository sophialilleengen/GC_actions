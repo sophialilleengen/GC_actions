{
 "cells": [
  {
   "cell_type": "code",
   "execution_count": 1,
   "metadata": {
    "collapsed": true
   },
   "outputs": [],
   "source": [
    "import numpy as np\n",
    "import matplotlib.pyplot as plt\n",
    "from scipy import interpolate\n",
    "from scipy import constants as cs\n",
    "from astropy import units as un\n",
    "import sys\n",
    "sys.path.insert(0, '/home/sophia/bachelor_thesis_ipython_notebooks')\n",
    "\n",
    "from Paolo_class import GCphasespace\n",
    "from GC_Orbit_class import GCorbit\n",
    "\n",
    "%matplotlib inline"
   ]
  },
  {
   "cell_type": "code",
   "execution_count": 2,
   "metadata": {
    "collapsed": false
   },
   "outputs": [],
   "source": [
    "### import data of simulation 1 with IMBH ###\n",
    "if 0:\n",
    "    r_3d,m1,m2,x,y,z=np.loadtxt('C:\\\\Users\\Sophia Milanov\\Documents\\Bachelorarbeit\\data\\\\x-y-z.dat', usecols=(1,9,10,30,31,32), unpack=True)\n",
    "elif 1:\n",
    "    r_3d_1,m1_1,m2_1,x_1,y_1,z_1=np.loadtxt('/home/sophia/Dokumente/Bachelorarbeit-2/x-y-z_IMBH1.dat', usecols=(1,9,10,30,31,32), unpack=True)\n",
    "else:\n",
    "    r_3d,m1,m2,x,y,z=np.loadtxt('/home/milanov/Bachelorarbeit/x-y-z.dat', usecols=(1,9,10,30,31,32), unpack=True)"
   ]
  },
  {
   "cell_type": "code",
   "execution_count": 3,
   "metadata": {
    "collapsed": false
   },
   "outputs": [],
   "source": [
    "### import data of simulation 2 with IMBH ###\n",
    "if 0:\n",
    "    r_3d,m1,m2,x,y,z=np.loadtxt('C:\\\\Users\\Sophia Milanov\\Documents\\Bachelorarbeit\\data\\\\x-y-z.dat', usecols=(1,9,10,30,31,32), unpack=True)\n",
    "elif 1:\n",
    "    r_3d_2,m1_2,m2_2,x_2,y_2,z_2=np.loadtxt('/home/sophia/Dokumente/Bachelorarbeit-2/x-y-z_IMBH2.dat', usecols=(1,9,10,30,31,32), unpack=True)\n",
    "else:\n",
    "    r_3d,m1,m2,x,y,z=np.loadtxt('/home/milanov/Bachelorarbeit/x-y-z.dat', usecols=(1,9,10,30,31,32), unpack=True)"
   ]
  },
  {
   "cell_type": "code",
   "execution_count": 4,
   "metadata": {
    "collapsed": true
   },
   "outputs": [],
   "source": [
    "### import data for simulation 1 w/o IMBH ###\n",
    "if 0:\n",
    "    r_3d_wo,m1_wo,m2_wo,x_wo,y_wo,z_wo,vx_wo,vy_wo,vz_wo=np.loadtxt('C:\\\\Users\\Sophia Milanov\\Documents\\Bachelorarbeit\\data\\\\x-y-z.dat', usecols=(1,9,10,30,31,32,33,34,35), unpack=True)\n",
    "elif 1:\n",
    "    r_3d_wo_1,m1_wo_1,m2_wo_1,x_wo_1,y_wo_1,z_wo_1=np.loadtxt('/home/sophia/Dokumente/Bachelorarbeit-2/x-y-z_noIMBH1.dat', usecols=(1,9,10,29,30,31), unpack=True)\n",
    "else:\n",
    "    r_3d,m1,m2,x,y,z,vx,vy,vz=np.loadtxt('/home/milanov/Bachelorarbeit/x-y-z.dat', usecols=(1,9,10,30,31,32,33,34,35), unpack=True)"
   ]
  },
  {
   "cell_type": "code",
   "execution_count": 5,
   "metadata": {
    "collapsed": true
   },
   "outputs": [],
   "source": [
    "### import data for simulation 2 w/o IMBH ###\n",
    "if 0:\n",
    "    r_3d_wo,m1_wo,m2_wo,x_wo,y_wo,z_wo,vx_wo,vy_wo,vz_wo=np.loadtxt('C:\\\\Users\\Sophia Milanov\\Documents\\Bachelorarbeit\\data\\\\x-y-z.dat', usecols=(1,9,10,30,31,32,33,34,35), unpack=True)\n",
    "elif 1:\n",
    "    r_3d_wo_2,m1_wo_2,m2_wo_2,x_wo_2,y_wo_2,z_wo_2=np.loadtxt('/home/sophia/Dokumente/Bachelorarbeit-2/x-y-z_noIMBH2.dat', usecols=(1,9,10,30,31,32), unpack=True)\n",
    "else:\n",
    "    r_3d,m1,m2,x,y,z,vx,vy,vz=np.loadtxt('/home/milanov/Bachelorarbeit/x-y-z.dat', usecols=(1,9,10,30,31,32,33,34,35), unpack=True)"
   ]
  },
  {
   "cell_type": "code",
   "execution_count": 6,
   "metadata": {
    "collapsed": true
   },
   "outputs": [],
   "source": [
    "### initialize phasespace objects ###\n",
    "wobh_1=GCphasespace(r_3d_wo_1,bin_num=20)\n",
    "bh_1=GCphasespace(r_3d_1,bin_num=20)\n",
    "wobh_2=GCphasespace(r_3d_wo_2,bin_num=20)\n",
    "bh_2=GCphasespace(r_3d_2,bin_num=20)\n"
   ]
  },
  {
   "cell_type": "code",
   "execution_count": 7,
   "metadata": {
    "collapsed": true
   },
   "outputs": [],
   "source": [
    "### load half light and half mass radii for both simulations ###\n",
    "hmr_bh_1,hmr_bh_2,hlr_bh_1,hlr_bh_2,hmr_wo_bh_1,hmr_wo_bh_2,hlr_wo_1,hlr_wo_2=np.loadtxt('half_mass_and_half_light_radius')"
   ]
  },
  {
   "cell_type": "code",
   "execution_count": 8,
   "metadata": {
    "collapsed": false
   },
   "outputs": [],
   "source": [
    "### take IMBH out of data 1###\n",
    "mges_1=np.sum(m1_1+m2_1)\n",
    "r3d0_1=r_3d_1[0]\n",
    "m10_1=m1_1[0]\n",
    "m20_1=m2_1[0]\n",
    "x0_1=x_1[0]\n",
    "y0_1=y_1[0]\n",
    "z0_1=z_1[0]\n",
    "\n",
    "r_3d_crop_1=r_3d_1[1:]\n",
    "m1_crop_1=m1_1[1:]\n",
    "m2_crop_1=m2_1[1:]\n",
    "x_crop_1=x_1[1:]\n",
    "y_crop_1=y_1[1:]\n",
    "z_crop_1=z_1[1:]"
   ]
  },
  {
   "cell_type": "code",
   "execution_count": 9,
   "metadata": {
    "collapsed": false
   },
   "outputs": [],
   "source": [
    "### take IMBH out of data 2###\n",
    "mges_2=np.sum(m1_2+m2_2)\n",
    "r3d0_2=r_3d_2[0]\n",
    "m10_2=m1_2[0]\n",
    "m20_2=m2_2[0]\n",
    "x0_2=x_2[0]\n",
    "y0_2=y_2[0]\n",
    "z0_2=z_2[0]\n",
    "\n",
    "r_3d_crop_2=r_3d_2[1:]\n",
    "m1_crop_2=m1_2[1:]\n",
    "m2_crop_2=m2_2[1:]\n",
    "x_crop_2=x_2[1:]\n",
    "y_crop_2=y_2[1:]\n",
    "z_crop_2=z_2[1:]"
   ]
  },
  {
   "cell_type": "code",
   "execution_count": 16,
   "metadata": {
    "collapsed": false
   },
   "outputs": [
    {
     "name": "stdout",
     "output_type": "stream",
     "text": [
      "0 219\n",
      "1 378\n",
      "2 742\n",
      "3 1567\n",
      "4 3092\n",
      "5 6360\n",
      "6 13488\n",
      "7 28127\n",
      "8 53384\n",
      "9 90536\n",
      "10 134289\n",
      "11 169023\n",
      "12 175311\n",
      "13 149928\n",
      "14 104902\n",
      "15 63180\n",
      "16 29994\n",
      "17 1783\n",
      "18 87\n",
      "19 43\n",
      "0 83\n",
      "1 147\n",
      "2 179\n",
      "3 224\n",
      "4 390\n",
      "5 476\n",
      "6 742\n",
      "7 964\n",
      "8 1544\n",
      "9 2172\n",
      "10 3424\n",
      "11 5057\n",
      "12 7427\n",
      "13 10941\n",
      "14 16090\n",
      "15 23098\n",
      "16 31788\n",
      "17 43330\n",
      "18 55608\n",
      "19 67961\n",
      "0 411\n",
      "1 1001\n",
      "2 2325\n",
      "3 5132\n",
      "4 10470\n",
      "5 19726\n",
      "6 33398\n",
      "7 49376\n",
      "8 63639\n",
      "9 70633\n",
      "10 67095\n",
      "11 54965\n",
      "12 39016\n",
      "13 25200\n",
      "14 15289\n",
      "15 8049\n",
      "16 2601\n",
      "0 569\n",
      "1 1534\n",
      "2 3826\n",
      "3 9406\n",
      "4 21668\n",
      "5 45538\n",
      "6 86220\n",
      "7 143607\n",
      "8 211112\n",
      "9 268181\n",
      "10 290637\n",
      "11 269987\n",
      "12 210221\n",
      "13 143337\n",
      "14 85939\n",
      "15 45273\n",
      "16 14200\n"
     ]
    }
   ],
   "source": [
    "### calculate mean density and its mean radius and save them ###\n",
    "r_dens_bh_1,dens_bh_1=bh_1.density(r_3d_crop_1,m1_crop_1,m2_crop_1,r_3d_crop_1[300],np.max(r_3d_crop_1),step=20) \n",
    "r_dens_bh_2,dens_bh_2=bh_2.density(r_3d_crop_2,m1_crop_2,m2_crop_2,r_3d_crop_2[300],np.max(r_3d_crop_2),step=20) \n",
    "r_dens_wobh_1,dens_wobh_1=wobh_1.density(r_3d_wo_1,m1_wo_1,m2_wo_1,r_3d_wo_1[300],np.max(r_3d_wo_1),step=17) \n",
    "r_dens_wobh_2,dens_wobh_2=wobh_2.density(r_3d_wo_2,m1_wo_2,m2_wo_2,r_3d_wo_2[300],np.max(r_3d_wo_2),step=17) \n",
    "\n",
    "np.savetxt('densityfile_IMBH1.txt',(r_dens_bh_1,dens_bh_1))\n",
    "np.savetxt('densityfile_IMBH2.txt',(r_dens_bh_2,dens_bh_2))\n",
    "np.savetxt('densityfile_noIMBH1.txt',(r_dens_wobh_1,dens_wobh_1))\n",
    "np.savetxt('densityfile_noIMBH2.txt',(r_dens_wobh_2,dens_wobh_2))\n"
   ]
  },
  {
   "cell_type": "code",
   "execution_count": 17,
   "metadata": {
    "collapsed": false
   },
   "outputs": [],
   "source": [
    "### calculate distance over effective radius ###\n",
    "r_plot_bh_1=r_dens_bh_1/hmr_bh_1\n",
    "r_plot_bh_2=r_dens_bh_2/hmr_bh_2\n",
    "r_plot_wobh_1= r_dens_wobh_1/hmr_wo_bh_1\n",
    "r_plot_wobh_2= r_dens_wobh_2/hmr_wo_bh_2"
   ]
  },
  {
   "cell_type": "code",
   "execution_count": 18,
   "metadata": {
    "collapsed": false
   },
   "outputs": [
    {
     "name": "stderr",
     "output_type": "stream",
     "text": [
      "/home/sophia/bachelor_thesis_ipython_notebooks/GC_Orbit_class.py:68: RuntimeWarning: overflow encountered in exp\n",
      "  density= np.exp(self.s(np.log(r)))\n"
     ]
    }
   ],
   "source": [
    "### initialize orbit objects ###\n",
    "orb_bh_1=GCorbit(inputfilename='densityfile_IMBH1.txt',bhmass_M_sun=m10_1+m20_1)\n",
    "orb_bh_2=GCorbit(inputfilename='densityfile_IMBH2.txt',bhmass_M_sun=m10_2+m20_2)\n",
    "orb_wobh_1=GCorbit(inputfilename='densityfile_noIMBH1.txt')\n",
    "orb_wobh_2=GCorbit(inputfilename='densityfile_noIMBH2.txt')"
   ]
  },
  {
   "cell_type": "code",
   "execution_count": 19,
   "metadata": {
    "collapsed": true
   },
   "outputs": [],
   "source": [
    "### interpolate density ###\n",
    "intpol_dens_bh_1=orb_bh_1.density(r_3d_crop_1)\n",
    "intpol_dens_bh_2=orb_bh_2.density(r_3d_crop_2)\n",
    "intpol_dens_wobh_1=orb_wobh_1.density(r_3d_wo_1)\n",
    "intpol_dens_wobh_2=orb_wobh_2.density(r_3d_wo_2)"
   ]
  },
  {
   "cell_type": "code",
   "execution_count": 22,
   "metadata": {
    "collapsed": false
   },
   "outputs": [
    {
     "data": {
      "image/png": "[encoded data removed]",
      "text/plain": [
       "<matplotlib.figure.Figure at 0x7fceb5e53390>"
      ]
     },
     "metadata": {},
     "output_type": "display_data"
    }
   ],
   "source": [
    "### plot both densities over r over effective radius ###\n",
    "fig = plt.figure(figsize=(5,4))\n",
    "ax1 = fig.add_subplot(111)\n",
    "#ax2 = ax1.twiny()\n",
    "\n",
    "ax1.loglog(r_plot_bh_1,dens_bh_1,'b.',label='w/ IMBH 1')\n",
    "ax1.loglog(r_plot_bh_2,dens_bh_2,'g.',label='w/ IMBH 2')\n",
    "ax1.loglog(r_plot_wobh_1,dens_wobh_1,'r.', label='w/o IMBH 1')\n",
    "ax1.loglog(r_plot_wobh_2,dens_wobh_2,'.',color='orange', label='w/o IMBH 2')\n",
    "ax1.legend(loc=0,numpoints=1)\n",
    "\n",
    "#ax1.set_xlim(0.01,100)\n",
    "#ax1.set_ylim(0.00001,1000000)\n",
    "ax1.set_xlabel('r/r$_\\mathrm{m}$',fontsize=14)\n",
    "ax1.set_ylabel('mass density [$\\mathrm{M}_\\odot/\\mathrm{pc}^2$]',fontsize=14)\n",
    "\n",
    "#ax2.set_xlim((0.01/5000)*360*3600/(2*np.pi),(100./5000)*360*3600/(2*np.pi)) #calculates x limits from parsec to arcsec\n",
    "#ax2.set_xscale('log')\n",
    "#ax2.set_xlabel('mean distance from center [arcsec]',fontsize=14)\n",
    "\n",
    "#fig.savefig('3d density profile numerical fit without imbh')\n",
    "ax1.spines['top'].set_linewidth(1.5)\n",
    "ax1.spines['right'].set_linewidth(1.5)\n",
    "ax1.spines['bottom'].set_linewidth(1.5)\n",
    "ax1.spines['left'].set_linewidth(1.5)\n",
    "\n",
    "ax1.tick_params(length=8,width=1.5,labelsize=12)\n",
    "#ax2.tick_params(length=8,width=1.5,labelsize=12)\n",
    "ax1.tick_params(which='minor',length=4,width=1.5)\n",
    "#ax2.tick_params(which='minor',length=4,width=1.5)\n",
    "fig.tight_layout()\n",
    "fig.savefig('../Bachelorarbeit-Entwurf/Plots/density_profiles.pdf',format='pdf')"
   ]
  },
  {
   "cell_type": "code",
   "execution_count": 32,
   "metadata": {
    "collapsed": false
   },
   "outputs": [
    {
     "data": {
      "image/png": "[encoded data removed]",
      "text/plain": [
       "<matplotlib.figure.Figure at 0x7fcea303b588>"
      ]
     },
     "metadata": {},
     "output_type": "display_data"
    }
   ],
   "source": [
    "### plot both densities and interpolations over r ###\n",
    "fig = plt.figure(figsize=(5,4))\n",
    "ax1 = fig.add_subplot(111)\n",
    "ax2 = ax1.twiny()\n",
    "\n",
    "ax1.loglog(r_dens_bh_1,dens_bh_1,'b.',label='w/ IMBH 1')\n",
    "ax1.loglog(r_3d_1[1:],intpol_dens_bh_1,'b')\n",
    "ax1.loglog(r_dens_bh_2,dens_bh_2,'g.',label='w/ IMBH 2')\n",
    "ax1.loglog(r_3d_2[1:],intpol_dens_bh_2,'g')\n",
    "ax1.loglog(r_dens_wobh_1,dens_wobh_1,'r.',label='w/o IMBH 1')\n",
    "ax1.loglog(r_3d_wo_1,intpol_dens_wobh_1,'r')\n",
    "ax1.loglog(r_dens_wobh_2,dens_wobh_2,'.',color='orange',label='w/o IMBH 2')\n",
    "ax1.loglog(r_3d_wo_2,intpol_dens_wobh_2,color='orange')\n",
    "ax1.legend(loc=0,numpoints=1)\n",
    "\n",
    "ax1.vlines(hmr_bh_1,1e-4,1e5,colors='b')\n",
    "ax1.vlines(hmr_bh_2,1e-4,1e5,colors='g')\n",
    "ax1.vlines(hmr_wo_bh_1,1e-4,1e5,colors='r')\n",
    "ax1.vlines(hmr_wo_bh_2,1e-4,1e5,color='orange')\n",
    "\n",
    "ax1.set_xlim(0.01,100)\n",
    "ax1.set_ylim(1e-4,1e5)\n",
    "ax1.set_xlabel('mean distance to center [pc]',fontsize=14)\n",
    "ax1.set_ylabel('mass density [$\\mathrm{M}_\\odot/\\mathrm{pc}^2$]',fontsize=14)\n",
    "\n",
    "ax2.set_xlim((0.01/5000)*360*3600/(2*np.pi),(100./5000)*360*3600/(2*np.pi)) #calculates x limits from parsec to arcsec\n",
    "ax2.set_xscale('log')\n",
    "ax2.set_xlabel('mean distance to center [arcsec]',fontsize=14)\n",
    "\n",
    "#fig.savefig('3d density profile numerical fit without imbh')\n",
    "ax1.spines['top'].set_linewidth(1.5)\n",
    "ax1.spines['right'].set_linewidth(1.5)\n",
    "ax1.spines['bottom'].set_linewidth(1.5)\n",
    "ax1.spines['left'].set_linewidth(1.5)\n",
    "\n",
    "ax1.tick_params(length=8,width=1.5,labelsize=12)\n",
    "ax2.tick_params(length=8,width=1.5,labelsize=12)\n",
    "ax1.tick_params(which='minor',length=4,width=1.5)\n",
    "ax2.tick_params(which='minor',length=4,width=1.5)\n",
    "fig.tight_layout()\n",
    "\n",
    "fig.savefig('../Bachelorarbeit-Entwurf/Plots/density_profiles_interpolated.pdf',format='pdf')"
   ]
  },
  {
   "cell_type": "code",
   "execution_count": null,
   "metadata": {
    "collapsed": false
   },
   "outputs": [],
   "source": []
  },
  {
   "cell_type": "code",
   "execution_count": null,
   "metadata": {
    "collapsed": true
   },
   "outputs": [],
   "source": []
  }
 ],
 "metadata": {
  "kernelspec": {
   "display_name": "Python 3",
   "language": "python",
   "name": "python3"
  },
  "language_info": {
   "codemirror_mode": {
    "name": "ipython",
    "version": 3
   },
   "file_extension": ".py",
   "mimetype": "text/x-python",
   "name": "python",
   "nbconvert_exporter": "python",
   "pygments_lexer": "ipython3",
   "version": "3.4.3"
  }
 },
 "nbformat": 4,
 "nbformat_minor": 0
}
