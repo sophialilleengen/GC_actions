{
 "cells": [
  {
   "cell_type": "code",
   "execution_count": 1,
   "metadata": {
    "collapsed": true
   },
   "outputs": [],
   "source": [
    "import numpy as np\n",
    "import matplotlib.pyplot as plt\n",
    "from scipy import interpolate\n",
    "from scipy import constants as cs\n",
    "from astropy import units as un\n",
    "import sys\n",
    "sys.path.insert(0, '/home/sophia/bachelor_thesis_ipython_notebooks')\n",
    "\n",
    "from Paolo_class import GCphasespace\n",
    "from GC_Orbit_class import GCorbit\n",
    "\n",
    "%matplotlib inline"
   ]
  },
  {
   "cell_type": "code",
   "execution_count": 2,
   "metadata": {
    "collapsed": false
   },
   "outputs": [],
   "source": [
    "### import data of simulation 1 with IMBH ###\n",
    "if 0:\n",
    "    r_3d,m1,m2,x,y,z=np.loadtxt('C:\\\\Users\\Sophia Milanov\\Documents\\Bachelorarbeit\\data\\\\x-y-z.dat', usecols=(1,9,10,30,31,32), unpack=True)\n",
    "elif 1:\n",
    "    r_3d_1,m1_1,m2_1,x_1,y_1,z_1=np.loadtxt('/home/sophia/Dokumente/Bachelorarbeit-2/x-y-z_IMBH1.dat', usecols=(1,9,10,30,31,32), unpack=True)\n",
    "else:\n",
    "    r_3d,m1,m2,x,y,z=np.loadtxt('/home/milanov/Bachelorarbeit/x-y-z.dat', usecols=(1,9,10,30,31,32), unpack=True)"
   ]
  },
  {
   "cell_type": "code",
   "execution_count": 3,
   "metadata": {
    "collapsed": false
   },
   "outputs": [],
   "source": [
    "### import data of simulation 2 with IMBH ###\n",
    "if 0:\n",
    "    r_3d,m1,m2,x,y,z=np.loadtxt('C:\\\\Users\\Sophia Milanov\\Documents\\Bachelorarbeit\\data\\\\x-y-z.dat', usecols=(1,9,10,30,31,32), unpack=True)\n",
    "elif 1:\n",
    "    r_3d_2,m1_2,m2_2,x_2,y_2,z_2=np.loadtxt('/home/sophia/Dokumente/Bachelorarbeit-2/x-y-z_IMBH2.dat', usecols=(1,9,10,30,31,32), unpack=True)\n",
    "else:\n",
    "    r_3d,m1,m2,x,y,z=np.loadtxt('/home/milanov/Bachelorarbeit/x-y-z.dat', usecols=(1,9,10,30,31,32), unpack=True)"
   ]
  },
  {
   "cell_type": "code",
   "execution_count": 4,
   "metadata": {
    "collapsed": true
   },
   "outputs": [],
   "source": [
    "### import data for simulation 1 w/o IMBH ###\n",
    "if 0:\n",
    "    r_3d_wo,m1_wo,m2_wo,x_wo,y_wo,z_wo,vx_wo,vy_wo,vz_wo=np.loadtxt('C:\\\\Users\\Sophia Milanov\\Documents\\Bachelorarbeit\\data\\\\x-y-z.dat', usecols=(1,9,10,30,31,32,33,34,35), unpack=True)\n",
    "elif 1:\n",
    "    r_3d_wo_1,m1_wo_1,m2_wo_1,x_wo_1,y_wo_1,z_wo_1=np.loadtxt('/home/sophia/Dokumente/Bachelorarbeit-2/x-y-z_noIMBH1.dat', usecols=(1,9,10,29,30,31), unpack=True)\n",
    "else:\n",
    "    r_3d,m1,m2,x,y,z,vx,vy,vz=np.loadtxt('/home/milanov/Bachelorarbeit/x-y-z.dat', usecols=(1,9,10,30,31,32,33,34,35), unpack=True)"
   ]
  },
  {
   "cell_type": "code",
   "execution_count": 5,
   "metadata": {
    "collapsed": true
   },
   "outputs": [],
   "source": [
    "### import data for simulation 2 w/o IMBH ###\n",
    "if 0:\n",
    "    r_3d_wo,m1_wo,m2_wo,x_wo,y_wo,z_wo,vx_wo,vy_wo,vz_wo=np.loadtxt('C:\\\\Users\\Sophia Milanov\\Documents\\Bachelorarbeit\\data\\\\x-y-z.dat', usecols=(1,9,10,30,31,32,33,34,35), unpack=True)\n",
    "elif 1:\n",
    "    r_3d_wo_2,m1_wo_2,m2_wo_2,x_wo_2,y_wo_2,z_wo_2=np.loadtxt('/home/sophia/Dokumente/Bachelorarbeit-2/x-y-z_noIMBH2.dat', usecols=(1,9,10,30,31,32), unpack=True)\n",
    "else:\n",
    "    r_3d,m1,m2,x,y,z,vx,vy,vz=np.loadtxt('/home/milanov/Bachelorarbeit/x-y-z.dat', usecols=(1,9,10,30,31,32,33,34,35), unpack=True)"
   ]
  },
  {
   "cell_type": "code",
   "execution_count": 6,
   "metadata": {
    "collapsed": true
   },
   "outputs": [],
   "source": [
    "### initialize phasespace objects ###\n",
    "wobh_1=GCphasespace(r_3d_wo_1,bin_num=20)\n",
    "bh_1=GCphasespace(r_3d_1,bin_num=20)\n",
    "wobh_2=GCphasespace(r_3d_wo_2,bin_num=20)\n",
    "bh_2=GCphasespace(r_3d_2,bin_num=20)\n"
   ]
  },
  {
   "cell_type": "code",
   "execution_count": 7,
   "metadata": {
    "collapsed": true
   },
   "outputs": [],
   "source": [
    "### load half light and half mass radii for both simulations ###\n",
    "hmr_bh_1,hmr_bh_2,hlr_bh_1,hlr_bh_2,hmr_wo_bh_1,hmr_wo_bh_2,hlr_wo_1,hlr_wo_2=np.loadtxt('half_mass_and_half_light_radius')"
   ]
  },
  {
   "cell_type": "code",
   "execution_count": 8,
   "metadata": {
    "collapsed": false
   },
   "outputs": [],
   "source": [
    "### take IMBH out of data 1###\n",
    "mges_1=np.sum(m1_1+m2_1)\n",
    "r3d0_1=r_3d_1[0]\n",
    "m10_1=m1_1[0]\n",
    "m20_1=m2_1[0]\n",
    "x0_1=x_1[0]\n",
    "y0_1=y_1[0]\n",
    "z0_1=z_1[0]\n",
    "\n",
    "r_3d_crop_1=r_3d_1[1:]\n",
    "m1_crop_1=m1_1[1:]\n",
    "m2_crop_1=m2_1[1:]\n",
    "x_crop_1=x_1[1:]\n",
    "y_crop_1=y_1[1:]\n",
    "z_crop_1=z_1[1:]"
   ]
  },
  {
   "cell_type": "code",
   "execution_count": 9,
   "metadata": {
    "collapsed": false
   },
   "outputs": [],
   "source": [
    "### take IMBH out of data 2###\n",
    "mges_2=np.sum(m1_2+m2_2)\n",
    "r3d0_2=r_3d_2[0]\n",
    "m10_2=m1_2[0]\n",
    "m20_2=m2_2[0]\n",
    "x0_2=x_2[0]\n",
    "y0_2=y_2[0]\n",
    "z0_2=z_2[0]\n",
    "\n",
    "r_3d_crop_2=r_3d_2[1:]\n",
    "m1_crop_2=m1_2[1:]\n",
    "m2_crop_2=m2_2[1:]\n",
    "x_crop_2=x_2[1:]\n",
    "y_crop_2=y_2[1:]\n",
    "z_crop_2=z_2[1:]"
   ]
  },
  {
   "cell_type": "code",
   "execution_count": 11,
   "metadata": {
    "collapsed": false
   },
   "outputs": [
    {
     "name": "stdout",
     "output_type": "stream",
     "text": [
      "0 245\n",
      "1 491\n",
      "2 1021\n",
      "3 2228\n",
      "4 4989\n",
      "5 11287\n",
      "6 25640\n",
      "7 53869\n",
      "8 98123\n",
      "9 151664\n",
      "10 190992\n",
      "11 190402\n",
      "12 147816\n",
      "13 91954\n",
      "14 47836\n",
      "15 7692\n",
      "16 136\n",
      "17 48\n",
      "0 272\n",
      "1 544\n",
      "2 1167\n",
      "3 2606\n",
      "4 6202\n",
      "5 14529\n",
      "6 33148\n",
      "7 67111\n",
      "8 119051\n",
      "9 176264\n",
      "10 209190\n",
      "11 191528\n",
      "12 134159\n",
      "13 76944\n",
      "14 38646\n",
      "15 7497\n",
      "16 173\n",
      "17 44\n",
      "0 373\n",
      "1 892\n",
      "2 1936\n",
      "3 4181\n",
      "4 8266\n",
      "5 15527\n",
      "6 26402\n",
      "7 40240\n",
      "8 54461\n",
      "9 64357\n",
      "10 66517\n",
      "11 60092\n",
      "12 47401\n",
      "13 33232\n",
      "14 21597\n",
      "15 13371\n",
      "16 7143\n",
      "17 2338\n",
      "0 517\n",
      "1 1335\n",
      "2 3219\n",
      "3 7509\n",
      "4 16596\n",
      "5 34461\n",
      "6 65785\n",
      "7 111262\n",
      "8 169023\n",
      "9 227499\n",
      "10 267187\n",
      "11 272633\n",
      "12 240647\n",
      "13 182317\n",
      "14 123733\n",
      "15 74942\n",
      "16 39915\n",
      "17 12675\n"
     ]
    }
   ],
   "source": [
    "### calculate mean density and its mean radius and save them ###\n",
    "r_dens_bh_1,dens_bh_1=bh_1.density(r_3d_crop_1,m1_crop_1,m2_crop_1,r_3d_crop_1[300],np.max(r_3d_crop_1),step=18) \n",
    "r_dens_bh_2,dens_bh_2=bh_2.density(r_3d_crop_2,m1_crop_2,m2_crop_2,r_3d_crop_2[300],np.max(r_3d_crop_2),step=18) \n",
    "r_dens_wobh_1,dens_wobh_1=wobh_1.density(r_3d_wo_1,m1_wo_1,m2_wo_1,r_3d_wo_1[300],np.max(r_3d_wo_1),step=18) \n",
    "r_dens_wobh_2,dens_wobh_2=wobh_2.density(r_3d_wo_2,m1_wo_2,m2_wo_2,r_3d_wo_2[300],np.max(r_3d_wo_2),step=18) \n",
    "\n",
    "np.savetxt('densityfile_IMBH1.txt',(r_dens_bh_1,dens_bh_1))\n",
    "np.savetxt('densityfile_IMBH2.txt',(r_dens_bh_2,dens_bh_2))\n",
    "np.savetxt('densityfile_noIMBH1.txt',(r_dens_wobh_1,dens_wobh_1))\n",
    "np.savetxt('densityfile_noIMBH2.txt',(r_dens_wobh_2,dens_wobh_2))\n"
   ]
  },
  {
   "cell_type": "code",
   "execution_count": 12,
   "metadata": {
    "collapsed": false
   },
   "outputs": [],
   "source": [
    "### calculate distance over effective radius ###\n",
    "r_plot_bh_1=r_dens_bh_1/hmr_bh_1\n",
    "r_plot_bh_2=r_dens_bh_2/hmr_bh_2\n",
    "r_plot_wobh_1= r_dens_wobh_1/hmr_wo_bh_1\n",
    "r_plot_wobh_2= r_dens_wobh_2/hmr_wo_bh_2"
   ]
  },
  {
   "cell_type": "code",
   "execution_count": 13,
   "metadata": {
    "collapsed": false
   },
   "outputs": [
    {
     "name": "stderr",
     "output_type": "stream",
     "text": [
      "/home/sophia/bachelor_thesis_ipython_notebooks/GC_Orbit_class.py:68: RuntimeWarning: overflow encountered in exp\n",
      "  density= np.exp(self.s(np.log(r)))\n"
     ]
    }
   ],
   "source": [
    "### initialize orbit objects ###\n",
    "orb_bh_1=GCorbit(inputfilename='densityfile_IMBH1.txt',bhmass_M_sun=m10_1+m20_1)\n",
    "orb_bh_2=GCorbit(inputfilename='densityfile_IMBH2.txt',bhmass_M_sun=m10_2+m20_2)\n",
    "orb_wobh_1=GCorbit(inputfilename='densityfile_noIMBH1.txt')\n",
    "orb_wobh_2=GCorbit(inputfilename='densityfile_noIMBH2.txt')"
   ]
  },
  {
   "cell_type": "code",
   "execution_count": 14,
   "metadata": {
    "collapsed": true
   },
   "outputs": [],
   "source": [
    "### interpolate density ###\n",
    "intpol_dens_bh_1=orb_bh_1.density(r_3d_crop_1)\n",
    "intpol_dens_bh_2=orb_bh_2.density(r_3d_crop_2)\n",
    "intpol_dens_wobh_1=orb_wobh_1.density(r_3d_wo_1)\n",
    "intpol_dens_wobh_2=orb_wobh_2.density(r_3d_wo_2)"
   ]
  },
  {
   "cell_type": "code",
   "execution_count": 28,
   "metadata": {
    "collapsed": false
   },
   "outputs": [
    {
     "data": {
      "image/png": "[encoded data removed]",
      "text/plain": [
       "<matplotlib.figure.Figure at 0x7fbc3df7bf28>"
      ]
     },
     "metadata": {},
     "output_type": "display_data"
    }
   ],
   "source": [
    "### plot both densities over r over effective radius ###\n",
    "fig = plt.figure(figsize=(5,4))\n",
    "ax1 = fig.add_subplot(111)\n",
    "#ax2 = ax1.twiny()\n",
    "\n",
    "ax1.loglog(r_plot_bh_1,dens_bh_1,'b.',label='w/ IMBH 1')\n",
    "ax1.loglog(r_plot_bh_2,dens_bh_2,'g.',label='w/ IMBH 2')\n",
    "ax1.loglog(r_plot_wobh_1,dens_wobh_1,'r.', label='w/o IMBH 1')\n",
    "ax1.loglog(r_plot_wobh_2,dens_wobh_2,'.',color='orange', label='w/o IMBH 2')\n",
    "ax1.legend(loc=0,numpoints=1)\n",
    "\n",
    "#ax1.set_xlim(0.01,100)\n",
    "#ax1.set_ylim(0.00001,1000000)\n",
    "ax1.set_xlabel('r/r$_\\mathrm{m}$',fontsize=14)\n",
    "ax1.set_ylabel('mass density [$\\mathrm{M}_\\odot/\\mathrm{pc}^3$]',fontsize=14)\n",
    "\n",
    "#ax2.set_xlim((0.01/5000)*360*3600/(2*np.pi),(100./5000)*360*3600/(2*np.pi)) #calculates x limits from parsec to arcsec\n",
    "#ax2.set_xscale('log')\n",
    "#ax2.set_xlabel('mean distance from center [arcsec]',fontsize=14)\n",
    "\n",
    "#fig.savefig('3d density profile numerical fit without imbh')\n",
    "ax1.spines['top'].set_linewidth(1.5)\n",
    "ax1.spines['right'].set_linewidth(1.5)\n",
    "ax1.spines['bottom'].set_linewidth(1.5)\n",
    "ax1.spines['left'].set_linewidth(1.5)\n",
    "\n",
    "ax1.tick_params(length=8,width=1.5,labelsize=12)\n",
    "#ax2.tick_params(length=8,width=1.5,labelsize=12)\n",
    "ax1.tick_params(which='minor',length=4,width=1.5)\n",
    "#ax2.tick_params(which='minor',length=4,width=1.5)\n",
    "fig.tight_layout()\n",
    "fig.savefig('../../sophia/Bachelorarbeit-Entwurf/Plots/density_profiles.pdf',format='pdf',bbox_inches='tight')"
   ]
  },
  {
   "cell_type": "code",
   "execution_count": 24,
   "metadata": {
    "collapsed": false
   },
   "outputs": [
    {
     "data": {
      "image/png": "[encoded data removed]",
      "text/plain": [
       "<matplotlib.figure.Figure at 0x7fbc3cabb7b8>"
      ]
     },
     "metadata": {},
     "output_type": "display_data"
    }
   ],
   "source": [
    "### plot both densities and interpolations over r ###\n",
    "fig = plt.figure(figsize=(5,4))\n",
    "ax1 = fig.add_subplot(111)\n",
    "ax2 = ax1.twiny()\n",
    "\n",
    "ax1.loglog(r_dens_bh_1,dens_bh_1,'b.',label='w/ IMBH 1')\n",
    "ax1.loglog(r_3d_1[1:],intpol_dens_bh_1,'b')\n",
    "#ax1.loglog(r_dens_bh_2,dens_bh_2,'g.',label='w/ IMBH 2')\n",
    "#ax1.loglog(r_3d_2[1:],intpol_dens_bh_2,'g')\n",
    "ax1.loglog(r_dens_wobh_1,dens_wobh_1,'r.',label='w/o IMBH 1')\n",
    "ax1.loglog(r_3d_wo_1,intpol_dens_wobh_1,'r')\n",
    "#ax1.loglog(r_dens_wobh_2,dens_wobh_2,'.',color='orange',label='w/o IMBH 2')\n",
    "#ax1.loglog(r_3d_wo_2,intpol_dens_wobh_2,color='orange')\n",
    "ax1.legend(loc=0,numpoints=1)\n",
    "\n",
    "ax1.vlines(hmr_bh_1,1e-4,1e5,colors='b')\n",
    "#ax1.vlines(hmr_bh_2,1e-4,1e5,colors='g')\n",
    "ax1.vlines(hmr_wo_bh_1,1e-4,1e5,colors='r')\n",
    "#ax1.vlines(hmr_wo_bh_2,1e-4,1e5,color='orange')\n",
    "\n",
    "ax1.set_xlim(0.01,100)\n",
    "ax1.set_ylim(1e-4,1e6)\n",
    "ax1.set_xlabel('mean distance to center [pc]',fontsize=14)\n",
    "ax1.set_ylabel('mass density [$\\mathrm{M}_\\odot/\\mathrm{pc}^3$]',fontsize=14)\n",
    "\n",
    "ax2.set_xlim((0.01/5000)*360*3600/(2*np.pi),(100./5000)*360*3600/(2*np.pi)) #calculates x limits from parsec to arcsec\n",
    "ax2.set_xscale('log')\n",
    "ax2.set_xlabel('mean distance to center [arcsec]',fontsize=14)\n",
    "\n",
    "#fig.savefig('3d density profile numerical fit without imbh')\n",
    "ax1.spines['top'].set_linewidth(1.5)\n",
    "ax1.spines['right'].set_linewidth(1.5)\n",
    "ax1.spines['bottom'].set_linewidth(1.5)\n",
    "ax1.spines['left'].set_linewidth(1.5)\n",
    "\n",
    "ax1.tick_params(length=8,width=1.5,labelsize=12)\n",
    "ax2.tick_params(length=8,width=1.5,labelsize=12)\n",
    "ax1.tick_params(which='minor',length=4,width=1.5)\n",
    "ax2.tick_params(which='minor',length=4,width=1.5)\n",
    "fig.tight_layout()\n",
    "\n",
    "fig.savefig('../../sophia/Bachelorarbeit-Entwurf/Plots/density_profiles_interpolated.pdf',format='pdf',bbox_inches='tight')"
   ]
  },
  {
   "cell_type": "code",
   "execution_count": 16,
   "metadata": {
    "collapsed": false
   },
   "outputs": [],
   "source": [
    "### compare to wrong density ###\n",
    "r0_wrong=0.01\n",
    "step=20\n",
    "end=100\n",
    "stepsize=((np.log10(end)-np.log10(r0_wrong))/step)\n",
    "R_wrong=np.zeros(step)\n",
    "r=np.logspace(np.log10(r0_wrong),np.log10(end),step+1)\n",
    "r_i=r[:-1:]\n",
    "r_a=r[1::]\n",
    "binwidth=r_a-r_i\n",
    "#r_error=binwidth/2\n",
    "M_wrong = np.zeros(step)\n",
    "rho_wrong=np.zeros(step)\n",
    "\n",
    "for n in range(step):\n",
    "    inbin_wrong=(r_i[n]<r_3d_crop_1) * (r_3d_crop_1<=r_a[n]) #r_3d wird verwendet! creates boolean arrays woth true values if star is in bin distance\n",
    "    M_wrong[n]=np.sum(m1_crop_1[inbin_wrong])+np.sum(m2_crop_1[inbin_wrong]) #mass array with both masses of binary system\n",
    "    rho_wrong[n]=M_wrong[n]/((r_a[n]**2-r_i[n]**2)*np.pi) #calculates density of bin\n",
    "    R_wrong[n]=np.mean(r_3d_crop_1[inbin_wrong]) #calculates mean distance of bin\n",
    "    \n",
    "#extrabin am anfang\n",
    "M_extra_wrong=np.sum(m1_crop_1[r_3d_crop_1<r0_wrong])+np.sum(m2_crop_1[r_3d_crop_1<r0_wrong])\n",
    "rho_extra_wrong=M_extra_wrong/(r0_wrong**2*np.pi)\n",
    "R_extra_wrong=np.mean(r_3d_crop_1[r_3d_crop_1<r0_wrong])\n",
    "#einfuegen in bereits angefertigte arrays an erster Stelle\n",
    "M_final_wrong=np.insert(M_wrong,0,M_extra_wrong)\n",
    "rho_final_wrong=np.insert(rho_wrong,0,rho_extra_wrong)\n",
    "R_final_wrong=np.insert(R_wrong,0,R_extra_wrong)"
   ]
  },
  {
   "cell_type": "code",
   "execution_count": 19,
   "metadata": {
    "collapsed": false
   },
   "outputs": [
    {
     "data": {
      "image/png": "[encoded data removed]",
      "text/plain": [
       "<matplotlib.figure.Figure at 0x7fd545757780>"
      ]
     },
     "metadata": {},
     "output_type": "display_data"
    }
   ],
   "source": [
    "\n",
    "### plot both densities over r over effective radius ###\n",
    "fig = plt.figure(figsize=(5,4))\n",
    "ax1 = fig.add_subplot(111)\n",
    "#ax2 = ax1.twiny()\n",
    "\n",
    "ax1.loglog(r_dens_bh_1,dens_bh_1,'b.',label='right density')\n",
    "ax1.loglog(R_final_wrong,rho_final_wrong,'r.', label='wrong density')\n",
    "ax1.legend(loc=0,numpoints=1,prop={'size':14})\n",
    "\n",
    "#ax1.set_xlim(0.01,100)\n",
    "#ax1.set_ylim(0.00001,1000000)\n",
    "ax1.set_xlabel('r [pc]',fontsize=14)\n",
    "ax1.set_ylabel('mass density [$\\mathrm{M_\\odot}/\\mathrm{pc}^3$]',fontsize=14)\n",
    "\n",
    "#ax2.set_xlim((0.01/5000)*360*3600/(2*np.pi),(100./5000)*360*3600/(2*np.pi)) #calculates x limits from parsec to arcsec\n",
    "#ax2.set_xscale('log')\n",
    "#ax2.set_xlabel('mean distance from center [arcsec]',fontsize=14)\n",
    "\n",
    "#fig.savefig('3d density profile numerical fit without imbh')\n",
    "ax1.spines['top'].set_linewidth(1.5)\n",
    "ax1.spines['right'].set_linewidth(1.5)\n",
    "ax1.spines['bottom'].set_linewidth(1.5)\n",
    "ax1.spines['left'].set_linewidth(1.5)\n",
    "\n",
    "ax1.tick_params(length=8,width=1.5,labelsize=12)\n",
    "#ax2.tick_params(length=8,width=1.5,labelsize=12)\n",
    "ax1.tick_params(which='minor',length=4,width=1.5)\n",
    "#ax2.tick_params(which='minor',length=4,width=1.5)\n",
    "fig.tight_layout()\n",
    "fig.savefig('../../sophia/Bachelorarbeit-Entwurf/Plots/wrong_density_profiles.pdf',format='pdf',bbox_inches='tight')"
   ]
  },
  {
   "cell_type": "code",
   "execution_count": 18,
   "metadata": {
    "collapsed": false
   },
   "outputs": [
    {
     "name": "stdout",
     "output_type": "stream",
     "text": [
      "[  6.57905444e-03   1.34474353e-02   2.02322040e-02   3.28544144e-02\n",
      "   5.19759270e-02   8.19579341e-02   1.31183268e-01   2.08090259e-01\n",
      "   3.29428948e-01   5.23044361e-01   8.29241236e-01   1.30764964e+00\n",
      "   2.05750687e+00   3.23399281e+00   5.07042572e+00   7.94378943e+00\n",
      "   1.24518874e+01   1.96022105e+01   2.90495417e+01   4.56918546e+01\n",
      "   7.75044255e+01] [  6.03416009e+04   2.81634794e+04   3.16797316e+04   2.45309781e+04\n",
      "   1.55423711e+04   1.09635637e+04   9.24167148e+03   8.19967124e+03\n",
      "   7.36508869e+03   6.57170377e+03   6.06760229e+03   4.99540064e+03\n",
      "   3.38435560e+03   1.82730438e+03   7.75183866e+02   2.55181574e+02\n",
      "   6.52400385e+01   1.36811960e+01   1.68664623e+00   9.01972148e-03\n",
      "   5.63551939e-04]\n"
     ]
    }
   ],
   "source": [
    "print(R_final_wrong,rho_final_wrong)"
   ]
  },
  {
   "cell_type": "code",
   "execution_count": null,
   "metadata": {
    "collapsed": true
   },
   "outputs": [],
   "source": []
  }
 ],
 "metadata": {
  "kernelspec": {
   "display_name": "Python 3",
   "language": "python",
   "name": "python3"
  },
  "language_info": {
   "codemirror_mode": {
    "name": "ipython",
    "version": 3
   },
   "file_extension": ".py",
   "mimetype": "text/x-python",
   "name": "python",
   "nbconvert_exporter": "python",
   "pygments_lexer": "ipython3",
   "version": "3.4.3"
  }
 },
 "nbformat": 4,
 "nbformat_minor": 0
}
